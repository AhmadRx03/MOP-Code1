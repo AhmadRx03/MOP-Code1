{
 "cells": [
  {
   "cell_type": "markdown",
   "metadata": {},
   "source": [
    "<div class=\"usecase-title\"><h3>Predicting Future Patron Capacity of Bars and Pubs in Melbourne</h3></div>\n",
    "\n",
    "<div class=\"usecase-authors\"><b>Authored by: </b> Venuka Hirushan Wijenayake</div>\n",
    "\n",
    "<div class=\"usecase-authors\"><b>Date: </b> T2 2024 (July - September)</div>"
   ]
  },
  {
   "cell_type": "markdown",
   "metadata": {},
   "source": [
    "<div class=\"usecase-duration\"><b>Duration:</b> 270 mins</div>\n",
    "\n",
    "<div class=\"usecase-level-skill\">\n",
    "    <div class=\"usecase-level\"><b>Level: </b>Intermediate</div>\n",
    "    <div class=\"usecase-skill\"><b>Pre-requisite Skills: </b>Python, Machine Learning</div>\n",
    "</div>"
   ]
  },
  {
   "cell_type": "markdown",
   "metadata": {},
   "source": [
    "### Dataset Import Through API"
   ]
  },
  {
   "cell_type": "code",
   "execution_count": 1,
   "metadata": {},
   "outputs": [],
   "source": [
    "import requests\n",
    "import pandas as pd\n",
    "from io import StringIO\n",
    "\n",
    "#Function to collect data\n",
    "def collect_data(dataset_id):\n",
    "    base_url = 'https://data.melbourne.vic.gov.au/api/explore/v2.1/catalog/datasets/'\n",
    "    #apikey = api_key #use if use datasets API_key permissions\n",
    "    dataset_id = dataset_id\n",
    "    format = 'csv'\n",
    "\n",
    "    url = f'{base_url}{dataset_id}/exports/{format}'\n",
    "    params = {\n",
    "        'select': '*',\n",
    "        'limit': -1,  # all records\n",
    "        'lang': 'en',\n",
    "        'timezone': 'UTC',\n",
    "        #'api_key': apikey  #use if use datasets API_key permissions\n",
    "    }\n",
    "\n",
    "    # GET request\n",
    "    response = requests.get(url, params=params)\n",
    "\n",
    "    if response.status_code == 200:\n",
    "        # StringIO to read the CSV data\n",
    "        url_content = response.content.decode('utf-8')\n",
    "        dataset = pd.read_csv(StringIO(url_content), delimiter=';')\n",
    "        return dataset\n",
    "    else:\n",
    "        print(f'Request failed with status code {response.status_code}')"
   ]
  },
  {
   "cell_type": "code",
   "execution_count": 2,
   "metadata": {},
   "outputs": [
    {
     "name": "stdout",
     "output_type": "stream",
     "text": [
      "The dataset contains 4696 records.\n"
     ]
    },
    {
     "data": {
      "text/html": [
       "<div>\n",
       "<style scoped>\n",
       "    .dataframe tbody tr th:only-of-type {\n",
       "        vertical-align: middle;\n",
       "    }\n",
       "\n",
       "    .dataframe tbody tr th {\n",
       "        vertical-align: top;\n",
       "    }\n",
       "\n",
       "    .dataframe thead th {\n",
       "        text-align: right;\n",
       "    }\n",
       "</style>\n",
       "<table border=\"1\" class=\"dataframe\">\n",
       "  <thead>\n",
       "    <tr style=\"text-align: right;\">\n",
       "      <th></th>\n",
       "      <th>census_year</th>\n",
       "      <th>block_id</th>\n",
       "      <th>property_id</th>\n",
       "      <th>base_property_id</th>\n",
       "      <th>building_address</th>\n",
       "      <th>clue_small_area</th>\n",
       "      <th>trading_name</th>\n",
       "      <th>business_address</th>\n",
       "      <th>number_of_patrons</th>\n",
       "      <th>longitude</th>\n",
       "      <th>latitude</th>\n",
       "      <th>location</th>\n",
       "    </tr>\n",
       "  </thead>\n",
       "  <tbody>\n",
       "    <tr>\n",
       "      <th>0</th>\n",
       "      <td>2002</td>\n",
       "      <td>11</td>\n",
       "      <td>108972</td>\n",
       "      <td>108972</td>\n",
       "      <td>10-22 Spencer Street MELBOURNE 3000</td>\n",
       "      <td>Melbourne (CBD)</td>\n",
       "      <td>Explorers Inn</td>\n",
       "      <td>10-22 Spencer Street MELBOURNE 3000</td>\n",
       "      <td>50</td>\n",
       "      <td>144.955254</td>\n",
       "      <td>-37.820511</td>\n",
       "      <td>-37.82051068881513, 144.95525416628004</td>\n",
       "    </tr>\n",
       "    <tr>\n",
       "      <th>1</th>\n",
       "      <td>2002</td>\n",
       "      <td>14</td>\n",
       "      <td>103172</td>\n",
       "      <td>103172</td>\n",
       "      <td>31-39 Elizabeth Street MELBOURNE 3000</td>\n",
       "      <td>Melbourne (CBD)</td>\n",
       "      <td>Connells Tavern</td>\n",
       "      <td>35 Elizabeth Street MELBOURNE 3000</td>\n",
       "      <td>350</td>\n",
       "      <td>144.964322</td>\n",
       "      <td>-37.817426</td>\n",
       "      <td>-37.81742610667125, 144.964321660097</td>\n",
       "    </tr>\n",
       "    <tr>\n",
       "      <th>2</th>\n",
       "      <td>2002</td>\n",
       "      <td>15</td>\n",
       "      <td>103944</td>\n",
       "      <td>103944</td>\n",
       "      <td>277-279 Flinders Lane MELBOURNE 3000</td>\n",
       "      <td>Melbourne (CBD)</td>\n",
       "      <td>De Biers</td>\n",
       "      <td>Unit 1, Basement , 277 Flinders Lane MELBOURNE...</td>\n",
       "      <td>400</td>\n",
       "      <td>144.965307</td>\n",
       "      <td>-37.817242</td>\n",
       "      <td>-37.81724194023457, 144.96530699086</td>\n",
       "    </tr>\n",
       "  </tbody>\n",
       "</table>\n",
       "</div>"
      ],
      "text/plain": [
       "   census_year  block_id  property_id  base_property_id  \\\n",
       "0         2002        11       108972            108972   \n",
       "1         2002        14       103172            103172   \n",
       "2         2002        15       103944            103944   \n",
       "\n",
       "                        building_address  clue_small_area     trading_name  \\\n",
       "0    10-22 Spencer Street MELBOURNE 3000  Melbourne (CBD)    Explorers Inn   \n",
       "1  31-39 Elizabeth Street MELBOURNE 3000  Melbourne (CBD)  Connells Tavern   \n",
       "2   277-279 Flinders Lane MELBOURNE 3000  Melbourne (CBD)         De Biers   \n",
       "\n",
       "                                    business_address  number_of_patrons  \\\n",
       "0                10-22 Spencer Street MELBOURNE 3000                 50   \n",
       "1                 35 Elizabeth Street MELBOURNE 3000                350   \n",
       "2  Unit 1, Basement , 277 Flinders Lane MELBOURNE...                400   \n",
       "\n",
       "    longitude   latitude                                location  \n",
       "0  144.955254 -37.820511  -37.82051068881513, 144.95525416628004  \n",
       "1  144.964322 -37.817426    -37.81742610667125, 144.964321660097  \n",
       "2  144.965307 -37.817242     -37.81724194023457, 144.96530699086  "
      ]
     },
     "execution_count": 2,
     "metadata": {},
     "output_type": "execute_result"
    }
   ],
   "source": [
    "# Set dataset_id to query for the API call dataset name\n",
    "dataset_id1 = 'bars-and-pubs-with-patron-capacity'\n",
    "# Save dataset to df varaible\n",
    "bars_pubs = collect_data(dataset_id1)\n",
    "# Check number of records in df\n",
    "print(f'The dataset contains {len(bars_pubs)} records.')\n",
    "# View df\n",
    "bars_pubs.head(3)"
   ]
  },
  {
   "cell_type": "markdown",
   "metadata": {},
   "source": [
    "### Preprocessing Data"
   ]
  },
  {
   "cell_type": "markdown",
   "metadata": {},
   "source": [
    "#### Displaying available columns"
   ]
  },
  {
   "cell_type": "code",
   "execution_count": 3,
   "metadata": {},
   "outputs": [
    {
     "name": "stdout",
     "output_type": "stream",
     "text": [
      "Available columns in Bars and Pubs dataset:\n",
      "['census_year', 'block_id', 'property_id', 'base_property_id', 'building_address', 'clue_small_area', 'trading_name', 'business_address', 'number_of_patrons', 'longitude', 'latitude', 'location']\n"
     ]
    }
   ],
   "source": [
    "# Print available columns in the pre-colonial trees cleaned dataset\n",
    "print(\"Available columns in Bars and Pubs dataset:\")\n",
    "print(bars_pubs.columns.tolist())"
   ]
  },
  {
   "cell_type": "markdown",
   "metadata": {},
   "source": [
    "#### Removing Unwanted Columns"
   ]
  },
  {
   "cell_type": "code",
   "execution_count": 4,
   "metadata": {},
   "outputs": [
    {
     "name": "stdout",
     "output_type": "stream",
     "text": [
      "Remaining columns in Bars and Pubs dataset:\n",
      "['census_year', 'building_address', 'trading_name', 'number_of_patrons', 'longitude', 'latitude', 'location']\n"
     ]
    }
   ],
   "source": [
    "# Remove irrelevant columns\n",
    "columns_to_remove = ['block_id', 'property_id', 'base_property_id', 'clue_small_area', 'business_address']\n",
    "bars_pubs_updated = bars_pubs.drop(columns=columns_to_remove)\n",
    "\n",
    "# Verify the columns have been removed\n",
    "print(\"Remaining columns in Bars and Pubs dataset:\")\n",
    "print(bars_pubs_updated.columns.tolist())"
   ]
  },
  {
   "cell_type": "markdown",
   "metadata": {},
   "source": [
    "#### Identifying Missing Values"
   ]
  },
  {
   "cell_type": "code",
   "execution_count": 5,
   "metadata": {},
   "outputs": [
    {
     "name": "stdout",
     "output_type": "stream",
     "text": [
      "Missing values in each column:\n",
      "census_year           0\n",
      "building_address      0\n",
      "trading_name          0\n",
      "number_of_patrons     0\n",
      "longitude            20\n",
      "latitude             20\n",
      "location             20\n",
      "dtype: int64\n"
     ]
    }
   ],
   "source": [
    "# Check for missing values in the dataset\n",
    "missing_values = bars_pubs_updated.isnull().sum()\n",
    "\n",
    "# Print the number of missing values in each column\n",
    "print(\"Missing values in each column:\")\n",
    "print(missing_values)"
   ]
  },
  {
   "cell_type": "markdown",
   "metadata": {},
   "source": [
    "#### Displaying Important Details of Missing Rows"
   ]
  },
  {
   "cell_type": "code",
   "execution_count": 12,
   "metadata": {},
   "outputs": [
    {
     "name": "stdout",
     "output_type": "stream",
     "text": [
      "'Building Address' and 'Trading Name' where 'Longitude', 'Latitude', or 'Location' are missing:\n",
      "                              building_address  \\\n",
      "41    353 Little Collins Street MELBOURNE 3000   \n",
      "123            4-6 Goldie Place MELBOURNE 3000   \n",
      "229            4-6 Goldie Place MELBOURNE 3000   \n",
      "953           13 Heffernan Lane MELBOURNE 3000   \n",
      "990          Evan Walker Bridge SOUTHBANK 3006   \n",
      "991     816 Lorimer Street PORT MELBOURNE 3207   \n",
      "1007        25-27 Rankins Road KENSINGTON 3031   \n",
      "2415      27-45 Whiteman Street SOUTHBANK 3006   \n",
      "2606     717-731 Collins Street DOCKLANDS 3008   \n",
      "2607         524 Macaulay Road KENSINGTON 3031   \n",
      "3177      42-44 Lonsdale Street MELBOURNE 3000   \n",
      "3420  143-175 Harbour Esplanade DOCKLANDS 3008   \n",
      "4104     607-623 Collins Street MELBOURNE 3000   \n",
      "4186  143-175 Harbour Esplanade DOCKLANDS 3008   \n",
      "4188   265-271 Racecourse Road KENSINGTON 3031   \n",
      "\n",
      "                          trading_name  \n",
      "41                    Grosvenor Tavern  \n",
      "123                Paris Cat Jazz Club  \n",
      "229                      The Paris Cat  \n",
      "953                     Union Electric  \n",
      "990                    Ponyfish Island  \n",
      "991      Underbridge Sports Bar & Cafe  \n",
      "1007  Flemington & Kensington RSL Club  \n",
      "2415             Kingpin Bowling Crown  \n",
      "2606                      Bar Nicional  \n",
      "2607                    Lost and Found  \n",
      "3177                            44 Bar  \n",
      "3420           Alumbra At Central Pier  \n",
      "4104    Batman's Hill On Collins Hotel  \n",
      "4186                           Alumbra  \n",
      "4188           The Quiet Man Irish Pub  \n"
     ]
    }
   ],
   "source": [
    "# Filter rows with missing values in 'longitude', 'latitude', or 'location'\n",
    "missing_values_df = bars_pubs_updated[bars_pubs_updated['longitude'].isnull() | \n",
    "                                      bars_pubs_updated['latitude'].isnull() | \n",
    "                                      bars_pubs_updated['location'].isnull()]\n",
    "\n",
    "# Select distinct 'building_address' and 'trading_name'\n",
    "distinct_missing_values = missing_values_df[['building_address', 'trading_name']].drop_duplicates()\n",
    "\n",
    "# Display the result\n",
    "print(\"'Building Address' and 'Trading Name' where 'Longitude', 'Latitude', or 'Location' are missing:\")\n",
    "print(distinct_missing_values)"
   ]
  },
  {
   "cell_type": "code",
   "execution_count": 13,
   "metadata": {},
   "outputs": [
    {
     "name": "stdout",
     "output_type": "stream",
     "text": [
      "Defaulting to user installation because normal site-packages is not writeable\n",
      "Requirement already satisfied: geopy in c:\\users\\venuk\\appdata\\roaming\\python\\python311\\site-packages (2.4.1)\n",
      "Requirement already satisfied: geographiclib<3,>=1.52 in c:\\users\\venuk\\appdata\\roaming\\python\\python311\\site-packages (from geopy) (2.0)\n"
     ]
    }
   ],
   "source": [
    "!pip install geopy"
   ]
  },
  {
   "cell_type": "markdown",
   "metadata": {},
   "source": [
    "#### Filling up missing values manually"
   ]
  },
  {
   "cell_type": "code",
   "execution_count": 16,
   "metadata": {},
   "outputs": [
    {
     "name": "stdout",
     "output_type": "stream",
     "text": [
      "Updated dataset with filled latitude and longitude:\n",
      "                              building_address   latitude   longitude\n",
      "19        42-44 Lonsdale Street MELBOURNE 3000 -37.809747  144.971087\n",
      "41    353 Little Collins Street MELBOURNE 3000 -37.815538  144.962986\n",
      "123            4-6 Goldie Place MELBOURNE 3000 -37.813249  144.960570\n",
      "168            4-6 Goldie Place MELBOURNE 3000 -37.813249  144.960570\n",
      "229            4-6 Goldie Place MELBOURNE 3000 -37.813249  144.960570\n",
      "...                                        ...        ...         ...\n",
      "4297           4-6 Goldie Place MELBOURNE 3000 -37.813249  144.960570\n",
      "4302          13 Heffernan Lane MELBOURNE 3000 -37.811798  144.966599\n",
      "4341  143-175 Harbour Esplanade DOCKLANDS 3008 -37.817410  144.945910\n",
      "4342  143-175 Harbour Esplanade DOCKLANDS 3008 -37.817410  144.945910\n",
      "4385           4-6 Goldie Place MELBOURNE 3000 -37.813249  144.960570\n",
      "\n",
      "[99 rows x 3 columns]\n"
     ]
    }
   ],
   "source": [
    "# Provided latitude and longitude values for the missing data\n",
    "address_coordinates = {\n",
    "    \"13 Heffernan Lane MELBOURNE 3000\": (-37.811798, 144.966599),\n",
    "    \"143-175 Harbour Esplanade DOCKLANDS 3008\": (-37.81741, 144.94591),\n",
    "    \"25-27 Rankins Road KENSINGTON 3031\": (-37.78929, 144.93211),\n",
    "    \"265-271 Racecourse Road KENSINGTON 3031\": (-37.78858, 144.93225),\n",
    "    \"27-45 Whiteman Street SOUTHBANK 3006\": (-37.8251819, 144.9582948),\n",
    "    \"353 Little Collins Street MELBOURNE 3000\": (-37.8155378, 144.9629855),\n",
    "    \"42-44 Lonsdale Street MELBOURNE 3000\": (-37.8097472, 144.9710871),\n",
    "    \"4-6 Goldie Place MELBOURNE 3000\": (-37.8132486, 144.9605705),\n",
    "    \"524 Macaulay Road KENSINGTON 3031\": (-37.794177, 144.9286062),\n",
    "    \"607-623 Collins Street MELBOURNE 3000\": (-37.8190018, 144.9541476),\n",
    "    \"717-731 Collins Street DOCKLANDS 3008\": (-37.8149, 144.9505),\n",
    "    \"816 Lorimer Street PORT MELBOURNE 3207\": (-37.8221281, 144.9309547),\n",
    "    \"Evan Walker Bridge SOUTHBANK 3006\": (-37.8196329, 144.9651296)\n",
    "}\n",
    "\n",
    "# Create a copy of the updated DataFrame and name it bars_pubs_cleaned\n",
    "bars_pubs_cleaned = bars_pubs_updated.copy()\n",
    "\n",
    "# Update the new DataFrame with the provided latitude and longitude values\n",
    "for address, (lat, lon) in address_coordinates.items():\n",
    "    bars_pubs_cleaned.loc[bars_pubs_cleaned['building_address'] == address, 'latitude'] = lat\n",
    "    bars_pubs_cleaned.loc[bars_pubs_cleaned['building_address'] == address, 'longitude'] = lon\n",
    "\n",
    "# Verify the updated values\n",
    "print(\"Updated dataset with filled latitude and longitude:\")\n",
    "print(bars_pubs_cleaned.loc[bars_pubs_cleaned['building_address'].isin(address_coordinates.keys()), ['building_address', 'latitude', 'longitude']])"
   ]
  },
  {
   "cell_type": "code",
   "execution_count": 17,
   "metadata": {},
   "outputs": [
    {
     "name": "stdout",
     "output_type": "stream",
     "text": [
      "Updated dataset with filled latitude, longitude, and location:\n",
      "                              building_address   latitude   longitude  \\\n",
      "19        42-44 Lonsdale Street MELBOURNE 3000 -37.809747  144.971087   \n",
      "41    353 Little Collins Street MELBOURNE 3000 -37.815538  144.962986   \n",
      "123            4-6 Goldie Place MELBOURNE 3000 -37.813249  144.960570   \n",
      "168            4-6 Goldie Place MELBOURNE 3000 -37.813249  144.960570   \n",
      "229            4-6 Goldie Place MELBOURNE 3000 -37.813249  144.960570   \n",
      "...                                        ...        ...         ...   \n",
      "4297           4-6 Goldie Place MELBOURNE 3000 -37.813249  144.960570   \n",
      "4302          13 Heffernan Lane MELBOURNE 3000 -37.811798  144.966599   \n",
      "4341  143-175 Harbour Esplanade DOCKLANDS 3008 -37.817410  144.945910   \n",
      "4342  143-175 Harbour Esplanade DOCKLANDS 3008 -37.817410  144.945910   \n",
      "4385           4-6 Goldie Place MELBOURNE 3000 -37.813249  144.960570   \n",
      "\n",
      "                      location  \n",
      "19    -37.8097472, 144.9710871  \n",
      "41    -37.8155378, 144.9629855  \n",
      "123   -37.8132486, 144.9605705  \n",
      "168   -37.8132486, 144.9605705  \n",
      "229   -37.8132486, 144.9605705  \n",
      "...                        ...  \n",
      "4297  -37.8132486, 144.9605705  \n",
      "4302    -37.811798, 144.966599  \n",
      "4341      -37.81741, 144.94591  \n",
      "4342      -37.81741, 144.94591  \n",
      "4385  -37.8132486, 144.9605705  \n",
      "\n",
      "[99 rows x 4 columns]\n"
     ]
    }
   ],
   "source": [
    "# Create a copy of the updated DataFrame and name it bars_pubs_cleaned\n",
    "bars_pubs_cleaned = bars_pubs_updated.copy()\n",
    "\n",
    "# Update the new DataFrame with the provided latitude and longitude values and fill location column\n",
    "for address, (lat, lon) in address_coordinates.items():\n",
    "    bars_pubs_cleaned.loc[bars_pubs_cleaned['building_address'] == address, 'latitude'] = lat\n",
    "    bars_pubs_cleaned.loc[bars_pubs_cleaned['building_address'] == address, 'longitude'] = lon\n",
    "    bars_pubs_cleaned.loc[bars_pubs_cleaned['building_address'] == address, 'location'] = f\"{lat}, {lon}\"\n",
    "\n",
    "# Verify the updated values\n",
    "print(\"Updated dataset with filled latitude, longitude, and location:\")\n",
    "print(bars_pubs_cleaned.loc[bars_pubs_cleaned['building_address'].isin(address_coordinates.keys()), ['building_address', 'latitude', 'longitude', 'location']])"
   ]
  },
  {
   "cell_type": "markdown",
   "metadata": {},
   "source": [
    "#### Rechecking Missing Values"
   ]
  },
  {
   "cell_type": "code",
   "execution_count": 18,
   "metadata": {},
   "outputs": [
    {
     "name": "stdout",
     "output_type": "stream",
     "text": [
      "Missing values in each column:\n",
      "census_year          0\n",
      "building_address     0\n",
      "trading_name         0\n",
      "number_of_patrons    0\n",
      "longitude            0\n",
      "latitude             0\n",
      "location             0\n",
      "dtype: int64\n"
     ]
    }
   ],
   "source": [
    "# Check for missing values in the dataset\n",
    "missing_values_new = bars_pubs_cleaned.isnull().sum()\n",
    "\n",
    "# Print the number of missing values in each column\n",
    "print(\"Missing values in each column:\")\n",
    "print(missing_values_new)"
   ]
  },
  {
   "cell_type": "code",
   "execution_count": null,
   "metadata": {},
   "outputs": [],
   "source": []
  }
 ],
 "metadata": {
  "kernelspec": {
   "display_name": "Python 3 (ipykernel)",
   "language": "python",
   "name": "python3"
  },
  "language_info": {
   "codemirror_mode": {
    "name": "ipython",
    "version": 3
   },
   "file_extension": ".py",
   "mimetype": "text/x-python",
   "name": "python",
   "nbconvert_exporter": "python",
   "pygments_lexer": "ipython3",
   "version": "3.11.7"
  },
  "vscode": {
   "interpreter": {
    "hash": "369f2c481f4da34e4445cda3fffd2e751bd1c4d706f27375911949ba6bb62e1c"
   }
  }
 },
 "nbformat": 4,
 "nbformat_minor": 4
}
