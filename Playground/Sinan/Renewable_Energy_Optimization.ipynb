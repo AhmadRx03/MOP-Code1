{
  "nbformat": 4,
  "nbformat_minor": 0,
  "metadata": {
    "colab": {
      "provenance": []
    },
    "kernelspec": {
      "name": "python3",
      "display_name": "Python 3"
    },
    "language_info": {
      "name": "python"
    }
  },
  "cells": [
    {
      "cell_type": "markdown",
      "source": [
        "##### Styling"
      ],
      "metadata": {
        "id": "3SgbqWml2JWP"
      }
    },
    {
      "cell_type": "code",
      "execution_count": 2,
      "metadata": {
        "colab": {
          "base_uri": "https://localhost:8080/",
          "height": 17
        },
        "id": "RDunFMRX11wR",
        "outputId": "df2967d8-3247-4bb0-a89e-6745b3d5de27"
      },
      "outputs": [
        {
          "output_type": "execute_result",
          "data": {
            "text/plain": [
              "<IPython.core.display.HTML object>"
            ],
            "text/html": [
              "\n",
              "<style>\n",
              ".usecase-title, .usecase-duration, .usecase-section-header {\n",
              "    padding-left: 15px;\n",
              "    padding-bottom: 10px;\n",
              "    padding-top: 10px;\n",
              "    padding-right: 15px;\n",
              "    background-color: #0f9295;\n",
              "    color: #fff;\n",
              "}\n",
              "\n",
              ".usecase-title {\n",
              "    font-size: 1.7em;\n",
              "    font-weight: bold;\n",
              "}\n",
              "\n",
              ".usecase-authors, .usecase-level, .usecase-skill {\n",
              "    padding-left: 15px;\n",
              "    padding-bottom: 7px;\n",
              "    padding-top: 7px;\n",
              "    background-color: #baeaeb;\n",
              "    font-size: 1.4em;\n",
              "    color: #121212;\n",
              "}\n",
              "\n",
              ".usecase-level-skill  {\n",
              "    display: flex;\n",
              "}\n",
              "\n",
              ".usecase-level, .usecase-skill {\n",
              "    width: 50%;\n",
              "}\n",
              "\n",
              ".usecase-duration, .usecase-skill {\n",
              "    text-align: right;\n",
              "    padding-right: 15px;\n",
              "    padding-bottom: 8px;\n",
              "    font-size: 1.4em;\n",
              "}\n",
              "\n",
              ".usecase-section-header {\n",
              "    font-weight: bold;\n",
              "    font-size: 1.5em;\n",
              "}\n",
              "\n",
              ".usecase-subsection-header, .usecase-subsection-blurb {\n",
              "    font-weight: bold;\n",
              "    font-size: 1.2em;\n",
              "    color: #121212;\n",
              "}\n",
              "\n",
              ".usecase-subsection-blurb {\n",
              "    font-size: 1em;\n",
              "    font-style: italic;\n",
              "}\n",
              "</style>\n"
            ]
          },
          "metadata": {},
          "execution_count": 2
        }
      ],
      "source": [
        "from IPython.core.display import HTML\n",
        "HTML(\"\"\"\n",
        "<style>\n",
        ".usecase-title, .usecase-duration, .usecase-section-header {\n",
        "    padding-left: 15px;\n",
        "    padding-bottom: 10px;\n",
        "    padding-top: 10px;\n",
        "    padding-right: 15px;\n",
        "    background-color: #0f9295;\n",
        "    color: #fff;\n",
        "}\n",
        "\n",
        ".usecase-title {\n",
        "    font-size: 1.7em;\n",
        "    font-weight: bold;\n",
        "}\n",
        "\n",
        ".usecase-authors, .usecase-level, .usecase-skill {\n",
        "    padding-left: 15px;\n",
        "    padding-bottom: 7px;\n",
        "    padding-top: 7px;\n",
        "    background-color: #baeaeb;\n",
        "    font-size: 1.4em;\n",
        "    color: #121212;\n",
        "}\n",
        "\n",
        ".usecase-level-skill  {\n",
        "    display: flex;\n",
        "}\n",
        "\n",
        ".usecase-level, .usecase-skill {\n",
        "    width: 50%;\n",
        "}\n",
        "\n",
        ".usecase-duration, .usecase-skill {\n",
        "    text-align: right;\n",
        "    padding-right: 15px;\n",
        "    padding-bottom: 8px;\n",
        "    font-size: 1.4em;\n",
        "}\n",
        "\n",
        ".usecase-section-header {\n",
        "    font-weight: bold;\n",
        "    font-size: 1.5em;\n",
        "}\n",
        "\n",
        ".usecase-subsection-header, .usecase-subsection-blurb {\n",
        "    font-weight: bold;\n",
        "    font-size: 1.2em;\n",
        "    color: #121212;\n",
        "}\n",
        "\n",
        ".usecase-subsection-blurb {\n",
        "    font-size: 1em;\n",
        "    font-style: italic;\n",
        "}\n",
        "</style>\n",
        "\"\"\")"
      ]
    },
    {
      "cell_type": "markdown",
      "source": [
        "<div class=\"usecase-title\">Renewable Energy Optimization</div>\n",
        "\n",
        "<div class=\"usecase-authors\"><b>Authored by: </b> Sinan Kilci</div>"
      ],
      "metadata": {
        "id": "yqVdGWDN2TSs"
      }
    },
    {
      "cell_type": "markdown",
      "source": [
        "<div class=\"usecase-duration\"><b>Duration:</b> 300 mins</div>\n",
        "\n",
        "<div class=\"usecase-level-skill\">\n",
        "    <div class=\"usecase-level\"><b>Level: </b>Intermediate </div>\n",
        "    <div class=\"usecase-skill\"><b>Pre-requisite Skills: </b>Python </div>\n",
        "</div>"
      ],
      "metadata": {
        "id": "7qkFOC-I2dXI"
      }
    },
    {
      "cell_type": "markdown",
      "source": [
        "The main goal of this project is to use historical environmental data to improve the installation and operation of renewable energy sources like wind turbines and solar panels. The aim is to make energy production more efficient and sustainable by studying environmental factors that affect energy production. The results will help us understand the best places to put renewable energy sources and how to operate them more effectively, using detailed environmental information to boost efficiency and sustainability."
      ],
      "metadata": {
        "id": "eOx_L9WB23DW"
      }
    },
    {
      "cell_type": "markdown",
      "source": [
        "At the end of this use case I will:\n",
        "- be able to perform explanatory analysis and interpret complex data sets.\n",
        "- be upskilled in creating visual representation of data to communicate insights effectively.\n",
        "- be proficient in data wrangling techniques.\n",
        "- be capable to build and validate simple predictive models using historical data."
      ],
      "metadata": {
        "id": "ShaYsD-H3AXI"
      }
    },
    {
      "cell_type": "markdown",
      "source": [
        "# Introduction\n",
        "\n",
        "<div class=\"usecase-section-header\">Optimizing Renewable Energy Deployment Using Environmental Sensor Data</div>"
      ],
      "metadata": {
        "id": "_uIZ0Yyq3BKJ"
      }
    },
    {
      "cell_type": "markdown",
      "source": [
        "In recent years, the global need for renewable energy has been increased as we strive to reduce carbon emissions and reduce the effects of climate change. Renewable energy sources, such as wind turbines and solar panels, play a critical role in this transition. However, the efficiency and effectiveness of these installations are heavily influenced by environmental conditions. Placing a wind turbine in an area with inconsistent wind patterns or a solar panel where sunlight is obstructed can lead to weak performance and increased costs.\n",
        "\n",
        "This study aims to address these challenges by leveraging detailed environmental data from microclimate and meshed sensor networks. By analyzing factors such as wind speed, solar radiation, temperature, and humidity, we can identify optimal locations and operational strategies for renewable energy installations. The goal is to maximize energy generation, improve cost-efficiency, and reduce environmental impact.\n",
        "\n",
        "The datasets used in this study are gathered from City of Melbourne Open Data Platform (https://data.melbourne.vic.gov.au) and provide extensive insights into local environmental conditions in Melbourne City. They include:\n",
        "- Weather Stations Data (ATMOS 41): Historical data collected by weather stations installed in Argyle Square, capturing wind speed, solar radiation, and atmospheric conditions. This information is crucial for assessing site suitability for renewable energy projects.\n",
        "- Microclimate Sensors Data: Contains climate readings from sensors located within the city, updated every fifteen minutes. This dataset includes ambient air temperature, relative humidity, atmospheric pressure, wind speed and direction, gust wind speed, particulate matter 2.5, particulate matter 10, and noise. It is essential for understanding microclimate variations throughout the day.\n",
        "- Microclimate Sensor Locations: Provides the historical location and description for each microclimate sensor device installed throughout the city. This data is vital for understanding the spatial distribution of sensors and any relocations that may affect historical data interpretation.\n",
        "- Microclimate Sensor Readings: Offers environmental readings updated every hour in fifteen-minute increments. It includes data on ambient air temperature, relative humidity, barometric pressure, particulate matter 2.5, particulate matter 10, and average wind speed. This dataset also aligns with EPA Victoria's air quality data, helping correlate microclimate conditions with broader environmental insights."
      ],
      "metadata": {
        "id": "iS9t_JhG3Fs5"
      }
    },
    {
      "cell_type": "markdown",
      "source": [
        "##### Requesting the datasets from their sources (Download)"
      ],
      "metadata": {
        "id": "33y_GD0yjbKY"
      }
    },
    {
      "cell_type": "code",
      "source": [
        "import requests\n",
        "\n",
        "# URLs for the datasets\n",
        "urls = {\n",
        "    \"microclimate_sensor_readings\": \"https://data.melbourne.vic.gov.au/api/explore/v2.1/catalog/datasets/microclimate-sensor-readings/exports/csv?lang=en&timezone=Australia%2FSydney&use_labels=true&delimiter=%2C\",\n",
        "    \"microclimate_sensors_data\": \"https://data.melbourne.vic.gov.au/api/explore/v2.1/catalog/datasets/microclimate-sensors-data/exports/csv?lang=en&timezone=Australia%2FMelbourne&use_labels=true&delimiter=%2C\",\n",
        "    \"meshed_sensor_type_1\": \"https://data.melbourne.vic.gov.au/api/explore/v2.1/catalog/datasets/meshed-sensor-type-1/exports/csv?lang=en&timezone=Australia%2FSydney&use_labels=true&delimiter=%2C\"\n",
        "}\n",
        "\n",
        "# Function to download a dataset\n",
        "def download_dataset(url, filename):\n",
        "    response = requests.get(url)\n",
        "    if response.status_code == 200:\n",
        "        with open(filename, 'wb') as file:\n",
        "            file.write(response.content)\n",
        "        print(f\"Downloaded {filename} successfully.\")\n",
        "    else:\n",
        "        print(f\"Failed to download {filename}. Status code: {response.status_code}\")\n",
        "\n",
        "# Download each dataset\n",
        "for name, url in urls.items():\n",
        "    download_dataset(url, f\"{name}.csv\")\n"
      ],
      "metadata": {
        "colab": {
          "base_uri": "https://localhost:8080/",
          "height": 0
        },
        "id": "oIkPEBev2Znc",
        "outputId": "eae14690-8c29-4364-bf0d-f31bb2a2c874"
      },
      "execution_count": 11,
      "outputs": [
        {
          "output_type": "stream",
          "name": "stdout",
          "text": [
            "Downloaded microclimate_sensor_readings.csv successfully.\n",
            "Downloaded microclimate_sensors_data.csv successfully.\n",
            "Downloaded meshed_sensor_type_1.csv successfully.\n"
          ]
        }
      ]
    },
    {
      "cell_type": "markdown",
      "source": [
        "##### Loading datasets"
      ],
      "metadata": {
        "id": "v4j3CL3KjC69"
      }
    },
    {
      "cell_type": "code",
      "source": [
        "import pandas as pd\n",
        "\n",
        "microclimate_sensor_readings = pd.read_csv('microclimate_sensor_readings.csv')\n",
        "microclimate_sensors_data = pd.read_csv('microclimate_sensors_data.csv')\n",
        "meshed_sensor_type_1 = pd.read_csv('meshed_sensor_type_1.csv')"
      ],
      "metadata": {
        "id": "v6B5J6gRjB22"
      },
      "execution_count": 24,
      "outputs": []
    },
    {
      "cell_type": "markdown",
      "source": [
        "##### Converting time related columns to datetime"
      ],
      "metadata": {
        "id": "8HRcZir7jJnZ"
      }
    },
    {
      "cell_type": "code",
      "source": [
        "microclimate_sensor_readings['Local_Time'] = pd.to_datetime(microclimate_sensor_readings['Local_Time'], errors='coerce', utc=True)\n",
        "microclimate_sensors_data['Time'] = pd.to_datetime(microclimate_sensors_data['Time'], errors='coerce', utc=True)\n",
        "meshed_sensor_type_1['date_measure'] = pd.to_datetime(meshed_sensor_type_1['date_measure'], errors='coerce', utc=True)"
      ],
      "metadata": {
        "id": "CpdRkB0DjOXq"
      },
      "execution_count": 25,
      "outputs": []
    },
    {
      "cell_type": "markdown",
      "source": [
        "##### Check for missing values"
      ],
      "metadata": {
        "id": "se3zeDyBjRcW"
      }
    },
    {
      "cell_type": "code",
      "source": [
        "print(\"Total rows in wrangled_microclimate_sensor_readings:\", len(microclimate_sensor_readings))\n",
        "print(\"Total rows in wrangled_microclimate_sensors_data:\", len(microclimate_sensors_data))\n",
        "print(\"Total rows in wrangled_meshed_sensor_type_1:\", len(meshed_sensor_type_1))\n",
        "\n",
        "print(\"Missing Values in Microclimate Sensor Readings:\\n\", microclimate_sensor_readings.isnull().sum())\n",
        "print(\"Missing Values in Microclimate Sensors Data:\\n\", microclimate_sensors_data.isnull().sum())\n",
        "print(\"Missing Values in Meshed Sensor Type 1:\\n\", meshed_sensor_type_1.isnull().sum())"
      ],
      "metadata": {
        "colab": {
          "base_uri": "https://localhost:8080/",
          "height": 0
        },
        "id": "J1jlJQ_PjWho",
        "outputId": "ba312555-1955-45a9-8268-ec7c04dabebd"
      },
      "execution_count": 26,
      "outputs": [
        {
          "output_type": "stream",
          "name": "stdout",
          "text": [
            "Total rows in wrangled_microclimate_sensor_readings: 56\n",
            "Total rows in wrangled_microclimate_sensors_data: 50338\n",
            "Total rows in wrangled_meshed_sensor_type_1: 119724\n",
            "Missing Values in Microclimate Sensor Readings:\n",
            " Local_Time       0\n",
            "ID               0\n",
            "Site_ID          0\n",
            "Sensor_ID        0\n",
            "Value            0\n",
            "Type             0\n",
            "Units            0\n",
            "Gatewayhub_ID    0\n",
            "Site_Status      0\n",
            "dtype: int64\n",
            "Missing Values in Microclimate Sensors Data:\n",
            " Device_id                  0\n",
            "Time                       0\n",
            "SensorLocation           803\n",
            "LatLong                  803\n",
            "MinimumWindDirection    6573\n",
            "AverageWindDirection      20\n",
            "MaximumWindDirection    6573\n",
            "MinimumWindSpeed        6573\n",
            "AverageWindSpeed          20\n",
            "GustWindSpeed           6573\n",
            "AirTemperature            20\n",
            "RelativeHumidity          20\n",
            "AtmosphericPressure       20\n",
            "PM25                    4555\n",
            "PM10                    4555\n",
            "Noise                   4555\n",
            "dtype: int64\n",
            "Missing Values in Meshed Sensor Type 1:\n",
            " dev_id                    0\n",
            "date_measure              0\n",
            "RTC                    2677\n",
            "battery                2088\n",
            "solarPanel             2196\n",
            "command                2129\n",
            "solar                  2783\n",
            "precipitation          2784\n",
            "strikes                2784\n",
            "windSpeed              2199\n",
            "windDirection          2200\n",
            "gustSpeed              2200\n",
            "vapourPressure         2784\n",
            "atmosphericPressure    2200\n",
            "relativeHumidity       2200\n",
            "airTemp                2783\n",
            "Lat Long               2677\n",
            "Sensor Name            2677\n",
            "dtype: int64\n"
          ]
        }
      ]
    },
    {
      "cell_type": "markdown",
      "source": [
        "##### Handling the missing values"
      ],
      "metadata": {
        "id": "HLTUjTn1jlRg"
      }
    },
    {
      "cell_type": "code",
      "source": [
        "# Handle missing values (drop or fill)\n",
        "\n",
        "# Identify existing Device_id to SensorLocation and LatLong mappings\n",
        "location_mapping = microclimate_sensors_data.dropna(subset=['SensorLocation']).set_index('Device_id')['SensorLocation'].to_dict()\n",
        "latlong_mapping = microclimate_sensors_data.dropna(subset=['LatLong']).set_index('Device_id')['LatLong'].to_dict()\n",
        "\n",
        "# Fill missing SensorLocation values based on Device_id\n",
        "microclimate_sensors_data['SensorLocation'] = microclimate_sensors_data.apply(\n",
        "    lambda row: location_mapping.get(row['Device_id'], row['SensorLocation']), axis=1\n",
        ")\n",
        "\n",
        "# Fill missing LatLong values based on Device_id\n",
        "microclimate_sensors_data['LatLong'] = microclimate_sensors_data.apply(\n",
        "    lambda row: latlong_mapping.get(row['Device_id'], row['LatLong']), axis=1\n",
        ")\n",
        "\n",
        "# Check if the missing values in SensorLocation and LatLong are filled\n",
        "print(\"Missing Values in SensorLocation after filling:\\n\", microclimate_sensors_data['SensorLocation'].isnull().sum())\n",
        "print(\"Missing Values in LatLong after filling:\\n\", microclimate_sensors_data['LatLong'].isnull().sum())\n",
        "\n",
        "microclimate_sensors_data.dropna(inplace=True)\n",
        "meshed_sensor_type_1.dropna(inplace=True)"
      ],
      "metadata": {
        "colab": {
          "base_uri": "https://localhost:8080/",
          "height": 0
        },
        "id": "qZqKn5zrjpD-",
        "outputId": "cd0417e0-0b8d-455d-a67c-ab2aaf773896"
      },
      "execution_count": 27,
      "outputs": [
        {
          "output_type": "stream",
          "name": "stdout",
          "text": [
            "Missing Values in SensorLocation after filling:\n",
            " 0\n",
            "Missing Values in LatLong after filling:\n",
            " 0\n"
          ]
        }
      ]
    },
    {
      "cell_type": "markdown",
      "source": [
        "##### Merge the Microclimate data into one dataset"
      ],
      "metadata": {
        "id": "FgV00i0jj2KY"
      }
    },
    {
      "cell_type": "code",
      "source": [
        "# Merge datasets where applicable\n"
      ],
      "metadata": {
        "id": "NdvT3tLFj-YI"
      },
      "execution_count": null,
      "outputs": []
    },
    {
      "cell_type": "code",
      "source": [
        "# Feature Engineering (example: calculate the difference in readings over time)\n",
        "# Calculate hourly changes for readings\n",
        "# merged_data['hourly_change'] = merged_data.groupby('Site_ID')['Value'].diff()\n",
        "\n",
        "# Save the wrangled datasets\n",
        "microclimate_sensor_readings.to_csv('wrangled_microclimate_sensor_readings.csv', index=False)\n",
        "microclimate_sensors_data.to_csv('wrangled_microclimate_sensors_data.csv', index=False)\n",
        "meshed_sensor_type_1.to_csv('wrangled_meshed_sensor_type_1.csv', index=False)\n",
        "#merged_data.to_csv('merged_and_wrangled_data.csv', index=False)\n",
        "\n",
        "print(\"Total rows in wrangled_microclimate_sensor_readings:\", len(microclimate_sensor_readings))\n",
        "print(\"Total rows in wrangled_microclimate_sensors_data:\", len(microclimate_sensors_data))\n",
        "print(\"Total rows in wrangled_meshed_sensor_type_1:\", len(meshed_sensor_type_1))"
      ],
      "metadata": {
        "id": "22-4vGGma8Y9",
        "outputId": "7881137f-13c4-41b1-cbdd-944179ff7564",
        "colab": {
          "base_uri": "https://localhost:8080/",
          "height": 0
        }
      },
      "execution_count": 28,
      "outputs": [
        {
          "output_type": "stream",
          "name": "stdout",
          "text": [
            "Total rows in wrangled_microclimate_sensor_readings: 56\n",
            "Total rows in wrangled_microclimate_sensors_data: 39230\n",
            "Total rows in wrangled_meshed_sensor_type_1: 116940\n"
          ]
        }
      ]
    },
    {
      "cell_type": "markdown",
      "source": [
        "- I decided to remove the dataset \"Microclimate Sensor\"\n",
        "- I'll work on the \"microclimate_sensors_data\" about missing values because 20% of data will be lost if I just dropna."
      ],
      "metadata": {
        "id": "yz82Xr_WwSnh"
      }
    }
  ]
}