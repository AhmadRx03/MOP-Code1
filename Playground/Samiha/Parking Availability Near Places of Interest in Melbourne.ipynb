{
 "cells": [
  {
   "cell_type": "markdown",
   "metadata": {},
   "source": [
    "_**DELETE BEFORE PUBLISHING**_\n",
    "\n",
    "_This is a template also containing the style guide for use cases. The styling uses the use-case css when uploaded to the website, which will not be visible on your local machine._\n",
    "\n",
    "_Change any text marked with {} and delete any cells marked DELETE_\n",
    "\n",
    "***"
   ]
  },
  {
   "cell_type": "code",
   "execution_count": 5,
   "metadata": {},
   "outputs": [
    {
     "data": {
      "text/html": [
       "\n",
       "<style>\n",
       ".usecase-title, .usecase-duration, .usecase-section-header {\n",
       "    padding-left: 15px;\n",
       "    padding-bottom: 8px;\n",
       "    padding-top: 8px;\n",
       "    padding-right: 15px;\n",
       "    background-color: #0f9295;\n",
       "    color: #fff;\n",
       "}\n",
       "\n",
       ".usecase-title {\n",
       "    font-size: 1.7em;\n",
       "    font-weight: bold;\n",
       "}\n",
       "\n",
       ".usecase-authors, .usecase-level, .usecase-skill {\n",
       "    padding-left: 15px;\n",
       "    padding-bottom: 6px;\n",
       "    padding-top: 6px;\n",
       "    background-color: #baeaeb;\n",
       "    font-size: 1.4em;\n",
       "    color: #121212;\n",
       "}\n",
       "\n",
       ".usecase-level-skill  {\n",
       "    display: flex;\n",
       "}\n",
       "\n",
       ".usecase-level, .usecase-skill {\n",
       "    width: 50%;\n",
       "}\n",
       "\n",
       ".usecase-duration, .usecase-skill {\n",
       "    text-align: right;\n",
       "    padding-right: 15px;\n",
       "    padding-bottom: 6px;\n",
       "    font-size: 1.4em;\n",
       "}\n",
       "\n",
       ".usecase-section-header {\n",
       "    font-weight: bold;\n",
       "    font-size: 1.5em;\n",
       "}\n",
       "\n",
       ".usecase-subsection-header, .usecase-subsection-blurb {\n",
       "    font-weight: bold;\n",
       "    font-size: 1.2em;\n",
       "    color: #121212;\n",
       "}\n",
       "\n",
       ".usecase-subsection-blurb {\n",
       "    font-size: 1em;\n",
       "    font-style: italic;\n",
       "}\n",
       "</style>\n"
      ],
      "text/plain": [
       "<IPython.core.display.HTML object>"
      ]
     },
     "execution_count": 5,
     "metadata": {},
     "output_type": "execute_result"
    }
   ],
   "source": [
    "# DELETE BEFORE PUBLISHING\n",
    "# This is just here so you can preview the styling on your local machine\n",
    "\n",
    "from IPython.core.display import HTML\n",
    "HTML(\"\"\"\n",
    "<style>\n",
    ".usecase-title, .usecase-duration, .usecase-section-header {\n",
    "    padding-left: 15px;\n",
    "    padding-bottom: 10px;\n",
    "    padding-top: 10px;\n",
    "    padding-right: 15px;\n",
    "    background-color: #0f9295;\n",
    "    color: #fff;\n",
    "}\n",
    "\n",
    ".usecase-title {\n",
    "    font-size: 1.7em;\n",
    "    font-weight: bold;\n",
    "}\n",
    "\n",
    ".usecase-authors, .usecase-level, .usecase-skill {\n",
    "    padding-left: 15px;\n",
    "    padding-bottom: 7px;\n",
    "    padding-top: 7px;\n",
    "    background-color: #baeaeb;\n",
    "    font-size: 1.4em;\n",
    "    color: #121212;\n",
    "}\n",
    "\n",
    ".usecase-level-skill  {\n",
    "    display: flex;\n",
    "}\n",
    "\n",
    ".usecase-level, .usecase-skill {\n",
    "    width: 50%;\n",
    "}\n",
    "\n",
    ".usecase-duration, .usecase-skill {\n",
    "    text-align: right;\n",
    "    padding-right: 15px;\n",
    "    padding-bottom: 8px;\n",
    "    font-size: 1.4em;\n",
    "}\n",
    "\n",
    ".usecase-section-header {\n",
    "    font-weight: bold;\n",
    "    font-size: 1.5em;\n",
    "}\n",
    "\n",
    ".usecase-subsection-header, .usecase-subsection-blurb {\n",
    "    font-weight: bold;\n",
    "    font-size: 1.2em;\n",
    "    color: #121212;\n",
    "}\n",
    "\n",
    ".usecase-subsection-blurb {\n",
    "    font-size: 1em;\n",
    "    font-style: italic;\n",
    "}\n",
    "</style>\n",
    "\"\"\")"
   ]
  },
  {
   "cell_type": "markdown",
   "metadata": {},
   "source": [
    "<div class=\"usecase-title\">Parking Availability Near Places of Interest in Melbourne</div>\n",
    "\n",
    "<div class=\"usecase-authors\"><b>Authored by: </b> {Author/s}</div>"
   ]
  },
  {
   "cell_type": "markdown",
   "metadata": {},
   "source": [
    "<div class=\"usecase-duration\"><b>Duration:</b> {90} mins</div>\n",
    "\n",
    "<div class=\"usecase-level-skill\">\n",
    "    <div class=\"usecase-level\"><b>Level: </b>{Intermediate}</div>\n",
    "    <div class=\"usecase-skill\"><b>Pre-requisite Skills: </b>{Python, and add any more skills needed}</div>\n",
    "</div>"
   ]
  },
  {
   "cell_type": "markdown",
   "metadata": {},
   "source": [
    "<div class=\"usecase-section-header\">Scenario</div>"
   ]
  },
  {
   "cell_type": "markdown",
   "metadata": {},
   "source": [
    "{Using User Story format, write a description of the problem you are trying to solve for this use case.}"
   ]
  },
  {
   "cell_type": "markdown",
   "metadata": {},
   "source": [
    "<div class=\"usecase-section-header\">What this use case will teach you</div>"
   ]
  },
  {
   "cell_type": "markdown",
   "metadata": {},
   "source": [
    "At the end of this use case you will:\n",
    "- {list the skills demonstrated in your use case}"
   ]
  },
  {
   "cell_type": "markdown",
   "metadata": {},
   "source": [
    "<div class=\"usecase-section-header\">{Heading for introduction or background relating to problem}</div>"
   ]
  },
  {
   "cell_type": "markdown",
   "metadata": {},
   "source": [
    "{Write your introduction here. Keep it concise. We're not after \"War and Peace\" but enough background information to inform the reader on the rationale for solving this problem or background non-technical information that helps explain the approach. You may also wish to give information on the datasets, particularly how to source those not being imported from the client's open data portal.}\n",
    "\n"
   ]
  },
  {
   "cell_type": "code",
   "execution_count": 140,
   "metadata": {},
   "outputs": [
    {
     "name": "stdout",
     "output_type": "stream",
     "text": [
      "Collecting nltk\n",
      "  Downloading nltk-3.8.1-py3-none-any.whl.metadata (2.8 kB)\n",
      "Requirement already satisfied: click in /opt/anaconda3/envs/MelbourneCityOpenData/lib/python3.8/site-packages (from nltk) (8.1.7)\n",
      "Requirement already satisfied: joblib in /opt/anaconda3/envs/MelbourneCityOpenData/lib/python3.8/site-packages (from nltk) (1.2.0)\n",
      "Collecting regex>=2021.8.3 (from nltk)\n",
      "  Downloading regex-2024.7.24-cp38-cp38-macosx_10_9_x86_64.whl.metadata (40 kB)\n",
      "\u001b[2K     \u001b[90m━━━━━━━━━━━━━━━━━━━━━━━━━━━━━━━━━━━━━━━━\u001b[0m \u001b[32m40.5/40.5 kB\u001b[0m \u001b[31m1.1 MB/s\u001b[0m eta \u001b[36m0:00:00\u001b[0m\n",
      "\u001b[?25hRequirement already satisfied: tqdm in /opt/anaconda3/envs/MelbourneCityOpenData/lib/python3.8/site-packages (from nltk) (4.66.2)\n",
      "Downloading nltk-3.8.1-py3-none-any.whl (1.5 MB)\n",
      "\u001b[2K   \u001b[90m━━━━━━━━━━━━━━━━━━━━━━━━━━━━━━━━━━━━━━━━\u001b[0m \u001b[32m1.5/1.5 MB\u001b[0m \u001b[31m6.0 MB/s\u001b[0m eta \u001b[36m0:00:00\u001b[0m00:01\u001b[0m00:01\u001b[0m\n",
      "\u001b[?25hDownloading regex-2024.7.24-cp38-cp38-macosx_10_9_x86_64.whl (282 kB)\n",
      "\u001b[2K   \u001b[90m━━━━━━━━━━━━━━━━━━━━━━━━━━━━━━━━━━━━━━━━\u001b[0m \u001b[32m282.3/282.3 kB\u001b[0m \u001b[31m4.1 MB/s\u001b[0m eta \u001b[36m0:00:00\u001b[0m00:01\u001b[0m\n",
      "\u001b[?25hInstalling collected packages: regex, nltk\n",
      "Successfully installed nltk-3.8.1 regex-2024.7.24\n",
      "\n",
      "\u001b[1m[\u001b[0m\u001b[34;49mnotice\u001b[0m\u001b[1;39;49m]\u001b[0m\u001b[39;49m A new release of pip is available: \u001b[0m\u001b[31;49m24.0\u001b[0m\u001b[39;49m -> \u001b[0m\u001b[32;49m24.1.2\u001b[0m\n",
      "\u001b[1m[\u001b[0m\u001b[34;49mnotice\u001b[0m\u001b[1;39;49m]\u001b[0m\u001b[39;49m To update, run: \u001b[0m\u001b[32;49m/opt/anaconda3/envs/MelbourneCityOpenData/bin/python -m pip install --upgrade pip\u001b[0m\n",
      "Note: you may need to restart the kernel to use updated packages.\n"
     ]
    }
   ],
   "source": [
    "pip install nltk"
   ]
  },
  {
   "cell_type": "code",
   "execution_count": 173,
   "metadata": {},
   "outputs": [
    {
     "name": "stderr",
     "output_type": "stream",
     "text": [
      "[nltk_data] Downloading package stopwords to\n",
      "[nltk_data]     /Users/samihahaque/nltk_data...\n",
      "[nltk_data]   Unzipping corpora/stopwords.zip.\n"
     ]
    },
    {
     "data": {
      "text/plain": [
       "True"
      ]
     },
     "execution_count": 173,
     "metadata": {},
     "output_type": "execute_result"
    }
   ],
   "source": [
    "nltk.download('stopwords')"
   ]
  },
  {
   "cell_type": "code",
   "execution_count": 227,
   "metadata": {},
   "outputs": [
    {
     "name": "stderr",
     "output_type": "stream",
     "text": [
      "[nltk_data] Downloading package punkt to\n",
      "[nltk_data]     /Users/samihahaque/nltk_data...\n",
      "[nltk_data]   Unzipping tokenizers/punkt.zip.\n"
     ]
    },
    {
     "data": {
      "text/plain": [
       "True"
      ]
     },
     "execution_count": 227,
     "metadata": {},
     "output_type": "execute_result"
    }
   ],
   "source": [
    "nltk.download('punkt')"
   ]
  },
  {
   "cell_type": "code",
   "execution_count": 174,
   "metadata": {},
   "outputs": [],
   "source": [
    "import requests\n",
    "import pandas as pd\n",
    "import numpy as np\n",
    "from io import StringIO\n",
    "import seaborn as sns\n",
    "import matplotlib.pyplot as plt\n",
    "import nltk\n",
    "from nltk.corpus import stopwords\n",
    "from nltk.tokenize import word_tokenize\n",
    "import re\n",
    "from sklearn.feature_extraction.text import TfidfVectorizer"
   ]
  },
  {
   "cell_type": "code",
   "execution_count": 243,
   "metadata": {},
   "outputs": [
    {
     "name": "stdout",
     "output_type": "stream",
     "text": [
      "              theme           sub_theme                     feature_name  \\\n",
      "0  Place of Worship              Church                St Francis Church   \n",
      "1  Place of Worship              Church                  St James Church   \n",
      "2  Place of Worship              Church        St Mary's Anglican Church   \n",
      "3  Place of Worship              Church                     Scots Church   \n",
      "4  Place of Worship              Church      St Michael's Uniting Church   \n",
      "5  Place of Worship              Church            Greek Orthodox Church   \n",
      "6  Place of Worship              Church          North Melbourne Uniting   \n",
      "7  Place of Worship              Church  South Yarra Presbyterian Church   \n",
      "8  Place of Worship           Synagogue         East Melbourne Synagogue   \n",
      "9         Transport  Transport Terminal                Port of Melbourne   \n",
      "\n",
      "                          co_ordinates  \n",
      "0  -37.8118847831837, 144.962422614541  \n",
      "1  -37.8101281201969, 144.952468571683  \n",
      "2  -37.8031663672997, 144.953761537074  \n",
      "3   -37.8145687802664, 144.96855105335  \n",
      "4  -37.8143851324913, 144.969174036096  \n",
      "5  -37.8088064667555, 144.978259089269  \n",
      "6  -37.8035538471344, 144.947671538375  \n",
      "7   -37.8407473645397, 144.98562699348  \n",
      "8    -37.809113728917, 144.97422190954  \n",
      "9   -37.8137384362671, 144.91753432375  \n"
     ]
    }
   ],
   "source": [
    "base_url='https://data.melbourne.vic.gov.au/api/explore/v2.1/catalog/datasets/'\n",
    "dataset_id='landmarks-and-places-of-interest-including-schools-theatres-health-services-spor'\n",
    "\n",
    "\n",
    "url=f'{base_url}{dataset_id}/exports/csv'\n",
    "params={'select':'*','limit':-1,'lang':'en','timezone':'UTC'}\n",
    "\n",
    "response=requests.get(url,params=params)\n",
    "\n",
    "if response.status_code==200:\n",
    "    url_content=response.content.decode('utf-8')\n",
    "    places=pd.read_csv(StringIO(url_content),delimiter=';')\n",
    "    print(places.head(10))\n",
    "else:\n",
    "    print(f'Request failed with status code {response.status_code}')"
   ]
  },
  {
   "cell_type": "code",
   "execution_count": 244,
   "metadata": {
    "scrolled": false
   },
   "outputs": [
    {
     "name": "stdout",
     "output_type": "stream",
     "text": [
      "   roadsegmentid kerbsideid  \\\n",
      "0          22730        NaN   \n",
      "1          22730        NaN   \n",
      "2          20013       5701   \n",
      "3          20013      23444   \n",
      "4          22268        NaN   \n",
      "5          22295        NaN   \n",
      "6          22295        NaN   \n",
      "7          22295        NaN   \n",
      "8          21108        NaN   \n",
      "9          20950        NaN   \n",
      "\n",
      "                              roadsegmentdescription   latitude   longitude  \\\n",
      "0  Park Street between Mason Street and Randall P... -37.836245  144.982021   \n",
      "1  Park Street between Mason Street and Randall P... -37.835800  144.982115   \n",
      "2  Lonsdale Street between William Street and Kin... -37.814238  144.955451   \n",
      "3  Lonsdale Street between William Street and Kin... -37.814271  144.955334   \n",
      "4  Clowes Street between Anderson Street and Wals... -37.830568  144.984713   \n",
      "5  Anderson Street between Domain Road and Acland... -37.833607  144.983763   \n",
      "6  Anderson Street between Domain Road and Acland... -37.833657  144.983753   \n",
      "7  Anderson Street between Domain Road and Acland... -37.833817  144.983720   \n",
      "8  Courtney Street between Queensberry Street and... -37.803262  144.955425   \n",
      "9  Queensberry Street between Capel Street and Ho... -37.803515  144.954739   \n",
      "\n",
      "  lastupdated  \n",
      "0  2022-08-31  \n",
      "1  2022-08-31  \n",
      "2  2023-10-02  \n",
      "3  2023-10-02  \n",
      "4  2022-08-31  \n",
      "5  2022-08-31  \n",
      "6  2022-08-31  \n",
      "7  2022-08-31  \n",
      "8  2022-08-31  \n",
      "9  2022-08-31  \n"
     ]
    }
   ],
   "source": [
    "base_url='https://data.melbourne.vic.gov.au/api/explore/v2.1/catalog/datasets/'\n",
    "dataset_id='on-street-parking-bays'\n",
    "\n",
    "\n",
    "url=f'{base_url}{dataset_id}/exports/csv'\n",
    "params={'select':'*','limit':-1,'lang':'en','timezone':'UTC'}\n",
    "\n",
    "response=requests.get(url,params=params)\n",
    "\n",
    "if response.status_code==200:\n",
    "    url_content=response.content.decode('utf-8')\n",
    "    parking_bays=pd.read_csv(StringIO(url_content),delimiter=';')\n",
    "    print(parking_bays.head(10))\n",
    "else:\n",
    "    print(f'Request failed with status code {response.status_code}')"
   ]
  },
  {
   "cell_type": "markdown",
   "metadata": {},
   "source": [
    "This use case aims to evaluate the sufficiency of parking facilities around key places of interest in Melbourne. By analyzing the proximity and availability of on-street car parking meters and parking bays to various places of interest, the City of Melbourne can identify areas where parking infrastructure may need enhancement to support accessibility and convenience for visitors."
   ]
  },
  {
   "cell_type": "code",
   "execution_count": 245,
   "metadata": {},
   "outputs": [
    {
     "data": {
      "text/html": [
       "<div>\n",
       "<style scoped>\n",
       "    .dataframe tbody tr th:only-of-type {\n",
       "        vertical-align: middle;\n",
       "    }\n",
       "\n",
       "    .dataframe tbody tr th {\n",
       "        vertical-align: top;\n",
       "    }\n",
       "\n",
       "    .dataframe thead th {\n",
       "        text-align: right;\n",
       "    }\n",
       "</style>\n",
       "<table border=\"1\" class=\"dataframe\">\n",
       "  <thead>\n",
       "    <tr style=\"text-align: right;\">\n",
       "      <th></th>\n",
       "      <th>theme</th>\n",
       "      <th>sub_theme</th>\n",
       "      <th>feature_name</th>\n",
       "      <th>co_ordinates</th>\n",
       "    </tr>\n",
       "  </thead>\n",
       "  <tbody>\n",
       "    <tr>\n",
       "      <th>0</th>\n",
       "      <td>Place of Worship</td>\n",
       "      <td>Church</td>\n",
       "      <td>St Francis Church</td>\n",
       "      <td>-37.8118847831837, 144.962422614541</td>\n",
       "    </tr>\n",
       "    <tr>\n",
       "      <th>1</th>\n",
       "      <td>Place of Worship</td>\n",
       "      <td>Church</td>\n",
       "      <td>St James Church</td>\n",
       "      <td>-37.8101281201969, 144.952468571683</td>\n",
       "    </tr>\n",
       "    <tr>\n",
       "      <th>2</th>\n",
       "      <td>Place of Worship</td>\n",
       "      <td>Church</td>\n",
       "      <td>St Mary's Anglican Church</td>\n",
       "      <td>-37.8031663672997, 144.953761537074</td>\n",
       "    </tr>\n",
       "    <tr>\n",
       "      <th>3</th>\n",
       "      <td>Place of Worship</td>\n",
       "      <td>Church</td>\n",
       "      <td>Scots Church</td>\n",
       "      <td>-37.8145687802664, 144.96855105335</td>\n",
       "    </tr>\n",
       "    <tr>\n",
       "      <th>4</th>\n",
       "      <td>Place of Worship</td>\n",
       "      <td>Church</td>\n",
       "      <td>St Michael's Uniting Church</td>\n",
       "      <td>-37.8143851324913, 144.969174036096</td>\n",
       "    </tr>\n",
       "    <tr>\n",
       "      <th>...</th>\n",
       "      <td>...</td>\n",
       "      <td>...</td>\n",
       "      <td>...</td>\n",
       "      <td>...</td>\n",
       "    </tr>\n",
       "    <tr>\n",
       "      <th>237</th>\n",
       "      <td>Education Centre</td>\n",
       "      <td>School - Primary and Secondary Education</td>\n",
       "      <td>Melbourne Girls Grammar School</td>\n",
       "      <td>-37.8315364518803, 144.985089428348</td>\n",
       "    </tr>\n",
       "    <tr>\n",
       "      <th>238</th>\n",
       "      <td>Retail</td>\n",
       "      <td>Department Store</td>\n",
       "      <td>Myer</td>\n",
       "      <td>-37.8135911985281, 144.963855087868</td>\n",
       "    </tr>\n",
       "    <tr>\n",
       "      <th>239</th>\n",
       "      <td>Retail</td>\n",
       "      <td>Department Store</td>\n",
       "      <td>David Jones</td>\n",
       "      <td>-37.8133127260638, 144.964373486798</td>\n",
       "    </tr>\n",
       "    <tr>\n",
       "      <th>240</th>\n",
       "      <td>Health Services</td>\n",
       "      <td>Medical Services</td>\n",
       "      <td>Mercy Private Hospital</td>\n",
       "      <td>-37.811896809802, 144.984435746587</td>\n",
       "    </tr>\n",
       "    <tr>\n",
       "      <th>241</th>\n",
       "      <td>Mixed Use</td>\n",
       "      <td>Retail/Office/Carpark</td>\n",
       "      <td>ANZ 'Gothic' Bank</td>\n",
       "      <td>-37.8161580666029, 144.961673719242</td>\n",
       "    </tr>\n",
       "  </tbody>\n",
       "</table>\n",
       "<p>242 rows × 4 columns</p>\n",
       "</div>"
      ],
      "text/plain": [
       "                theme                                 sub_theme  \\\n",
       "0    Place of Worship                                    Church   \n",
       "1    Place of Worship                                    Church   \n",
       "2    Place of Worship                                    Church   \n",
       "3    Place of Worship                                    Church   \n",
       "4    Place of Worship                                    Church   \n",
       "..                ...                                       ...   \n",
       "237  Education Centre  School - Primary and Secondary Education   \n",
       "238            Retail                          Department Store   \n",
       "239            Retail                          Department Store   \n",
       "240   Health Services                          Medical Services   \n",
       "241         Mixed Use                     Retail/Office/Carpark   \n",
       "\n",
       "                       feature_name                         co_ordinates  \n",
       "0                 St Francis Church  -37.8118847831837, 144.962422614541  \n",
       "1                   St James Church  -37.8101281201969, 144.952468571683  \n",
       "2         St Mary's Anglican Church  -37.8031663672997, 144.953761537074  \n",
       "3                      Scots Church   -37.8145687802664, 144.96855105335  \n",
       "4       St Michael's Uniting Church  -37.8143851324913, 144.969174036096  \n",
       "..                              ...                                  ...  \n",
       "237  Melbourne Girls Grammar School  -37.8315364518803, 144.985089428348  \n",
       "238                            Myer  -37.8135911985281, 144.963855087868  \n",
       "239                     David Jones  -37.8133127260638, 144.964373486798  \n",
       "240          Mercy Private Hospital   -37.811896809802, 144.984435746587  \n",
       "241               ANZ 'Gothic' Bank  -37.8161580666029, 144.961673719242  \n",
       "\n",
       "[242 rows x 4 columns]"
      ]
     },
     "execution_count": 245,
     "metadata": {},
     "output_type": "execute_result"
    }
   ],
   "source": [
    "places"
   ]
  },
  {
   "cell_type": "code",
   "execution_count": 246,
   "metadata": {},
   "outputs": [
    {
     "name": "stdout",
     "output_type": "stream",
     "text": [
      "<class 'pandas.core.frame.DataFrame'>\n",
      "RangeIndex: 242 entries, 0 to 241\n",
      "Data columns (total 4 columns):\n",
      " #   Column        Non-Null Count  Dtype \n",
      "---  ------        --------------  ----- \n",
      " 0   theme         242 non-null    object\n",
      " 1   sub_theme     242 non-null    object\n",
      " 2   feature_name  242 non-null    object\n",
      " 3   co_ordinates  242 non-null    object\n",
      "dtypes: object(4)\n",
      "memory usage: 7.7+ KB\n"
     ]
    }
   ],
   "source": [
    "places.info()"
   ]
  },
  {
   "cell_type": "code",
   "execution_count": 247,
   "metadata": {},
   "outputs": [
    {
     "data": {
      "text/plain": [
       "(242, 4)"
      ]
     },
     "execution_count": 247,
     "metadata": {},
     "output_type": "execute_result"
    }
   ],
   "source": [
    "places.shape"
   ]
  },
  {
   "cell_type": "code",
   "execution_count": 248,
   "metadata": {},
   "outputs": [
    {
     "data": {
      "text/plain": [
       "theme           0\n",
       "sub_theme       0\n",
       "feature_name    0\n",
       "co_ordinates    0\n",
       "dtype: int64"
      ]
     },
     "execution_count": 248,
     "metadata": {},
     "output_type": "execute_result"
    }
   ],
   "source": [
    "places.isna().sum()"
   ]
  },
  {
   "cell_type": "code",
   "execution_count": 249,
   "metadata": {},
   "outputs": [
    {
     "data": {
      "text/plain": [
       "theme\n",
       "Leisure/Recreation                      63\n",
       "Place Of Assembly                       40\n",
       "Place of Worship                        31\n",
       "Transport                               26\n",
       "Community Use                           21\n",
       "Education Centre                        13\n",
       "Mixed Use                               11\n",
       "Health Services                         11\n",
       "Office                                  11\n",
       "Purpose Built                            4\n",
       "Vacant Land                              3\n",
       "Retail                                   3\n",
       "Residential Accommodation                2\n",
       "Specialist Residential Accommodation     1\n",
       "Warehouse/Store                          1\n",
       "Industrial                               1\n",
       "Name: count, dtype: int64"
      ]
     },
     "execution_count": 249,
     "metadata": {},
     "output_type": "execute_result"
    }
   ],
   "source": [
    "places['theme'].value_counts()"
   ]
  },
  {
   "cell_type": "code",
   "execution_count": 250,
   "metadata": {},
   "outputs": [
    {
     "data": {
      "text/plain": [
       "sub_theme\n",
       "Informal Outdoor Facility (Park/Garden/Reserve)    37\n",
       "Church                                             30\n",
       "Railway Station                                    23\n",
       "Art Gallery/Museum                                 19\n",
       "Theatre Live                                       15\n",
       "Major Sports & Recreation Facility                 14\n",
       "Public Buildings                                   13\n",
       "Office                                             11\n",
       "Public Hospital                                     7\n",
       "Retail/Office/Carpark                               5\n",
       "Tertiary (University)                               4\n",
       "Primary Schools                                     4\n",
       "Outdoor Recreation Facility (Zoo, Golf Course)      4\n",
       "Function/Conference/Exhibition Centre               4\n",
       "Indoor Recreation Facility                          3\n",
       "Police Station                                      3\n",
       "Private Hospital                                    3\n",
       "Retail/Office                                       3\n",
       "Dwelling (House)                                    2\n",
       "Visitor Centre                                      2\n",
       "Private Sports Club/Facility                        2\n",
       "School - Primary and Secondary Education            2\n",
       "Department Store                                    2\n",
       "Retail/Office/Residential/Carpark                   2\n",
       "Observation Tower/Wheel                             2\n",
       "Film & RV Studio                                    2\n",
       "Secondary Schools                                   2\n",
       "Synagogue                                           1\n",
       "Cemetery                                            1\n",
       "Transport Terminal                                  1\n",
       "Bridge                                              1\n",
       "Aquarium                                            1\n",
       "Industrial (Manufacturing)                          1\n",
       "Cinema                                              1\n",
       "Current Construction Site - Commercial              1\n",
       "Casino                                              1\n",
       "Retail                                              1\n",
       "Library                                             1\n",
       "Fire Station                                        1\n",
       "Government Building                                 1\n",
       "Retail/Residential                                  1\n",
       "Gymnasium/Health Club                               1\n",
       "Vacant Land - Undeveloped Site                      1\n",
       "Store Yard                                          1\n",
       "Further Education                                   1\n",
       "Current Construction Site                           1\n",
       "Marina                                              1\n",
       "Hostel                                              1\n",
       "Medical Services                                    1\n",
       "Name: count, dtype: int64"
      ]
     },
     "execution_count": 250,
     "metadata": {},
     "output_type": "execute_result"
    }
   ],
   "source": [
    "places['sub_theme'].value_counts()"
   ]
  },
  {
   "cell_type": "code",
   "execution_count": 251,
   "metadata": {},
   "outputs": [
    {
     "name": "stdout",
     "output_type": "stream",
     "text": [
      "           theme                               sub_theme  \\\n",
      "23   Vacant Land          Vacant Land - Undeveloped Site   \n",
      "118  Vacant Land               Current Construction Site   \n",
      "205  Vacant Land  Current Construction Site - Commercial   \n",
      "\n",
      "                                feature_name  \\\n",
      "23   Melbourne International Karting Complex   \n",
      "118                             Harbour Town   \n",
      "205                   Railway Good Shed No 2   \n",
      "\n",
      "                            co_ordinates  \n",
      "23   -37.8310746380616, 144.913822928701  \n",
      "118  -37.8139256326845, 144.938123825625  \n",
      "205  -37.8211371302179, 144.951378883631  \n",
      "------------------------------------------\n",
      "             theme         sub_theme                            feature_name  \\\n",
      "33   Purpose Built  Film & RV Studio                    Central City Studios   \n",
      "117  Purpose Built  Film & RV Studio  Channel 7 - Melbourne Broadcast Centre   \n",
      "198  Purpose Built            Casino             Crown Entertainment Complex   \n",
      "233  Purpose Built          Aquarium                      Melbourne Aquarium   \n",
      "\n",
      "                            co_ordinates  \n",
      "33   -37.8142318521296, 144.935655305362  \n",
      "117   -37.8158572333481, 144.94582326909  \n",
      "198  -37.8235761092516, 144.957312880653  \n",
      "233  -37.8209627824685, 144.958425696055  \n",
      "------------------------------------------\n",
      "                                   theme sub_theme  \\\n",
      "37  Specialist Residential Accommodation    Hostel   \n",
      "\n",
      "                         feature_name                         co_ordinates  \n",
      "37  The Mission To Seafarers Victoria  -37.8224995970811, 144.951254841448  \n",
      "------------------------------------------\n",
      "                         theme         sub_theme      feature_name  \\\n",
      "85   Residential Accommodation  Dwelling (House)      Bishopscourt   \n",
      "133  Residential Accommodation  Dwelling (House)  Government House   \n",
      "\n",
      "                            co_ordinates  \n",
      "85    -37.8132921649416, 144.98350690799  \n",
      "133  -37.8275635886174, 144.976655130464  \n",
      "------------------------------------------\n",
      "               theme   sub_theme                     feature_name  \\\n",
      "146  Warehouse/Store  Store Yard  Melbourne Wholesale Fish Market   \n",
      "\n",
      "                            co_ordinates  \n",
      "146  -37.8083471006041, 144.930613255612  \n",
      "------------------------------------------\n",
      "      theme         sub_theme           feature_name  \\\n",
      "179  Retail            Retail  Queen Victoria Market   \n",
      "238  Retail  Department Store                   Myer   \n",
      "239  Retail  Department Store            David Jones   \n",
      "\n",
      "                            co_ordinates  \n",
      "179  -37.8075002018073, 144.957158515056  \n",
      "238  -37.8135911985281, 144.963855087868  \n",
      "239  -37.8133127260638, 144.964373486798  \n",
      "------------------------------------------\n",
      "          theme                   sub_theme feature_name  \\\n",
      "225  Industrial  Industrial (Manufacturing)        Kraft   \n",
      "\n",
      "                            co_ordinates  \n",
      "225  -37.8262313085528, 144.923475698195  \n",
      "------------------------------------------\n"
     ]
    }
   ],
   "source": [
    "for i in places['theme'].unique():\n",
    "    if len(places.loc[places['theme']==i].value_counts())<5:\n",
    "        print(places.loc[places['theme']==i])\n",
    "        print(\"------------------------------------------\")"
   ]
  },
  {
   "cell_type": "code",
   "execution_count": 252,
   "metadata": {},
   "outputs": [],
   "source": [
    "drop_themes=['Vacant Land','Purpose Built','Specialist Residential Accommodation','Residential Accommodation','Warehouse/Store','Industrial']\n",
    "# places = places[~places['theme'].isin(drop_themes)]\n",
    "places=places[~places['theme'].isin(drop_themes)]"
   ]
  },
  {
   "cell_type": "code",
   "execution_count": 253,
   "metadata": {},
   "outputs": [
    {
     "name": "stdout",
     "output_type": "stream",
     "text": [
      "(230, 4)\n"
     ]
    },
    {
     "data": {
      "text/html": [
       "<div>\n",
       "<style scoped>\n",
       "    .dataframe tbody tr th:only-of-type {\n",
       "        vertical-align: middle;\n",
       "    }\n",
       "\n",
       "    .dataframe tbody tr th {\n",
       "        vertical-align: top;\n",
       "    }\n",
       "\n",
       "    .dataframe thead th {\n",
       "        text-align: right;\n",
       "    }\n",
       "</style>\n",
       "<table border=\"1\" class=\"dataframe\">\n",
       "  <thead>\n",
       "    <tr style=\"text-align: right;\">\n",
       "      <th></th>\n",
       "      <th>theme</th>\n",
       "      <th>sub_theme</th>\n",
       "      <th>feature_name</th>\n",
       "      <th>co_ordinates</th>\n",
       "    </tr>\n",
       "  </thead>\n",
       "  <tbody>\n",
       "    <tr>\n",
       "      <th>0</th>\n",
       "      <td>Place of Worship</td>\n",
       "      <td>Church</td>\n",
       "      <td>St Francis Church</td>\n",
       "      <td>-37.8118847831837, 144.962422614541</td>\n",
       "    </tr>\n",
       "    <tr>\n",
       "      <th>1</th>\n",
       "      <td>Place of Worship</td>\n",
       "      <td>Church</td>\n",
       "      <td>St James Church</td>\n",
       "      <td>-37.8101281201969, 144.952468571683</td>\n",
       "    </tr>\n",
       "    <tr>\n",
       "      <th>2</th>\n",
       "      <td>Place of Worship</td>\n",
       "      <td>Church</td>\n",
       "      <td>St Mary's Anglican Church</td>\n",
       "      <td>-37.8031663672997, 144.953761537074</td>\n",
       "    </tr>\n",
       "    <tr>\n",
       "      <th>3</th>\n",
       "      <td>Place of Worship</td>\n",
       "      <td>Church</td>\n",
       "      <td>Scots Church</td>\n",
       "      <td>-37.8145687802664, 144.96855105335</td>\n",
       "    </tr>\n",
       "    <tr>\n",
       "      <th>4</th>\n",
       "      <td>Place of Worship</td>\n",
       "      <td>Church</td>\n",
       "      <td>St Michael's Uniting Church</td>\n",
       "      <td>-37.8143851324913, 144.969174036096</td>\n",
       "    </tr>\n",
       "  </tbody>\n",
       "</table>\n",
       "</div>"
      ],
      "text/plain": [
       "              theme sub_theme                 feature_name  \\\n",
       "0  Place of Worship    Church            St Francis Church   \n",
       "1  Place of Worship    Church              St James Church   \n",
       "2  Place of Worship    Church    St Mary's Anglican Church   \n",
       "3  Place of Worship    Church                 Scots Church   \n",
       "4  Place of Worship    Church  St Michael's Uniting Church   \n",
       "\n",
       "                          co_ordinates  \n",
       "0  -37.8118847831837, 144.962422614541  \n",
       "1  -37.8101281201969, 144.952468571683  \n",
       "2  -37.8031663672997, 144.953761537074  \n",
       "3   -37.8145687802664, 144.96855105335  \n",
       "4  -37.8143851324913, 144.969174036096  "
      ]
     },
     "execution_count": 253,
     "metadata": {},
     "output_type": "execute_result"
    }
   ],
   "source": [
    "print(places.shape)\n",
    "places.head()"
   ]
  },
  {
   "cell_type": "code",
   "execution_count": 255,
   "metadata": {},
   "outputs": [],
   "source": [
    "co_ord_list = places['co_ordinates'].str.split(\", \", expand=True)\n",
    "places.loc[:, 'latitude'] = pd.to_numeric(co_ord_list[0])\n",
    "places.loc[:, 'longitude'] = pd.to_numeric(co_ord_list[1])"
   ]
  },
  {
   "cell_type": "code",
   "execution_count": 256,
   "metadata": {},
   "outputs": [
    {
     "name": "stderr",
     "output_type": "stream",
     "text": [
      "/var/folders/vq/x79kmsys0093sdv6ft95m8k00000gn/T/ipykernel_56569/2915858193.py:1: SettingWithCopyWarning: \n",
      "A value is trying to be set on a copy of a slice from a DataFrame\n",
      "\n",
      "See the caveats in the documentation: https://pandas.pydata.org/pandas-docs/stable/user_guide/indexing.html#returning-a-view-versus-a-copy\n",
      "  places.drop(columns='co_ordinates',axis=1,inplace=True)\n"
     ]
    }
   ],
   "source": [
    "places.drop(columns='co_ordinates',axis=1,inplace=True)\n",
    "places.reset_index(drop=True, inplace=True)"
   ]
  },
  {
   "cell_type": "code",
   "execution_count": 257,
   "metadata": {},
   "outputs": [
    {
     "data": {
      "text/html": [
       "<div>\n",
       "<style scoped>\n",
       "    .dataframe tbody tr th:only-of-type {\n",
       "        vertical-align: middle;\n",
       "    }\n",
       "\n",
       "    .dataframe tbody tr th {\n",
       "        vertical-align: top;\n",
       "    }\n",
       "\n",
       "    .dataframe thead th {\n",
       "        text-align: right;\n",
       "    }\n",
       "</style>\n",
       "<table border=\"1\" class=\"dataframe\">\n",
       "  <thead>\n",
       "    <tr style=\"text-align: right;\">\n",
       "      <th></th>\n",
       "      <th>theme</th>\n",
       "      <th>sub_theme</th>\n",
       "      <th>feature_name</th>\n",
       "      <th>latitude</th>\n",
       "      <th>longitude</th>\n",
       "    </tr>\n",
       "  </thead>\n",
       "  <tbody>\n",
       "    <tr>\n",
       "      <th>0</th>\n",
       "      <td>place of worship</td>\n",
       "      <td>church</td>\n",
       "      <td>st francis church</td>\n",
       "      <td>-37.811885</td>\n",
       "      <td>144.962423</td>\n",
       "    </tr>\n",
       "    <tr>\n",
       "      <th>1</th>\n",
       "      <td>place of worship</td>\n",
       "      <td>church</td>\n",
       "      <td>st james church</td>\n",
       "      <td>-37.810128</td>\n",
       "      <td>144.952469</td>\n",
       "    </tr>\n",
       "    <tr>\n",
       "      <th>2</th>\n",
       "      <td>place of worship</td>\n",
       "      <td>church</td>\n",
       "      <td>st mary's anglican church</td>\n",
       "      <td>-37.803166</td>\n",
       "      <td>144.953762</td>\n",
       "    </tr>\n",
       "    <tr>\n",
       "      <th>3</th>\n",
       "      <td>place of worship</td>\n",
       "      <td>church</td>\n",
       "      <td>scots church</td>\n",
       "      <td>-37.814569</td>\n",
       "      <td>144.968551</td>\n",
       "    </tr>\n",
       "    <tr>\n",
       "      <th>4</th>\n",
       "      <td>place of worship</td>\n",
       "      <td>church</td>\n",
       "      <td>st michael's uniting church</td>\n",
       "      <td>-37.814385</td>\n",
       "      <td>144.969174</td>\n",
       "    </tr>\n",
       "  </tbody>\n",
       "</table>\n",
       "</div>"
      ],
      "text/plain": [
       "              theme sub_theme                 feature_name   latitude  \\\n",
       "0  place of worship    church            st francis church -37.811885   \n",
       "1  place of worship    church              st james church -37.810128   \n",
       "2  place of worship    church    st mary's anglican church -37.803166   \n",
       "3  place of worship    church                 scots church -37.814569   \n",
       "4  place of worship    church  st michael's uniting church -37.814385   \n",
       "\n",
       "    longitude  \n",
       "0  144.962423  \n",
       "1  144.952469  \n",
       "2  144.953762  \n",
       "3  144.968551  \n",
       "4  144.969174  "
      ]
     },
     "execution_count": 257,
     "metadata": {},
     "output_type": "execute_result"
    }
   ],
   "source": [
    "for i in places.columns[:-2]:\n",
    "    places.loc[:,i]=places[i].str.lower()\n",
    "places.head()"
   ]
  },
  {
   "cell_type": "code",
   "execution_count": 274,
   "metadata": {},
   "outputs": [],
   "source": [
    "corpus=places.loc[:,'theme']+\" \"+places.loc[:,'sub_theme']+\" \"+places.loc[:,'feature_name']\n",
    "places.loc[:,'corpus']=corpus"
   ]
  },
  {
   "cell_type": "code",
   "execution_count": 275,
   "metadata": {},
   "outputs": [],
   "source": [
    "pattern = r'[^a-zA-Z0-9\\s]'\n",
    "places.loc[:,'corpus'] = places['corpus'].str.replace(pattern, ' ', regex=True)\n",
    "# places.loc[:,'corpus']=places['corpus'].str.replace(r'\\s+', ' ', regex=True).str.strip()"
   ]
  },
  {
   "cell_type": "code",
   "execution_count": 278,
   "metadata": {},
   "outputs": [],
   "source": [
    "places.loc[:,'corpus_token']=places['corpus'].apply(word_tokenize)"
   ]
  },
  {
   "cell_type": "code",
   "execution_count": 280,
   "metadata": {},
   "outputs": [],
   "source": [
    "stop_words=stopwords.words('english')\n",
    "lst=[]\n",
    "for i in range(len(places['corpus_token'])):\n",
    "    st=\"\"\n",
    "    for j in places.loc[i,'corpus_token']:\n",
    "        if j not in stop_words:\n",
    "            st+=j+\" \"\n",
    "    \n",
    "    lst.append(st)"
   ]
  },
  {
   "cell_type": "code",
   "execution_count": 284,
   "metadata": {},
   "outputs": [
    {
     "data": {
      "text/html": [
       "<div>\n",
       "<style scoped>\n",
       "    .dataframe tbody tr th:only-of-type {\n",
       "        vertical-align: middle;\n",
       "    }\n",
       "\n",
       "    .dataframe tbody tr th {\n",
       "        vertical-align: top;\n",
       "    }\n",
       "\n",
       "    .dataframe thead th {\n",
       "        text-align: right;\n",
       "    }\n",
       "</style>\n",
       "<table border=\"1\" class=\"dataframe\">\n",
       "  <thead>\n",
       "    <tr style=\"text-align: right;\">\n",
       "      <th></th>\n",
       "      <th>theme</th>\n",
       "      <th>sub_theme</th>\n",
       "      <th>feature_name</th>\n",
       "      <th>latitude</th>\n",
       "      <th>longitude</th>\n",
       "      <th>corpus</th>\n",
       "      <th>corpus_token</th>\n",
       "      <th>corpus_clean</th>\n",
       "    </tr>\n",
       "  </thead>\n",
       "  <tbody>\n",
       "    <tr>\n",
       "      <th>0</th>\n",
       "      <td>place of worship</td>\n",
       "      <td>church</td>\n",
       "      <td>st francis church</td>\n",
       "      <td>-37.811885</td>\n",
       "      <td>144.962423</td>\n",
       "      <td>place of worship church st francis church</td>\n",
       "      <td>[place, of, worship, church, st, francis, church]</td>\n",
       "      <td>place worship church st francis church</td>\n",
       "    </tr>\n",
       "    <tr>\n",
       "      <th>1</th>\n",
       "      <td>place of worship</td>\n",
       "      <td>church</td>\n",
       "      <td>st james church</td>\n",
       "      <td>-37.810128</td>\n",
       "      <td>144.952469</td>\n",
       "      <td>place of worship church st james church</td>\n",
       "      <td>[place, of, worship, church, st, james, church]</td>\n",
       "      <td>place worship church st james church</td>\n",
       "    </tr>\n",
       "    <tr>\n",
       "      <th>2</th>\n",
       "      <td>place of worship</td>\n",
       "      <td>church</td>\n",
       "      <td>st mary's anglican church</td>\n",
       "      <td>-37.803166</td>\n",
       "      <td>144.953762</td>\n",
       "      <td>place of worship church st mary s anglican church</td>\n",
       "      <td>[place, of, worship, church, st, mary, s, angl...</td>\n",
       "      <td>place worship church st mary anglican church</td>\n",
       "    </tr>\n",
       "    <tr>\n",
       "      <th>3</th>\n",
       "      <td>place of worship</td>\n",
       "      <td>church</td>\n",
       "      <td>scots church</td>\n",
       "      <td>-37.814569</td>\n",
       "      <td>144.968551</td>\n",
       "      <td>place of worship church scots church</td>\n",
       "      <td>[place, of, worship, church, scots, church]</td>\n",
       "      <td>place worship church scots church</td>\n",
       "    </tr>\n",
       "    <tr>\n",
       "      <th>4</th>\n",
       "      <td>place of worship</td>\n",
       "      <td>church</td>\n",
       "      <td>st michael's uniting church</td>\n",
       "      <td>-37.814385</td>\n",
       "      <td>144.969174</td>\n",
       "      <td>place of worship church st michael s uniting c...</td>\n",
       "      <td>[place, of, worship, church, st, michael, s, u...</td>\n",
       "      <td>place worship church st michael uniting church</td>\n",
       "    </tr>\n",
       "    <tr>\n",
       "      <th>...</th>\n",
       "      <td>...</td>\n",
       "      <td>...</td>\n",
       "      <td>...</td>\n",
       "      <td>...</td>\n",
       "      <td>...</td>\n",
       "      <td>...</td>\n",
       "      <td>...</td>\n",
       "      <td>...</td>\n",
       "    </tr>\n",
       "    <tr>\n",
       "      <th>225</th>\n",
       "      <td>education centre</td>\n",
       "      <td>school - primary and secondary education</td>\n",
       "      <td>melbourne girls grammar school</td>\n",
       "      <td>-37.831536</td>\n",
       "      <td>144.985089</td>\n",
       "      <td>education centre school   primary and secondar...</td>\n",
       "      <td>[education, centre, school, primary, and, seco...</td>\n",
       "      <td>education centre school primary secondary educ...</td>\n",
       "    </tr>\n",
       "    <tr>\n",
       "      <th>226</th>\n",
       "      <td>retail</td>\n",
       "      <td>department store</td>\n",
       "      <td>myer</td>\n",
       "      <td>-37.813591</td>\n",
       "      <td>144.963855</td>\n",
       "      <td>retail department store myer</td>\n",
       "      <td>[retail, department, store, myer]</td>\n",
       "      <td>retail department store myer</td>\n",
       "    </tr>\n",
       "    <tr>\n",
       "      <th>227</th>\n",
       "      <td>retail</td>\n",
       "      <td>department store</td>\n",
       "      <td>david jones</td>\n",
       "      <td>-37.813313</td>\n",
       "      <td>144.964373</td>\n",
       "      <td>retail department store david jones</td>\n",
       "      <td>[retail, department, store, david, jones]</td>\n",
       "      <td>retail department store david jones</td>\n",
       "    </tr>\n",
       "    <tr>\n",
       "      <th>228</th>\n",
       "      <td>health services</td>\n",
       "      <td>medical services</td>\n",
       "      <td>mercy private hospital</td>\n",
       "      <td>-37.811897</td>\n",
       "      <td>144.984436</td>\n",
       "      <td>health services medical services mercy private...</td>\n",
       "      <td>[health, services, medical, services, mercy, p...</td>\n",
       "      <td>health services medical services mercy private...</td>\n",
       "    </tr>\n",
       "    <tr>\n",
       "      <th>229</th>\n",
       "      <td>mixed use</td>\n",
       "      <td>retail/office/carpark</td>\n",
       "      <td>anz 'gothic' bank</td>\n",
       "      <td>-37.816158</td>\n",
       "      <td>144.961674</td>\n",
       "      <td>mixed use retail office carpark anz  gothic  bank</td>\n",
       "      <td>[mixed, use, retail, office, carpark, anz, got...</td>\n",
       "      <td>mixed use retail office carpark anz gothic bank</td>\n",
       "    </tr>\n",
       "  </tbody>\n",
       "</table>\n",
       "<p>230 rows × 8 columns</p>\n",
       "</div>"
      ],
      "text/plain": [
       "                theme                                 sub_theme  \\\n",
       "0    place of worship                                    church   \n",
       "1    place of worship                                    church   \n",
       "2    place of worship                                    church   \n",
       "3    place of worship                                    church   \n",
       "4    place of worship                                    church   \n",
       "..                ...                                       ...   \n",
       "225  education centre  school - primary and secondary education   \n",
       "226            retail                          department store   \n",
       "227            retail                          department store   \n",
       "228   health services                          medical services   \n",
       "229         mixed use                     retail/office/carpark   \n",
       "\n",
       "                       feature_name   latitude   longitude  \\\n",
       "0                 st francis church -37.811885  144.962423   \n",
       "1                   st james church -37.810128  144.952469   \n",
       "2         st mary's anglican church -37.803166  144.953762   \n",
       "3                      scots church -37.814569  144.968551   \n",
       "4       st michael's uniting church -37.814385  144.969174   \n",
       "..                              ...        ...         ...   \n",
       "225  melbourne girls grammar school -37.831536  144.985089   \n",
       "226                            myer -37.813591  144.963855   \n",
       "227                     david jones -37.813313  144.964373   \n",
       "228          mercy private hospital -37.811897  144.984436   \n",
       "229               anz 'gothic' bank -37.816158  144.961674   \n",
       "\n",
       "                                                corpus  \\\n",
       "0            place of worship church st francis church   \n",
       "1              place of worship church st james church   \n",
       "2    place of worship church st mary s anglican church   \n",
       "3                 place of worship church scots church   \n",
       "4    place of worship church st michael s uniting c...   \n",
       "..                                                 ...   \n",
       "225  education centre school   primary and secondar...   \n",
       "226                       retail department store myer   \n",
       "227                retail department store david jones   \n",
       "228  health services medical services mercy private...   \n",
       "229  mixed use retail office carpark anz  gothic  bank   \n",
       "\n",
       "                                          corpus_token  \\\n",
       "0    [place, of, worship, church, st, francis, church]   \n",
       "1      [place, of, worship, church, st, james, church]   \n",
       "2    [place, of, worship, church, st, mary, s, angl...   \n",
       "3          [place, of, worship, church, scots, church]   \n",
       "4    [place, of, worship, church, st, michael, s, u...   \n",
       "..                                                 ...   \n",
       "225  [education, centre, school, primary, and, seco...   \n",
       "226                  [retail, department, store, myer]   \n",
       "227          [retail, department, store, david, jones]   \n",
       "228  [health, services, medical, services, mercy, p...   \n",
       "229  [mixed, use, retail, office, carpark, anz, got...   \n",
       "\n",
       "                                          corpus_clean  \n",
       "0              place worship church st francis church   \n",
       "1                place worship church st james church   \n",
       "2        place worship church st mary anglican church   \n",
       "3                   place worship church scots church   \n",
       "4      place worship church st michael uniting church   \n",
       "..                                                 ...  \n",
       "225  education centre school primary secondary educ...  \n",
       "226                      retail department store myer   \n",
       "227               retail department store david jones   \n",
       "228  health services medical services mercy private...  \n",
       "229   mixed use retail office carpark anz gothic bank   \n",
       "\n",
       "[230 rows x 8 columns]"
      ]
     },
     "execution_count": 284,
     "metadata": {},
     "output_type": "execute_result"
    }
   ],
   "source": [
    "places.loc[:,'corpus_clean']=lst\n",
    "places"
   ]
  },
  {
   "cell_type": "code",
   "execution_count": null,
   "metadata": {},
   "outputs": [],
   "source": []
  },
  {
   "cell_type": "code",
   "execution_count": null,
   "metadata": {},
   "outputs": [],
   "source": []
  },
  {
   "cell_type": "code",
   "execution_count": null,
   "metadata": {},
   "outputs": [],
   "source": []
  },
  {
   "cell_type": "code",
   "execution_count": null,
   "metadata": {},
   "outputs": [],
   "source": []
  },
  {
   "cell_type": "code",
   "execution_count": null,
   "metadata": {},
   "outputs": [],
   "source": []
  },
  {
   "cell_type": "markdown",
   "metadata": {},
   "source": [
    "==============================================================================================================="
   ]
  },
  {
   "cell_type": "code",
   "execution_count": 30,
   "metadata": {},
   "outputs": [
    {
     "data": {
      "text/html": [
       "<div>\n",
       "<style scoped>\n",
       "    .dataframe tbody tr th:only-of-type {\n",
       "        vertical-align: middle;\n",
       "    }\n",
       "\n",
       "    .dataframe tbody tr th {\n",
       "        vertical-align: top;\n",
       "    }\n",
       "\n",
       "    .dataframe thead th {\n",
       "        text-align: right;\n",
       "    }\n",
       "</style>\n",
       "<table border=\"1\" class=\"dataframe\">\n",
       "  <thead>\n",
       "    <tr style=\"text-align: right;\">\n",
       "      <th></th>\n",
       "      <th>roadsegmentid</th>\n",
       "      <th>roadsegmentdescription</th>\n",
       "      <th>latitude</th>\n",
       "      <th>longitude</th>\n",
       "      <th>lastupdated</th>\n",
       "    </tr>\n",
       "  </thead>\n",
       "  <tbody>\n",
       "    <tr>\n",
       "      <th>0</th>\n",
       "      <td>22730</td>\n",
       "      <td>Park Street between Mason Street and Randall P...</td>\n",
       "      <td>-37.836245</td>\n",
       "      <td>144.982021</td>\n",
       "      <td>2022-08-31</td>\n",
       "    </tr>\n",
       "    <tr>\n",
       "      <th>1</th>\n",
       "      <td>22730</td>\n",
       "      <td>Park Street between Mason Street and Randall P...</td>\n",
       "      <td>-37.835800</td>\n",
       "      <td>144.982115</td>\n",
       "      <td>2022-08-31</td>\n",
       "    </tr>\n",
       "    <tr>\n",
       "      <th>2</th>\n",
       "      <td>20013</td>\n",
       "      <td>Lonsdale Street between William Street and Kin...</td>\n",
       "      <td>-37.814238</td>\n",
       "      <td>144.955451</td>\n",
       "      <td>2023-10-02</td>\n",
       "    </tr>\n",
       "    <tr>\n",
       "      <th>3</th>\n",
       "      <td>20013</td>\n",
       "      <td>Lonsdale Street between William Street and Kin...</td>\n",
       "      <td>-37.814271</td>\n",
       "      <td>144.955334</td>\n",
       "      <td>2023-10-02</td>\n",
       "    </tr>\n",
       "    <tr>\n",
       "      <th>4</th>\n",
       "      <td>22268</td>\n",
       "      <td>Clowes Street between Anderson Street and Wals...</td>\n",
       "      <td>-37.830568</td>\n",
       "      <td>144.984713</td>\n",
       "      <td>2022-08-31</td>\n",
       "    </tr>\n",
       "    <tr>\n",
       "      <th>...</th>\n",
       "      <td>...</td>\n",
       "      <td>...</td>\n",
       "      <td>...</td>\n",
       "      <td>...</td>\n",
       "      <td>...</td>\n",
       "    </tr>\n",
       "    <tr>\n",
       "      <th>19157</th>\n",
       "      <td>22492</td>\n",
       "      <td>Alexandra Avenue between Swan Street Bridge an...</td>\n",
       "      <td>-37.827226</td>\n",
       "      <td>144.980441</td>\n",
       "      <td>2022-08-31</td>\n",
       "    </tr>\n",
       "    <tr>\n",
       "      <th>19158</th>\n",
       "      <td>22492</td>\n",
       "      <td>Alexandra Avenue between Swan Street Bridge an...</td>\n",
       "      <td>-37.827380</td>\n",
       "      <td>144.981004</td>\n",
       "      <td>2022-08-31</td>\n",
       "    </tr>\n",
       "    <tr>\n",
       "      <th>19159</th>\n",
       "      <td>22492</td>\n",
       "      <td>Alexandra Avenue between Swan Street Bridge an...</td>\n",
       "      <td>-37.826361</td>\n",
       "      <td>144.979266</td>\n",
       "      <td>2022-08-31</td>\n",
       "    </tr>\n",
       "    <tr>\n",
       "      <th>19160</th>\n",
       "      <td>22492</td>\n",
       "      <td>Alexandra Avenue between Swan Street Bridge an...</td>\n",
       "      <td>-37.826780</td>\n",
       "      <td>144.979662</td>\n",
       "      <td>2022-08-31</td>\n",
       "    </tr>\n",
       "    <tr>\n",
       "      <th>19161</th>\n",
       "      <td>22492</td>\n",
       "      <td>Alexandra Avenue between Swan Street Bridge an...</td>\n",
       "      <td>-37.825850</td>\n",
       "      <td>144.978719</td>\n",
       "      <td>2022-08-31</td>\n",
       "    </tr>\n",
       "  </tbody>\n",
       "</table>\n",
       "<p>19162 rows × 5 columns</p>\n",
       "</div>"
      ],
      "text/plain": [
       "       roadsegmentid                             roadsegmentdescription  \\\n",
       "0              22730  Park Street between Mason Street and Randall P...   \n",
       "1              22730  Park Street between Mason Street and Randall P...   \n",
       "2              20013  Lonsdale Street between William Street and Kin...   \n",
       "3              20013  Lonsdale Street between William Street and Kin...   \n",
       "4              22268  Clowes Street between Anderson Street and Wals...   \n",
       "...              ...                                                ...   \n",
       "19157          22492  Alexandra Avenue between Swan Street Bridge an...   \n",
       "19158          22492  Alexandra Avenue between Swan Street Bridge an...   \n",
       "19159          22492  Alexandra Avenue between Swan Street Bridge an...   \n",
       "19160          22492  Alexandra Avenue between Swan Street Bridge an...   \n",
       "19161          22492  Alexandra Avenue between Swan Street Bridge an...   \n",
       "\n",
       "        latitude   longitude lastupdated  \n",
       "0     -37.836245  144.982021  2022-08-31  \n",
       "1     -37.835800  144.982115  2022-08-31  \n",
       "2     -37.814238  144.955451  2023-10-02  \n",
       "3     -37.814271  144.955334  2023-10-02  \n",
       "4     -37.830568  144.984713  2022-08-31  \n",
       "...          ...         ...         ...  \n",
       "19157 -37.827226  144.980441  2022-08-31  \n",
       "19158 -37.827380  144.981004  2022-08-31  \n",
       "19159 -37.826361  144.979266  2022-08-31  \n",
       "19160 -37.826780  144.979662  2022-08-31  \n",
       "19161 -37.825850  144.978719  2022-08-31  \n",
       "\n",
       "[19162 rows x 5 columns]"
      ]
     },
     "execution_count": 30,
     "metadata": {},
     "output_type": "execute_result"
    }
   ],
   "source": [
    "parking_bays"
   ]
  },
  {
   "cell_type": "code",
   "execution_count": 26,
   "metadata": {},
   "outputs": [
    {
     "data": {
      "text/plain": [
       "(19162, 5)"
      ]
     },
     "execution_count": 26,
     "metadata": {},
     "output_type": "execute_result"
    }
   ],
   "source": [
    "parking_bays.shape"
   ]
  },
  {
   "cell_type": "code",
   "execution_count": 22,
   "metadata": {},
   "outputs": [
    {
     "data": {
      "text/plain": [
       "roadsegmentid                 0\n",
       "kerbsideid                14149\n",
       "roadsegmentdescription        0\n",
       "latitude                      0\n",
       "longitude                     0\n",
       "lastupdated                   0\n",
       "dtype: int64"
      ]
     },
     "execution_count": 22,
     "metadata": {},
     "output_type": "execute_result"
    }
   ],
   "source": [
    "parking_bays.isna().sum()"
   ]
  },
  {
   "cell_type": "code",
   "execution_count": 25,
   "metadata": {},
   "outputs": [
    {
     "data": {
      "text/plain": [
       "roadsegmentid             0\n",
       "roadsegmentdescription    0\n",
       "latitude                  0\n",
       "longitude                 0\n",
       "lastupdated               0\n",
       "dtype: int64"
      ]
     },
     "execution_count": 25,
     "metadata": {},
     "output_type": "execute_result"
    }
   ],
   "source": [
    "parking_bays.drop(columns='kerbsideid',inplace=True)\n",
    "parking_bays.isna().sum()"
   ]
  },
  {
   "cell_type": "code",
   "execution_count": null,
   "metadata": {},
   "outputs": [],
   "source": []
  }
 ],
 "metadata": {
  "kernelspec": {
   "display_name": "Python 3 (ipykernel)",
   "language": "python",
   "name": "python3"
  },
  "language_info": {
   "codemirror_mode": {
    "name": "ipython",
    "version": 3
   },
   "file_extension": ".py",
   "mimetype": "text/x-python",
   "name": "python",
   "nbconvert_exporter": "python",
   "pygments_lexer": "ipython3",
   "version": "3.8.18"
  },
  "vscode": {
   "interpreter": {
    "hash": "369f2c481f4da34e4445cda3fffd2e751bd1c4d706f27375911949ba6bb62e1c"
   }
  }
 },
 "nbformat": 4,
 "nbformat_minor": 4
}
