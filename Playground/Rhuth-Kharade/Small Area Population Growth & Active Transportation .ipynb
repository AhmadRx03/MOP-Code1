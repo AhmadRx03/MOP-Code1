{
 "cells": [
  {
   "cell_type": "markdown",
   "metadata": {},
   "source": [
    "_**DELETE BEFORE PUBLISHING**_\n",
    "\n",
    "_This is a template also containing the style guide for use cases. The styling uses the use-case css when uploaded to the website, which will not be visible on your local machine._\n",
    "\n",
    "_Change any text marked with {} and delete any cells marked DELETE_\n",
    "\n",
    "***"
   ]
  },
  {
   "cell_type": "code",
   "execution_count": 8,
   "metadata": {},
   "outputs": [
    {
     "data": {
      "text/html": [
       "\n",
       "<style>\n",
       ".usecase-title, .usecase-duration, .usecase-section-header {\n",
       "    padding-left: 15px;\n",
       "    padding-bottom: 10px;\n",
       "    padding-top: 10px;\n",
       "    padding-right: 15px;\n",
       "    background-color: #0f9295;\n",
       "    color: #fff;\n",
       "}\n",
       "\n",
       ".usecase-title {\n",
       "    font-size: 1.7em;\n",
       "    font-weight: bold;\n",
       "}\n",
       "\n",
       ".usecase-authors, .usecase-level, .usecase-skill {\n",
       "    padding-left: 15px;\n",
       "    padding-bottom: 7px;\n",
       "    padding-top: 7px;\n",
       "    background-color: #baeaeb;\n",
       "    font-size: 1.4em;\n",
       "    color: #121212;\n",
       "}\n",
       "\n",
       ".usecase-level-skill  {\n",
       "    display: flex;\n",
       "}\n",
       "\n",
       ".usecase-level, .usecase-skill {\n",
       "    width: 50%;\n",
       "}\n",
       "\n",
       ".usecase-duration, .usecase-skill {\n",
       "    text-align: right;\n",
       "    padding-right: 15px;\n",
       "    padding-bottom: 8px;\n",
       "    font-size: 1.4em;\n",
       "}\n",
       "\n",
       ".usecase-section-header {\n",
       "    font-weight: bold;\n",
       "    font-size: 1.5em;\n",
       "}\n",
       "\n",
       ".usecase-subsection-header, .usecase-subsection-blurb {\n",
       "    font-weight: bold;\n",
       "    font-size: 1.2em;\n",
       "    color: #121212;\n",
       "}\n",
       "\n",
       ".usecase-subsection-blurb {\n",
       "    font-size: 1em;\n",
       "    font-style: italic;\n",
       "}\n",
       "</style>\n"
      ],
      "text/plain": [
       "<IPython.core.display.HTML object>"
      ]
     },
     "execution_count": 8,
     "metadata": {},
     "output_type": "execute_result"
    }
   ],
   "source": [
    "# DELETE BEFORE PUBLISHING\n",
    "# This is just here so you can preview the styling on your local machine\n",
    "\n",
    "from IPython.core.display import HTML\n",
    "HTML(\"\"\"\n",
    "<style>\n",
    ".usecase-title, .usecase-duration, .usecase-section-header {\n",
    "    padding-left: 15px;\n",
    "    padding-bottom: 10px;\n",
    "    padding-top: 10px;\n",
    "    padding-right: 15px;\n",
    "    background-color: #0f9295;\n",
    "    color: #fff;\n",
    "}\n",
    "\n",
    ".usecase-title {\n",
    "    font-size: 1.7em;\n",
    "    font-weight: bold;\n",
    "}\n",
    "\n",
    ".usecase-authors, .usecase-level, .usecase-skill {\n",
    "    padding-left: 15px;\n",
    "    padding-bottom: 7px;\n",
    "    padding-top: 7px;\n",
    "    background-color: #baeaeb;\n",
    "    font-size: 1.4em;\n",
    "    color: #121212;\n",
    "}\n",
    "\n",
    ".usecase-level-skill  {\n",
    "    display: flex;\n",
    "}\n",
    "\n",
    ".usecase-level, .usecase-skill {\n",
    "    width: 50%;\n",
    "}\n",
    "\n",
    ".usecase-duration, .usecase-skill {\n",
    "    text-align: right;\n",
    "    padding-right: 15px;\n",
    "    padding-bottom: 8px;\n",
    "    font-size: 1.4em;\n",
    "}\n",
    "\n",
    ".usecase-section-header {\n",
    "    font-weight: bold;\n",
    "    font-size: 1.5em;\n",
    "}\n",
    "\n",
    ".usecase-subsection-header, .usecase-subsection-blurb {\n",
    "    font-weight: bold;\n",
    "    font-size: 1.2em;\n",
    "    color: #121212;\n",
    "}\n",
    "\n",
    ".usecase-subsection-blurb {\n",
    "    font-size: 1em;\n",
    "    font-style: italic;\n",
    "}\n",
    "</style>\n",
    "\"\"\")"
   ]
  },
  {
   "cell_type": "markdown",
   "metadata": {},
   "source": [
    "<div class=\"usecase-title\">Population Growth & Active Transportation Needs Analysis</div>\n",
    "\n",
    "<div class=\"usecase-authors\"><b>Authored by: </b> Rhutuvaruni Kharade</div>"
   ]
  },
  {
   "cell_type": "markdown",
   "metadata": {},
   "source": [
    "<div class=\"usecase-duration\"><b>Duration:</b> {90} mins</div>\n",
    "\n",
    "<div class=\"usecase-level-skill\">\n",
    "    <div class=\"usecase-level\"><b>Level: </b>{Intermediate}</div>\n",
    "    <div class=\"usecase-skill\"><b>Pre-requisite Skills: </b>{Python, and add any more skills needed}</div>\n",
    "</div>"
   ]
  },
  {
   "cell_type": "markdown",
   "metadata": {},
   "source": [
    "<div class=\"usecase-section-header\">Scenario</div>"
   ]
  },
  {
   "cell_type": "markdown",
   "metadata": {},
   "source": [
    "{Using User Story format, write a description of the problem you are trying to solve for this use case.}"
   ]
  },
  {
   "cell_type": "markdown",
   "metadata": {},
   "source": [
    "<div class=\"usecase-section-header\">What this use case will teach you</div>"
   ]
  },
  {
   "cell_type": "markdown",
   "metadata": {},
   "source": [
    "At the end of this use case you will:\n",
    "- {list the skills demonstrated in your use case}"
   ]
  },
  {
   "cell_type": "markdown",
   "metadata": {},
   "source": [
    "<div class=\"usecase-section-header\">{Heading for introduction or background relating to problem}</div>"
   ]
  },
  {
   "cell_type": "markdown",
   "metadata": {},
   "source": [
    "{Write your introduction here. Keep it concise. We're not after \"War and Peace\" but enough background information to inform the reader on the rationale for solving this problem or background non-technical information that helps explain the approach. You may also wish to give information on the datasets, particularly how to source those not being imported from the client's open data portal.}\n",
    "\n"
   ]
  },
  {
   "cell_type": "markdown",
   "metadata": {},
   "source": [
    "***\n",
    "\n",
    "_**DELETE BEFORE PUBLISHING**_\n",
    "\n",
    "## Style guide for use cases\n",
    "\n",
    "### Headers\n",
    "\n",
    "For styling within your markdown cells, there are two choices you can use for headers.\n",
    "\n",
    "1) You can use HTML classes specific to the use case styling:\n",
    "\n",
    "```<p class=\"usecase-subsection-header\">This is a subsection header.</p>```\n",
    "\n",
    "<p style=\"font-weight: bold; font-size: 1.2em;\">This is a subsection header.</p>\n",
    "\n",
    "```<p class=\"usecase-subsection-blurb\">This is a blurb header.</p>```\n",
    "\n",
    "<p style=\"font-weight: bold; font-size: 1em; font-style:italic;\">This is a blurb header.</p>\n",
    "\n",
    "\n",
    "2) Or if you like you can use the markdown header styles:\n",
    "\n",
    "```# for h1```\n",
    "\n",
    "```## for h2```\n",
    "\n",
    "```### for h3```\n",
    "\n",
    "```#### for h4```\n",
    "\n",
    "```##### for h5```\n",
    "\n",
    "## Plot colour schemes\n",
    "\n",
    "General advice:\n",
    "1. Use the same colour or colour palette throughout your notebook, unless variety is necessary\n",
    "2. Select a palette based on the type of data being represented\n",
    "3. Consider accessibility (colourblindness, low vision)\n",
    "\n",
    "#### 1) If all of your plots only use 1-2 colors use one of the company style colors:\n",
    "\n",
    "| Light theme | Dark Theme |\n",
    "|-----|-----|\n",
    "|<p style=\"color:#2af598;\">#2af598</p>|<p style=\"color:#08af64;\">#08af64</p>|\n",
    "|<p style=\"color:#22e4ac;\">#22e4ac</p>|<p style=\"color:#14a38e;\">#14a38e</p>|\n",
    "|<p style=\"color:#1bd7bb;\">#1bd7bb</p>|<p style=\"color:#0f9295;\">#0f9295</p>|\n",
    "|<p style=\"color:#14c9cb;\">#14c9cb</p>|<p style=\"color:#056b8a;\">#056b8a</p>|\n",
    "|<p style=\"color:#0fbed8;\">#0fbed8</p>|<p style=\"color:#121212;\">#121212</p>|\n",
    "|<p style=\"color:#08b3e5;\">#08b3e5</p>||\n",
    "\n",
    "\n",
    "#### 2) If your plot needs multiple colors, choose an appropriate palette using either of the following tutorials:\n",
    "- https://seaborn.pydata.org/tutorial/color_palettes.html\n",
    "- https://matplotlib.org/stable/tutorials/colors/colormaps.html\n",
    "\n",
    "#### 3) Consider accessibility as well.\n",
    "\n",
    "For qualitative plotting Seaborn's 'colorblind' palette is recommended. For maps with sequential or diverging it is recommended to use one of the Color Brewer schemes which can be previewed at https://colorbrewer2.org/.\n",
    "\n",
    "If you want to design your own colour scheme, it should use the same principles as Cynthia Brewer's research (with variation not only in hue but also, saturation or luminance).\n",
    "\n",
    "### References\n",
    "\n",
    "Be sure to acknowledge your sources and any attributions using links or a reference list.\n",
    "\n",
    "If you have quite a few references, you might wish to have a dedicated section for references at the end of your document, linked using footnote style numbers.\n",
    "\n",
    "You can connect your in-text reference by adding the number with a HTML link: ```<a href=\"#fn-1\">[1]</a>```\n",
    "\n",
    "and add a matching ID in the reference list using the ```<fn>``` tag: ```<fn id=\"fn-1\">[1] Author (Year) _Title_, Publisher, Publication location.</fn>```"
   ]
  },
  {
   "cell_type": "markdown",
   "metadata": {},
   "source": [
    "print(\"Hello world \")"
   ]
  },
  {
   "cell_type": "markdown",
   "metadata": {},
   "source": [
    "<h3>Adding datasets</h3>"
   ]
  },
  {
   "cell_type": "code",
   "execution_count": 4,
   "metadata": {},
   "outputs": [],
   "source": [
    "import requests\n",
    "import pandas as pd \n",
    "from io import StringIO\n",
    "\n",
    "# function to collect data \n",
    "def collect_data(dataset_id):\n",
    "    base_url = 'https://data.melbourne.vic.gov.au/api/explore/v2.1/catalog/datasets/'\n",
    "    dataset_id  = dataset_id\n",
    "    format='csv'\n",
    "\n",
    "    url = f'{base_url}{dataset_id}/exports/{format}'\n",
    "    params = {\n",
    "        'select': '*', \n",
    "        'limit' : -1, \n",
    "        'lang' : 'en', \n",
    "        'timezone' : 'UTC' \n",
    "    }\n",
    "\n",
    "    response = requests.get(url,params=params)\n",
    "\n",
    "    if response.status_code ==200:\n",
    "        url_content = response.content.decode('utf-8')\n",
    "        dataset = pd.read_csv(StringIO(url_content), delimiter=';')\n",
    "        return dataset\n",
    "    else:\n",
    "        print(f\"Request failed with status code: {response.status_code}\")\n"
   ]
  },
  {
   "cell_type": "code",
   "execution_count": 30,
   "metadata": {},
   "outputs": [
    {
     "name": "stdout",
     "output_type": "stream",
     "text": [
      "17052\n"
     ]
    },
    {
     "data": {
      "text/html": [
       "<div>\n",
       "<style scoped>\n",
       "    .dataframe tbody tr th:only-of-type {\n",
       "        vertical-align: middle;\n",
       "    }\n",
       "\n",
       "    .dataframe tbody tr th {\n",
       "        vertical-align: top;\n",
       "    }\n",
       "\n",
       "    .dataframe thead th {\n",
       "        text-align: right;\n",
       "    }\n",
       "</style>\n",
       "<table border=\"1\" class=\"dataframe\">\n",
       "  <thead>\n",
       "    <tr style=\"text-align: right;\">\n",
       "      <th></th>\n",
       "      <th>geography</th>\n",
       "      <th>year</th>\n",
       "      <th>gender</th>\n",
       "      <th>age</th>\n",
       "      <th>value</th>\n",
       "    </tr>\n",
       "  </thead>\n",
       "  <tbody>\n",
       "    <tr>\n",
       "      <th>0</th>\n",
       "      <td>City of Melbourne</td>\n",
       "      <td>2022</td>\n",
       "      <td>Female</td>\n",
       "      <td>Age 0-4</td>\n",
       "      <td>2212.0</td>\n",
       "    </tr>\n",
       "    <tr>\n",
       "      <th>1</th>\n",
       "      <td>City of Melbourne</td>\n",
       "      <td>2024</td>\n",
       "      <td>Female</td>\n",
       "      <td>Age 0-4</td>\n",
       "      <td>2818.0</td>\n",
       "    </tr>\n",
       "    <tr>\n",
       "      <th>2</th>\n",
       "      <td>City of Melbourne</td>\n",
       "      <td>2029</td>\n",
       "      <td>Female</td>\n",
       "      <td>Age 0-4</td>\n",
       "      <td>4310.0</td>\n",
       "    </tr>\n",
       "    <tr>\n",
       "      <th>3</th>\n",
       "      <td>City of Melbourne</td>\n",
       "      <td>2031</td>\n",
       "      <td>Female</td>\n",
       "      <td>Age 0-4</td>\n",
       "      <td>4736.0</td>\n",
       "    </tr>\n",
       "    <tr>\n",
       "      <th>4</th>\n",
       "      <td>City of Melbourne</td>\n",
       "      <td>2032</td>\n",
       "      <td>Female</td>\n",
       "      <td>Age 0-4</td>\n",
       "      <td>4931.0</td>\n",
       "    </tr>\n",
       "  </tbody>\n",
       "</table>\n",
       "</div>"
      ],
      "text/plain": [
       "           geography  year  gender      age   value\n",
       "0  City of Melbourne  2022  Female  Age 0-4  2212.0\n",
       "1  City of Melbourne  2024  Female  Age 0-4  2818.0\n",
       "2  City of Melbourne  2029  Female  Age 0-4  4310.0\n",
       "3  City of Melbourne  2031  Female  Age 0-4  4736.0\n",
       "4  City of Melbourne  2032  Female  Age 0-4  4931.0"
      ]
     },
     "execution_count": 30,
     "metadata": {},
     "output_type": "execute_result"
    }
   ],
   "source": [
    "# population dataset \n",
    "dataset_id = 'city-of-melbourne-population-forecasts-by-small-area-2020-2040'\n",
    "pop = collect_data(dataset_id)\n",
    "print(len(pop))\n",
    "pop.head()\n"
   ]
  },
  {
   "cell_type": "code",
   "execution_count": 19,
   "metadata": {},
   "outputs": [
    {
     "name": "stdout",
     "output_type": "stream",
     "text": [
      "28\n"
     ]
    },
    {
     "data": {
      "text/html": [
       "<div>\n",
       "<style scoped>\n",
       "    .dataframe tbody tr th:only-of-type {\n",
       "        vertical-align: middle;\n",
       "    }\n",
       "\n",
       "    .dataframe tbody tr th {\n",
       "        vertical-align: top;\n",
       "    }\n",
       "\n",
       "    .dataframe thead th {\n",
       "        text-align: right;\n",
       "    }\n",
       "</style>\n",
       "<table border=\"1\" class=\"dataframe\">\n",
       "  <thead>\n",
       "    <tr style=\"text-align: right;\">\n",
       "      <th></th>\n",
       "      <th>geo_point_2d</th>\n",
       "      <th>geo_shape</th>\n",
       "      <th>name</th>\n",
       "      <th>xorg</th>\n",
       "      <th>stop_no</th>\n",
       "      <th>mccid_str</th>\n",
       "      <th>xsource</th>\n",
       "      <th>xdate</th>\n",
       "      <th>mccid_int</th>\n",
       "    </tr>\n",
       "  </thead>\n",
       "  <tbody>\n",
       "    <tr>\n",
       "      <th>0</th>\n",
       "      <td>-37.81922319307822, 144.9614014008424</td>\n",
       "      <td>{\"coordinates\": [144.9614014008424, -37.819223...</td>\n",
       "      <td>Market Street / Flinders Street</td>\n",
       "      <td>GIS Team</td>\n",
       "      <td>3</td>\n",
       "      <td>NaN</td>\n",
       "      <td>Mapbase</td>\n",
       "      <td>2011-10-18</td>\n",
       "      <td>3</td>\n",
       "    </tr>\n",
       "    <tr>\n",
       "      <th>1</th>\n",
       "      <td>-37.821539117626855, 144.95356912978238</td>\n",
       "      <td>{\"coordinates\": [144.95356912978238, -37.82153...</td>\n",
       "      <td>Victoria Police Centre / Flinders Street</td>\n",
       "      <td>GIS Team</td>\n",
       "      <td>D6</td>\n",
       "      <td>NaN</td>\n",
       "      <td>Mapbase</td>\n",
       "      <td>2011-10-18</td>\n",
       "      <td>6</td>\n",
       "    </tr>\n",
       "    <tr>\n",
       "      <th>2</th>\n",
       "      <td>-37.815426586135686, 144.94512063442602</td>\n",
       "      <td>{\"coordinates\": [144.94512063442602, -37.81542...</td>\n",
       "      <td>Central Pier / Harbour Esplanade</td>\n",
       "      <td>GIS Team</td>\n",
       "      <td>D2</td>\n",
       "      <td>NaN</td>\n",
       "      <td>Mapbase</td>\n",
       "      <td>2011-10-18</td>\n",
       "      <td>10</td>\n",
       "    </tr>\n",
       "  </tbody>\n",
       "</table>\n",
       "</div>"
      ],
      "text/plain": [
       "                              geo_point_2d  \\\n",
       "0    -37.81922319307822, 144.9614014008424   \n",
       "1  -37.821539117626855, 144.95356912978238   \n",
       "2  -37.815426586135686, 144.94512063442602   \n",
       "\n",
       "                                           geo_shape  \\\n",
       "0  {\"coordinates\": [144.9614014008424, -37.819223...   \n",
       "1  {\"coordinates\": [144.95356912978238, -37.82153...   \n",
       "2  {\"coordinates\": [144.94512063442602, -37.81542...   \n",
       "\n",
       "                                       name      xorg stop_no  mccid_str  \\\n",
       "0           Market Street / Flinders Street  GIS Team       3        NaN   \n",
       "1  Victoria Police Centre / Flinders Street  GIS Team      D6        NaN   \n",
       "2          Central Pier / Harbour Esplanade  GIS Team      D2        NaN   \n",
       "\n",
       "   xsource       xdate  mccid_int  \n",
       "0  Mapbase  2011-10-18          3  \n",
       "1  Mapbase  2011-10-18          6  \n",
       "2  Mapbase  2011-10-18         10  "
      ]
     },
     "execution_count": 19,
     "metadata": {},
     "output_type": "execute_result"
    }
   ],
   "source": [
    "# tram stop dataset \n",
    "dataset_id = 'city-circle-tram-stops'\n",
    "tram = collect_data(dataset_id)\n",
    "print(len(tram))\n",
    "tram.head(3)"
   ]
  },
  {
   "cell_type": "code",
   "execution_count": 20,
   "metadata": {},
   "outputs": [
    {
     "name": "stdout",
     "output_type": "stream",
     "text": [
      "309\n"
     ]
    },
    {
     "data": {
      "text/html": [
       "<div>\n",
       "<style scoped>\n",
       "    .dataframe tbody tr th:only-of-type {\n",
       "        vertical-align: middle;\n",
       "    }\n",
       "\n",
       "    .dataframe tbody tr th {\n",
       "        vertical-align: top;\n",
       "    }\n",
       "\n",
       "    .dataframe thead th {\n",
       "        text-align: right;\n",
       "    }\n",
       "</style>\n",
       "<table border=\"1\" class=\"dataframe\">\n",
       "  <thead>\n",
       "    <tr style=\"text-align: right;\">\n",
       "      <th></th>\n",
       "      <th>geo_point_2d</th>\n",
       "      <th>geo_shape</th>\n",
       "      <th>prop_id</th>\n",
       "      <th>addresspt1</th>\n",
       "      <th>addressp_1</th>\n",
       "      <th>asset_clas</th>\n",
       "      <th>asset_type</th>\n",
       "      <th>objectid</th>\n",
       "      <th>str_id</th>\n",
       "      <th>addresspt</th>\n",
       "      <th>asset_subt</th>\n",
       "      <th>model_desc</th>\n",
       "      <th>mcc_id</th>\n",
       "      <th>roadseg_id</th>\n",
       "      <th>descriptio</th>\n",
       "      <th>model_no</th>\n",
       "    </tr>\n",
       "  </thead>\n",
       "  <tbody>\n",
       "    <tr>\n",
       "      <th>0</th>\n",
       "      <td>-37.80384165792465, 144.93239283833262</td>\n",
       "      <td>{\"coordinates\": [144.93239283833262, -37.80384...</td>\n",
       "      <td>0</td>\n",
       "      <td>76.819824</td>\n",
       "      <td>357</td>\n",
       "      <td>Signage</td>\n",
       "      <td>Sign - Public Transport</td>\n",
       "      <td>355</td>\n",
       "      <td>1235255</td>\n",
       "      <td>570648</td>\n",
       "      <td>NaN</td>\n",
       "      <td>Sign - Public Transport 1 Panel</td>\n",
       "      <td>1235255</td>\n",
       "      <td>21673</td>\n",
       "      <td>Sign - Public Transport 1 Panel Bus Stop Type 13</td>\n",
       "      <td>P.16</td>\n",
       "    </tr>\n",
       "    <tr>\n",
       "      <th>1</th>\n",
       "      <td>-37.81548699581418, 144.9581794249902</td>\n",
       "      <td>{\"coordinates\": [144.9581794249902, -37.815486...</td>\n",
       "      <td>0</td>\n",
       "      <td>21.561304</td>\n",
       "      <td>83</td>\n",
       "      <td>Signage</td>\n",
       "      <td>Sign - Public Transport</td>\n",
       "      <td>600</td>\n",
       "      <td>1231226</td>\n",
       "      <td>548056</td>\n",
       "      <td>NaN</td>\n",
       "      <td>Sign - Public Transport 1 Panel</td>\n",
       "      <td>1231226</td>\n",
       "      <td>20184</td>\n",
       "      <td>Sign - Public Transport 1 Panel Bus Stop Type 8</td>\n",
       "      <td>P.16</td>\n",
       "    </tr>\n",
       "    <tr>\n",
       "      <th>2</th>\n",
       "      <td>-37.81353897396532, 144.95728334230756</td>\n",
       "      <td>{\"coordinates\": [144.95728334230756, -37.81353...</td>\n",
       "      <td>0</td>\n",
       "      <td>42.177187</td>\n",
       "      <td>207</td>\n",
       "      <td>Signage</td>\n",
       "      <td>Sign - Public Transport</td>\n",
       "      <td>640</td>\n",
       "      <td>1237092</td>\n",
       "      <td>543382</td>\n",
       "      <td>NaN</td>\n",
       "      <td>Sign - Public Transport 1 Panel</td>\n",
       "      <td>1237092</td>\n",
       "      <td>20186</td>\n",
       "      <td>Sign - Public Transport 1 Panel Bus Stop Type 8</td>\n",
       "      <td>P.16</td>\n",
       "    </tr>\n",
       "  </tbody>\n",
       "</table>\n",
       "</div>"
      ],
      "text/plain": [
       "                             geo_point_2d  \\\n",
       "0  -37.80384165792465, 144.93239283833262   \n",
       "1   -37.81548699581418, 144.9581794249902   \n",
       "2  -37.81353897396532, 144.95728334230756   \n",
       "\n",
       "                                           geo_shape  prop_id  addresspt1  \\\n",
       "0  {\"coordinates\": [144.93239283833262, -37.80384...        0   76.819824   \n",
       "1  {\"coordinates\": [144.9581794249902, -37.815486...        0   21.561304   \n",
       "2  {\"coordinates\": [144.95728334230756, -37.81353...        0   42.177187   \n",
       "\n",
       "   addressp_1 asset_clas               asset_type  objectid   str_id  \\\n",
       "0         357    Signage  Sign - Public Transport       355  1235255   \n",
       "1          83    Signage  Sign - Public Transport       600  1231226   \n",
       "2         207    Signage  Sign - Public Transport       640  1237092   \n",
       "\n",
       "   addresspt  asset_subt                       model_desc   mcc_id  \\\n",
       "0     570648         NaN  Sign - Public Transport 1 Panel  1235255   \n",
       "1     548056         NaN  Sign - Public Transport 1 Panel  1231226   \n",
       "2     543382         NaN  Sign - Public Transport 1 Panel  1237092   \n",
       "\n",
       "   roadseg_id                                        descriptio model_no  \n",
       "0       21673  Sign - Public Transport 1 Panel Bus Stop Type 13     P.16  \n",
       "1       20184   Sign - Public Transport 1 Panel Bus Stop Type 8     P.16  \n",
       "2       20186   Sign - Public Transport 1 Panel Bus Stop Type 8     P.16  "
      ]
     },
     "execution_count": 20,
     "metadata": {},
     "output_type": "execute_result"
    }
   ],
   "source": [
    "# bus stop dataset \n",
    "dataset_id = 'bus-stops'\n",
    "bus = collect_data(dataset_id)\n",
    "print(len(bus))\n",
    "bus.head(3)"
   ]
  },
  {
   "cell_type": "code",
   "execution_count": 21,
   "metadata": {},
   "outputs": [
    {
     "name": "stdout",
     "output_type": "stream",
     "text": [
      "219\n"
     ]
    },
    {
     "data": {
      "text/html": [
       "<div>\n",
       "<style scoped>\n",
       "    .dataframe tbody tr th:only-of-type {\n",
       "        vertical-align: middle;\n",
       "    }\n",
       "\n",
       "    .dataframe tbody tr th {\n",
       "        vertical-align: top;\n",
       "    }\n",
       "\n",
       "    .dataframe thead th {\n",
       "        text-align: right;\n",
       "    }\n",
       "</style>\n",
       "<table border=\"1\" class=\"dataframe\">\n",
       "  <thead>\n",
       "    <tr style=\"text-align: right;\">\n",
       "      <th></th>\n",
       "      <th>geo_point_2d</th>\n",
       "      <th>geo_shape</th>\n",
       "      <th>he_loop</th>\n",
       "      <th>lift</th>\n",
       "      <th>pids</th>\n",
       "      <th>station</th>\n",
       "    </tr>\n",
       "  </thead>\n",
       "  <tbody>\n",
       "    <tr>\n",
       "      <th>0</th>\n",
       "      <td>-37.77839599999999, 145.031251</td>\n",
       "      <td>{\"coordinates\": [145.031251, -37.7783959999999...</td>\n",
       "      <td>No</td>\n",
       "      <td>No</td>\n",
       "      <td>Dot Matrix</td>\n",
       "      <td>Alphington</td>\n",
       "    </tr>\n",
       "    <tr>\n",
       "      <th>1</th>\n",
       "      <td>-37.86724899999996, 144.830604</td>\n",
       "      <td>{\"coordinates\": [144.830604, -37.8672489999999...</td>\n",
       "      <td>No</td>\n",
       "      <td>No</td>\n",
       "      <td>LCD</td>\n",
       "      <td>Altona</td>\n",
       "    </tr>\n",
       "    <tr>\n",
       "      <th>2</th>\n",
       "      <td>-37.761897999999974, 144.96056099999998</td>\n",
       "      <td>{\"coordinates\": [144.96056099999998, -37.76189...</td>\n",
       "      <td>No</td>\n",
       "      <td>No</td>\n",
       "      <td>No</td>\n",
       "      <td>Anstey</td>\n",
       "    </tr>\n",
       "  </tbody>\n",
       "</table>\n",
       "</div>"
      ],
      "text/plain": [
       "                              geo_point_2d  \\\n",
       "0           -37.77839599999999, 145.031251   \n",
       "1           -37.86724899999996, 144.830604   \n",
       "2  -37.761897999999974, 144.96056099999998   \n",
       "\n",
       "                                           geo_shape he_loop lift        pids  \\\n",
       "0  {\"coordinates\": [145.031251, -37.7783959999999...      No   No  Dot Matrix   \n",
       "1  {\"coordinates\": [144.830604, -37.8672489999999...      No   No         LCD   \n",
       "2  {\"coordinates\": [144.96056099999998, -37.76189...      No   No          No   \n",
       "\n",
       "      station  \n",
       "0  Alphington  \n",
       "1      Altona  \n",
       "2      Anstey  "
      ]
     },
     "execution_count": 21,
     "metadata": {},
     "output_type": "execute_result"
    }
   ],
   "source": [
    "# metro stations dataset \n",
    "dataset_id = 'metro-train-stations-with-accessibility-information'\n",
    "metro = collect_data(dataset_id)\n",
    "print(len(metro))\n",
    "metro.head(3)"
   ]
  },
  {
   "cell_type": "markdown",
   "metadata": {},
   "source": [
    "<h3>Information on dataset</h3>"
   ]
  },
  {
   "cell_type": "markdown",
   "metadata": {},
   "source": [
    "<p>1. Getting basic information about the dataset like columns, non null values, datatypes and dimension </p>"
   ]
  },
  {
   "cell_type": "code",
   "execution_count": 22,
   "metadata": {},
   "outputs": [
    {
     "name": "stdout",
     "output_type": "stream",
     "text": [
      "<class 'pandas.core.frame.DataFrame'>\n",
      "RangeIndex: 17052 entries, 0 to 17051\n",
      "Data columns (total 5 columns):\n",
      " #   Column     Non-Null Count  Dtype  \n",
      "---  ------     --------------  -----  \n",
      " 0   geography  17052 non-null  object \n",
      " 1   year       17052 non-null  int64  \n",
      " 2   gender     17052 non-null  object \n",
      " 3   age        17052 non-null  object \n",
      " 4   value      16989 non-null  float64\n",
      "dtypes: float64(1), int64(1), object(3)\n",
      "memory usage: 666.2+ KB\n"
     ]
    }
   ],
   "source": [
    "# Population Dataset \n",
    "pop.info() "
   ]
  },
  {
   "cell_type": "code",
   "execution_count": 23,
   "metadata": {},
   "outputs": [
    {
     "name": "stdout",
     "output_type": "stream",
     "text": [
      "<class 'pandas.core.frame.DataFrame'>\n",
      "RangeIndex: 28 entries, 0 to 27\n",
      "Data columns (total 9 columns):\n",
      " #   Column        Non-Null Count  Dtype  \n",
      "---  ------        --------------  -----  \n",
      " 0   geo_point_2d  28 non-null     object \n",
      " 1   geo_shape     28 non-null     object \n",
      " 2   name          28 non-null     object \n",
      " 3   xorg          28 non-null     object \n",
      " 4   stop_no       28 non-null     object \n",
      " 5   mccid_str     0 non-null      float64\n",
      " 6   xsource       28 non-null     object \n",
      " 7   xdate         28 non-null     object \n",
      " 8   mccid_int     28 non-null     int64  \n",
      "dtypes: float64(1), int64(1), object(7)\n",
      "memory usage: 2.1+ KB\n"
     ]
    }
   ],
   "source": [
    "# tram stop dataset \n",
    "tram.info()"
   ]
  },
  {
   "cell_type": "code",
   "execution_count": 24,
   "metadata": {},
   "outputs": [
    {
     "name": "stdout",
     "output_type": "stream",
     "text": [
      "<class 'pandas.core.frame.DataFrame'>\n",
      "RangeIndex: 219 entries, 0 to 218\n",
      "Data columns (total 6 columns):\n",
      " #   Column        Non-Null Count  Dtype \n",
      "---  ------        --------------  ----- \n",
      " 0   geo_point_2d  219 non-null    object\n",
      " 1   geo_shape     219 non-null    object\n",
      " 2   he_loop       219 non-null    object\n",
      " 3   lift          219 non-null    object\n",
      " 4   pids          219 non-null    object\n",
      " 5   station       219 non-null    object\n",
      "dtypes: object(6)\n",
      "memory usage: 10.4+ KB\n"
     ]
    }
   ],
   "source": [
    "# metro stations datasetabs \n",
    "metro.info()"
   ]
  },
  {
   "cell_type": "code",
   "execution_count": 25,
   "metadata": {},
   "outputs": [
    {
     "name": "stdout",
     "output_type": "stream",
     "text": [
      "<class 'pandas.core.frame.DataFrame'>\n",
      "RangeIndex: 309 entries, 0 to 308\n",
      "Data columns (total 16 columns):\n",
      " #   Column        Non-Null Count  Dtype  \n",
      "---  ------        --------------  -----  \n",
      " 0   geo_point_2d  309 non-null    object \n",
      " 1   geo_shape     309 non-null    object \n",
      " 2   prop_id       309 non-null    int64  \n",
      " 3   addresspt1    309 non-null    float64\n",
      " 4   addressp_1    309 non-null    int64  \n",
      " 5   asset_clas    309 non-null    object \n",
      " 6   asset_type    309 non-null    object \n",
      " 7   objectid      309 non-null    int64  \n",
      " 8   str_id        309 non-null    int64  \n",
      " 9   addresspt     309 non-null    int64  \n",
      " 10  asset_subt    0 non-null      float64\n",
      " 11  model_desc    309 non-null    object \n",
      " 12  mcc_id        309 non-null    int64  \n",
      " 13  roadseg_id    309 non-null    int64  \n",
      " 14  descriptio    309 non-null    object \n",
      " 15  model_no      309 non-null    object \n",
      "dtypes: float64(2), int64(7), object(7)\n",
      "memory usage: 38.8+ KB\n"
     ]
    }
   ],
   "source": [
    "# bus stop dataset information   \n",
    "bus.info()"
   ]
  },
  {
   "cell_type": "markdown",
   "metadata": {},
   "source": [
    "<p>2. The summation of null values across features provides insights into the extent of missing data within each feature for a particular dataset   </p>"
   ]
  },
  {
   "cell_type": "code",
   "execution_count": 26,
   "metadata": {},
   "outputs": [
    {
     "data": {
      "text/plain": [
       "geography     0\n",
       "year          0\n",
       "gender        0\n",
       "age           0\n",
       "value        63\n",
       "dtype: int64"
      ]
     },
     "execution_count": 26,
     "metadata": {},
     "output_type": "execute_result"
    }
   ],
   "source": [
    "pop.isnull().sum() "
   ]
  },
  {
   "cell_type": "code",
   "execution_count": 27,
   "metadata": {},
   "outputs": [
    {
     "data": {
      "text/plain": [
       "geo_point_2d     0\n",
       "geo_shape        0\n",
       "name             0\n",
       "xorg             0\n",
       "stop_no          0\n",
       "mccid_str       28\n",
       "xsource          0\n",
       "xdate            0\n",
       "mccid_int        0\n",
       "dtype: int64"
      ]
     },
     "execution_count": 27,
     "metadata": {},
     "output_type": "execute_result"
    }
   ],
   "source": [
    "tram.isnull().sum()"
   ]
  },
  {
   "cell_type": "code",
   "execution_count": 28,
   "metadata": {},
   "outputs": [
    {
     "data": {
      "text/plain": [
       "geo_point_2d    0\n",
       "geo_shape       0\n",
       "he_loop         0\n",
       "lift            0\n",
       "pids            0\n",
       "station         0\n",
       "dtype: int64"
      ]
     },
     "execution_count": 28,
     "metadata": {},
     "output_type": "execute_result"
    }
   ],
   "source": [
    "metro.isnull().sum()"
   ]
  },
  {
   "cell_type": "code",
   "execution_count": 29,
   "metadata": {},
   "outputs": [
    {
     "data": {
      "text/plain": [
       "geo_point_2d      0\n",
       "geo_shape         0\n",
       "prop_id           0\n",
       "addresspt1        0\n",
       "addressp_1        0\n",
       "asset_clas        0\n",
       "asset_type        0\n",
       "objectid          0\n",
       "str_id            0\n",
       "addresspt         0\n",
       "asset_subt      309\n",
       "model_desc        0\n",
       "mcc_id            0\n",
       "roadseg_id        0\n",
       "descriptio        0\n",
       "model_no          0\n",
       "dtype: int64"
      ]
     },
     "execution_count": 29,
     "metadata": {},
     "output_type": "execute_result"
    }
   ],
   "source": [
    "bus.isnull().sum()"
   ]
  },
  {
   "cell_type": "markdown",
   "metadata": {},
   "source": [
    "<h3>3. Handling null values </h3>"
   ]
  },
  {
   "cell_type": "code",
   "execution_count": null,
   "metadata": {},
   "outputs": [],
   "source": []
  },
  {
   "cell_type": "code",
   "execution_count": null,
   "metadata": {},
   "outputs": [],
   "source": []
  },
  {
   "cell_type": "code",
   "execution_count": null,
   "metadata": {},
   "outputs": [],
   "source": []
  },
  {
   "cell_type": "code",
   "execution_count": null,
   "metadata": {},
   "outputs": [],
   "source": []
  },
  {
   "cell_type": "code",
   "execution_count": null,
   "metadata": {},
   "outputs": [],
   "source": []
  },
  {
   "cell_type": "code",
   "execution_count": null,
   "metadata": {},
   "outputs": [],
   "source": []
  },
  {
   "cell_type": "code",
   "execution_count": null,
   "metadata": {},
   "outputs": [],
   "source": []
  },
  {
   "cell_type": "code",
   "execution_count": null,
   "metadata": {},
   "outputs": [],
   "source": []
  },
  {
   "cell_type": "code",
   "execution_count": null,
   "metadata": {},
   "outputs": [],
   "source": []
  },
  {
   "cell_type": "code",
   "execution_count": null,
   "metadata": {},
   "outputs": [],
   "source": []
  },
  {
   "cell_type": "code",
   "execution_count": null,
   "metadata": {},
   "outputs": [],
   "source": []
  }
 ],
 "metadata": {
  "kernelspec": {
   "display_name": "Python 3 (ipykernel)",
   "language": "python",
   "name": "python3"
  },
  "language_info": {
   "codemirror_mode": {
    "name": "ipython",
    "version": 3
   },
   "file_extension": ".py",
   "mimetype": "text/x-python",
   "name": "python",
   "nbconvert_exporter": "python",
   "pygments_lexer": "ipython3",
   "version": "3.11.2"
  },
  "vscode": {
   "interpreter": {
    "hash": "369f2c481f4da34e4445cda3fffd2e751bd1c4d706f27375911949ba6bb62e1c"
   }
  }
 },
 "nbformat": 4,
 "nbformat_minor": 4
}
