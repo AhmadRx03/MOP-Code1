{
 "cells": [
  {
   "cell_type": "markdown",
   "metadata": {},
   "source": [
    "<div class=\"usecase-title\">Population Growth & Active Transportation Needs Analysis</div>\n",
    "\n",
    "<div class=\"usecase-authors\"><b>Authored by: </b> Rhutuvaruni Kharade</div>"
   ]
  },
  {
   "cell_type": "markdown",
   "metadata": {},
   "source": [
    "<div class=\"usecase-duration\"><b>Duration:</b> {90} mins</div>\n",
    "\n",
    "<div class=\"usecase-level-skill\">\n",
    "    <div class=\"usecase-level\"><b>Level: </b>{Intermediate}</div>\n",
    "    <div class=\"usecase-skill\"><b>Pre-requisite Skills: </b>{Python, and add any more skills needed}</div>\n",
    "</div>"
   ]
  },
  {
   "cell_type": "markdown",
   "metadata": {},
   "source": [
    "<div class=\"usecase-section-header\">Scenario</div>"
   ]
  },
  {
   "cell_type": "markdown",
   "metadata": {},
   "source": [
    "The aim of this usecase is to conduct a comprehensive analysis of population growth trends across different regions within the City of Melbourne. The objective is to discern potential needs for enhancements in transportation services across various modes available throughout the city. As population densities evolve, ensuring commensurate provisions of stations and stops becomes imperative to facilitate public mobility to and from diverse locales. The overarching goal is to identify areas projected to experience significant population surges and to ascertain corresponding requirements for expanded transportation infrastructure in anticipation of such demographic shifts.\n",
    "\n",
    "\n",
    "User Story:\r\n",
    "\r\n",
    "As a city planner responsible for transportation infrastructure in Melbourne,\r\n",
    "I want to analyze population growth trends across different regions within the c ty\r\n",
    "so that I can identify areas projected to experience significant population surges."
   ]
  },
  {
   "cell_type": "markdown",
   "metadata": {},
   "source": [
    "<div class=\"usecase-section-header\">What this use case will teach you</div>"
   ]
  },
  {
   "cell_type": "markdown",
   "metadata": {},
   "source": [
    "At the end of this use case you will:\n",
    "- Python \n",
    "- Machine Learning \n",
    "- Deep Learning\n",
    "- Data analysis and visualization skills\n",
    "- Insights about the datasets used in this project"
   ]
  },
  {
   "cell_type": "markdown",
   "metadata": {},
   "source": [
    "<div class=\"usecase-section-header\">Analyzing population growth and sufficient amount of transportation services. </div>"
   ]
  },
  {
   "cell_type": "markdown",
   "metadata": {},
   "source": [
    "{Write your introduction here. Keep it concise. We're not after \"War and Peace\" but enough background information to inform the reader on the rationale for solving this problem or background non-technical information that helps explain the approach. You may also wish to give information on the datasets, particularly how to source those not being imported from the client's open data portal.}\n",
    "\n",
    "Using \"City of Melbourne Population Forecasts by Small Area 2021-2041\" dataset we will look at the forecasted population growth based on various features like location, year and value. This will help us understand what has been forecasted population growth in particular locations for particular years and the value of the growth in those areas. Using \"City Circle tram stops\" dataset we will look into the existing tram stops based on the locations where they exist. This will give us an insight into the number of tram stops in particular location. Using geolocation we can visualize the exact location of these tram stops to aid us into pointing out potential locations for future tram stops. Using \"Bus stops\" dataset we can see the location of bus stops within Melbourne city, thsi data can aid us to understand the existing number of bus stops in particular locations and if there are need for any more in the future due to the growth in the population. Dataset \"Metro Train Stations with accessibility information\"  gives information about the number of metro stations in various location in Melborune city. This dataset also contains the geolocations of the existing metro stations and using this we can predict if more metro stations will be needed in the future due to the growth in population. The initial approach would be to get the basic information about the dataset and understand the features within each dataset. Later figuring out which features are necessary and discarding the rest that are uncessary and only add to the number of dimensionality of the data. Once the features are understood, the goal will be to clean and remove null values with appropriate tools and techniques. After cleaning, a initial basic visualition to understand the overall distributions of the featues and finding out any correlations amongst them. Finally, using machine learning models to predict the number of transportation services that might be needed to aid the population growth within the city in particular locations. Potenitally, using PowerBI to the convey insights to the stakeholders/business owners/policy makers to help them understand the rise in population and their need for public transportation services, thus helping them plan for such resources beforehand.     "
   ]
  },
  {
   "cell_type": "markdown",
   "metadata": {},
   "source": [
    "***\n",
    "\n",
    "_**DELETE BEFORE PUBLISHING**_\n",
    "\n",
    "## Style guide for use cases\n",
    "\n",
    "### Headers\n",
    "\n",
    "For styling within your markdown cells, there are two choices you can use for headers.\n",
    "\n",
    "1) You can use HTML classes specific to the use case styling:\n",
    "\n",
    "```<p class=\"usecase-subsection-header\">This is a subsection header.</p>```\n",
    "\n",
    "<p style=\"font-weight: bold; font-size: 1.2em;\">This is a subsection header.</p>\n",
    "\n",
    "```<p class=\"usecase-subsection-blurb\">This is a blurb header.</p>```\n",
    "\n",
    "<p style=\"font-weight: bold; font-size: 1em; font-style:italic;\">This is a blurb header.</p>\n",
    "\n",
    "\n",
    "2) Or if you like you can use the markdown header styles:\n",
    "\n",
    "```# for h1```\n",
    "\n",
    "```## for h2```\n",
    "\n",
    "```### for h3```\n",
    "\n",
    "```#### for h4```\n",
    "\n",
    "```##### for h5```\n",
    "\n",
    "## Plot colour schemes\n",
    "\n",
    "General advice:\n",
    "1. Use the same colour or colour palette throughout your notebook, unless variety is necessary\n",
    "2. Select a palette based on the type of data being represented\n",
    "3. Consider accessibility (colourblindness, low vision)\n",
    "\n",
    "#### 1) If all of your plots only use 1-2 colors use one of the company style colors:\n",
    "\n",
    "| Light theme | Dark Theme |\n",
    "|-----|-----|\n",
    "|<p style=\"color:#2af598;\">#2af598</p>|<p style=\"color:#08af64;\">#08af64</p>|\n",
    "|<p style=\"color:#22e4ac;\">#22e4ac</p>|<p style=\"color:#14a38e;\">#14a38e</p>|\n",
    "|<p style=\"color:#1bd7bb;\">#1bd7bb</p>|<p style=\"color:#0f9295;\">#0f9295</p>|\n",
    "|<p style=\"color:#14c9cb;\">#14c9cb</p>|<p style=\"color:#056b8a;\">#056b8a</p>|\n",
    "|<p style=\"color:#0fbed8;\">#0fbed8</p>|<p style=\"color:#121212;\">#121212</p>|\n",
    "|<p style=\"color:#08b3e5;\">#08b3e5</p>||\n",
    "\n",
    "\n",
    "#### 2) If your plot needs multiple colors, choose an appropriate palette using either of the following tutorials:\n",
    "- https://seaborn.pydata.org/tutorial/color_palettes.html\n",
    "- https://matplotlib.org/stable/tutorials/colors/colormaps.html\n",
    "\n",
    "#### 3) Consider accessibility as well.\n",
    "\n",
    "For qualitative plotting Seaborn's 'colorblind' palette is recommended. For maps with sequential or diverging it is recommended to use one of the Color Brewer schemes which can be previewed at https://colorbrewer2.org/.\n",
    "\n",
    "If you want to design your own colour scheme, it should use the same principles as Cynthia Brewer's research (with variation not only in hue but also, saturation or luminance).\n",
    "\n",
    "### References\n",
    "\n",
    "Be sure to acknowledge your sources and any attributions using links or a reference list.\n",
    "\n",
    "If you have quite a few references, you might wish to have a dedicated section for references at the end of your document, linked using footnote style numbers.\n",
    "\n",
    "You can connect your in-text reference by adding the number with a HTML link: ```<a href=\"#fn-1\">[1]</a>```\n",
    "\n",
    "and add a matching ID in the reference list using the ```<fn>``` tag: ```<fn id=\"fn-1\">[1] Author (Year) _Title_, Publisher, Publication location.</fn>```"
   ]
  },
  {
   "cell_type": "markdown",
   "metadata": {},
   "source": [
    "print(\"Hello world \")"
   ]
  },
  {
   "cell_type": "markdown",
   "metadata": {},
   "source": [
    "<h3> Importing Libraries/ Packages </h3>\n",
    "<ul>\n",
    "    <li>This part will focus on importing necessary libraries. </li>\n",
    "</ul>"
   ]
  },
  {
   "cell_type": "code",
   "execution_count": 427,
   "metadata": {},
   "outputs": [],
   "source": [
    "import numpy as np \n",
    "import pandas as pd \n",
    "import matplotlib.pyplot as plt \n",
    "import seaborn as sns "
   ]
  },
  {
   "cell_type": "markdown",
   "metadata": {},
   "source": [
    "<h3>Adding datasets</h3>"
   ]
  },
  {
   "cell_type": "code",
   "execution_count": 428,
   "metadata": {},
   "outputs": [],
   "source": [
    "import requests\n",
    "import pandas as pd \n",
    "from io import StringIO\n",
    "\n",
    "# function to collect data \n",
    "def collect_data(dataset_id):\n",
    "    base_url = 'https://data.melbourne.vic.gov.au/api/explore/v2.1/catalog/datasets/'\n",
    "    dataset_id  = dataset_id\n",
    "    format='csv'\n",
    "\n",
    "    url = f'{base_url}{dataset_id}/exports/{format}'\n",
    "    params = {\n",
    "        'select': '*', \n",
    "        'limit' : -1, \n",
    "        'lang' : 'en', \n",
    "        'timezone' : 'UTC' \n",
    "    }\n",
    "\n",
    "    response = requests.get(url,params=params)\n",
    "\n",
    "    if response.status_code ==200:\n",
    "        url_content = response.content.decode('utf-8')\n",
    "        dataset = pd.read_csv(StringIO(url_content), delimiter=';')\n",
    "        return dataset\n",
    "    else:\n",
    "        print(f\"Request failed with status code: {response.status_code}\")\n"
   ]
  },
  {
   "cell_type": "code",
   "execution_count": 429,
   "metadata": {},
   "outputs": [
    {
     "name": "stdout",
     "output_type": "stream",
     "text": [
      "17052\n"
     ]
    },
    {
     "data": {
      "text/html": [
       "<div>\n",
       "<style scoped>\n",
       "    .dataframe tbody tr th:only-of-type {\n",
       "        vertical-align: middle;\n",
       "    }\n",
       "\n",
       "    .dataframe tbody tr th {\n",
       "        vertical-align: top;\n",
       "    }\n",
       "\n",
       "    .dataframe thead th {\n",
       "        text-align: right;\n",
       "    }\n",
       "</style>\n",
       "<table border=\"1\" class=\"dataframe\">\n",
       "  <thead>\n",
       "    <tr style=\"text-align: right;\">\n",
       "      <th></th>\n",
       "      <th>geography</th>\n",
       "      <th>year</th>\n",
       "      <th>gender</th>\n",
       "      <th>age</th>\n",
       "      <th>value</th>\n",
       "    </tr>\n",
       "  </thead>\n",
       "  <tbody>\n",
       "    <tr>\n",
       "      <th>0</th>\n",
       "      <td>City of Melbourne</td>\n",
       "      <td>2022</td>\n",
       "      <td>Female</td>\n",
       "      <td>Age 0-4</td>\n",
       "      <td>2212.0</td>\n",
       "    </tr>\n",
       "    <tr>\n",
       "      <th>1</th>\n",
       "      <td>City of Melbourne</td>\n",
       "      <td>2024</td>\n",
       "      <td>Female</td>\n",
       "      <td>Age 0-4</td>\n",
       "      <td>2818.0</td>\n",
       "    </tr>\n",
       "    <tr>\n",
       "      <th>2</th>\n",
       "      <td>City of Melbourne</td>\n",
       "      <td>2029</td>\n",
       "      <td>Female</td>\n",
       "      <td>Age 0-4</td>\n",
       "      <td>4310.0</td>\n",
       "    </tr>\n",
       "    <tr>\n",
       "      <th>3</th>\n",
       "      <td>City of Melbourne</td>\n",
       "      <td>2031</td>\n",
       "      <td>Female</td>\n",
       "      <td>Age 0-4</td>\n",
       "      <td>4736.0</td>\n",
       "    </tr>\n",
       "    <tr>\n",
       "      <th>4</th>\n",
       "      <td>City of Melbourne</td>\n",
       "      <td>2032</td>\n",
       "      <td>Female</td>\n",
       "      <td>Age 0-4</td>\n",
       "      <td>4931.0</td>\n",
       "    </tr>\n",
       "  </tbody>\n",
       "</table>\n",
       "</div>"
      ],
      "text/plain": [
       "           geography  year  gender      age   value\n",
       "0  City of Melbourne  2022  Female  Age 0-4  2212.0\n",
       "1  City of Melbourne  2024  Female  Age 0-4  2818.0\n",
       "2  City of Melbourne  2029  Female  Age 0-4  4310.0\n",
       "3  City of Melbourne  2031  Female  Age 0-4  4736.0\n",
       "4  City of Melbourne  2032  Female  Age 0-4  4931.0"
      ]
     },
     "execution_count": 429,
     "metadata": {},
     "output_type": "execute_result"
    }
   ],
   "source": [
    "# population dataset \n",
    "dataset_id = 'city-of-melbourne-population-forecasts-by-small-area-2020-2040'\n",
    "pop = collect_data(dataset_id)\n",
    "print(len(pop))\n",
    "pop.head()\n"
   ]
  },
  {
   "cell_type": "code",
   "execution_count": 430,
   "metadata": {},
   "outputs": [
    {
     "name": "stdout",
     "output_type": "stream",
     "text": [
      "28\n"
     ]
    },
    {
     "data": {
      "text/html": [
       "<div>\n",
       "<style scoped>\n",
       "    .dataframe tbody tr th:only-of-type {\n",
       "        vertical-align: middle;\n",
       "    }\n",
       "\n",
       "    .dataframe tbody tr th {\n",
       "        vertical-align: top;\n",
       "    }\n",
       "\n",
       "    .dataframe thead th {\n",
       "        text-align: right;\n",
       "    }\n",
       "</style>\n",
       "<table border=\"1\" class=\"dataframe\">\n",
       "  <thead>\n",
       "    <tr style=\"text-align: right;\">\n",
       "      <th></th>\n",
       "      <th>geo_point_2d</th>\n",
       "      <th>geo_shape</th>\n",
       "      <th>name</th>\n",
       "      <th>xorg</th>\n",
       "      <th>stop_no</th>\n",
       "      <th>mccid_str</th>\n",
       "      <th>xsource</th>\n",
       "      <th>xdate</th>\n",
       "      <th>mccid_int</th>\n",
       "    </tr>\n",
       "  </thead>\n",
       "  <tbody>\n",
       "    <tr>\n",
       "      <th>0</th>\n",
       "      <td>-37.81922319307822, 144.9614014008424</td>\n",
       "      <td>{\"coordinates\": [144.9614014008424, -37.819223...</td>\n",
       "      <td>Market Street / Flinders Street</td>\n",
       "      <td>GIS Team</td>\n",
       "      <td>3</td>\n",
       "      <td>NaN</td>\n",
       "      <td>Mapbase</td>\n",
       "      <td>2011-10-18</td>\n",
       "      <td>3</td>\n",
       "    </tr>\n",
       "    <tr>\n",
       "      <th>1</th>\n",
       "      <td>-37.821539117626855, 144.95356912978238</td>\n",
       "      <td>{\"coordinates\": [144.95356912978238, -37.82153...</td>\n",
       "      <td>Victoria Police Centre / Flinders Street</td>\n",
       "      <td>GIS Team</td>\n",
       "      <td>D6</td>\n",
       "      <td>NaN</td>\n",
       "      <td>Mapbase</td>\n",
       "      <td>2011-10-18</td>\n",
       "      <td>6</td>\n",
       "    </tr>\n",
       "    <tr>\n",
       "      <th>2</th>\n",
       "      <td>-37.815426586135686, 144.94512063442602</td>\n",
       "      <td>{\"coordinates\": [144.94512063442602, -37.81542...</td>\n",
       "      <td>Central Pier / Harbour Esplanade</td>\n",
       "      <td>GIS Team</td>\n",
       "      <td>D2</td>\n",
       "      <td>NaN</td>\n",
       "      <td>Mapbase</td>\n",
       "      <td>2011-10-18</td>\n",
       "      <td>10</td>\n",
       "    </tr>\n",
       "  </tbody>\n",
       "</table>\n",
       "</div>"
      ],
      "text/plain": [
       "                              geo_point_2d  \\\n",
       "0    -37.81922319307822, 144.9614014008424   \n",
       "1  -37.821539117626855, 144.95356912978238   \n",
       "2  -37.815426586135686, 144.94512063442602   \n",
       "\n",
       "                                           geo_shape  \\\n",
       "0  {\"coordinates\": [144.9614014008424, -37.819223...   \n",
       "1  {\"coordinates\": [144.95356912978238, -37.82153...   \n",
       "2  {\"coordinates\": [144.94512063442602, -37.81542...   \n",
       "\n",
       "                                       name      xorg stop_no  mccid_str  \\\n",
       "0           Market Street / Flinders Street  GIS Team       3        NaN   \n",
       "1  Victoria Police Centre / Flinders Street  GIS Team      D6        NaN   \n",
       "2          Central Pier / Harbour Esplanade  GIS Team      D2        NaN   \n",
       "\n",
       "   xsource       xdate  mccid_int  \n",
       "0  Mapbase  2011-10-18          3  \n",
       "1  Mapbase  2011-10-18          6  \n",
       "2  Mapbase  2011-10-18         10  "
      ]
     },
     "execution_count": 430,
     "metadata": {},
     "output_type": "execute_result"
    }
   ],
   "source": [
    "# tram stop dataset \n",
    "dataset_id = 'city-circle-tram-stops'\n",
    "tram = collect_data(dataset_id)\n",
    "print(len(tram))\n",
    "tram.head(3)"
   ]
  },
  {
   "cell_type": "code",
   "execution_count": 431,
   "metadata": {},
   "outputs": [
    {
     "name": "stdout",
     "output_type": "stream",
     "text": [
      "309\n"
     ]
    },
    {
     "data": {
      "text/html": [
       "<div>\n",
       "<style scoped>\n",
       "    .dataframe tbody tr th:only-of-type {\n",
       "        vertical-align: middle;\n",
       "    }\n",
       "\n",
       "    .dataframe tbody tr th {\n",
       "        vertical-align: top;\n",
       "    }\n",
       "\n",
       "    .dataframe thead th {\n",
       "        text-align: right;\n",
       "    }\n",
       "</style>\n",
       "<table border=\"1\" class=\"dataframe\">\n",
       "  <thead>\n",
       "    <tr style=\"text-align: right;\">\n",
       "      <th></th>\n",
       "      <th>geo_point_2d</th>\n",
       "      <th>geo_shape</th>\n",
       "      <th>prop_id</th>\n",
       "      <th>addresspt1</th>\n",
       "      <th>addressp_1</th>\n",
       "      <th>asset_clas</th>\n",
       "      <th>asset_type</th>\n",
       "      <th>objectid</th>\n",
       "      <th>str_id</th>\n",
       "      <th>addresspt</th>\n",
       "      <th>asset_subt</th>\n",
       "      <th>model_desc</th>\n",
       "      <th>mcc_id</th>\n",
       "      <th>roadseg_id</th>\n",
       "      <th>descriptio</th>\n",
       "      <th>model_no</th>\n",
       "    </tr>\n",
       "  </thead>\n",
       "  <tbody>\n",
       "    <tr>\n",
       "      <th>0</th>\n",
       "      <td>-37.80384165792465, 144.93239283833262</td>\n",
       "      <td>{\"coordinates\": [144.93239283833262, -37.80384...</td>\n",
       "      <td>0</td>\n",
       "      <td>76.819824</td>\n",
       "      <td>357</td>\n",
       "      <td>Signage</td>\n",
       "      <td>Sign - Public Transport</td>\n",
       "      <td>355</td>\n",
       "      <td>1235255</td>\n",
       "      <td>570648</td>\n",
       "      <td>NaN</td>\n",
       "      <td>Sign - Public Transport 1 Panel</td>\n",
       "      <td>1235255</td>\n",
       "      <td>21673</td>\n",
       "      <td>Sign - Public Transport 1 Panel Bus Stop Type 13</td>\n",
       "      <td>P.16</td>\n",
       "    </tr>\n",
       "    <tr>\n",
       "      <th>1</th>\n",
       "      <td>-37.81548699581418, 144.9581794249902</td>\n",
       "      <td>{\"coordinates\": [144.9581794249902, -37.815486...</td>\n",
       "      <td>0</td>\n",
       "      <td>21.561304</td>\n",
       "      <td>83</td>\n",
       "      <td>Signage</td>\n",
       "      <td>Sign - Public Transport</td>\n",
       "      <td>600</td>\n",
       "      <td>1231226</td>\n",
       "      <td>548056</td>\n",
       "      <td>NaN</td>\n",
       "      <td>Sign - Public Transport 1 Panel</td>\n",
       "      <td>1231226</td>\n",
       "      <td>20184</td>\n",
       "      <td>Sign - Public Transport 1 Panel Bus Stop Type 8</td>\n",
       "      <td>P.16</td>\n",
       "    </tr>\n",
       "    <tr>\n",
       "      <th>2</th>\n",
       "      <td>-37.81353897396532, 144.95728334230756</td>\n",
       "      <td>{\"coordinates\": [144.95728334230756, -37.81353...</td>\n",
       "      <td>0</td>\n",
       "      <td>42.177187</td>\n",
       "      <td>207</td>\n",
       "      <td>Signage</td>\n",
       "      <td>Sign - Public Transport</td>\n",
       "      <td>640</td>\n",
       "      <td>1237092</td>\n",
       "      <td>543382</td>\n",
       "      <td>NaN</td>\n",
       "      <td>Sign - Public Transport 1 Panel</td>\n",
       "      <td>1237092</td>\n",
       "      <td>20186</td>\n",
       "      <td>Sign - Public Transport 1 Panel Bus Stop Type 8</td>\n",
       "      <td>P.16</td>\n",
       "    </tr>\n",
       "  </tbody>\n",
       "</table>\n",
       "</div>"
      ],
      "text/plain": [
       "                             geo_point_2d  \\\n",
       "0  -37.80384165792465, 144.93239283833262   \n",
       "1   -37.81548699581418, 144.9581794249902   \n",
       "2  -37.81353897396532, 144.95728334230756   \n",
       "\n",
       "                                           geo_shape  prop_id  addresspt1  \\\n",
       "0  {\"coordinates\": [144.93239283833262, -37.80384...        0   76.819824   \n",
       "1  {\"coordinates\": [144.9581794249902, -37.815486...        0   21.561304   \n",
       "2  {\"coordinates\": [144.95728334230756, -37.81353...        0   42.177187   \n",
       "\n",
       "   addressp_1 asset_clas               asset_type  objectid   str_id  \\\n",
       "0         357    Signage  Sign - Public Transport       355  1235255   \n",
       "1          83    Signage  Sign - Public Transport       600  1231226   \n",
       "2         207    Signage  Sign - Public Transport       640  1237092   \n",
       "\n",
       "   addresspt  asset_subt                       model_desc   mcc_id  \\\n",
       "0     570648         NaN  Sign - Public Transport 1 Panel  1235255   \n",
       "1     548056         NaN  Sign - Public Transport 1 Panel  1231226   \n",
       "2     543382         NaN  Sign - Public Transport 1 Panel  1237092   \n",
       "\n",
       "   roadseg_id                                        descriptio model_no  \n",
       "0       21673  Sign - Public Transport 1 Panel Bus Stop Type 13     P.16  \n",
       "1       20184   Sign - Public Transport 1 Panel Bus Stop Type 8     P.16  \n",
       "2       20186   Sign - Public Transport 1 Panel Bus Stop Type 8     P.16  "
      ]
     },
     "execution_count": 431,
     "metadata": {},
     "output_type": "execute_result"
    }
   ],
   "source": [
    "# bus stop dataset \n",
    "dataset_id = 'bus-stops'\n",
    "bus = collect_data(dataset_id)\n",
    "print(len(bus))\n",
    "bus.head(3)"
   ]
  },
  {
   "cell_type": "code",
   "execution_count": 432,
   "metadata": {},
   "outputs": [
    {
     "name": "stdout",
     "output_type": "stream",
     "text": [
      "219\n"
     ]
    },
    {
     "data": {
      "text/html": [
       "<div>\n",
       "<style scoped>\n",
       "    .dataframe tbody tr th:only-of-type {\n",
       "        vertical-align: middle;\n",
       "    }\n",
       "\n",
       "    .dataframe tbody tr th {\n",
       "        vertical-align: top;\n",
       "    }\n",
       "\n",
       "    .dataframe thead th {\n",
       "        text-align: right;\n",
       "    }\n",
       "</style>\n",
       "<table border=\"1\" class=\"dataframe\">\n",
       "  <thead>\n",
       "    <tr style=\"text-align: right;\">\n",
       "      <th></th>\n",
       "      <th>geo_point_2d</th>\n",
       "      <th>geo_shape</th>\n",
       "      <th>he_loop</th>\n",
       "      <th>lift</th>\n",
       "      <th>pids</th>\n",
       "      <th>station</th>\n",
       "    </tr>\n",
       "  </thead>\n",
       "  <tbody>\n",
       "    <tr>\n",
       "      <th>0</th>\n",
       "      <td>-37.77839599999999, 145.031251</td>\n",
       "      <td>{\"coordinates\": [145.031251, -37.7783959999999...</td>\n",
       "      <td>No</td>\n",
       "      <td>No</td>\n",
       "      <td>Dot Matrix</td>\n",
       "      <td>Alphington</td>\n",
       "    </tr>\n",
       "    <tr>\n",
       "      <th>1</th>\n",
       "      <td>-37.86724899999996, 144.830604</td>\n",
       "      <td>{\"coordinates\": [144.830604, -37.8672489999999...</td>\n",
       "      <td>No</td>\n",
       "      <td>No</td>\n",
       "      <td>LCD</td>\n",
       "      <td>Altona</td>\n",
       "    </tr>\n",
       "    <tr>\n",
       "      <th>2</th>\n",
       "      <td>-37.761897999999974, 144.96056099999998</td>\n",
       "      <td>{\"coordinates\": [144.96056099999998, -37.76189...</td>\n",
       "      <td>No</td>\n",
       "      <td>No</td>\n",
       "      <td>No</td>\n",
       "      <td>Anstey</td>\n",
       "    </tr>\n",
       "  </tbody>\n",
       "</table>\n",
       "</div>"
      ],
      "text/plain": [
       "                              geo_point_2d  \\\n",
       "0           -37.77839599999999, 145.031251   \n",
       "1           -37.86724899999996, 144.830604   \n",
       "2  -37.761897999999974, 144.96056099999998   \n",
       "\n",
       "                                           geo_shape he_loop lift        pids  \\\n",
       "0  {\"coordinates\": [145.031251, -37.7783959999999...      No   No  Dot Matrix   \n",
       "1  {\"coordinates\": [144.830604, -37.8672489999999...      No   No         LCD   \n",
       "2  {\"coordinates\": [144.96056099999998, -37.76189...      No   No          No   \n",
       "\n",
       "      station  \n",
       "0  Alphington  \n",
       "1      Altona  \n",
       "2      Anstey  "
      ]
     },
     "execution_count": 432,
     "metadata": {},
     "output_type": "execute_result"
    }
   ],
   "source": [
    "# metro stations dataset \n",
    "dataset_id = 'metro-train-stations-with-accessibility-information'\n",
    "metro = collect_data(dataset_id)\n",
    "print(len(metro))\n",
    "metro.head(3)"
   ]
  },
  {
   "cell_type": "markdown",
   "metadata": {},
   "source": [
    "<h3>Cleaning dataset</h3>"
   ]
  },
  {
   "cell_type": "markdown",
   "metadata": {},
   "source": [
    "<h4>1. Getting basic information about the dataset like columns, non null values, datatypes and dimension </h4>"
   ]
  },
  {
   "cell_type": "code",
   "execution_count": 433,
   "metadata": {},
   "outputs": [
    {
     "name": "stdout",
     "output_type": "stream",
     "text": [
      "<class 'pandas.core.frame.DataFrame'>\n",
      "RangeIndex: 17052 entries, 0 to 17051\n",
      "Data columns (total 5 columns):\n",
      " #   Column     Non-Null Count  Dtype  \n",
      "---  ------     --------------  -----  \n",
      " 0   geography  17052 non-null  object \n",
      " 1   year       17052 non-null  int64  \n",
      " 2   gender     17052 non-null  object \n",
      " 3   age        17052 non-null  object \n",
      " 4   value      16989 non-null  float64\n",
      "dtypes: float64(1), int64(1), object(3)\n",
      "memory usage: 666.2+ KB\n",
      "\n",
      "Num. of dimensions: (17052, 5)\n"
     ]
    }
   ],
   "source": [
    "# Population Dataset \n",
    "pop.info() \n",
    "print()\n",
    "print(f\"Num. of dimensions: {pop.shape}\")\n"
   ]
  },
  {
   "cell_type": "code",
   "execution_count": 434,
   "metadata": {},
   "outputs": [
    {
     "name": "stdout",
     "output_type": "stream",
     "text": [
      "<class 'pandas.core.frame.DataFrame'>\n",
      "RangeIndex: 28 entries, 0 to 27\n",
      "Data columns (total 9 columns):\n",
      " #   Column        Non-Null Count  Dtype  \n",
      "---  ------        --------------  -----  \n",
      " 0   geo_point_2d  28 non-null     object \n",
      " 1   geo_shape     28 non-null     object \n",
      " 2   name          28 non-null     object \n",
      " 3   xorg          28 non-null     object \n",
      " 4   stop_no       28 non-null     object \n",
      " 5   mccid_str     0 non-null      float64\n",
      " 6   xsource       28 non-null     object \n",
      " 7   xdate         28 non-null     object \n",
      " 8   mccid_int     28 non-null     int64  \n",
      "dtypes: float64(1), int64(1), object(7)\n",
      "memory usage: 2.1+ KB\n",
      "\n",
      "Num. of dimensions: (28, 9)\n"
     ]
    }
   ],
   "source": [
    "# tram stop dataset \n",
    "tram.info()\n",
    "print()\n",
    "print(f\"Num. of dimensions: {tram.shape}\")"
   ]
  },
  {
   "cell_type": "code",
   "execution_count": 435,
   "metadata": {},
   "outputs": [
    {
     "name": "stdout",
     "output_type": "stream",
     "text": [
      "<class 'pandas.core.frame.DataFrame'>\n",
      "RangeIndex: 219 entries, 0 to 218\n",
      "Data columns (total 6 columns):\n",
      " #   Column        Non-Null Count  Dtype \n",
      "---  ------        --------------  ----- \n",
      " 0   geo_point_2d  219 non-null    object\n",
      " 1   geo_shape     219 non-null    object\n",
      " 2   he_loop       219 non-null    object\n",
      " 3   lift          219 non-null    object\n",
      " 4   pids          219 non-null    object\n",
      " 5   station       219 non-null    object\n",
      "dtypes: object(6)\n",
      "memory usage: 10.4+ KB\n",
      "\n",
      "Num. of dimensions: (219, 6)\n"
     ]
    }
   ],
   "source": [
    "# metro stations datasetabs \n",
    "metro.info()\n",
    "\n",
    "print()\n",
    "print(f\"Num. of dimensions: {metro.shape}\")"
   ]
  },
  {
   "cell_type": "code",
   "execution_count": 436,
   "metadata": {},
   "outputs": [
    {
     "name": "stdout",
     "output_type": "stream",
     "text": [
      "<class 'pandas.core.frame.DataFrame'>\n",
      "RangeIndex: 309 entries, 0 to 308\n",
      "Data columns (total 16 columns):\n",
      " #   Column        Non-Null Count  Dtype  \n",
      "---  ------        --------------  -----  \n",
      " 0   geo_point_2d  309 non-null    object \n",
      " 1   geo_shape     309 non-null    object \n",
      " 2   prop_id       309 non-null    int64  \n",
      " 3   addresspt1    309 non-null    float64\n",
      " 4   addressp_1    309 non-null    int64  \n",
      " 5   asset_clas    309 non-null    object \n",
      " 6   asset_type    309 non-null    object \n",
      " 7   objectid      309 non-null    int64  \n",
      " 8   str_id        309 non-null    int64  \n",
      " 9   addresspt     309 non-null    int64  \n",
      " 10  asset_subt    0 non-null      float64\n",
      " 11  model_desc    309 non-null    object \n",
      " 12  mcc_id        309 non-null    int64  \n",
      " 13  roadseg_id    309 non-null    int64  \n",
      " 14  descriptio    309 non-null    object \n",
      " 15  model_no      309 non-null    object \n",
      "dtypes: float64(2), int64(7), object(7)\n",
      "memory usage: 38.8+ KB\n",
      "\n",
      "Num. of dimensions: (309, 16)\n"
     ]
    }
   ],
   "source": [
    "# bus stop dataset information   \n",
    "bus.info()\n",
    "print()\n",
    "print(f\"Num. of dimensions: {bus.shape}\")"
   ]
  },
  {
   "cell_type": "markdown",
   "metadata": {},
   "source": [
    "<h4>2. The summation of null values across features provides insights into the extent of missing data within each feature for a particular dataset   </h4>"
   ]
  },
  {
   "cell_type": "code",
   "execution_count": 437,
   "metadata": {},
   "outputs": [
    {
     "data": {
      "text/plain": [
       "geography     0\n",
       "year          0\n",
       "gender        0\n",
       "age           0\n",
       "value        63\n",
       "dtype: int64"
      ]
     },
     "execution_count": 437,
     "metadata": {},
     "output_type": "execute_result"
    }
   ],
   "source": [
    "pop.isnull().sum() "
   ]
  },
  {
   "cell_type": "code",
   "execution_count": 438,
   "metadata": {},
   "outputs": [
    {
     "data": {
      "text/plain": [
       "geo_point_2d     0\n",
       "geo_shape        0\n",
       "name             0\n",
       "xorg             0\n",
       "stop_no          0\n",
       "mccid_str       28\n",
       "xsource          0\n",
       "xdate            0\n",
       "mccid_int        0\n",
       "dtype: int64"
      ]
     },
     "execution_count": 438,
     "metadata": {},
     "output_type": "execute_result"
    }
   ],
   "source": [
    "tram.isnull().sum()"
   ]
  },
  {
   "cell_type": "code",
   "execution_count": 439,
   "metadata": {},
   "outputs": [
    {
     "data": {
      "text/plain": [
       "geo_point_2d    0\n",
       "geo_shape       0\n",
       "he_loop         0\n",
       "lift            0\n",
       "pids            0\n",
       "station         0\n",
       "dtype: int64"
      ]
     },
     "execution_count": 439,
     "metadata": {},
     "output_type": "execute_result"
    }
   ],
   "source": [
    "metro.isnull().sum()"
   ]
  },
  {
   "cell_type": "code",
   "execution_count": 440,
   "metadata": {},
   "outputs": [
    {
     "data": {
      "text/plain": [
       "geo_point_2d      0\n",
       "geo_shape         0\n",
       "prop_id           0\n",
       "addresspt1        0\n",
       "addressp_1        0\n",
       "asset_clas        0\n",
       "asset_type        0\n",
       "objectid          0\n",
       "str_id            0\n",
       "addresspt         0\n",
       "asset_subt      309\n",
       "model_desc        0\n",
       "mcc_id            0\n",
       "roadseg_id        0\n",
       "descriptio        0\n",
       "model_no          0\n",
       "dtype: int64"
      ]
     },
     "execution_count": 440,
     "metadata": {},
     "output_type": "execute_result"
    }
   ],
   "source": [
    "bus.isnull().sum()"
   ]
  },
  {
   "cell_type": "markdown",
   "metadata": {},
   "source": [
    "<h4>3. Handling null values </h4>"
   ]
  },
  {
   "cell_type": "markdown",
   "metadata": {},
   "source": [
    "<p>Only need for Population, bus and tram dataset. No null values in metro dataset.</p>\n",
    "<p>Population dataset </p>\n",
    "<ul>\n",
    "    <li>Finding out where (which row indexes) the null values in the dataset exist.</li>\n",
    "    <li>As the data type of missing value columns is numeric, replacing with median</li>\n",
    "    <li>Rechecking if missing values handled or not</li>\n",
    "</ul>"
   ]
  },
  {
   "cell_type": "code",
   "execution_count": 441,
   "metadata": {},
   "outputs": [
    {
     "name": "stdout",
     "output_type": "stream",
     "text": [
      "0.0\n"
     ]
    },
    {
     "data": {
      "text/plain": [
       "geography    0\n",
       "year         0\n",
       "gender       0\n",
       "age          0\n",
       "value        0\n",
       "dtype: int64"
      ]
     },
     "execution_count": 441,
     "metadata": {},
     "output_type": "execute_result"
    }
   ],
   "source": [
    "# All missing data is numerical hence can be replaced by median \n",
    "pop.loc[pop.value.isna(),:]     \n",
    "\n",
    "# 5574 to 16921 (68 rows)- Mostly West Melbourne (industrial) values are missing\n",
    "\n",
    "# finding what is the median value for observations from West Melbourne (Industrial) specifically as \n",
    "# most missing values are from this area/location alone \n",
    "median = float(pop.loc[pop.geography == \"West Melbourne (Industrial)\"].value.median())\n",
    "print(median)\n",
    "\n",
    "# Filling the missing values with median \n",
    "pop = pop.fillna(median)\n",
    "\n",
    "# null val check\n",
    "pop.isnull().sum()\n",
    "\n",
    "# all missing values are handled successfully \n"
   ]
  },
  {
   "cell_type": "markdown",
   "metadata": {},
   "source": [
    "\n",
    "<p>Tram dataset </p>\n",
    "<ul>\n",
    "    <li>Checking values in \"mccid_str\" columns to see potential replacement options.</li>\n",
    "    <li>All values in the column are null so this column can be dropped altogether.</li>\n",
    "    <li>Rechecking if missing values handled or not (Kernal run all cell required each time).</li>\n",
    "</ul>"
   ]
  },
  {
   "cell_type": "code",
   "execution_count": 442,
   "metadata": {},
   "outputs": [
    {
     "data": {
      "text/html": [
       "<div>\n",
       "<style scoped>\n",
       "    .dataframe tbody tr th:only-of-type {\n",
       "        vertical-align: middle;\n",
       "    }\n",
       "\n",
       "    .dataframe tbody tr th {\n",
       "        vertical-align: top;\n",
       "    }\n",
       "\n",
       "    .dataframe thead th {\n",
       "        text-align: right;\n",
       "    }\n",
       "</style>\n",
       "<table border=\"1\" class=\"dataframe\">\n",
       "  <thead>\n",
       "    <tr style=\"text-align: right;\">\n",
       "      <th></th>\n",
       "      <th>geo_point_2d</th>\n",
       "      <th>geo_shape</th>\n",
       "      <th>name</th>\n",
       "      <th>xorg</th>\n",
       "      <th>stop_no</th>\n",
       "      <th>xsource</th>\n",
       "      <th>xdate</th>\n",
       "      <th>mccid_int</th>\n",
       "    </tr>\n",
       "  </thead>\n",
       "  <tbody>\n",
       "    <tr>\n",
       "      <th>0</th>\n",
       "      <td>-37.81922319307822, 144.9614014008424</td>\n",
       "      <td>{\"coordinates\": [144.9614014008424, -37.819223...</td>\n",
       "      <td>Market Street / Flinders Street</td>\n",
       "      <td>GIS Team</td>\n",
       "      <td>3</td>\n",
       "      <td>Mapbase</td>\n",
       "      <td>2011-10-18</td>\n",
       "      <td>3</td>\n",
       "    </tr>\n",
       "    <tr>\n",
       "      <th>1</th>\n",
       "      <td>-37.821539117626855, 144.95356912978238</td>\n",
       "      <td>{\"coordinates\": [144.95356912978238, -37.82153...</td>\n",
       "      <td>Victoria Police Centre / Flinders Street</td>\n",
       "      <td>GIS Team</td>\n",
       "      <td>D6</td>\n",
       "      <td>Mapbase</td>\n",
       "      <td>2011-10-18</td>\n",
       "      <td>6</td>\n",
       "    </tr>\n",
       "    <tr>\n",
       "      <th>2</th>\n",
       "      <td>-37.815426586135686, 144.94512063442602</td>\n",
       "      <td>{\"coordinates\": [144.94512063442602, -37.81542...</td>\n",
       "      <td>Central Pier / Harbour Esplanade</td>\n",
       "      <td>GIS Team</td>\n",
       "      <td>D2</td>\n",
       "      <td>Mapbase</td>\n",
       "      <td>2011-10-18</td>\n",
       "      <td>10</td>\n",
       "    </tr>\n",
       "    <tr>\n",
       "      <th>3</th>\n",
       "      <td>-37.813414856197724, 144.94137823870162</td>\n",
       "      <td>{\"coordinates\": [144.94137823870162, -37.81341...</td>\n",
       "      <td>New Quay Promenade / Docklands Drive</td>\n",
       "      <td>GIS Team</td>\n",
       "      <td>D10</td>\n",
       "      <td>Mapbase</td>\n",
       "      <td>2011-10-18</td>\n",
       "      <td>11</td>\n",
       "    </tr>\n",
       "    <tr>\n",
       "      <th>4</th>\n",
       "      <td>-37.814591782869805, 144.94655055842398</td>\n",
       "      <td>{\"coordinates\": [144.94655055842398, -37.81459...</td>\n",
       "      <td>Etihad Statium / La Trobe Street</td>\n",
       "      <td>GIS Team</td>\n",
       "      <td>D1</td>\n",
       "      <td>Mapbase</td>\n",
       "      <td>2011-10-18</td>\n",
       "      <td>13</td>\n",
       "    </tr>\n",
       "  </tbody>\n",
       "</table>\n",
       "</div>"
      ],
      "text/plain": [
       "                              geo_point_2d  \\\n",
       "0    -37.81922319307822, 144.9614014008424   \n",
       "1  -37.821539117626855, 144.95356912978238   \n",
       "2  -37.815426586135686, 144.94512063442602   \n",
       "3  -37.813414856197724, 144.94137823870162   \n",
       "4  -37.814591782869805, 144.94655055842398   \n",
       "\n",
       "                                           geo_shape  \\\n",
       "0  {\"coordinates\": [144.9614014008424, -37.819223...   \n",
       "1  {\"coordinates\": [144.95356912978238, -37.82153...   \n",
       "2  {\"coordinates\": [144.94512063442602, -37.81542...   \n",
       "3  {\"coordinates\": [144.94137823870162, -37.81341...   \n",
       "4  {\"coordinates\": [144.94655055842398, -37.81459...   \n",
       "\n",
       "                                       name      xorg stop_no  xsource  \\\n",
       "0           Market Street / Flinders Street  GIS Team       3  Mapbase   \n",
       "1  Victoria Police Centre / Flinders Street  GIS Team      D6  Mapbase   \n",
       "2          Central Pier / Harbour Esplanade  GIS Team      D2  Mapbase   \n",
       "3      New Quay Promenade / Docklands Drive  GIS Team     D10  Mapbase   \n",
       "4          Etihad Statium / La Trobe Street  GIS Team      D1  Mapbase   \n",
       "\n",
       "        xdate  mccid_int  \n",
       "0  2011-10-18          3  \n",
       "1  2011-10-18          6  \n",
       "2  2011-10-18         10  \n",
       "3  2011-10-18         11  \n",
       "4  2011-10-18         13  "
      ]
     },
     "execution_count": 442,
     "metadata": {},
     "output_type": "execute_result"
    }
   ],
   "source": [
    "# checkign which columns has missing values \n",
    "tram.isna().sum()\n",
    "\n",
    "# mccid_str \n",
    "tram.mccid_str\n",
    "\n",
    "# all data in this col is null so this entire col can be removed all together\n",
    "tram = tram.drop(columns=\"mccid_str\", axis=1, inplace=False)\n",
    "tram.head(5)\n"
   ]
  },
  {
   "cell_type": "code",
   "execution_count": 443,
   "metadata": {},
   "outputs": [
    {
     "data": {
      "text/plain": [
       "geo_point_2d    0\n",
       "geo_shape       0\n",
       "name            0\n",
       "xorg            0\n",
       "stop_no         0\n",
       "xsource         0\n",
       "xdate           0\n",
       "mccid_int       0\n",
       "dtype: int64"
      ]
     },
     "execution_count": 443,
     "metadata": {},
     "output_type": "execute_result"
    }
   ],
   "source": [
    "# null val check \n",
    "tram.isna().sum()\n",
    "\n",
    "# all missing values handled successfuly"
   ]
  },
  {
   "cell_type": "markdown",
   "metadata": {},
   "source": [
    "\n",
    "<p>Bus dataset </p>\n",
    "<ul>\n",
    "    <li>Checking values in \"asset_subt\" columns to see potential replacement options.</li>\n",
    "</ul>"
   ]
  },
  {
   "cell_type": "code",
   "execution_count": 444,
   "metadata": {},
   "outputs": [],
   "source": [
    "bus.isna().sum()\n",
    "\n",
    "# checkign the asset_subt column\n",
    "bus.asset_subt\n",
    "\n",
    "# all null values , so col can be removed \n",
    "bus = bus.drop(columns=\"asset_subt\",axis=1,inplace=False )"
   ]
  },
  {
   "cell_type": "code",
   "execution_count": 445,
   "metadata": {},
   "outputs": [
    {
     "data": {
      "text/plain": [
       "geo_point_2d    0\n",
       "geo_shape       0\n",
       "prop_id         0\n",
       "addresspt1      0\n",
       "addressp_1      0\n",
       "asset_clas      0\n",
       "asset_type      0\n",
       "objectid        0\n",
       "str_id          0\n",
       "addresspt       0\n",
       "model_desc      0\n",
       "mcc_id          0\n",
       "roadseg_id      0\n",
       "descriptio      0\n",
       "model_no        0\n",
       "dtype: int64"
      ]
     },
     "execution_count": 445,
     "metadata": {},
     "output_type": "execute_result"
    }
   ],
   "source": [
    "# null val check\n",
    "bus.isna().sum()"
   ]
  },
  {
   "cell_type": "markdown",
   "metadata": {},
   "source": [
    "<h4>4. Removing unnecessary features/irrelevant observations </h4>"
   ]
  },
  {
   "cell_type": "markdown",
   "metadata": {},
   "source": [
    "<p>Population dataset </p>\n",
    "<ul>\n",
    "    <li>Removing \"gender\" and \"age\" column- Aim is to look at the overall growth in population, regardless of gender or age of population </li>\n",
    "    <li><FONT COLOR=\"RED\">SELF NOTE - (See if \"geopgrpahy\" column can be geocoded to see the exact location (latitude, longitude) where the values correspond to.) </li>\n",
    "        <li><FONT COLOR=\"RED\"> SELF NOTE -Find out what is the unit for the \"value\" columns - is it in ten thousands? millions?  </li>\n",
    "</ul>"
   ]
  },
  {
   "cell_type": "code",
   "execution_count": 446,
   "metadata": {},
   "outputs": [],
   "source": [
    "pop = pop.drop(columns=[\"gender\", \"age\"], axis=1, inplace=False)"
   ]
  },
  {
   "cell_type": "code",
   "execution_count": 447,
   "metadata": {},
   "outputs": [
    {
     "data": {
      "text/html": [
       "<div>\n",
       "<style scoped>\n",
       "    .dataframe tbody tr th:only-of-type {\n",
       "        vertical-align: middle;\n",
       "    }\n",
       "\n",
       "    .dataframe tbody tr th {\n",
       "        vertical-align: top;\n",
       "    }\n",
       "\n",
       "    .dataframe thead th {\n",
       "        text-align: right;\n",
       "    }\n",
       "</style>\n",
       "<table border=\"1\" class=\"dataframe\">\n",
       "  <thead>\n",
       "    <tr style=\"text-align: right;\">\n",
       "      <th></th>\n",
       "      <th>geography</th>\n",
       "      <th>year</th>\n",
       "      <th>value</th>\n",
       "    </tr>\n",
       "  </thead>\n",
       "  <tbody>\n",
       "    <tr>\n",
       "      <th>0</th>\n",
       "      <td>City of Melbourne</td>\n",
       "      <td>2022</td>\n",
       "      <td>2212.0</td>\n",
       "    </tr>\n",
       "    <tr>\n",
       "      <th>1</th>\n",
       "      <td>City of Melbourne</td>\n",
       "      <td>2024</td>\n",
       "      <td>2818.0</td>\n",
       "    </tr>\n",
       "    <tr>\n",
       "      <th>2</th>\n",
       "      <td>City of Melbourne</td>\n",
       "      <td>2029</td>\n",
       "      <td>4310.0</td>\n",
       "    </tr>\n",
       "    <tr>\n",
       "      <th>3</th>\n",
       "      <td>City of Melbourne</td>\n",
       "      <td>2031</td>\n",
       "      <td>4736.0</td>\n",
       "    </tr>\n",
       "    <tr>\n",
       "      <th>4</th>\n",
       "      <td>City of Melbourne</td>\n",
       "      <td>2032</td>\n",
       "      <td>4931.0</td>\n",
       "    </tr>\n",
       "    <tr>\n",
       "      <th>5</th>\n",
       "      <td>City of Melbourne</td>\n",
       "      <td>2033</td>\n",
       "      <td>5102.0</td>\n",
       "    </tr>\n",
       "    <tr>\n",
       "      <th>6</th>\n",
       "      <td>City of Melbourne</td>\n",
       "      <td>2035</td>\n",
       "      <td>5352.0</td>\n",
       "    </tr>\n",
       "    <tr>\n",
       "      <th>7</th>\n",
       "      <td>City of Melbourne</td>\n",
       "      <td>2036</td>\n",
       "      <td>5433.0</td>\n",
       "    </tr>\n",
       "    <tr>\n",
       "      <th>8</th>\n",
       "      <td>City of Melbourne</td>\n",
       "      <td>2041</td>\n",
       "      <td>5808.0</td>\n",
       "    </tr>\n",
       "    <tr>\n",
       "      <th>9</th>\n",
       "      <td>City of Melbourne</td>\n",
       "      <td>2022</td>\n",
       "      <td>2399.0</td>\n",
       "    </tr>\n",
       "  </tbody>\n",
       "</table>\n",
       "</div>"
      ],
      "text/plain": [
       "           geography  year   value\n",
       "0  City of Melbourne  2022  2212.0\n",
       "1  City of Melbourne  2024  2818.0\n",
       "2  City of Melbourne  2029  4310.0\n",
       "3  City of Melbourne  2031  4736.0\n",
       "4  City of Melbourne  2032  4931.0\n",
       "5  City of Melbourne  2033  5102.0\n",
       "6  City of Melbourne  2035  5352.0\n",
       "7  City of Melbourne  2036  5433.0\n",
       "8  City of Melbourne  2041  5808.0\n",
       "9  City of Melbourne  2022  2399.0"
      ]
     },
     "execution_count": 447,
     "metadata": {},
     "output_type": "execute_result"
    }
   ],
   "source": [
    "# drop check\n",
    "pop.head(10)"
   ]
  },
  {
   "cell_type": "markdown",
   "metadata": {},
   "source": [
    "<p>Tram dataset </p>\n",
    "<ul>\n",
    "    <li>Removing xorg, xsource, mccid_int, xdate column - None of these columns are useful as tehy dont give information about the location of tram stop itself.  </li>\n",
    "    <li>Seperated the geo_shape_2d column into latitude and longitude and later dropped it. </li>\n",
    "    \n",
    "</ul>"
   ]
  },
  {
   "cell_type": "code",
   "execution_count": 448,
   "metadata": {},
   "outputs": [],
   "source": [
    "tram = tram.drop(columns=[\"xorg\", \"xsource\", \"xdate\", \"mccid_int\", \"stop_no\"], inplace=False, axis=1 )"
   ]
  },
  {
   "cell_type": "code",
   "execution_count": 449,
   "metadata": {
    "scrolled": true
   },
   "outputs": [
    {
     "data": {
      "text/html": [
       "<div>\n",
       "<style scoped>\n",
       "    .dataframe tbody tr th:only-of-type {\n",
       "        vertical-align: middle;\n",
       "    }\n",
       "\n",
       "    .dataframe tbody tr th {\n",
       "        vertical-align: top;\n",
       "    }\n",
       "\n",
       "    .dataframe thead th {\n",
       "        text-align: right;\n",
       "    }\n",
       "</style>\n",
       "<table border=\"1\" class=\"dataframe\">\n",
       "  <thead>\n",
       "    <tr style=\"text-align: right;\">\n",
       "      <th></th>\n",
       "      <th>geo_point_2d</th>\n",
       "      <th>geo_shape</th>\n",
       "      <th>name</th>\n",
       "    </tr>\n",
       "  </thead>\n",
       "  <tbody>\n",
       "    <tr>\n",
       "      <th>0</th>\n",
       "      <td>-37.81922319307822, 144.9614014008424</td>\n",
       "      <td>{\"coordinates\": [144.9614014008424, -37.819223...</td>\n",
       "      <td>Market Street / Flinders Street</td>\n",
       "    </tr>\n",
       "    <tr>\n",
       "      <th>1</th>\n",
       "      <td>-37.821539117626855, 144.95356912978238</td>\n",
       "      <td>{\"coordinates\": [144.95356912978238, -37.82153...</td>\n",
       "      <td>Victoria Police Centre / Flinders Street</td>\n",
       "    </tr>\n",
       "    <tr>\n",
       "      <th>2</th>\n",
       "      <td>-37.815426586135686, 144.94512063442602</td>\n",
       "      <td>{\"coordinates\": [144.94512063442602, -37.81542...</td>\n",
       "      <td>Central Pier / Harbour Esplanade</td>\n",
       "    </tr>\n",
       "    <tr>\n",
       "      <th>3</th>\n",
       "      <td>-37.813414856197724, 144.94137823870162</td>\n",
       "      <td>{\"coordinates\": [144.94137823870162, -37.81341...</td>\n",
       "      <td>New Quay Promenade / Docklands Drive</td>\n",
       "    </tr>\n",
       "    <tr>\n",
       "      <th>4</th>\n",
       "      <td>-37.814591782869805, 144.94655055842398</td>\n",
       "      <td>{\"coordinates\": [144.94655055842398, -37.81459...</td>\n",
       "      <td>Etihad Statium / La Trobe Street</td>\n",
       "    </tr>\n",
       "    <tr>\n",
       "      <th>5</th>\n",
       "      <td>-37.812487918072826, 144.95393532833103</td>\n",
       "      <td>{\"coordinates\": [144.95393532833103, -37.81248...</td>\n",
       "      <td>King Street / La Trobe Street</td>\n",
       "    </tr>\n",
       "    <tr>\n",
       "      <th>6</th>\n",
       "      <td>-37.8081489607039, 144.96879323779422</td>\n",
       "      <td>{\"coordinates\": [144.96879323779422, -37.80814...</td>\n",
       "      <td>Exhibition Street / La Trobe Street</td>\n",
       "    </tr>\n",
       "    <tr>\n",
       "      <th>7</th>\n",
       "      <td>-37.81538859129167, 144.97453393804187</td>\n",
       "      <td>{\"coordinates\": [144.97453393804187, -37.81538...</td>\n",
       "      <td>Spring Street / Flinders Street</td>\n",
       "    </tr>\n",
       "    <tr>\n",
       "      <th>8</th>\n",
       "      <td>-37.81614537491179, 144.97196946163052</td>\n",
       "      <td>{\"coordinates\": [144.97196946163052, -37.81614...</td>\n",
       "      <td>Exhibition Street / Flinders Street</td>\n",
       "    </tr>\n",
       "    <tr>\n",
       "      <th>9</th>\n",
       "      <td>-37.82023778673241, 144.95786314283018</td>\n",
       "      <td>{\"coordinates\": [144.95786314283018, -37.82023...</td>\n",
       "      <td>Melbourne Aquarium / Flinders Street</td>\n",
       "    </tr>\n",
       "  </tbody>\n",
       "</table>\n",
       "</div>"
      ],
      "text/plain": [
       "                              geo_point_2d  \\\n",
       "0    -37.81922319307822, 144.9614014008424   \n",
       "1  -37.821539117626855, 144.95356912978238   \n",
       "2  -37.815426586135686, 144.94512063442602   \n",
       "3  -37.813414856197724, 144.94137823870162   \n",
       "4  -37.814591782869805, 144.94655055842398   \n",
       "5  -37.812487918072826, 144.95393532833103   \n",
       "6    -37.8081489607039, 144.96879323779422   \n",
       "7   -37.81538859129167, 144.97453393804187   \n",
       "8   -37.81614537491179, 144.97196946163052   \n",
       "9   -37.82023778673241, 144.95786314283018   \n",
       "\n",
       "                                           geo_shape  \\\n",
       "0  {\"coordinates\": [144.9614014008424, -37.819223...   \n",
       "1  {\"coordinates\": [144.95356912978238, -37.82153...   \n",
       "2  {\"coordinates\": [144.94512063442602, -37.81542...   \n",
       "3  {\"coordinates\": [144.94137823870162, -37.81341...   \n",
       "4  {\"coordinates\": [144.94655055842398, -37.81459...   \n",
       "5  {\"coordinates\": [144.95393532833103, -37.81248...   \n",
       "6  {\"coordinates\": [144.96879323779422, -37.80814...   \n",
       "7  {\"coordinates\": [144.97453393804187, -37.81538...   \n",
       "8  {\"coordinates\": [144.97196946163052, -37.81614...   \n",
       "9  {\"coordinates\": [144.95786314283018, -37.82023...   \n",
       "\n",
       "                                       name  \n",
       "0           Market Street / Flinders Street  \n",
       "1  Victoria Police Centre / Flinders Street  \n",
       "2          Central Pier / Harbour Esplanade  \n",
       "3      New Quay Promenade / Docklands Drive  \n",
       "4          Etihad Statium / La Trobe Street  \n",
       "5             King Street / La Trobe Street  \n",
       "6       Exhibition Street / La Trobe Street  \n",
       "7           Spring Street / Flinders Street  \n",
       "8       Exhibition Street / Flinders Street  \n",
       "9      Melbourne Aquarium / Flinders Street  "
      ]
     },
     "execution_count": 449,
     "metadata": {},
     "output_type": "execute_result"
    }
   ],
   "source": [
    "# drop check\n",
    "tram.head(10)"
   ]
  },
  {
   "cell_type": "code",
   "execution_count": 450,
   "metadata": {},
   "outputs": [],
   "source": [
    "# seperating the geolocation columns\n",
    "tram[[\"lat_tram\", \"lon_tram\"]] = tram.geo_point_2d.str.split(',', expand=True).astype(float)\n",
    "# tram.head(5)\n",
    "tram = tram.drop(columns=[\"geo_point_2d\", \"geo_shape\"], inplace=False, axis=1)\n",
    "\n",
    "\n",
    "# renaming the name column to tram_stop_name to be more specific\n",
    "tram = tram.rename(columns={\"name\":\"stop_name\"})"
   ]
  },
  {
   "cell_type": "code",
   "execution_count": 451,
   "metadata": {},
   "outputs": [
    {
     "data": {
      "text/html": [
       "<div>\n",
       "<style scoped>\n",
       "    .dataframe tbody tr th:only-of-type {\n",
       "        vertical-align: middle;\n",
       "    }\n",
       "\n",
       "    .dataframe tbody tr th {\n",
       "        vertical-align: top;\n",
       "    }\n",
       "\n",
       "    .dataframe thead th {\n",
       "        text-align: right;\n",
       "    }\n",
       "</style>\n",
       "<table border=\"1\" class=\"dataframe\">\n",
       "  <thead>\n",
       "    <tr style=\"text-align: right;\">\n",
       "      <th></th>\n",
       "      <th>stop_name</th>\n",
       "      <th>lat_tram</th>\n",
       "      <th>lon_tram</th>\n",
       "    </tr>\n",
       "  </thead>\n",
       "  <tbody>\n",
       "    <tr>\n",
       "      <th>0</th>\n",
       "      <td>Market Street / Flinders Street</td>\n",
       "      <td>-37.819223</td>\n",
       "      <td>144.961401</td>\n",
       "    </tr>\n",
       "    <tr>\n",
       "      <th>1</th>\n",
       "      <td>Victoria Police Centre / Flinders Street</td>\n",
       "      <td>-37.821539</td>\n",
       "      <td>144.953569</td>\n",
       "    </tr>\n",
       "    <tr>\n",
       "      <th>2</th>\n",
       "      <td>Central Pier / Harbour Esplanade</td>\n",
       "      <td>-37.815427</td>\n",
       "      <td>144.945121</td>\n",
       "    </tr>\n",
       "    <tr>\n",
       "      <th>3</th>\n",
       "      <td>New Quay Promenade / Docklands Drive</td>\n",
       "      <td>-37.813415</td>\n",
       "      <td>144.941378</td>\n",
       "    </tr>\n",
       "    <tr>\n",
       "      <th>4</th>\n",
       "      <td>Etihad Statium / La Trobe Street</td>\n",
       "      <td>-37.814592</td>\n",
       "      <td>144.946551</td>\n",
       "    </tr>\n",
       "    <tr>\n",
       "      <th>5</th>\n",
       "      <td>King Street / La Trobe Street</td>\n",
       "      <td>-37.812488</td>\n",
       "      <td>144.953935</td>\n",
       "    </tr>\n",
       "    <tr>\n",
       "      <th>6</th>\n",
       "      <td>Exhibition Street / La Trobe Street</td>\n",
       "      <td>-37.808149</td>\n",
       "      <td>144.968793</td>\n",
       "    </tr>\n",
       "    <tr>\n",
       "      <th>7</th>\n",
       "      <td>Spring Street / Flinders Street</td>\n",
       "      <td>-37.815389</td>\n",
       "      <td>144.974534</td>\n",
       "    </tr>\n",
       "    <tr>\n",
       "      <th>8</th>\n",
       "      <td>Exhibition Street / Flinders Street</td>\n",
       "      <td>-37.816145</td>\n",
       "      <td>144.971969</td>\n",
       "    </tr>\n",
       "    <tr>\n",
       "      <th>9</th>\n",
       "      <td>Melbourne Aquarium / Flinders Street</td>\n",
       "      <td>-37.820238</td>\n",
       "      <td>144.957863</td>\n",
       "    </tr>\n",
       "  </tbody>\n",
       "</table>\n",
       "</div>"
      ],
      "text/plain": [
       "                                  stop_name   lat_tram    lon_tram\n",
       "0           Market Street / Flinders Street -37.819223  144.961401\n",
       "1  Victoria Police Centre / Flinders Street -37.821539  144.953569\n",
       "2          Central Pier / Harbour Esplanade -37.815427  144.945121\n",
       "3      New Quay Promenade / Docklands Drive -37.813415  144.941378\n",
       "4          Etihad Statium / La Trobe Street -37.814592  144.946551\n",
       "5             King Street / La Trobe Street -37.812488  144.953935\n",
       "6       Exhibition Street / La Trobe Street -37.808149  144.968793\n",
       "7           Spring Street / Flinders Street -37.815389  144.974534\n",
       "8       Exhibition Street / Flinders Street -37.816145  144.971969\n",
       "9      Melbourne Aquarium / Flinders Street -37.820238  144.957863"
      ]
     },
     "execution_count": 451,
     "metadata": {},
     "output_type": "execute_result"
    }
   ],
   "source": [
    "# final check \n",
    "tram.head(10)"
   ]
  },
  {
   "cell_type": "markdown",
   "metadata": {},
   "source": [
    "<p>Bus dataset </p>\n",
    "<ul>\n",
    "    <li>Removing prop_id, asset_clas, objectid, str_id, model_desc, mcc_id, roadseg_id, model_no column - None of these columns are useful as they dont give information about the location of the bus stop itself.  </li>\n",
    "    <li>Seperated the geo_shape_2d column into latitude and longitude and later dropped it. </li>\n",
    "    \n",
    "</ul>"
   ]
  },
  {
   "cell_type": "code",
   "execution_count": 452,
   "metadata": {},
   "outputs": [],
   "source": [
    "bus = bus.drop(columns= [\n",
    "    \"prop_id\", \n",
    "    \"asset_clas\", \n",
    "    'asset_type', \n",
    "    'str_id', \n",
    "    'model_desc',\n",
    "    'mcc_id', \n",
    "    \"roadseg_id\", \n",
    "    \"model_no\",\n",
    "    \"addresspt1\", \n",
    "    \"addressp_1\",\n",
    "    \"objectid\",\n",
    "    \"addresspt\", \n",
    "    \"descriptio\"\n",
    "], inplace=False, axis=1)"
   ]
  },
  {
   "cell_type": "code",
   "execution_count": 453,
   "metadata": {},
   "outputs": [
    {
     "data": {
      "text/html": [
       "<div>\n",
       "<style scoped>\n",
       "    .dataframe tbody tr th:only-of-type {\n",
       "        vertical-align: middle;\n",
       "    }\n",
       "\n",
       "    .dataframe tbody tr th {\n",
       "        vertical-align: top;\n",
       "    }\n",
       "\n",
       "    .dataframe thead th {\n",
       "        text-align: right;\n",
       "    }\n",
       "</style>\n",
       "<table border=\"1\" class=\"dataframe\">\n",
       "  <thead>\n",
       "    <tr style=\"text-align: right;\">\n",
       "      <th></th>\n",
       "      <th>geo_point_2d</th>\n",
       "      <th>geo_shape</th>\n",
       "    </tr>\n",
       "  </thead>\n",
       "  <tbody>\n",
       "    <tr>\n",
       "      <th>0</th>\n",
       "      <td>-37.80384165792465, 144.93239283833262</td>\n",
       "      <td>{\"coordinates\": [144.93239283833262, -37.80384...</td>\n",
       "    </tr>\n",
       "    <tr>\n",
       "      <th>1</th>\n",
       "      <td>-37.81548699581418, 144.9581794249902</td>\n",
       "      <td>{\"coordinates\": [144.9581794249902, -37.815486...</td>\n",
       "    </tr>\n",
       "    <tr>\n",
       "      <th>2</th>\n",
       "      <td>-37.81353897396532, 144.95728334230756</td>\n",
       "      <td>{\"coordinates\": [144.95728334230756, -37.81353...</td>\n",
       "    </tr>\n",
       "    <tr>\n",
       "      <th>3</th>\n",
       "      <td>-37.82191394843844, 144.95539345270072</td>\n",
       "      <td>{\"coordinates\": [144.95539345270072, -37.82191...</td>\n",
       "    </tr>\n",
       "    <tr>\n",
       "      <th>4</th>\n",
       "      <td>-37.83316401267591, 144.97443745130263</td>\n",
       "      <td>{\"coordinates\": [144.97443745130263, -37.83316...</td>\n",
       "    </tr>\n",
       "    <tr>\n",
       "      <th>5</th>\n",
       "      <td>-37.79436108568101, 144.92998424529242</td>\n",
       "      <td>{\"coordinates\": [144.92998424529242, -37.79436...</td>\n",
       "    </tr>\n",
       "    <tr>\n",
       "      <th>6</th>\n",
       "      <td>-37.817452093555325, 144.96168480565794</td>\n",
       "      <td>{\"coordinates\": [144.96168480565794, -37.81745...</td>\n",
       "    </tr>\n",
       "    <tr>\n",
       "      <th>7</th>\n",
       "      <td>-37.82146476463953, 144.9303191551562</td>\n",
       "      <td>{\"coordinates\": [144.9303191551562, -37.821464...</td>\n",
       "    </tr>\n",
       "    <tr>\n",
       "      <th>8</th>\n",
       "      <td>-37.837547087144706, 144.98191138368836</td>\n",
       "      <td>{\"coordinates\": [144.98191138368836, -37.83754...</td>\n",
       "    </tr>\n",
       "    <tr>\n",
       "      <th>9</th>\n",
       "      <td>-37.812490976626215, 144.95370614040704</td>\n",
       "      <td>{\"coordinates\": [144.95370614040704, -37.81249...</td>\n",
       "    </tr>\n",
       "  </tbody>\n",
       "</table>\n",
       "</div>"
      ],
      "text/plain": [
       "                              geo_point_2d  \\\n",
       "0   -37.80384165792465, 144.93239283833262   \n",
       "1    -37.81548699581418, 144.9581794249902   \n",
       "2   -37.81353897396532, 144.95728334230756   \n",
       "3   -37.82191394843844, 144.95539345270072   \n",
       "4   -37.83316401267591, 144.97443745130263   \n",
       "5   -37.79436108568101, 144.92998424529242   \n",
       "6  -37.817452093555325, 144.96168480565794   \n",
       "7    -37.82146476463953, 144.9303191551562   \n",
       "8  -37.837547087144706, 144.98191138368836   \n",
       "9  -37.812490976626215, 144.95370614040704   \n",
       "\n",
       "                                           geo_shape  \n",
       "0  {\"coordinates\": [144.93239283833262, -37.80384...  \n",
       "1  {\"coordinates\": [144.9581794249902, -37.815486...  \n",
       "2  {\"coordinates\": [144.95728334230756, -37.81353...  \n",
       "3  {\"coordinates\": [144.95539345270072, -37.82191...  \n",
       "4  {\"coordinates\": [144.97443745130263, -37.83316...  \n",
       "5  {\"coordinates\": [144.92998424529242, -37.79436...  \n",
       "6  {\"coordinates\": [144.96168480565794, -37.81745...  \n",
       "7  {\"coordinates\": [144.9303191551562, -37.821464...  \n",
       "8  {\"coordinates\": [144.98191138368836, -37.83754...  \n",
       "9  {\"coordinates\": [144.95370614040704, -37.81249...  "
      ]
     },
     "execution_count": 453,
     "metadata": {},
     "output_type": "execute_result"
    }
   ],
   "source": [
    "bus.head(10)"
   ]
  },
  {
   "cell_type": "code",
   "execution_count": 454,
   "metadata": {},
   "outputs": [],
   "source": [
    "# seperating the geo_point_2d to lat and lon column \n",
    "bus[[\"lat_bus\", \"lon_bus\"]] =  bus.geo_point_2d.str.split(',', expand=True).astype(float)\n",
    "# drop the original cols \n",
    "bus = bus.drop(columns=[\"geo_point_2d\", \"geo_shape\"], inplace=False, axis=1)"
   ]
  },
  {
   "cell_type": "code",
   "execution_count": 455,
   "metadata": {},
   "outputs": [
    {
     "data": {
      "text/html": [
       "<div>\n",
       "<style scoped>\n",
       "    .dataframe tbody tr th:only-of-type {\n",
       "        vertical-align: middle;\n",
       "    }\n",
       "\n",
       "    .dataframe tbody tr th {\n",
       "        vertical-align: top;\n",
       "    }\n",
       "\n",
       "    .dataframe thead th {\n",
       "        text-align: right;\n",
       "    }\n",
       "</style>\n",
       "<table border=\"1\" class=\"dataframe\">\n",
       "  <thead>\n",
       "    <tr style=\"text-align: right;\">\n",
       "      <th></th>\n",
       "      <th>lat_bus</th>\n",
       "      <th>lon_bus</th>\n",
       "    </tr>\n",
       "  </thead>\n",
       "  <tbody>\n",
       "    <tr>\n",
       "      <th>0</th>\n",
       "      <td>-37.803842</td>\n",
       "      <td>144.932393</td>\n",
       "    </tr>\n",
       "    <tr>\n",
       "      <th>1</th>\n",
       "      <td>-37.815487</td>\n",
       "      <td>144.958179</td>\n",
       "    </tr>\n",
       "    <tr>\n",
       "      <th>2</th>\n",
       "      <td>-37.813539</td>\n",
       "      <td>144.957283</td>\n",
       "    </tr>\n",
       "    <tr>\n",
       "      <th>3</th>\n",
       "      <td>-37.821914</td>\n",
       "      <td>144.955393</td>\n",
       "    </tr>\n",
       "    <tr>\n",
       "      <th>4</th>\n",
       "      <td>-37.833164</td>\n",
       "      <td>144.974437</td>\n",
       "    </tr>\n",
       "    <tr>\n",
       "      <th>5</th>\n",
       "      <td>-37.794361</td>\n",
       "      <td>144.929984</td>\n",
       "    </tr>\n",
       "    <tr>\n",
       "      <th>6</th>\n",
       "      <td>-37.817452</td>\n",
       "      <td>144.961685</td>\n",
       "    </tr>\n",
       "    <tr>\n",
       "      <th>7</th>\n",
       "      <td>-37.821465</td>\n",
       "      <td>144.930319</td>\n",
       "    </tr>\n",
       "    <tr>\n",
       "      <th>8</th>\n",
       "      <td>-37.837547</td>\n",
       "      <td>144.981911</td>\n",
       "    </tr>\n",
       "    <tr>\n",
       "      <th>9</th>\n",
       "      <td>-37.812491</td>\n",
       "      <td>144.953706</td>\n",
       "    </tr>\n",
       "  </tbody>\n",
       "</table>\n",
       "</div>"
      ],
      "text/plain": [
       "     lat_bus     lon_bus\n",
       "0 -37.803842  144.932393\n",
       "1 -37.815487  144.958179\n",
       "2 -37.813539  144.957283\n",
       "3 -37.821914  144.955393\n",
       "4 -37.833164  144.974437\n",
       "5 -37.794361  144.929984\n",
       "6 -37.817452  144.961685\n",
       "7 -37.821465  144.930319\n",
       "8 -37.837547  144.981911\n",
       "9 -37.812491  144.953706"
      ]
     },
     "execution_count": 455,
     "metadata": {},
     "output_type": "execute_result"
    }
   ],
   "source": [
    "bus.head(10)"
   ]
  },
  {
   "cell_type": "markdown",
   "metadata": {},
   "source": [
    "<p>Metro dataset </p>\n",
    "<ul>\n",
    "    <li>Removing pids, he_loop, lift column - None of these columns are useful as they dont give information about the location of the metro station.  </li>\n",
    "    <li>Seperated the geo_shape_2d column into latitude and longitude and later dropped it. </li>\n",
    "</ul>"
   ]
  },
  {
   "cell_type": "code",
   "execution_count": 456,
   "metadata": {},
   "outputs": [],
   "source": [
    "metro[[\"lat_metro\", \"lon_metro\"]] =  metro.geo_point_2d.str.split(',', expand=True).astype(float)\n",
    "# drop the original cols \n",
    "metro = metro.drop(columns=[\"geo_point_2d\", \"geo_shape\", \"he_loop\", \"lift\", \"pids\"], inplace=False, axis=1)\n",
    "# renamign col\n",
    "metro = metro.rename(columns={\"station\":\"station_name\"})"
   ]
  },
  {
   "cell_type": "code",
   "execution_count": 457,
   "metadata": {},
   "outputs": [
    {
     "data": {
      "text/html": [
       "<div>\n",
       "<style scoped>\n",
       "    .dataframe tbody tr th:only-of-type {\n",
       "        vertical-align: middle;\n",
       "    }\n",
       "\n",
       "    .dataframe tbody tr th {\n",
       "        vertical-align: top;\n",
       "    }\n",
       "\n",
       "    .dataframe thead th {\n",
       "        text-align: right;\n",
       "    }\n",
       "</style>\n",
       "<table border=\"1\" class=\"dataframe\">\n",
       "  <thead>\n",
       "    <tr style=\"text-align: right;\">\n",
       "      <th></th>\n",
       "      <th>station_name</th>\n",
       "      <th>lat_metro</th>\n",
       "      <th>lon_metro</th>\n",
       "    </tr>\n",
       "  </thead>\n",
       "  <tbody>\n",
       "    <tr>\n",
       "      <th>0</th>\n",
       "      <td>Alphington</td>\n",
       "      <td>-37.778396</td>\n",
       "      <td>145.031251</td>\n",
       "    </tr>\n",
       "    <tr>\n",
       "      <th>1</th>\n",
       "      <td>Altona</td>\n",
       "      <td>-37.867249</td>\n",
       "      <td>144.830604</td>\n",
       "    </tr>\n",
       "    <tr>\n",
       "      <th>2</th>\n",
       "      <td>Anstey</td>\n",
       "      <td>-37.761898</td>\n",
       "      <td>144.960561</td>\n",
       "    </tr>\n",
       "    <tr>\n",
       "      <th>3</th>\n",
       "      <td>Auburn</td>\n",
       "      <td>-37.822411</td>\n",
       "      <td>145.045617</td>\n",
       "    </tr>\n",
       "    <tr>\n",
       "      <th>4</th>\n",
       "      <td>Batman</td>\n",
       "      <td>-37.733459</td>\n",
       "      <td>144.962747</td>\n",
       "    </tr>\n",
       "    <tr>\n",
       "      <th>5</th>\n",
       "      <td>Beaconsfield</td>\n",
       "      <td>-38.050928</td>\n",
       "      <td>145.366045</td>\n",
       "    </tr>\n",
       "    <tr>\n",
       "      <th>6</th>\n",
       "      <td>Bell</td>\n",
       "      <td>-37.745568</td>\n",
       "      <td>145.000181</td>\n",
       "    </tr>\n",
       "    <tr>\n",
       "      <th>7</th>\n",
       "      <td>Berwick</td>\n",
       "      <td>-38.039681</td>\n",
       "      <td>145.344973</td>\n",
       "    </tr>\n",
       "    <tr>\n",
       "      <th>8</th>\n",
       "      <td>Box Hill</td>\n",
       "      <td>-37.819274</td>\n",
       "      <td>145.121800</td>\n",
       "    </tr>\n",
       "    <tr>\n",
       "      <th>9</th>\n",
       "      <td>Burwood</td>\n",
       "      <td>-37.851351</td>\n",
       "      <td>145.080368</td>\n",
       "    </tr>\n",
       "  </tbody>\n",
       "</table>\n",
       "</div>"
      ],
      "text/plain": [
       "   station_name  lat_metro   lon_metro\n",
       "0    Alphington -37.778396  145.031251\n",
       "1        Altona -37.867249  144.830604\n",
       "2        Anstey -37.761898  144.960561\n",
       "3        Auburn -37.822411  145.045617\n",
       "4        Batman -37.733459  144.962747\n",
       "5  Beaconsfield -38.050928  145.366045\n",
       "6          Bell -37.745568  145.000181\n",
       "7       Berwick -38.039681  145.344973\n",
       "8      Box Hill -37.819274  145.121800\n",
       "9       Burwood -37.851351  145.080368"
      ]
     },
     "execution_count": 457,
     "metadata": {},
     "output_type": "execute_result"
    }
   ],
   "source": [
    "# check updates\n",
    "metro.head(10)"
   ]
  },
  {
   "cell_type": "code",
   "execution_count": 458,
   "metadata": {},
   "outputs": [
    {
     "name": "stdout",
     "output_type": "stream",
     "text": [
      "Shape of population dataset: (17052, 3)\n",
      "Shape of bus stops dataset: (309, 2)\n",
      "Shape of tram stop dataset: (28, 3)\n",
      "Shape of metro stations dataset: (219, 3)\n"
     ]
    }
   ],
   "source": [
    "# final shapes of all datasets \n",
    "print(f\"Shape of population dataset: {pop.shape}\")\n",
    "print(f\"Shape of bus stops dataset: {bus.shape}\")\n",
    "print(f\"Shape of tram stop dataset: {tram.shape}\")\n",
    "print(f\"Shape of metro stations dataset: {metro.shape}\")"
   ]
  },
  {
   "cell_type": "code",
   "execution_count": null,
   "metadata": {},
   "outputs": [],
   "source": []
  }
 ],
 "metadata": {
  "kernelspec": {
   "display_name": "Python 3 (ipykernel)",
   "language": "python",
   "name": "python3"
  },
  "language_info": {
   "codemirror_mode": {
    "name": "ipython",
    "version": 3
   },
   "file_extension": ".py",
   "mimetype": "text/x-python",
   "name": "python",
   "nbconvert_exporter": "python",
   "pygments_lexer": "ipython3",
   "version": "3.11.2"
  },
  "vscode": {
   "interpreter": {
    "hash": "369f2c481f4da34e4445cda3fffd2e751bd1c4d706f27375911949ba6bb62e1c"
   }
  }
 },
 "nbformat": 4,
 "nbformat_minor": 4
}
