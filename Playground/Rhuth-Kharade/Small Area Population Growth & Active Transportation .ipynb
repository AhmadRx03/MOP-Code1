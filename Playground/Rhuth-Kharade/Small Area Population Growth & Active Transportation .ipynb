{
 "cells": [
  {
   "cell_type": "markdown",
   "metadata": {},
   "source": [
    "<div class=\"usecase-title\">Population Growth & Active Transportation Needs Analysis</div>\n",
    "\n",
    "<div class=\"usecase-authors\"><b>Authored by: </b> Rhutuvaruni Kharade</div>"
   ]
  },
  {
   "cell_type": "markdown",
   "metadata": {},
   "source": [
    "<div class=\"usecase-duration\"><b>Duration:</b> {90} mins</div>\n",
    "\n",
    "<div class=\"usecase-level-skill\">\n",
    "    <div class=\"usecase-level\"><b>Level: </b>{Intermediate}</div>\n",
    "    <div class=\"usecase-skill\"><b>Pre-requisite Skills: </b>{Python, and add any more skills needed}</div>\n",
    "</div>"
   ]
  },
  {
   "cell_type": "markdown",
   "metadata": {},
   "source": [
    "<div class=\"usecase-section-header\">Scenario</div>"
   ]
  },
  {
   "cell_type": "markdown",
   "metadata": {},
   "source": [
    "The aim of this usecase is to conduct a comprehensive analysis of population growth trends across different regions within the City of Melbourne. The objective is to discern potential needs for enhancements in transportation services across various modes available throughout the city. As population densities evolve, ensuring commensurate provisions of stations and stops becomes imperative to facilitate public mobility to and from diverse locales. The overarching goal is to identify areas projected to experience significant population surges and to ascertain corresponding requirements for expanded transportation infrastructure in anticipation of such demographic shifts.\n",
    "\n",
    "\n",
    "User Story:\r\n",
    "\r\n",
    "As a city planner responsible for transportation infrastructure in Melbourne,\r\n",
    "I want to analyze population growth trends across different regions within the c ty\r\n",
    "so that I can identify areas projected to experience significant population surges."
   ]
  },
  {
   "cell_type": "markdown",
   "metadata": {},
   "source": [
    "<div class=\"usecase-section-header\">What this use case will teach you</div>"
   ]
  },
  {
   "cell_type": "markdown",
   "metadata": {},
   "source": [
    "At the end of this use case you will:\n",
    "- Python \n",
    "- Machine Learning \n",
    "- Deep Learning\n",
    "- Data analysis and visualization skills\n",
    "- Insights about the datasets used in this project"
   ]
  },
  {
   "cell_type": "markdown",
   "metadata": {},
   "source": [
    "<div class=\"usecase-section-header\">Analyzing population growth and sufficient amount of transportation services. </div>"
   ]
  },
  {
   "cell_type": "markdown",
   "metadata": {},
   "source": [
    "{Write your introduction here. Keep it concise. We're not after \"War and Peace\" but enough background information to inform the reader on the rationale for solving this problem or background non-technical information that helps explain the approach. You may also wish to give information on the datasets, particularly how to source those not being imported from the client's open data portal.}\n",
    "\n",
    "Using \"City of Melbourne Population Forecasts by Small Area 2021-2041\" dataset we will look at the forecasted population growth based on various features like location, year and value. This will help us understand what has been forecasted population growth in particular locations for particular years and the value of the growth in those areas. Using \"City Circle tram stops\" dataset we will look into the existing tram stops based on the locations where they exist. This will give us an insight into the number of tram stops in particular location. Using geolocation we can visualize the exact location of these tram stops to aid us into pointing out potential locations for future tram stops. Using \"Bus stops\" dataset we can see the location of bus stops within Melbourne city, thsi data can aid us to understand the existing number of bus stops in particular locations and if there are need for any more in the future due to the growth in the population. Dataset \"Metro Train Stations with accessibility information\"  gives information about the number of metro stations in various location in Melborune city. This dataset also contains the geolocations of the existing metro stations and using this we can predict if more metro stations will be needed in the future due to the growth in population. The initial approach would be to get the basic information about the dataset and understand the features within each dataset. Later figuring out which features are necessary and discarding the rest that are uncessary and only add to the number of dimensionality of the data. Once the features are understood, the goal will be to clean and remove null values with appropriate tools and techniques. After cleaning, a initial basic visualition to understand the overall distributions of the featues and finding out any correlations amongst them. Finally, using machine learning models to predict the number of transportation services that might be needed to aid the population growth within the city in particular locations. Potenitally, using PowerBI to the convey insights to the stakeholders/business owners/policy makers to help them understand the rise in population and their need for public transportation services, thus helping them plan for such resources beforehand.     "
   ]
  },
  {
   "cell_type": "markdown",
   "metadata": {},
   "source": [
    "<h3> Importing Libraries/ Packages </h3>\n",
    "<ul>\n",
    "    <li>This part will focus on importing necessary libraries. </li>\n",
    "</ul>"
   ]
  },
  {
   "cell_type": "code",
   "execution_count": 3534,
   "metadata": {},
   "outputs": [],
   "source": [
    "import numpy as np \n",
    "import pandas as pd \n",
    "import matplotlib.pyplot as plt \n",
    "import seaborn as sns \n",
    "from geopy.geocoders import Nominatim \n",
    "import requests\n",
    "import pandas as pd \n",
    "from io import StringIO\n",
    "from geopy.geocoders import ArcGIS\n",
    "import folium\n",
    "from statsmodels.tsa.stattools import adfuller\n",
    "from statsmodels.tsa.arima.model import ARIMA\n",
    "import warnings\n",
    "warnings.filterwarnings('ignore')\n"
   ]
  },
  {
   "cell_type": "markdown",
   "metadata": {},
   "source": [
    "<h3>Adding datasets</h3>"
   ]
  },
  {
   "cell_type": "code",
   "execution_count": 3535,
   "metadata": {},
   "outputs": [],
   "source": [
    "\n",
    "# function to collect data \n",
    "def collect_data(dataset_id):\n",
    "    base_url = 'https://data.melbourne.vic.gov.au/api/explore/v2.1/catalog/datasets/'\n",
    "    dataset_id  = dataset_id\n",
    "    format='csv'\n",
    "\n",
    "    url = f'{base_url}{dataset_id}/exports/{format}'\n",
    "    params = {\n",
    "        'select': '*', \n",
    "        'limit' : -1, \n",
    "        'lang' : 'en', \n",
    "        'timezone' : 'UTC' \n",
    "    }\n",
    "\n",
    "    response = requests.get(url,params=params)\n",
    "\n",
    "    if response.status_code ==200:\n",
    "        url_content = response.content.decode('utf-8')\n",
    "        dataset = pd.read_csv(StringIO(url_content), delimiter=';')\n",
    "        return dataset\n",
    "    else:\n",
    "        print(f\"Request failed with status code: {response.status_code}\")\n"
   ]
  },
  {
   "cell_type": "code",
   "execution_count": 3536,
   "metadata": {},
   "outputs": [
    {
     "name": "stdout",
     "output_type": "stream",
     "text": [
      "17052\n"
     ]
    },
    {
     "data": {
      "text/html": [
       "<div>\n",
       "<style scoped>\n",
       "    .dataframe tbody tr th:only-of-type {\n",
       "        vertical-align: middle;\n",
       "    }\n",
       "\n",
       "    .dataframe tbody tr th {\n",
       "        vertical-align: top;\n",
       "    }\n",
       "\n",
       "    .dataframe thead th {\n",
       "        text-align: right;\n",
       "    }\n",
       "</style>\n",
       "<table border=\"1\" class=\"dataframe\">\n",
       "  <thead>\n",
       "    <tr style=\"text-align: right;\">\n",
       "      <th></th>\n",
       "      <th>geography</th>\n",
       "      <th>year</th>\n",
       "      <th>gender</th>\n",
       "      <th>age</th>\n",
       "      <th>value</th>\n",
       "    </tr>\n",
       "  </thead>\n",
       "  <tbody>\n",
       "    <tr>\n",
       "      <th>0</th>\n",
       "      <td>City of Melbourne</td>\n",
       "      <td>2022</td>\n",
       "      <td>Female</td>\n",
       "      <td>Age 0-4</td>\n",
       "      <td>2212.0</td>\n",
       "    </tr>\n",
       "    <tr>\n",
       "      <th>1</th>\n",
       "      <td>City of Melbourne</td>\n",
       "      <td>2024</td>\n",
       "      <td>Female</td>\n",
       "      <td>Age 0-4</td>\n",
       "      <td>2818.0</td>\n",
       "    </tr>\n",
       "    <tr>\n",
       "      <th>2</th>\n",
       "      <td>City of Melbourne</td>\n",
       "      <td>2029</td>\n",
       "      <td>Female</td>\n",
       "      <td>Age 0-4</td>\n",
       "      <td>4310.0</td>\n",
       "    </tr>\n",
       "    <tr>\n",
       "      <th>3</th>\n",
       "      <td>City of Melbourne</td>\n",
       "      <td>2031</td>\n",
       "      <td>Female</td>\n",
       "      <td>Age 0-4</td>\n",
       "      <td>4736.0</td>\n",
       "    </tr>\n",
       "    <tr>\n",
       "      <th>4</th>\n",
       "      <td>City of Melbourne</td>\n",
       "      <td>2032</td>\n",
       "      <td>Female</td>\n",
       "      <td>Age 0-4</td>\n",
       "      <td>4931.0</td>\n",
       "    </tr>\n",
       "  </tbody>\n",
       "</table>\n",
       "</div>"
      ],
      "text/plain": [
       "           geography  year  gender      age   value\n",
       "0  City of Melbourne  2022  Female  Age 0-4  2212.0\n",
       "1  City of Melbourne  2024  Female  Age 0-4  2818.0\n",
       "2  City of Melbourne  2029  Female  Age 0-4  4310.0\n",
       "3  City of Melbourne  2031  Female  Age 0-4  4736.0\n",
       "4  City of Melbourne  2032  Female  Age 0-4  4931.0"
      ]
     },
     "execution_count": 3536,
     "metadata": {},
     "output_type": "execute_result"
    }
   ],
   "source": [
    "# population dataset \n",
    "dataset_id = 'city-of-melbourne-population-forecasts-by-small-area-2020-2040'\n",
    "pop = collect_data(dataset_id)\n",
    "print(len(pop))\n",
    "pop.head()\n"
   ]
  },
  {
   "cell_type": "code",
   "execution_count": 3537,
   "metadata": {},
   "outputs": [
    {
     "name": "stdout",
     "output_type": "stream",
     "text": [
      "28\n"
     ]
    },
    {
     "data": {
      "text/html": [
       "<div>\n",
       "<style scoped>\n",
       "    .dataframe tbody tr th:only-of-type {\n",
       "        vertical-align: middle;\n",
       "    }\n",
       "\n",
       "    .dataframe tbody tr th {\n",
       "        vertical-align: top;\n",
       "    }\n",
       "\n",
       "    .dataframe thead th {\n",
       "        text-align: right;\n",
       "    }\n",
       "</style>\n",
       "<table border=\"1\" class=\"dataframe\">\n",
       "  <thead>\n",
       "    <tr style=\"text-align: right;\">\n",
       "      <th></th>\n",
       "      <th>geo_point_2d</th>\n",
       "      <th>geo_shape</th>\n",
       "      <th>name</th>\n",
       "      <th>xorg</th>\n",
       "      <th>stop_no</th>\n",
       "      <th>mccid_str</th>\n",
       "      <th>xsource</th>\n",
       "      <th>xdate</th>\n",
       "      <th>mccid_int</th>\n",
       "    </tr>\n",
       "  </thead>\n",
       "  <tbody>\n",
       "    <tr>\n",
       "      <th>0</th>\n",
       "      <td>-37.81922319307822, 144.9614014008424</td>\n",
       "      <td>{\"coordinates\": [144.9614014008424, -37.819223...</td>\n",
       "      <td>Market Street / Flinders Street</td>\n",
       "      <td>GIS Team</td>\n",
       "      <td>3</td>\n",
       "      <td>NaN</td>\n",
       "      <td>Mapbase</td>\n",
       "      <td>2011-10-18</td>\n",
       "      <td>3</td>\n",
       "    </tr>\n",
       "    <tr>\n",
       "      <th>1</th>\n",
       "      <td>-37.821539117626855, 144.95356912978238</td>\n",
       "      <td>{\"coordinates\": [144.95356912978238, -37.82153...</td>\n",
       "      <td>Victoria Police Centre / Flinders Street</td>\n",
       "      <td>GIS Team</td>\n",
       "      <td>D6</td>\n",
       "      <td>NaN</td>\n",
       "      <td>Mapbase</td>\n",
       "      <td>2011-10-18</td>\n",
       "      <td>6</td>\n",
       "    </tr>\n",
       "    <tr>\n",
       "      <th>2</th>\n",
       "      <td>-37.815426586135686, 144.94512063442602</td>\n",
       "      <td>{\"coordinates\": [144.94512063442602, -37.81542...</td>\n",
       "      <td>Central Pier / Harbour Esplanade</td>\n",
       "      <td>GIS Team</td>\n",
       "      <td>D2</td>\n",
       "      <td>NaN</td>\n",
       "      <td>Mapbase</td>\n",
       "      <td>2011-10-18</td>\n",
       "      <td>10</td>\n",
       "    </tr>\n",
       "  </tbody>\n",
       "</table>\n",
       "</div>"
      ],
      "text/plain": [
       "                              geo_point_2d  \\\n",
       "0    -37.81922319307822, 144.9614014008424   \n",
       "1  -37.821539117626855, 144.95356912978238   \n",
       "2  -37.815426586135686, 144.94512063442602   \n",
       "\n",
       "                                           geo_shape  \\\n",
       "0  {\"coordinates\": [144.9614014008424, -37.819223...   \n",
       "1  {\"coordinates\": [144.95356912978238, -37.82153...   \n",
       "2  {\"coordinates\": [144.94512063442602, -37.81542...   \n",
       "\n",
       "                                       name      xorg stop_no  mccid_str  \\\n",
       "0           Market Street / Flinders Street  GIS Team       3        NaN   \n",
       "1  Victoria Police Centre / Flinders Street  GIS Team      D6        NaN   \n",
       "2          Central Pier / Harbour Esplanade  GIS Team      D2        NaN   \n",
       "\n",
       "   xsource       xdate  mccid_int  \n",
       "0  Mapbase  2011-10-18          3  \n",
       "1  Mapbase  2011-10-18          6  \n",
       "2  Mapbase  2011-10-18         10  "
      ]
     },
     "execution_count": 3537,
     "metadata": {},
     "output_type": "execute_result"
    }
   ],
   "source": [
    "# tram stop dataset \n",
    "dataset_id = 'city-circle-tram-stops'\n",
    "tram = collect_data(dataset_id)\n",
    "print(len(tram))\n",
    "tram.head(3)"
   ]
  },
  {
   "cell_type": "code",
   "execution_count": 3538,
   "metadata": {},
   "outputs": [
    {
     "name": "stdout",
     "output_type": "stream",
     "text": [
      "309\n"
     ]
    },
    {
     "data": {
      "text/html": [
       "<div>\n",
       "<style scoped>\n",
       "    .dataframe tbody tr th:only-of-type {\n",
       "        vertical-align: middle;\n",
       "    }\n",
       "\n",
       "    .dataframe tbody tr th {\n",
       "        vertical-align: top;\n",
       "    }\n",
       "\n",
       "    .dataframe thead th {\n",
       "        text-align: right;\n",
       "    }\n",
       "</style>\n",
       "<table border=\"1\" class=\"dataframe\">\n",
       "  <thead>\n",
       "    <tr style=\"text-align: right;\">\n",
       "      <th></th>\n",
       "      <th>geo_point_2d</th>\n",
       "      <th>geo_shape</th>\n",
       "      <th>prop_id</th>\n",
       "      <th>addresspt1</th>\n",
       "      <th>addressp_1</th>\n",
       "      <th>asset_clas</th>\n",
       "      <th>asset_type</th>\n",
       "      <th>objectid</th>\n",
       "      <th>str_id</th>\n",
       "      <th>addresspt</th>\n",
       "      <th>asset_subt</th>\n",
       "      <th>model_desc</th>\n",
       "      <th>mcc_id</th>\n",
       "      <th>roadseg_id</th>\n",
       "      <th>descriptio</th>\n",
       "      <th>model_no</th>\n",
       "    </tr>\n",
       "  </thead>\n",
       "  <tbody>\n",
       "    <tr>\n",
       "      <th>0</th>\n",
       "      <td>-37.80384165792465, 144.93239283833262</td>\n",
       "      <td>{\"coordinates\": [144.93239283833262, -37.80384...</td>\n",
       "      <td>0</td>\n",
       "      <td>76.819824</td>\n",
       "      <td>357</td>\n",
       "      <td>Signage</td>\n",
       "      <td>Sign - Public Transport</td>\n",
       "      <td>355</td>\n",
       "      <td>1235255</td>\n",
       "      <td>570648</td>\n",
       "      <td>NaN</td>\n",
       "      <td>Sign - Public Transport 1 Panel</td>\n",
       "      <td>1235255</td>\n",
       "      <td>21673</td>\n",
       "      <td>Sign - Public Transport 1 Panel Bus Stop Type 13</td>\n",
       "      <td>P.16</td>\n",
       "    </tr>\n",
       "    <tr>\n",
       "      <th>1</th>\n",
       "      <td>-37.81548699581418, 144.9581794249902</td>\n",
       "      <td>{\"coordinates\": [144.9581794249902, -37.815486...</td>\n",
       "      <td>0</td>\n",
       "      <td>21.561304</td>\n",
       "      <td>83</td>\n",
       "      <td>Signage</td>\n",
       "      <td>Sign - Public Transport</td>\n",
       "      <td>600</td>\n",
       "      <td>1231226</td>\n",
       "      <td>548056</td>\n",
       "      <td>NaN</td>\n",
       "      <td>Sign - Public Transport 1 Panel</td>\n",
       "      <td>1231226</td>\n",
       "      <td>20184</td>\n",
       "      <td>Sign - Public Transport 1 Panel Bus Stop Type 8</td>\n",
       "      <td>P.16</td>\n",
       "    </tr>\n",
       "    <tr>\n",
       "      <th>2</th>\n",
       "      <td>-37.81353897396532, 144.95728334230756</td>\n",
       "      <td>{\"coordinates\": [144.95728334230756, -37.81353...</td>\n",
       "      <td>0</td>\n",
       "      <td>42.177187</td>\n",
       "      <td>207</td>\n",
       "      <td>Signage</td>\n",
       "      <td>Sign - Public Transport</td>\n",
       "      <td>640</td>\n",
       "      <td>1237092</td>\n",
       "      <td>543382</td>\n",
       "      <td>NaN</td>\n",
       "      <td>Sign - Public Transport 1 Panel</td>\n",
       "      <td>1237092</td>\n",
       "      <td>20186</td>\n",
       "      <td>Sign - Public Transport 1 Panel Bus Stop Type 8</td>\n",
       "      <td>P.16</td>\n",
       "    </tr>\n",
       "  </tbody>\n",
       "</table>\n",
       "</div>"
      ],
      "text/plain": [
       "                             geo_point_2d  \\\n",
       "0  -37.80384165792465, 144.93239283833262   \n",
       "1   -37.81548699581418, 144.9581794249902   \n",
       "2  -37.81353897396532, 144.95728334230756   \n",
       "\n",
       "                                           geo_shape  prop_id  addresspt1  \\\n",
       "0  {\"coordinates\": [144.93239283833262, -37.80384...        0   76.819824   \n",
       "1  {\"coordinates\": [144.9581794249902, -37.815486...        0   21.561304   \n",
       "2  {\"coordinates\": [144.95728334230756, -37.81353...        0   42.177187   \n",
       "\n",
       "   addressp_1 asset_clas               asset_type  objectid   str_id  \\\n",
       "0         357    Signage  Sign - Public Transport       355  1235255   \n",
       "1          83    Signage  Sign - Public Transport       600  1231226   \n",
       "2         207    Signage  Sign - Public Transport       640  1237092   \n",
       "\n",
       "   addresspt  asset_subt                       model_desc   mcc_id  \\\n",
       "0     570648         NaN  Sign - Public Transport 1 Panel  1235255   \n",
       "1     548056         NaN  Sign - Public Transport 1 Panel  1231226   \n",
       "2     543382         NaN  Sign - Public Transport 1 Panel  1237092   \n",
       "\n",
       "   roadseg_id                                        descriptio model_no  \n",
       "0       21673  Sign - Public Transport 1 Panel Bus Stop Type 13     P.16  \n",
       "1       20184   Sign - Public Transport 1 Panel Bus Stop Type 8     P.16  \n",
       "2       20186   Sign - Public Transport 1 Panel Bus Stop Type 8     P.16  "
      ]
     },
     "execution_count": 3538,
     "metadata": {},
     "output_type": "execute_result"
    }
   ],
   "source": [
    "# bus stop dataset \n",
    "dataset_id = 'bus-stops'\n",
    "bus = collect_data(dataset_id)\n",
    "print(len(bus))\n",
    "bus.head(3)"
   ]
  },
  {
   "cell_type": "code",
   "execution_count": 3539,
   "metadata": {},
   "outputs": [
    {
     "name": "stdout",
     "output_type": "stream",
     "text": [
      "219\n"
     ]
    },
    {
     "data": {
      "text/html": [
       "<div>\n",
       "<style scoped>\n",
       "    .dataframe tbody tr th:only-of-type {\n",
       "        vertical-align: middle;\n",
       "    }\n",
       "\n",
       "    .dataframe tbody tr th {\n",
       "        vertical-align: top;\n",
       "    }\n",
       "\n",
       "    .dataframe thead th {\n",
       "        text-align: right;\n",
       "    }\n",
       "</style>\n",
       "<table border=\"1\" class=\"dataframe\">\n",
       "  <thead>\n",
       "    <tr style=\"text-align: right;\">\n",
       "      <th></th>\n",
       "      <th>geo_point_2d</th>\n",
       "      <th>geo_shape</th>\n",
       "      <th>he_loop</th>\n",
       "      <th>lift</th>\n",
       "      <th>pids</th>\n",
       "      <th>station</th>\n",
       "    </tr>\n",
       "  </thead>\n",
       "  <tbody>\n",
       "    <tr>\n",
       "      <th>0</th>\n",
       "      <td>-37.77839599999999, 145.031251</td>\n",
       "      <td>{\"coordinates\": [145.031251, -37.7783959999999...</td>\n",
       "      <td>No</td>\n",
       "      <td>No</td>\n",
       "      <td>Dot Matrix</td>\n",
       "      <td>Alphington</td>\n",
       "    </tr>\n",
       "    <tr>\n",
       "      <th>1</th>\n",
       "      <td>-37.86724899999996, 144.830604</td>\n",
       "      <td>{\"coordinates\": [144.830604, -37.8672489999999...</td>\n",
       "      <td>No</td>\n",
       "      <td>No</td>\n",
       "      <td>LCD</td>\n",
       "      <td>Altona</td>\n",
       "    </tr>\n",
       "    <tr>\n",
       "      <th>2</th>\n",
       "      <td>-37.761897999999974, 144.96056099999998</td>\n",
       "      <td>{\"coordinates\": [144.96056099999998, -37.76189...</td>\n",
       "      <td>No</td>\n",
       "      <td>No</td>\n",
       "      <td>No</td>\n",
       "      <td>Anstey</td>\n",
       "    </tr>\n",
       "  </tbody>\n",
       "</table>\n",
       "</div>"
      ],
      "text/plain": [
       "                              geo_point_2d  \\\n",
       "0           -37.77839599999999, 145.031251   \n",
       "1           -37.86724899999996, 144.830604   \n",
       "2  -37.761897999999974, 144.96056099999998   \n",
       "\n",
       "                                           geo_shape he_loop lift        pids  \\\n",
       "0  {\"coordinates\": [145.031251, -37.7783959999999...      No   No  Dot Matrix   \n",
       "1  {\"coordinates\": [144.830604, -37.8672489999999...      No   No         LCD   \n",
       "2  {\"coordinates\": [144.96056099999998, -37.76189...      No   No          No   \n",
       "\n",
       "      station  \n",
       "0  Alphington  \n",
       "1      Altona  \n",
       "2      Anstey  "
      ]
     },
     "execution_count": 3539,
     "metadata": {},
     "output_type": "execute_result"
    }
   ],
   "source": [
    "# metro stations dataset \n",
    "dataset_id = 'metro-train-stations-with-accessibility-information'\n",
    "metro = collect_data(dataset_id)\n",
    "print(len(metro))\n",
    "metro.head(3)"
   ]
  },
  {
   "cell_type": "markdown",
   "metadata": {},
   "source": [
    "<h3>Cleaning dataset</h3>"
   ]
  },
  {
   "cell_type": "markdown",
   "metadata": {},
   "source": [
    "<h4>1. Getting basic information about the dataset like columns, non null values, datatypes and dimension </h4>"
   ]
  },
  {
   "cell_type": "code",
   "execution_count": 3540,
   "metadata": {},
   "outputs": [
    {
     "name": "stdout",
     "output_type": "stream",
     "text": [
      "<class 'pandas.core.frame.DataFrame'>\n",
      "RangeIndex: 17052 entries, 0 to 17051\n",
      "Data columns (total 5 columns):\n",
      " #   Column     Non-Null Count  Dtype  \n",
      "---  ------     --------------  -----  \n",
      " 0   geography  17052 non-null  object \n",
      " 1   year       17052 non-null  int64  \n",
      " 2   gender     17052 non-null  object \n",
      " 3   age        17052 non-null  object \n",
      " 4   value      16989 non-null  float64\n",
      "dtypes: float64(1), int64(1), object(3)\n",
      "memory usage: 666.2+ KB\n",
      "\n",
      "Num. of dimensions: (17052, 5)\n"
     ]
    }
   ],
   "source": [
    "# Population Dataset \n",
    "pop.info() \n",
    "print()\n",
    "print(f\"Num. of dimensions: {pop.shape}\")\n"
   ]
  },
  {
   "cell_type": "code",
   "execution_count": 3541,
   "metadata": {},
   "outputs": [
    {
     "name": "stdout",
     "output_type": "stream",
     "text": [
      "<class 'pandas.core.frame.DataFrame'>\n",
      "RangeIndex: 28 entries, 0 to 27\n",
      "Data columns (total 9 columns):\n",
      " #   Column        Non-Null Count  Dtype  \n",
      "---  ------        --------------  -----  \n",
      " 0   geo_point_2d  28 non-null     object \n",
      " 1   geo_shape     28 non-null     object \n",
      " 2   name          28 non-null     object \n",
      " 3   xorg          28 non-null     object \n",
      " 4   stop_no       28 non-null     object \n",
      " 5   mccid_str     0 non-null      float64\n",
      " 6   xsource       28 non-null     object \n",
      " 7   xdate         28 non-null     object \n",
      " 8   mccid_int     28 non-null     int64  \n",
      "dtypes: float64(1), int64(1), object(7)\n",
      "memory usage: 2.1+ KB\n",
      "\n",
      "Num. of dimensions: (28, 9)\n"
     ]
    }
   ],
   "source": [
    "# tram stop dataset \n",
    "tram.info()\n",
    "print()\n",
    "print(f\"Num. of dimensions: {tram.shape}\")"
   ]
  },
  {
   "cell_type": "code",
   "execution_count": 3542,
   "metadata": {},
   "outputs": [
    {
     "name": "stdout",
     "output_type": "stream",
     "text": [
      "<class 'pandas.core.frame.DataFrame'>\n",
      "RangeIndex: 219 entries, 0 to 218\n",
      "Data columns (total 6 columns):\n",
      " #   Column        Non-Null Count  Dtype \n",
      "---  ------        --------------  ----- \n",
      " 0   geo_point_2d  219 non-null    object\n",
      " 1   geo_shape     219 non-null    object\n",
      " 2   he_loop       219 non-null    object\n",
      " 3   lift          219 non-null    object\n",
      " 4   pids          219 non-null    object\n",
      " 5   station       219 non-null    object\n",
      "dtypes: object(6)\n",
      "memory usage: 10.4+ KB\n",
      "\n",
      "Num. of dimensions: (219, 6)\n"
     ]
    }
   ],
   "source": [
    "# metro stations datasetabs \n",
    "metro.info()\n",
    "\n",
    "print()\n",
    "print(f\"Num. of dimensions: {metro.shape}\")"
   ]
  },
  {
   "cell_type": "code",
   "execution_count": 3543,
   "metadata": {},
   "outputs": [
    {
     "name": "stdout",
     "output_type": "stream",
     "text": [
      "<class 'pandas.core.frame.DataFrame'>\n",
      "RangeIndex: 309 entries, 0 to 308\n",
      "Data columns (total 16 columns):\n",
      " #   Column        Non-Null Count  Dtype  \n",
      "---  ------        --------------  -----  \n",
      " 0   geo_point_2d  309 non-null    object \n",
      " 1   geo_shape     309 non-null    object \n",
      " 2   prop_id       309 non-null    int64  \n",
      " 3   addresspt1    309 non-null    float64\n",
      " 4   addressp_1    309 non-null    int64  \n",
      " 5   asset_clas    309 non-null    object \n",
      " 6   asset_type    309 non-null    object \n",
      " 7   objectid      309 non-null    int64  \n",
      " 8   str_id        309 non-null    int64  \n",
      " 9   addresspt     309 non-null    int64  \n",
      " 10  asset_subt    0 non-null      float64\n",
      " 11  model_desc    309 non-null    object \n",
      " 12  mcc_id        309 non-null    int64  \n",
      " 13  roadseg_id    309 non-null    int64  \n",
      " 14  descriptio    309 non-null    object \n",
      " 15  model_no      309 non-null    object \n",
      "dtypes: float64(2), int64(7), object(7)\n",
      "memory usage: 38.8+ KB\n",
      "\n",
      "Num. of dimensions: (309, 16)\n"
     ]
    }
   ],
   "source": [
    "# bus stop dataset information   \n",
    "bus.info()\n",
    "print()\n",
    "print(f\"Num. of dimensions: {bus.shape}\")"
   ]
  },
  {
   "cell_type": "markdown",
   "metadata": {},
   "source": [
    "<h4>2. The summation of null values across features provides insights into the extent of missing data within each feature for a particular dataset   </h4>"
   ]
  },
  {
   "cell_type": "code",
   "execution_count": 3544,
   "metadata": {},
   "outputs": [
    {
     "data": {
      "text/plain": [
       "geography     0\n",
       "year          0\n",
       "gender        0\n",
       "age           0\n",
       "value        63\n",
       "dtype: int64"
      ]
     },
     "execution_count": 3544,
     "metadata": {},
     "output_type": "execute_result"
    }
   ],
   "source": [
    "pop.isnull().sum() "
   ]
  },
  {
   "cell_type": "code",
   "execution_count": 3545,
   "metadata": {},
   "outputs": [
    {
     "data": {
      "text/plain": [
       "geo_point_2d     0\n",
       "geo_shape        0\n",
       "name             0\n",
       "xorg             0\n",
       "stop_no          0\n",
       "mccid_str       28\n",
       "xsource          0\n",
       "xdate            0\n",
       "mccid_int        0\n",
       "dtype: int64"
      ]
     },
     "execution_count": 3545,
     "metadata": {},
     "output_type": "execute_result"
    }
   ],
   "source": [
    "tram.isnull().sum()"
   ]
  },
  {
   "cell_type": "code",
   "execution_count": 3546,
   "metadata": {},
   "outputs": [
    {
     "data": {
      "text/plain": [
       "geo_point_2d    0\n",
       "geo_shape       0\n",
       "he_loop         0\n",
       "lift            0\n",
       "pids            0\n",
       "station         0\n",
       "dtype: int64"
      ]
     },
     "execution_count": 3546,
     "metadata": {},
     "output_type": "execute_result"
    }
   ],
   "source": [
    "metro.isnull().sum()"
   ]
  },
  {
   "cell_type": "code",
   "execution_count": 3547,
   "metadata": {},
   "outputs": [
    {
     "data": {
      "text/plain": [
       "geo_point_2d      0\n",
       "geo_shape         0\n",
       "prop_id           0\n",
       "addresspt1        0\n",
       "addressp_1        0\n",
       "asset_clas        0\n",
       "asset_type        0\n",
       "objectid          0\n",
       "str_id            0\n",
       "addresspt         0\n",
       "asset_subt      309\n",
       "model_desc        0\n",
       "mcc_id            0\n",
       "roadseg_id        0\n",
       "descriptio        0\n",
       "model_no          0\n",
       "dtype: int64"
      ]
     },
     "execution_count": 3547,
     "metadata": {},
     "output_type": "execute_result"
    }
   ],
   "source": [
    "bus.isnull().sum()"
   ]
  },
  {
   "cell_type": "markdown",
   "metadata": {},
   "source": [
    "<h4>3. Handling null values </h4>"
   ]
  },
  {
   "cell_type": "markdown",
   "metadata": {},
   "source": [
    "<p>Only need for Population, bus and tram dataset. No null values in metro dataset.</p>\n",
    "<p>Population dataset </p>\n",
    "<ul>\n",
    "    <li>Finding out where (which row indexes) the null values in the dataset exist.</li>\n",
    "    <li>As the data type of missing value columns is numeric, replacing with median</li>\n",
    "    <li>Rechecking if missing values handled or not</li>\n",
    "</ul>"
   ]
  },
  {
   "cell_type": "code",
   "execution_count": 3548,
   "metadata": {},
   "outputs": [
    {
     "name": "stdout",
     "output_type": "stream",
     "text": [
      "0.0\n"
     ]
    },
    {
     "data": {
      "text/plain": [
       "geography    0\n",
       "year         0\n",
       "gender       0\n",
       "age          0\n",
       "value        0\n",
       "dtype: int64"
      ]
     },
     "execution_count": 3548,
     "metadata": {},
     "output_type": "execute_result"
    }
   ],
   "source": [
    "# All missing data is numerical hence can be replaced by median \n",
    "pop.loc[pop.value.isna(),:]     \n",
    "\n",
    "# 5574 to 16921 (68 rows)- Mostly West Melbourne (industrial) values are missing\n",
    "\n",
    "# finding what is the median value for observations from West Melbourne (Industrial) specifically as \n",
    "# most missing values are from this area/location alone \n",
    "median = float(pop.loc[pop.geography == \"West Melbourne (Industrial)\"].value.median())\n",
    "print(median)\n",
    "\n",
    "# Filling the missing values with median \n",
    "pop = pop.fillna(median)\n",
    "\n",
    "# null val check\n",
    "pop.isnull().sum()\n",
    "\n",
    "# all missing values are handled successfully \n"
   ]
  },
  {
   "cell_type": "markdown",
   "metadata": {},
   "source": [
    "\n",
    "<p>Tram dataset </p>\n",
    "<ul>\n",
    "    <li>Checking values in \"mccid_str\" columns to see potential replacement options.</li>\n",
    "    <li>All values in the column are null so this column can be dropped altogether.</li>\n",
    "    <li>Rechecking if missing values handled or not (Kernal run all cell required each time).</li>\n",
    "</ul>"
   ]
  },
  {
   "cell_type": "code",
   "execution_count": 3549,
   "metadata": {},
   "outputs": [
    {
     "data": {
      "text/html": [
       "<div>\n",
       "<style scoped>\n",
       "    .dataframe tbody tr th:only-of-type {\n",
       "        vertical-align: middle;\n",
       "    }\n",
       "\n",
       "    .dataframe tbody tr th {\n",
       "        vertical-align: top;\n",
       "    }\n",
       "\n",
       "    .dataframe thead th {\n",
       "        text-align: right;\n",
       "    }\n",
       "</style>\n",
       "<table border=\"1\" class=\"dataframe\">\n",
       "  <thead>\n",
       "    <tr style=\"text-align: right;\">\n",
       "      <th></th>\n",
       "      <th>geo_point_2d</th>\n",
       "      <th>geo_shape</th>\n",
       "      <th>name</th>\n",
       "      <th>xorg</th>\n",
       "      <th>stop_no</th>\n",
       "      <th>xsource</th>\n",
       "      <th>xdate</th>\n",
       "      <th>mccid_int</th>\n",
       "    </tr>\n",
       "  </thead>\n",
       "  <tbody>\n",
       "    <tr>\n",
       "      <th>0</th>\n",
       "      <td>-37.81922319307822, 144.9614014008424</td>\n",
       "      <td>{\"coordinates\": [144.9614014008424, -37.819223...</td>\n",
       "      <td>Market Street / Flinders Street</td>\n",
       "      <td>GIS Team</td>\n",
       "      <td>3</td>\n",
       "      <td>Mapbase</td>\n",
       "      <td>2011-10-18</td>\n",
       "      <td>3</td>\n",
       "    </tr>\n",
       "    <tr>\n",
       "      <th>1</th>\n",
       "      <td>-37.821539117626855, 144.95356912978238</td>\n",
       "      <td>{\"coordinates\": [144.95356912978238, -37.82153...</td>\n",
       "      <td>Victoria Police Centre / Flinders Street</td>\n",
       "      <td>GIS Team</td>\n",
       "      <td>D6</td>\n",
       "      <td>Mapbase</td>\n",
       "      <td>2011-10-18</td>\n",
       "      <td>6</td>\n",
       "    </tr>\n",
       "    <tr>\n",
       "      <th>2</th>\n",
       "      <td>-37.815426586135686, 144.94512063442602</td>\n",
       "      <td>{\"coordinates\": [144.94512063442602, -37.81542...</td>\n",
       "      <td>Central Pier / Harbour Esplanade</td>\n",
       "      <td>GIS Team</td>\n",
       "      <td>D2</td>\n",
       "      <td>Mapbase</td>\n",
       "      <td>2011-10-18</td>\n",
       "      <td>10</td>\n",
       "    </tr>\n",
       "    <tr>\n",
       "      <th>3</th>\n",
       "      <td>-37.813414856197724, 144.94137823870162</td>\n",
       "      <td>{\"coordinates\": [144.94137823870162, -37.81341...</td>\n",
       "      <td>New Quay Promenade / Docklands Drive</td>\n",
       "      <td>GIS Team</td>\n",
       "      <td>D10</td>\n",
       "      <td>Mapbase</td>\n",
       "      <td>2011-10-18</td>\n",
       "      <td>11</td>\n",
       "    </tr>\n",
       "    <tr>\n",
       "      <th>4</th>\n",
       "      <td>-37.814591782869805, 144.94655055842398</td>\n",
       "      <td>{\"coordinates\": [144.94655055842398, -37.81459...</td>\n",
       "      <td>Etihad Statium / La Trobe Street</td>\n",
       "      <td>GIS Team</td>\n",
       "      <td>D1</td>\n",
       "      <td>Mapbase</td>\n",
       "      <td>2011-10-18</td>\n",
       "      <td>13</td>\n",
       "    </tr>\n",
       "  </tbody>\n",
       "</table>\n",
       "</div>"
      ],
      "text/plain": [
       "                              geo_point_2d  \\\n",
       "0    -37.81922319307822, 144.9614014008424   \n",
       "1  -37.821539117626855, 144.95356912978238   \n",
       "2  -37.815426586135686, 144.94512063442602   \n",
       "3  -37.813414856197724, 144.94137823870162   \n",
       "4  -37.814591782869805, 144.94655055842398   \n",
       "\n",
       "                                           geo_shape  \\\n",
       "0  {\"coordinates\": [144.9614014008424, -37.819223...   \n",
       "1  {\"coordinates\": [144.95356912978238, -37.82153...   \n",
       "2  {\"coordinates\": [144.94512063442602, -37.81542...   \n",
       "3  {\"coordinates\": [144.94137823870162, -37.81341...   \n",
       "4  {\"coordinates\": [144.94655055842398, -37.81459...   \n",
       "\n",
       "                                       name      xorg stop_no  xsource  \\\n",
       "0           Market Street / Flinders Street  GIS Team       3  Mapbase   \n",
       "1  Victoria Police Centre / Flinders Street  GIS Team      D6  Mapbase   \n",
       "2          Central Pier / Harbour Esplanade  GIS Team      D2  Mapbase   \n",
       "3      New Quay Promenade / Docklands Drive  GIS Team     D10  Mapbase   \n",
       "4          Etihad Statium / La Trobe Street  GIS Team      D1  Mapbase   \n",
       "\n",
       "        xdate  mccid_int  \n",
       "0  2011-10-18          3  \n",
       "1  2011-10-18          6  \n",
       "2  2011-10-18         10  \n",
       "3  2011-10-18         11  \n",
       "4  2011-10-18         13  "
      ]
     },
     "execution_count": 3549,
     "metadata": {},
     "output_type": "execute_result"
    }
   ],
   "source": [
    "# checkign which columns has missing values \n",
    "tram.isna().sum()\n",
    "\n",
    "# mccid_str \n",
    "tram.mccid_str\n",
    "\n",
    "# all data in this col is null so this entire col can be removed all together\n",
    "tram = tram.drop(columns=\"mccid_str\", axis=1, inplace=False)\n",
    "tram.head(5)\n"
   ]
  },
  {
   "cell_type": "code",
   "execution_count": 3550,
   "metadata": {},
   "outputs": [
    {
     "data": {
      "text/plain": [
       "geo_point_2d    0\n",
       "geo_shape       0\n",
       "name            0\n",
       "xorg            0\n",
       "stop_no         0\n",
       "xsource         0\n",
       "xdate           0\n",
       "mccid_int       0\n",
       "dtype: int64"
      ]
     },
     "execution_count": 3550,
     "metadata": {},
     "output_type": "execute_result"
    }
   ],
   "source": [
    "# null val check \n",
    "tram.isna().sum()\n",
    "\n",
    "# all missing values handled successfuly"
   ]
  },
  {
   "cell_type": "markdown",
   "metadata": {},
   "source": [
    "\n",
    "<p>Bus dataset </p>\n",
    "<ul>\n",
    "    <li>Checking values in \"asset_subt\" columns to see potential replacement options.</li>\n",
    "</ul>"
   ]
  },
  {
   "cell_type": "code",
   "execution_count": 3551,
   "metadata": {},
   "outputs": [],
   "source": [
    "bus.isna().sum()\n",
    "\n",
    "# checkign the asset_subt column\n",
    "bus.asset_subt\n",
    "\n",
    "# all null values , so col can be removed \n",
    "bus = bus.drop(columns=\"asset_subt\",axis=1,inplace=False )"
   ]
  },
  {
   "cell_type": "code",
   "execution_count": 3552,
   "metadata": {},
   "outputs": [
    {
     "data": {
      "text/plain": [
       "geo_point_2d    0\n",
       "geo_shape       0\n",
       "prop_id         0\n",
       "addresspt1      0\n",
       "addressp_1      0\n",
       "asset_clas      0\n",
       "asset_type      0\n",
       "objectid        0\n",
       "str_id          0\n",
       "addresspt       0\n",
       "model_desc      0\n",
       "mcc_id          0\n",
       "roadseg_id      0\n",
       "descriptio      0\n",
       "model_no        0\n",
       "dtype: int64"
      ]
     },
     "execution_count": 3552,
     "metadata": {},
     "output_type": "execute_result"
    }
   ],
   "source": [
    "# null val check\n",
    "bus.isna().sum()"
   ]
  },
  {
   "cell_type": "markdown",
   "metadata": {},
   "source": [
    "<h4>4. Removing unnecessary features/irrelevant observations/Outliers </h4>"
   ]
  },
  {
   "cell_type": "markdown",
   "metadata": {},
   "source": [
    "<p>Population dataset </p>\n",
    "<ul>\n",
    "    <li>Removing \"gender\" and \"age\" column- Aim is to look at the overall growth in population, regardless of gender or age of population </li>\n",
    "    <li>Scaling the \"value\" values. </li>\n",
    "    <li><FONT COLOR=\"RED\">SELF NOTE - (See if \"geopgrpahy\" column can be geocoded to see the exact location (latitude, longitude) where the values correspond to.) </li>\n",
    "        <li><FONT COLOR=\"RED\"> SELF NOTE -Find out what is the unit for the \"value\" columns - is it in ten thousands? millions?  </li>\n",
    "</ul>"
   ]
  },
  {
   "cell_type": "code",
   "execution_count": 3553,
   "metadata": {},
   "outputs": [],
   "source": [
    "pop=pop.drop_duplicates()"
   ]
  },
  {
   "cell_type": "code",
   "execution_count": 3554,
   "metadata": {},
   "outputs": [],
   "source": [
    "pop=pop[pop.age == \"Total population\"]"
   ]
  },
  {
   "cell_type": "code",
   "execution_count": 3555,
   "metadata": {},
   "outputs": [],
   "source": [
    "pop = pop.drop(columns=[\"gender\", \"age\"], axis=1, inplace=False)"
   ]
  },
  {
   "cell_type": "code",
   "execution_count": 3556,
   "metadata": {},
   "outputs": [
    {
     "data": {
      "text/html": [
       "<div>\n",
       "<style scoped>\n",
       "    .dataframe tbody tr th:only-of-type {\n",
       "        vertical-align: middle;\n",
       "    }\n",
       "\n",
       "    .dataframe tbody tr th {\n",
       "        vertical-align: top;\n",
       "    }\n",
       "\n",
       "    .dataframe thead th {\n",
       "        text-align: right;\n",
       "    }\n",
       "</style>\n",
       "<table border=\"1\" class=\"dataframe\">\n",
       "  <thead>\n",
       "    <tr style=\"text-align: right;\">\n",
       "      <th></th>\n",
       "      <th>geography</th>\n",
       "      <th>year</th>\n",
       "      <th>value</th>\n",
       "    </tr>\n",
       "  </thead>\n",
       "  <tbody>\n",
       "    <tr>\n",
       "      <th>5620</th>\n",
       "      <td>City of Melbourne</td>\n",
       "      <td>2021</td>\n",
       "      <td>153674.0</td>\n",
       "    </tr>\n",
       "    <tr>\n",
       "      <th>5621</th>\n",
       "      <td>City of Melbourne</td>\n",
       "      <td>2025</td>\n",
       "      <td>178786.0</td>\n",
       "    </tr>\n",
       "    <tr>\n",
       "      <th>5622</th>\n",
       "      <td>City of Melbourne</td>\n",
       "      <td>2028</td>\n",
       "      <td>213048.0</td>\n",
       "    </tr>\n",
       "    <tr>\n",
       "      <th>5623</th>\n",
       "      <td>City of Melbourne</td>\n",
       "      <td>2029</td>\n",
       "      <td>223062.0</td>\n",
       "    </tr>\n",
       "    <tr>\n",
       "      <th>5624</th>\n",
       "      <td>City of Melbourne</td>\n",
       "      <td>2033</td>\n",
       "      <td>257702.0</td>\n",
       "    </tr>\n",
       "    <tr>\n",
       "      <th>5625</th>\n",
       "      <td>City of Melbourne</td>\n",
       "      <td>2038</td>\n",
       "      <td>291496.0</td>\n",
       "    </tr>\n",
       "    <tr>\n",
       "      <th>5626</th>\n",
       "      <td>City of Melbourne</td>\n",
       "      <td>2040</td>\n",
       "      <td>302903.0</td>\n",
       "    </tr>\n",
       "    <tr>\n",
       "      <th>5627</th>\n",
       "      <td>Carlton</td>\n",
       "      <td>2026</td>\n",
       "      <td>20743.0</td>\n",
       "    </tr>\n",
       "    <tr>\n",
       "      <th>5628</th>\n",
       "      <td>Carlton</td>\n",
       "      <td>2027</td>\n",
       "      <td>21679.0</td>\n",
       "    </tr>\n",
       "    <tr>\n",
       "      <th>5629</th>\n",
       "      <td>Carlton</td>\n",
       "      <td>2031</td>\n",
       "      <td>26375.0</td>\n",
       "    </tr>\n",
       "  </tbody>\n",
       "</table>\n",
       "</div>"
      ],
      "text/plain": [
       "              geography  year     value\n",
       "5620  City of Melbourne  2021  153674.0\n",
       "5621  City of Melbourne  2025  178786.0\n",
       "5622  City of Melbourne  2028  213048.0\n",
       "5623  City of Melbourne  2029  223062.0\n",
       "5624  City of Melbourne  2033  257702.0\n",
       "5625  City of Melbourne  2038  291496.0\n",
       "5626  City of Melbourne  2040  302903.0\n",
       "5627            Carlton  2026   20743.0\n",
       "5628            Carlton  2027   21679.0\n",
       "5629            Carlton  2031   26375.0"
      ]
     },
     "execution_count": 3556,
     "metadata": {},
     "output_type": "execute_result"
    }
   ],
   "source": [
    "# drop check\n",
    "pop.head(10)"
   ]
  },
  {
   "cell_type": "code",
   "execution_count": 3557,
   "metadata": {},
   "outputs": [
    {
     "data": {
      "text/plain": [
       "array([2021, 2022, 2023, 2024, 2025, 2026, 2027, 2028, 2029, 2030, 2031,\n",
       "       2032, 2033, 2034, 2035, 2036, 2037, 2038, 2039, 2040, 2041],\n",
       "      dtype=int64)"
      ]
     },
     "execution_count": 3557,
     "metadata": {},
     "output_type": "execute_result"
    }
   ],
   "source": [
    "np.sort(pop.year.unique())"
   ]
  },
  {
   "cell_type": "markdown",
   "metadata": {},
   "source": [
    "<p>Scaling population dataset so that the values are between the 0 to 1  </p>"
   ]
  },
  {
   "cell_type": "code",
   "execution_count": 3558,
   "metadata": {},
   "outputs": [
    {
     "data": {
      "text/html": [
       "<div>\n",
       "<style scoped>\n",
       "    .dataframe tbody tr th:only-of-type {\n",
       "        vertical-align: middle;\n",
       "    }\n",
       "\n",
       "    .dataframe tbody tr th {\n",
       "        vertical-align: top;\n",
       "    }\n",
       "\n",
       "    .dataframe thead th {\n",
       "        text-align: right;\n",
       "    }\n",
       "</style>\n",
       "<table border=\"1\" class=\"dataframe\">\n",
       "  <thead>\n",
       "    <tr style=\"text-align: right;\">\n",
       "      <th></th>\n",
       "      <th>geography</th>\n",
       "      <th>year</th>\n",
       "      <th>value</th>\n",
       "    </tr>\n",
       "  </thead>\n",
       "  <tbody>\n",
       "    <tr>\n",
       "      <th>5620</th>\n",
       "      <td>City of Melbourne</td>\n",
       "      <td>2021</td>\n",
       "      <td>0.498634</td>\n",
       "    </tr>\n",
       "    <tr>\n",
       "      <th>5621</th>\n",
       "      <td>City of Melbourne</td>\n",
       "      <td>2025</td>\n",
       "      <td>0.580116</td>\n",
       "    </tr>\n",
       "    <tr>\n",
       "      <th>5622</th>\n",
       "      <td>City of Melbourne</td>\n",
       "      <td>2028</td>\n",
       "      <td>0.691288</td>\n",
       "    </tr>\n",
       "    <tr>\n",
       "      <th>5623</th>\n",
       "      <td>City of Melbourne</td>\n",
       "      <td>2029</td>\n",
       "      <td>0.723781</td>\n",
       "    </tr>\n",
       "    <tr>\n",
       "      <th>5624</th>\n",
       "      <td>City of Melbourne</td>\n",
       "      <td>2033</td>\n",
       "      <td>0.836179</td>\n",
       "    </tr>\n",
       "  </tbody>\n",
       "</table>\n",
       "</div>"
      ],
      "text/plain": [
       "              geography  year     value\n",
       "5620  City of Melbourne  2021  0.498634\n",
       "5621  City of Melbourne  2025  0.580116\n",
       "5622  City of Melbourne  2028  0.691288\n",
       "5623  City of Melbourne  2029  0.723781\n",
       "5624  City of Melbourne  2033  0.836179"
      ]
     },
     "execution_count": 3558,
     "metadata": {},
     "output_type": "execute_result"
    }
   ],
   "source": [
    "# min max scalign\n",
    "pop.value = (pop.value - min(pop.value))/(max(pop.value) - min(pop.value))\n",
    "pop.head()\n",
    "\n",
    "# value is now scaled "
   ]
  },
  {
   "cell_type": "code",
   "execution_count": 3559,
   "metadata": {},
   "outputs": [],
   "source": [
    "# pip install geopy"
   ]
  },
  {
   "cell_type": "markdown",
   "metadata": {},
   "source": [
    "<p>Code to convert the names of locations into their corrsponding longitude and latitude</p>"
   ]
  },
  {
   "cell_type": "code",
   "execution_count": null,
   "metadata": {
    "scrolled": true
   },
   "outputs": [
    {
     "name": "stdout",
     "output_type": "stream",
     "text": [
      "City of Melbourne, Victoria, Australia\n",
      "Carlton, Melbourne, City of Melbourne, Victoria, 3053, Australia\n",
      "Docklands, Melbourne, City of Melbourne, Victoria, 3008, Australia\n",
      "East Melbourne, Melbourne, City of Melbourne, Victoria, 3002, Australia\n",
      "Kensington, Bellair Street, Kensington, Melbourne, City of Melbourne, Victoria, 3031, Australia\n",
      "Melbourne, City of Melbourne, Victoria, Australia\n",
      "NOT FOUND : Melbourne (Remainder),Victoria, Australia\n",
      "North Melbourne, Dryburgh Street, West Melbourne, Melbourne, City of Melbourne, Victoria, 3003, Australia\n",
      "Parkville, Melbourne, City of Melbourne, Victoria, 3052, Australia\n",
      "Port Melbourne, Melbourne, City of Port Phillip, Victoria, 3207, Australia\n",
      "South Yarra, Melbourne, City of Stonnington, Victoria, 3141, Australia\n",
      "Southbank, Melbourne, City of Melbourne, Victoria, 3006, Australia\n",
      "Australia Post Sunshine West PDC, 42, Industrial Drive, Sunshine West, Melbourne, City of Brimbank, Victoria, 3020, Australia\n"
     ]
    }
   ],
   "source": [
    "# this code takes too long and consumes resources  if unique() is removed\n",
    "\n",
    "\n",
    "location = Nominatim(user_agent=\"Geopy Library\")\n",
    "\n",
    "main = {}   # the main list that collects latititude and longitude\n",
    "\n",
    "for city in pop.geography.unique():\n",
    "    city = str(city)\n",
    "\n",
    "    try:\n",
    "        city = str(city) + \",Victoria, Australia\"     \n",
    "        getLoc = location.geocode(city)\n",
    "        main[city] = (getLoc.latitude,getLoc.longitude)\n",
    "        # longitude.append(getLoc.longitude)\n",
    "        print(getLoc.address)\n",
    "    except:\n",
    "        main[city] = (None, None)\n",
    "        print(f\"NOT FOUND : {city}\")\n",
    "        pass\n"
   ]
  },
  {
   "cell_type": "code",
   "execution_count": null,
   "metadata": {},
   "outputs": [],
   "source": [
    "main"
   ]
  },
  {
   "cell_type": "markdown",
   "metadata": {},
   "source": [
    "<p>Tram dataset </p>\n",
    "<ul>\n",
    "    <li>Removing xorg, xsource, mccid_int, xdate column - None of these columns are useful as tehy dont give information about the location of tram stop itself.  </li>\n",
    "    <li>Seperated the geo_shape_2d column into latitude and longitude and later dropped it. </li>\n",
    "    \n",
    "</ul>"
   ]
  },
  {
   "cell_type": "code",
   "execution_count": null,
   "metadata": {},
   "outputs": [],
   "source": [
    "tram = tram.drop(columns=[\"xorg\", \"xsource\", \"xdate\", \"mccid_int\", \"stop_no\"], inplace=False, axis=1 )"
   ]
  },
  {
   "cell_type": "code",
   "execution_count": null,
   "metadata": {
    "scrolled": true
   },
   "outputs": [],
   "source": [
    "# drop check\n",
    "tram.head(10)"
   ]
  },
  {
   "cell_type": "code",
   "execution_count": null,
   "metadata": {},
   "outputs": [],
   "source": [
    "# seperating the geolocation columns\n",
    "tram[[\"lat_tram\", \"lon_tram\"]] = tram.geo_point_2d.str.split(',', expand=True).astype(float)\n",
    "# tram.head(5)\n",
    "tram = tram.drop(columns=[\"geo_point_2d\", \"geo_shape\"], inplace=False, axis=1)\n",
    "\n",
    "\n",
    "# renaming the name column to tram_stop_name to be more specific\n",
    "tram = tram.rename(columns={\"name\":\"stop_name\"})"
   ]
  },
  {
   "cell_type": "code",
   "execution_count": null,
   "metadata": {},
   "outputs": [],
   "source": [
    "# final check \n",
    "tram.head(10)"
   ]
  },
  {
   "cell_type": "markdown",
   "metadata": {},
   "source": [
    "<p>Bus dataset </p>\n",
    "<ul>\n",
    "    <li>Removing prop_id, asset_clas, objectid, str_id, model_desc, mcc_id, roadseg_id, model_no column - None of these columns are useful as they dont give information about the location of the bus stop itself.  </li>\n",
    "    <li>Seperated the geo_shape_2d column into latitude and longitude and later dropped it. </li>\n",
    "    \n",
    "</ul>"
   ]
  },
  {
   "cell_type": "code",
   "execution_count": null,
   "metadata": {},
   "outputs": [],
   "source": [
    "bus = bus.drop(columns= [\n",
    "    \"prop_id\", \n",
    "    \"asset_clas\", \n",
    "    'asset_type', \n",
    "    'str_id', \n",
    "    'model_desc',\n",
    "    'mcc_id', \n",
    "    \"roadseg_id\", \n",
    "    \"model_no\",\n",
    "    \"addresspt1\", \n",
    "    \"addressp_1\",\n",
    "    \"objectid\",\n",
    "    \"addresspt\", \n",
    "    \"descriptio\"\n",
    "], inplace=False, axis=1)"
   ]
  },
  {
   "cell_type": "code",
   "execution_count": null,
   "metadata": {},
   "outputs": [],
   "source": [
    "bus.head(10)"
   ]
  },
  {
   "cell_type": "code",
   "execution_count": null,
   "metadata": {},
   "outputs": [],
   "source": [
    "# seperating the geo_point_2d to lat and lon column \n",
    "bus[[\"lat_bus\", \"lon_bus\"]] =  bus.geo_point_2d.str.split(',', expand=True).astype(float)\n",
    "# drop the original cols \n",
    "bus = bus.drop(columns=[\"geo_point_2d\", \"geo_shape\"], inplace=False, axis=1)"
   ]
  },
  {
   "cell_type": "code",
   "execution_count": null,
   "metadata": {},
   "outputs": [],
   "source": [
    "bus.head(10)"
   ]
  },
  {
   "cell_type": "markdown",
   "metadata": {},
   "source": [
    "<p>Metro dataset </p>\n",
    "<ul>\n",
    "    <li>Removing pids, he_loop, lift column - None of these columns are useful as they dont give information about the location of the metro station.  </li>\n",
    "    <li>Seperated the geo_shape_2d column into latitude and longitude and later dropped it. </li>\n",
    "</ul>"
   ]
  },
  {
   "cell_type": "code",
   "execution_count": null,
   "metadata": {},
   "outputs": [],
   "source": [
    "metro[[\"lat_metro\", \"lon_metro\"]] =  metro.geo_point_2d.str.split(',', expand=True).astype(float)\n",
    "# drop the original cols \n",
    "metro = metro.drop(columns=[\"geo_point_2d\", \"geo_shape\", \"he_loop\", \"lift\", \"pids\"], inplace=False, axis=1)\n",
    "# renamign col\n",
    "metro = metro.rename(columns={\"station\":\"station_name\"})"
   ]
  },
  {
   "cell_type": "code",
   "execution_count": null,
   "metadata": {},
   "outputs": [],
   "source": [
    "# check updates\n",
    "metro.head(10)"
   ]
  },
  {
   "cell_type": "code",
   "execution_count": null,
   "metadata": {},
   "outputs": [],
   "source": [
    "# final shapes of all datasets \n",
    "print(f\"Shape of population dataset: {pop.shape}\")\n",
    "print(f\"Shape of bus stops dataset: {bus.shape}\")\n",
    "print(f\"Shape of tram stop dataset: {tram.shape}\")\n",
    "print(f\"Shape of metro stations dataset: {metro.shape}\")"
   ]
  },
  {
   "cell_type": "markdown",
   "metadata": {},
   "source": [
    "<h3>Visualizations </h3>"
   ]
  },
  {
   "cell_type": "markdown",
   "metadata": {},
   "source": [
    "<p>Population dataset </p>\n",
    "<ul>\n",
    "    <li><FONT COLOR=\"RED\"> SELF NOTE -Facing issues with nonetype objects for two locations (Melbourne (Remainder),Victoria, Australia' and 'West Melbourne (Residential),Victoria, Australia)  </li>\n",
    "</ul>"
   ]
  },
  {
   "cell_type": "code",
   "execution_count": null,
   "metadata": {},
   "outputs": [],
   "source": [
    "pop"
   ]
  },
  {
   "cell_type": "code",
   "execution_count": null,
   "metadata": {},
   "outputs": [],
   "source": [
    "geolocator = Nominatim(user_agent=\"location_details\")\n",
    "\n",
    "new_df = pd.DataFrame()\n",
    "\n",
    "city_list = list()\n",
    "lat_list = list()\n",
    "long_list = list()\n",
    "\n",
    "for city in pop.geography.unique():\n",
    "    city = f\"{city}, Victoria, Australia\"\n",
    "    try: \n",
    "        location = geolocator.geocode(city)\n",
    "        # print((location.address,  location.latitude, location.longitude))\n",
    "        lat_list.append(location.latitude)\n",
    "        long_list.append(location.longitude)\n",
    "        # print()\n",
    "        city_list.append(location.address.split(\",\")[0])\n",
    "        map=folium.Map(location=[location.latitude, location.longitude],zoom_start=15)\n",
    "        map.add_child(folium.Marker(location=[location.latitude, location.longitude],popup=location,icon=folium.Icon(color='blue')))\n",
    "        \n",
    "    except:\n",
    "        print(f\"CITY NOT FOUND: {city}\")\n",
    "        \n",
    "\n",
    "new_df['geography'] = np.array(city_list)\n",
    "new_df['city_lat']   = np.array(lat_list)\n",
    "new_df['city_long'] = np.array(long_list)\n",
    "\n",
    "\n",
    "new_df\n",
    "pop_lat_long = new_df\n",
    "pop_lat_long\n",
    "# location = geolocator.geocode(\"Carlton, Victoria, Australia\")\n",
    "# print((location.latitude, location.longitude))\n",
    "\n"
   ]
  },
  {
   "cell_type": "code",
   "execution_count": null,
   "metadata": {},
   "outputs": [],
   "source": [
    "city_names = list(pop.geography.unique())\n",
    "# city_names"
   ]
  },
  {
   "cell_type": "code",
   "execution_count": null,
   "metadata": {
    "scrolled": true
   },
   "outputs": [],
   "source": [
    "x = pop[pop.geography.isin(city_names)]\n",
    "\n",
    "\n",
    "plt.figure(figsize=(10,6))\n",
    "plot= sns.lineplot(data=x, x='year', y='value', hue='geography', marker='o')\n",
    "plt.title('Population over time in various cities')\n",
    "plt.xlabel('Year')\n",
    "plt.ylabel('Value')\n",
    "plt.legend(title='Location')\n",
    "sns.move_legend(plot, \"upper left\", bbox_to_anchor=(1, 1))"
   ]
  },
  {
   "cell_type": "code",
   "execution_count": null,
   "metadata": {},
   "outputs": [],
   "source": [
    "# bar plot \n",
    "plt.figure(figsize=(10, 8))\n",
    "sns.barplot(data=pop, x='value', y='geography', palette='viridis')\n",
    "plt.title(f'Overall population Across cities')\n",
    "plt.xlabel('Value')\n",
    "plt.ylabel('Geography')\n",
    "plt.show()"
   ]
  },
  {
   "cell_type": "code",
   "execution_count": null,
   "metadata": {},
   "outputs": [],
   "source": [
    "# Plotting box plot using seaborn\n",
    "plt.figure(figsize=(12, 8))\n",
    "sns.boxplot(data=pop, x='geography', y='value', palette='Set3')\n",
    "plt.title('Box Plot of Values Over Years')\n",
    "plt.xlabel('cities')\n",
    "plt.xticks(rotation=90)\n",
    "plt.ylabel('Value')\n",
    "plt.show()"
   ]
  },
  {
   "cell_type": "markdown",
   "metadata": {},
   "source": [
    "<p>Tram dataset </p>\n",
    "<ul>\n",
    "    Initial visualization to see locations of tram stops \n",
    "</ul>"
   ]
  },
  {
   "cell_type": "code",
   "execution_count": null,
   "metadata": {
    "scrolled": true
   },
   "outputs": [],
   "source": [
    "tram.head(3)"
   ]
  },
  {
   "cell_type": "code",
   "execution_count": null,
   "metadata": {},
   "outputs": [],
   "source": [
    "import folium\n",
    "\n",
    "map = folium.Map(location = [tram[\"lat_tram\"].iloc[0], tram[\"lon_tram\"].iloc[0]], zoom_start=-1)\n",
    "\n",
    "for i, rows in tram.iterrows():\n",
    "    folium.Marker(location=[rows[\"lat_tram\"], rows[\"lon_tram\"]], tooltip=rows['stop_name']).add_to(map)\n",
    "\n",
    "min_val = tram[['lat_tram', 'lon_tram']].min().values.tolist()\n",
    "max_val = tram[['lat_tram', 'lon_tram']].max().values.tolist()\n",
    "\n",
    "map.fit_bounds([min_val, max_val]) \n",
    "\n",
    "\n",
    "map"
   ]
  },
  {
   "cell_type": "markdown",
   "metadata": {},
   "source": [
    "<p>Metro station dataset </p>\n",
    "<ul>\n",
    "    Initial visualization to see locations of metro station stops \n",
    "</ul>"
   ]
  },
  {
   "cell_type": "code",
   "execution_count": null,
   "metadata": {},
   "outputs": [],
   "source": [
    "metro.info()"
   ]
  },
  {
   "cell_type": "code",
   "execution_count": null,
   "metadata": {},
   "outputs": [],
   "source": [
    "map = folium.Map(location = [metro[\"lat_metro\"].iloc[0], metro[\"lon_metro\"].iloc[0]], zoom_start=10)\n",
    "\n",
    "for i, rows in metro.iterrows():\n",
    "    folium.Marker(location=[rows[\"lat_metro\"], rows[\"lon_metro\"]], tooltip=rows['station_name']).add_to(map)\n",
    "\n",
    "min_val = metro[['lat_metro', 'lon_metro']].min().values.tolist()\n",
    "max_val = metro[['lat_metro', 'lon_metro']].max().values.tolist()\n",
    "\n",
    "map.fit_bounds([min_val, max_val]) \n",
    "\n",
    "\n",
    "map"
   ]
  },
  {
   "cell_type": "code",
   "execution_count": null,
   "metadata": {},
   "outputs": [],
   "source": [
    "bus.info()"
   ]
  },
  {
   "cell_type": "markdown",
   "metadata": {},
   "source": [
    "<p>Bus stop dataset </p>\n",
    "<ul>\n",
    "    Initial visualization to see locations of bus stops \n",
    "</ul>"
   ]
  },
  {
   "cell_type": "code",
   "execution_count": null,
   "metadata": {},
   "outputs": [],
   "source": [
    "map = folium.Map(location = [bus[\"lat_bus\"].iloc[0], bus[\"lon_bus\"].iloc[0]], zoom_start=10)\n",
    "\n",
    "for i, rows in bus.iterrows():\n",
    "    folium.Marker(location=[rows[\"lat_bus\"], rows[\"lon_bus\"]]).add_to(map)\n",
    "\n",
    "min_val = bus[['lat_bus', 'lon_bus']].min().values.tolist()\n",
    "max_val = bus[['lat_bus', 'lon_bus']].max().values.tolist()\n",
    "\n",
    "map.fit_bounds([min_val, max_val]) \n",
    "\n",
    "\n",
    "map"
   ]
  },
  {
   "cell_type": "markdown",
   "metadata": {},
   "source": [
    "As the data for Tram stops is not sufficient we will no longer use tram data "
   ]
  },
  {
   "cell_type": "code",
   "execution_count": null,
   "metadata": {},
   "outputs": [],
   "source": [
    "# combining transport and popualtion map \n",
    "map = folium.Map(zoom_start=10)\n",
    "\n",
    "# to show the bus stops\n",
    "for i, rows in bus.iterrows():\n",
    "    folium.Marker(location=[rows[\"lat_bus\"], rows[\"lon_bus\"]],icon=folium.Icon(color='blue')).add_to(map)\n",
    "\n",
    "# To show teh metro stops\n",
    "for i, rows in metro.iterrows():\n",
    "    folium.Marker(location=[rows[\"lat_metro\"], rows[\"lon_metro\"]], icon=folium.Icon(color='orange')).add_to(map)\n",
    "\n",
    "\n",
    "for i, rows in pop_lat_long.iterrows():\n",
    "    folium.Marker(location=[rows[\"city_lat\"], rows[\"city_long\"]], icon=folium.Icon(color='green')).add_to(map)\n",
    "\n",
    "\n",
    "\n",
    "min_val = bus[['lat_bus', 'lon_bus']].min().values.tolist()\n",
    "max_val = bus[['lat_bus', 'lon_bus']].max().values.tolist()\n",
    "\n",
    "map.fit_bounds([min_val, max_val]) \n",
    "\n",
    "\n",
    "map"
   ]
  },
  {
   "cell_type": "markdown",
   "metadata": {},
   "source": [
    "<h2>Preprocessing </h2>"
   ]
  },
  {
   "cell_type": "markdown",
   "metadata": {},
   "source": [
    "<p>Preprocessing data so it can be fed into models and networks </p>"
   ]
  },
  {
   "cell_type": "markdown",
   "metadata": {},
   "source": [
    "<h4> Population  </h4>"
   ]
  },
  {
   "cell_type": "markdown",
   "metadata": {},
   "source": [
    "<p> Expanding the population datasets so that we can see the population for each year in particular city.  </p>"
   ]
  },
  {
   "cell_type": "code",
   "execution_count": null,
   "metadata": {},
   "outputs": [],
   "source": [
    "pop=pop.pivot_table(index=\"year\", columns=\"geography\", values=\"value\", aggfunc='first')\n",
    "# pop.head(5)"
   ]
  },
  {
   "cell_type": "markdown",
   "metadata": {},
   "source": [
    "merging population column with the dataset that we previously worked on to find the latitude and longitudea of each geographic location so that the last two columns of population datasets reflect the lattitude and longitude of those locations/places "
   ]
  },
  {
   "cell_type": "code",
   "execution_count": null,
   "metadata": {},
   "outputs": [],
   "source": [
    "pop.head(5)"
   ]
  },
  {
   "cell_type": "markdown",
   "metadata": {},
   "source": [
    "Dropping the \"City of Melbourne\" row as it not one of the locations in CLUE small area as seen here -\n",
    "https://www.melbourne.vic.gov.au/sitecollectiondocuments/clue-small-area-block-map.pdf"
   ]
  },
  {
   "cell_type": "code",
   "execution_count": null,
   "metadata": {},
   "outputs": [],
   "source": [
    "pop=pop.drop(['City of Melbourne'],axis=1)"
   ]
  },
  {
   "cell_type": "code",
   "execution_count": null,
   "metadata": {},
   "outputs": [],
   "source": [
    "pop.head(5)"
   ]
  },
  {
   "cell_type": "code",
   "execution_count": null,
   "metadata": {},
   "outputs": [],
   "source": [
    "new_pop = pop.copy()"
   ]
  },
  {
   "cell_type": "code",
   "execution_count": null,
   "metadata": {},
   "outputs": [],
   "source": [
    "pop.columns = pop.columns.astype(str)   # to change teh column names to type stirng "
   ]
  },
  {
   "cell_type": "code",
   "execution_count": null,
   "metadata": {},
   "outputs": [],
   "source": [
    "pop=pop.reset_index()"
   ]
  },
  {
   "cell_type": "code",
   "execution_count": null,
   "metadata": {},
   "outputs": [],
   "source": [
    "# formatting the year column as datetime and setting it as index\n",
    "pop.year = pd.to_datetime(pop.year, format=\"%Y\")\n",
    "pop.set_index('year', inplace =True)"
   ]
  },
  {
   "cell_type": "code",
   "execution_count": null,
   "metadata": {},
   "outputs": [],
   "source": [
    "pop=pop.loc[:, ['Carlton', 'Docklands', 'East Melbourne', 'Kensington','Melbourne (CBD)', 'Melbourne (Remainder)', 'North Melbourne', 'Parkville', 'Port Melbourne', 'South Yarra', 'Southbank','West Melbourne (Residential)']]\n",
    "\n",
    "pop.head(3)"
   ]
  },
  {
   "cell_type": "markdown",
   "metadata": {},
   "source": [
    "<h2>Models</h2>\n",
    "<h3>Part A: Population Dataset</h3>"
   ]
  },
  {
   "cell_type": "markdown",
   "metadata": {},
   "source": [
    "<h4> 1. ARIMA Model</h4>\n",
    "<p> ARIMA models are used to handle time series data and it helps in predicting future values based on the past values. As we have yearly data about the population from year 2021 to 2041 for each city in Small Area CLUE population dataset, using ARIMA would be a good start to help use create a model that can predict the values for future years based on the current data. </p>\n",
    "<ul>\n",
    "    <li><b>AR (Auto Regression) - </b>This explains the relationship between the current observation and the lagged observation </li>\n",
    "    <li><b>I (Integrated)- </b> In order to achieve a stationary series we apply differencing so that we dont have trends or seasionality. </li>\n",
    "    <li><b>MA (Moving Average) - </b>This component helps us understand the relationship between an observation and the residual error from moving average model based on lagged observations. (Jason Brownlee 2017)</li>\n",
    "</ul>"
   ]
  },
  {
   "cell_type": "markdown",
   "metadata": {},
   "source": [
    "<p><b>General approach explained/shown below</b></p>"
   ]
  },
  {
   "cell_type": "code",
   "execution_count": null,
   "metadata": {},
   "outputs": [],
   "source": [
    "pop.head(5)"
   ]
  },
  {
   "cell_type": "code",
   "execution_count": null,
   "metadata": {},
   "outputs": [],
   "source": [
    "# first we choose one area in our dataset, lets say Carlton for simplicity \n",
    "data = pop.Carlton\n",
    "data.head(5)"
   ]
  },
  {
   "cell_type": "markdown",
   "metadata": {},
   "source": [
    "<p>We check for stationarity here, as stationarity tells us if the data we are working on is stationary or not. A time series is stationary if all the statistical properties like mean, variance and correlation are constant over time. A stationary series does not have a trend or seasional effects and its fluctuation around the mean is constant. \n",
    "    \n",
    "The stationarity is checked for model accuracy as most time series forecasting methods assume that our models are stationary. Moreover stationary data is easy to model and predictions made on such a model are reliable as the future values have the same mean and variance as past values.  (Duke University 2024)</p>"
   ]
  },
  {
   "cell_type": "code",
   "execution_count": null,
   "metadata": {},
   "outputs": [],
   "source": [
    "# Checking for stationarity \n",
    "result = adfuller(data.dropna())\n",
    "print(f\"ADF Statistics: {result[0]}\")\n",
    "print(f\"p-value:{result[1]}\")"
   ]
  },
  {
   "cell_type": "markdown",
   "metadata": {},
   "source": [
    "<p>ADF test tells us the ADF statistics and p-value. The Augmented Dickey-Fuller Test, tests for unit root in time series which indicated the data is non-stationary and hence is affected by trends. \n",
    "\n",
    "Null Hypothesis: The series has unit root or it is non-stationary\n",
    "Alternative Hypothesis: The series has no unit root or it is stationary\n",
    "\n",
    "As our p-value (0.1123) is not below 0.05 we cannot reject null hypthesis and this means that our data is not stationary and hence we will make it stationary in following lines of codes below. \n",
    "\n",
    "The ADF statistics suggest that the higher the negative value, the stronger the evidence to not reject null hypothesis, as seen above we have a negative value hence proving strongly that we cannot reject the null hypothsis. </p>"
   ]
  },
  {
   "cell_type": "code",
   "execution_count": null,
   "metadata": {},
   "outputs": [],
   "source": [
    "# applying differencing\n",
    "data = data.diff().dropna()\n",
    "\n",
    "diff_results = adfuller(data)\n",
    "print(f\"ADF Statistics: {diff_results[0]}\")\n",
    "print(f\"p-value:{diff_results[1]}\")"
   ]
  },
  {
   "cell_type": "markdown",
   "metadata": {},
   "source": [
    "<p>Now the data is staionary as the p-value is below 0.05</p>"
   ]
  },
  {
   "cell_type": "code",
   "execution_count": null,
   "metadata": {},
   "outputs": [],
   "source": [
    "data.plot()\n",
    "plt.title('Yearly population in Docklands')\n",
    "plt.show()"
   ]
  },
  {
   "cell_type": "code",
   "execution_count": null,
   "metadata": {},
   "outputs": [],
   "source": [
    "# defining the ARIMA model \n",
    "model =ARIMA(data,order=(1,1,1))\n",
    "\n",
    "# fitting\n",
    "fitted = model.fit()\n",
    "\n",
    "# forecasting \n",
    "forecast = fitted.forecast(steps=5)\n",
    "print(forecast)\n",
    "\n",
    "# plot \n",
    "plt.plot(data.index, data,label=\"Historical data\")\n",
    "plt.plot(forecast.index, forecast, label=\"Forecasted data\")\n",
    "plt.legend()\n",
    "plt.show()"
   ]
  },
  {
   "cell_type": "markdown",
   "metadata": {},
   "source": [
    "<p><b>Main function that perform ARIMA on all cities and plots the result</b></p>"
   ]
  },
  {
   "cell_type": "code",
   "execution_count": null,
   "metadata": {},
   "outputs": [],
   "source": [
    "# All functions \n",
    "\n",
    "def plot(data, forecast, city_name):\n",
    "    fig, axs = plt.subplots(6, 2, figsize=(20, 20))\n",
    "    \n",
    "    for i in range(12):\n",
    "        row = i // 2  # row index\n",
    "        col = i % 2   # column index\n",
    "    \n",
    "        axs[row, col].plot(new_data[i].index, new_data[i], label=\"Historical Data\")\n",
    "        axs[row, col].plot(new_forecast[i].index, new_forecast[i], label=\"Forecasted Data\")\n",
    "        axs[row, col].set_title(new_city_name[i])\n",
    "        axs[row, col].legend()  \n",
    "    plt.tight_layout()\n",
    "    plt.show()\n",
    "\n",
    "        \n",
    "    \n",
    "\n",
    "def model_arima(data):\n",
    "    # defining the ARIMA model \n",
    "    model =ARIMA(data,order=(1,1,1))\n",
    "    \n",
    "    # fitting\n",
    "    fitted = model.fit()\n",
    "    \n",
    "    # forecasting \n",
    "    forecast = fitted.forecast(steps=5)\n",
    "    # print(forecast)\n",
    "    return (data, forecast)\n",
    "\n",
    "\n",
    "\n",
    "\n",
    "def main():  \n",
    "    colname = pop.columns\n",
    "\n",
    "    # empty lists to use later\n",
    "    dict_adf_and_p = {}  # self explanatory \n",
    "    new_data_list = [] \n",
    "    forecast_list = []\n",
    "    city_name_list = []\n",
    "    \n",
    "    for i in range(pop.shape[1]):\n",
    "        data = pop.iloc[:, i]\n",
    "        city_name = colname[i]\n",
    "        city_name_list.append(city_name)\n",
    "        # print(city_name)\n",
    "        result = adfuller(data)\n",
    "        adf = result[0]\n",
    "        p = result[1]\n",
    "\n",
    "        # if the p values is > 0.05 we make the stationarize it using diff() or else both diff to stationarize and log to transoform to see hideen patterns in data \n",
    "        if p > 0.05:\n",
    "            data = data.diff().dropna()\n",
    "            results = adfuller(data)\n",
    "            adf = result[0]\n",
    "            p = result[1]\n",
    "            dict_adf_and_p[city_name] = [adf,p]\n",
    "        else:\n",
    "            data = data.diff().dropna()\n",
    "            data = np.log(data + 1)\n",
    "            results = adfuller(data)\n",
    "            adf = result[0]\n",
    "            p = result[1]\n",
    "            dict_adf_and_p[city_name] = [adf,p]\n",
    "                         \n",
    "            \n",
    "        new_data, forecast = model_arima(data)\n",
    "        new_data_list.append(new_data)\n",
    "        forecast_list.append(forecast)\n",
    "    return new_data_list,forecast_list, city_name_list \n",
    "\n",
    "\n",
    "\n",
    "new_data, new_forecast, new_city_name = main()  \n",
    "plot(new_data, new_forecast, new_city_name)\n",
    "\n",
    "\n"
   ]
  },
  {
   "cell_type": "markdown",
   "metadata": {},
   "source": [
    "<p><b>Key findings from the plot. </b></p>\n",
    "<ul>\n",
    "    <li><b>1. Historical Data Trends:</b> Most areas show some level of fluctuations in the populations from the year 2021 to 2041 (historical data). Areas like Carlton, East Melbourne and Port Melbourne show significant changes over the years while others like Docklands, Melbourne CBD and Southbank show gradual decrease in population in coming years. We can see a general decline in population in cities like South Yarra, West Melbourne (Residential), Parkville, Melbourne(Remainder) and East Melbourne. Cities like Carlton, North Melbourne and Port Melbourne have complex changes in population as it decreases and then increases in following years. </li>\n",
    "    <li><b>2. Forecasted Data:</b> For most areas the forecasted data sees no significant change in population from the historical point. This might indicate that the recent trends are a good indication of future trends with no significant changes.  </li>\n",
    "</ul>"
   ]
  },
  {
   "cell_type": "markdown",
   "metadata": {},
   "source": [
    "<h4> 2. Linear Regression</h4>\n",
    "<p> Linear Regression on population dataset will allow us to understand the population growth in different geographic areas. We expect the growth to be a linear trend in over time over time as long as there isnt drastic demographic shifts. Through linear regression we will be able to estimate the rate of population increase and decrease in various cities as a function of time. This will help us gain more insights on top of the results achieved previously through ARIMA model. To understand how well our training set is performing against the new test data we use metrics like Mean squared Error (MSE) and R-squared.  </p>"
   ]
  },
  {
   "cell_type": "markdown",
   "metadata": {},
   "source": [
    "<p><b>General approach explained/shown below</b></p>"
   ]
  },
  {
   "cell_type": "code",
   "execution_count": null,
   "metadata": {},
   "outputs": [],
   "source": [
    "new_pop = new_pop.reset_index()  # so that year is not index and an actual additional column"
   ]
  },
  {
   "cell_type": "code",
   "execution_count": null,
   "metadata": {},
   "outputs": [],
   "source": [
    "# preparing the data to be put into the model\n",
    "x = new_pop.year.values.reshape(-1,1)\n",
    "y = new_pop.Carlton.values.reshape(-1,1)\n",
    "\n",
    "x_train,x_test,y_train,y_test = train_test_split(x,y,test_size=0.30, random_state=42)"
   ]
  },
  {
   "cell_type": "code",
   "execution_count": null,
   "metadata": {},
   "outputs": [],
   "source": [
    "model = LinearRegression()\n",
    "model.fit(x_train,y_train)"
   ]
  },
  {
   "cell_type": "code",
   "execution_count": null,
   "metadata": {},
   "outputs": [],
   "source": [
    "x_test"
   ]
  },
  {
   "cell_type": "code",
   "execution_count": null,
   "metadata": {},
   "outputs": [],
   "source": [
    "y_pred = model.predict(x_test)\n",
    "y_pred"
   ]
  },
  {
   "cell_type": "code",
   "execution_count": null,
   "metadata": {},
   "outputs": [],
   "source": [
    "y_test"
   ]
  },
  {
   "cell_type": "code",
   "execution_count": null,
   "metadata": {},
   "outputs": [],
   "source": [
    "from sklearn.metrics import mean_squared_error, r2_score \n",
    "mse = mean_squared_error(y_test, y_pred)\n",
    "print(f\"MSE is {mse}\")\n",
    "r2 = r2_score(y_test, y_pred)\n",
    "print(f\"R^2 score is {r2}\")"
   ]
  },
  {
   "cell_type": "code",
   "execution_count": null,
   "metadata": {},
   "outputs": [],
   "source": [
    "future_years = np.array(np.arange(2041, 2048)).reshape(-1, 1)\n",
    "future_years"
   ]
  },
  {
   "cell_type": "code",
   "execution_count": null,
   "metadata": {},
   "outputs": [],
   "source": [
    "future_pred = model.predict(future_years)\n",
    "future_pred"
   ]
  },
  {
   "cell_type": "code",
   "execution_count": null,
   "metadata": {},
   "outputs": [],
   "source": [
    "plt.figure(figsize=(10, 6))\n",
    "plt.scatter(x_train, y_train, color='blue', label='Training Data')\n",
    "plt.scatter(x_test, y_test, color='green', label='Test Data')\n",
    "plt.scatter(future_years, future_pred, color='orange', label='Future Predicted Data')\n",
    "plt.plot(x_train, model.predict(x_train), color='red', label='Fitted Model')\n",
    "plt.title('Linear Regression on Carlton Population')\n",
    "plt.xlabel('Year')\n",
    "plt.ylabel('Population')\n",
    "plt.legend()\n",
    "plt.show()"
   ]
  },
  {
   "cell_type": "markdown",
   "metadata": {},
   "source": [
    "<p><b>Code that goes through all cities</b></p>"
   ]
  },
  {
   "cell_type": "code",
   "execution_count": null,
   "metadata": {},
   "outputs": [],
   "source": [
    "new_pop = new_pop.drop(columns=\"West Melbourne (Industrial)\")  # as most data points are 0"
   ]
  },
  {
   "cell_type": "code",
   "execution_count": null,
   "metadata": {},
   "outputs": [],
   "source": [
    "city_names = list(new_pop.columns[1:])  # List of city names, excluding 'year'\n",
    "metric_dict = {}\n",
    "num_cities = len(city_names)\n",
    "\n",
    "# for visualization \n",
    "cols = 3  # Number of columns in subplot grid\n",
    "rows = (num_cities + cols - 1) // cols  # Calculate required number of rows\n",
    "\n",
    "fig, axs = plt.subplots(rows, cols, figsize=(15, 15)) \n",
    "axs = axs.flatten()  # Flatten the axis array for easier indexing\n",
    "\n",
    "for i, city in enumerate(city_names):\n",
    "    data = new_pop.loc[:, ['year', city]]\n",
    "    x = data['year'].values.reshape(-1, 1)\n",
    "    y = data[city].values.reshape(-1, 1)\n",
    "\n",
    "    # Split the data, 70 - 30 split\n",
    "    x_train, x_test, y_train, y_test = train_test_split(x, y, test_size=0.30, random_state=42)\n",
    "\n",
    "    # Fit the model\n",
    "    model = LinearRegression()\n",
    "    model.fit(x_train, y_train)\n",
    "\n",
    "    # Predict\n",
    "    y_pred = model.predict(x_test)\n",
    "    fit_line = model.predict(x_train)\n",
    "\n",
    "    # Metrics\n",
    "    mse = mean_squared_error(y_test, y_pred)\n",
    "    r2 = r2_score(y_test, y_pred)\n",
    "    metric_dict[city] = (mse, r2)\n",
    "\n",
    "    # Future predictions\n",
    "    future_years = np.array(np.arange(2041, 2048)).reshape(-1, 1)\n",
    "    future_pred = model.predict(future_years)\n",
    "\n",
    "    # Plotting in subplot\n",
    "    ax = axs[i]\n",
    "    ax.scatter(x_train, y_train, color='blue', label='Training Data')\n",
    "    ax.scatter(x_test, y_test, color='ED', label='Test Data')\n",
    "    ax.scatter(future_years, future_pred, color='orange', label='Future Predicted Data')\n",
    "    ax.plot(x_train, fit_line, color='red', label='Fitted Model')\n",
    "    ax.set_title(f'{city}: MSE={round(mse,4)}, R-squared={round(r2,4)}')\n",
    "    ax.set_xlabel('Year')\n",
    "    ax.set_ylabel('Population')\n",
    "    ax.legend()\n",
    "\n",
    "# Disable unused subplots if number of cities is not a perfect multiple of cols*rows\n",
    "for j in range(i + 1, len(axs)):\n",
    "    axs[j].axis('off')\n",
    "\n",
    "fig.tight_layout()  # Adjust layout to prevent overlap\n",
    "plt.show()"
   ]
  },
  {
   "cell_type": "code",
   "execution_count": null,
   "metadata": {},
   "outputs": [],
   "source": []
  }
 ],
 "metadata": {
  "kernelspec": {
   "display_name": "Python 3 (ipykernel)",
   "language": "python",
   "name": "python3"
  },
  "language_info": {
   "codemirror_mode": {
    "name": "ipython",
    "version": 3
   },
   "file_extension": ".py",
   "mimetype": "text/x-python",
   "name": "python",
   "nbconvert_exporter": "python",
   "pygments_lexer": "ipython3",
   "version": "3.11.2"
  },
  "vscode": {
   "interpreter": {
    "hash": "369f2c481f4da34e4445cda3fffd2e751bd1c4d706f27375911949ba6bb62e1c"
   }
  }
 },
 "nbformat": 4,
 "nbformat_minor": 4
}
