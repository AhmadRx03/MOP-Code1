{
 "cells": [
  {
   "cell_type": "markdown",
   "metadata": {},
   "source": [
    "_**DELETE BEFORE PUBLISHING**_\n",
    "\n",
    "_This is a template also containing the style guide for use cases. The styling uses the use-case css when uploaded to the website, which will not be visible on your local machine._\n",
    "\n",
    "_Change any text marked with {} and delete any cells marked DELETE_\n",
    "\n",
    "***"
   ]
  },
  {
   "cell_type": "code",
   "execution_count": 5,
   "metadata": {},
   "outputs": [
    {
     "data": {
      "text/html": [
       "\n",
       "<style>\n",
       ".usecase-title, .usecase-duration, .usecase-section-header {\n",
       "    padding-left: 15px;\n",
       "    padding-bottom: 10px;\n",
       "    padding-top: 10px;\n",
       "    padding-right: 15px;\n",
       "    background-color: #0f9295;\n",
       "    color: #fff;\n",
       "}\n",
       "\n",
       ".usecase-title {\n",
       "    font-size: 1.7em;\n",
       "    font-weight: bold;\n",
       "}\n",
       "\n",
       ".usecase-authors, .usecase-level, .usecase-skill {\n",
       "    padding-left: 15px;\n",
       "    padding-bottom: 7px;\n",
       "    padding-top: 7px;\n",
       "    background-color: #baeaeb;\n",
       "    font-size: 1.4em;\n",
       "    color: #121212;\n",
       "}\n",
       "\n",
       ".usecase-level-skill  {\n",
       "    display: flex;\n",
       "}\n",
       "\n",
       ".usecase-level, .usecase-skill {\n",
       "    width: 50%;\n",
       "}\n",
       "\n",
       ".usecase-duration, .usecase-skill {\n",
       "    text-align: right;\n",
       "    padding-right: 15px;\n",
       "    padding-bottom: 8px;\n",
       "    font-size: 1.4em;\n",
       "}\n",
       "\n",
       ".usecase-section-header {\n",
       "    font-weight: bold;\n",
       "    font-size: 1.5em;\n",
       "}\n",
       "\n",
       ".usecase-subsection-header, .usecase-subsection-blurb {\n",
       "    font-weight: bold;\n",
       "    font-size: 1.2em;\n",
       "    color: #121212;\n",
       "}\n",
       "\n",
       ".usecase-subsection-blurb {\n",
       "    font-size: 1em;\n",
       "    font-style: italic;\n",
       "}\n",
       "</style>\n"
      ],
      "text/plain": [
       "<IPython.core.display.HTML object>"
      ]
     },
     "execution_count": 5,
     "metadata": {},
     "output_type": "execute_result"
    }
   ],
   "source": [
    "# DELETE BEFORE PUBLISHING\n",
    "# This is just here so you can preview the styling on your local machine\n",
    "\n",
    "from IPython.core.display import HTML\n",
    "HTML(\"\"\"\n",
    "<style>\n",
    ".usecase-title, .usecase-duration, .usecase-section-header {\n",
    "    padding-left: 15px;\n",
    "    padding-bottom: 10px;\n",
    "    padding-top: 10px;\n",
    "    padding-right: 15px;\n",
    "    background-color: #0f9295;\n",
    "    color: #fff;\n",
    "}\n",
    "\n",
    ".usecase-title {\n",
    "    font-size: 1.7em;\n",
    "    font-weight: bold;\n",
    "}\n",
    "\n",
    ".usecase-authors, .usecase-level, .usecase-skill {\n",
    "    padding-left: 15px;\n",
    "    padding-bottom: 7px;\n",
    "    padding-top: 7px;\n",
    "    background-color: #baeaeb;\n",
    "    font-size: 1.4em;\n",
    "    color: #121212;\n",
    "}\n",
    "\n",
    ".usecase-level-skill  {\n",
    "    display: flex;\n",
    "}\n",
    "\n",
    ".usecase-level, .usecase-skill {\n",
    "    width: 50%;\n",
    "}\n",
    "\n",
    ".usecase-duration, .usecase-skill {\n",
    "    text-align: right;\n",
    "    padding-right: 15px;\n",
    "    padding-bottom: 8px;\n",
    "    font-size: 1.4em;\n",
    "}\n",
    "\n",
    ".usecase-section-header {\n",
    "    font-weight: bold;\n",
    "    font-size: 1.5em;\n",
    "}\n",
    "\n",
    ".usecase-subsection-header, .usecase-subsection-blurb {\n",
    "    font-weight: bold;\n",
    "    font-size: 1.2em;\n",
    "    color: #121212;\n",
    "}\n",
    "\n",
    ".usecase-subsection-blurb {\n",
    "    font-size: 1em;\n",
    "    font-style: italic;\n",
    "}\n",
    "</style>\n",
    "\"\"\")"
   ]
  },
  {
   "cell_type": "code",
   "execution_count": 9,
   "metadata": {},
   "outputs": [
    {
     "ename": "SyntaxError",
     "evalue": "invalid syntax (2825902967.py, line 3)",
     "output_type": "error",
     "traceback": [
      "\u001b[1;36m  Cell \u001b[1;32mIn[9], line 3\u001b[1;36m\u001b[0m\n\u001b[1;33m    display(HTML\"\"\"\u001b[0m\n\u001b[1;37m                ^\u001b[0m\n\u001b[1;31mSyntaxError\u001b[0m\u001b[1;31m:\u001b[0m invalid syntax\n"
     ]
    }
   ],
   "source": [
    "from IPython.core.display import display, HTML\n",
    "\n",
    "display(HTML\"\"\"\n",
    "        (<div class=\"usecase-title\">Assessing Parking Availability Around Café, restaurant, bistro seats, Bar, tavern and pub </div>\n",
    "\n",
    "<div class=\"usecase-authors\"><b>Authored by: </b> Chathu Siriwardena</div>\n",
    "\"\"\")"
   ]
  },
  {
   "cell_type": "code",
   "execution_count": null,
   "metadata": {},
   "outputs": [],
   "source": [
    "<div class=\"usecase-duration\"><b>Duration:</b> {90} mins</div>\n",
    "\n",
    "<div class=\"usecase-level-skill\">\n",
    "    <div class=\"usecase-level\"><b>Level: </b>{Intermediate}</div>\n",
    "    <div class=\"usecase-skill\"><b>Pre-requisite Skills: </b>{Python, and add any more skills needed}</div>\n",
    "</div>"
   ]
  },
  {
   "cell_type": "markdown",
   "metadata": {},
   "source": [
    "<div class=\"usecase-section-header\">Scenario</div>"
   ]
  },
  {
   "cell_type": "markdown",
   "metadata": {},
   "source": [
    "{Using User Story format, write a description of the problem you are trying to solve for this use case.}"
   ]
  },
  {
   "cell_type": "markdown",
   "metadata": {},
   "source": [
    "<div class=\"usecase-section-header\">What this use case will teach you</div>"
   ]
  },
  {
   "cell_type": "markdown",
   "metadata": {},
   "source": [
    "At the end of this use case you will:\n",
    "- {list the skills demonstrated in your use case}"
   ]
  },
  {
   "cell_type": "markdown",
   "metadata": {},
   "source": [
    "<div class=\"usecase-section-header\">{Heading for introduction or background relating to problem}</div>"
   ]
  },
  {
   "cell_type": "markdown",
   "metadata": {},
   "source": [
    "{Write your introduction here. Keep it concise. We're not after \"War and Peace\" but enough background information to inform the reader on the rationale for solving this problem or background non-technical information that helps explain the approach. You may also wish to give information on the datasets, particularly how to source those not being imported from the client's open data portal.}\n",
    "\n"
   ]
  },
  {
   "cell_type": "code",
   "execution_count": null,
   "metadata": {},
   "outputs": [],
   "source": [
    "pip install scikeras"
   ]
  },
  {
   "cell_type": "code",
   "execution_count": null,
   "metadata": {},
   "outputs": [],
   "source": [
    "pip install geopy"
   ]
  },
  {
   "cell_type": "code",
   "execution_count": null,
   "metadata": {},
   "outputs": [],
   "source": [
    "pip install folium"
   ]
  },
  {
   "cell_type": "code",
   "execution_count": null,
   "metadata": {},
   "outputs": [],
   "source": [
    "pip install category_encoders"
   ]
  },
  {
   "cell_type": "code",
   "execution_count": null,
   "metadata": {},
   "outputs": [],
   "source": [
    "#importing Libraries\n",
    "import requests\n",
    "import pandas as pd\n",
    "import numpy as np\n",
    "from datetime import datetime\n",
    "from io import StringIO\n",
    "import geopy\n",
    "from geopy.geocoders import Nominatim\n",
    "import folium\n",
    "from ipywidgets import interact, widgets\n",
    "from IPython.display import display\n",
    "import seaborn as sns\n",
    "import matplotlib.pyplot as plt\n",
    "import re as re\n",
    "from geopy.extra.rate_limiter import RateLimiter"
   ]
  },
  {
   "cell_type": "code",
   "execution_count": null,
   "metadata": {},
   "outputs": [],
   "source": [
    "base_url='https://data.melbourne.vic.gov.au/api/explore/v2.1/catalog/datasets/'\n",
    "dataset_id='cafes-and-restaurants-with-seating-capacity'\n",
    "\n",
    "\n",
    "url=f'{base_url}{dataset_id}/exports/csv'\n",
    "params={'select':'*','limit':-1,'lang':'en','timezone':'UTC'}\n",
    "\n",
    "response=requests.get(url,params=params)\n",
    "\n",
    "if response.status_code==200:\n",
    "    url_content=response.content.decode('utf-8')\n",
    "    cafes_df=pd.read_csv(StringIO(url_content),delimiter=';')\n",
    "    print(cafes_df.head(10))\n",
    "else:\n",
    "    print(f'Request failed with status code {response.status_code}')"
   ]
  },
  {
   "cell_type": "code",
   "execution_count": null,
   "metadata": {},
   "outputs": [],
   "source": [
    "base_url='https://data.melbourne.vic.gov.au/api/explore/v2.1/catalog/datasets/'\n",
    "dataset_id='bars-and-pubs-with-patron-capacity'\n",
    "\n",
    "\n",
    "url=f'{base_url}{dataset_id}/exports/csv'\n",
    "params={'select':'*','limit':-1,'lang':'en','timezone':'UTC'}\n",
    "\n",
    "response=requests.get(url,params=params)\n",
    "\n",
    "if response.status_code==200:\n",
    "    url_content=response.content.decode('utf-8')\n",
    "    bars_df=pd.read_csv(StringIO(url_content),delimiter=';')\n",
    "    print(bars_df.head(10))\n",
    "else:\n",
    "    print(f'Request failed with status code {response.status_code}')"
   ]
  },
  {
   "cell_type": "code",
   "execution_count": null,
   "metadata": {},
   "outputs": [],
   "source": [
    "base_url='https://data.melbourne.vic.gov.au/api/explore/v2.1/catalog/datasets/'\n",
    "dataset_id='on-street-parking-bays'\n",
    "\n",
    "\n",
    "url=f'{base_url}{dataset_id}/exports/csv'\n",
    "params={'select':'*','limit':-1,'lang':'en','timezone':'UTC'}\n",
    "\n",
    "response=requests.get(url,params=params)\n",
    "\n",
    "if response.status_code==200:\n",
    "    url_content=response.content.decode('utf-8')\n",
    "    parkingbays_df=pd.read_csv(StringIO(url_content),delimiter=';')\n",
    "    print(parkingbays_df.head(10))\n",
    "else:\n",
    "    print(f'Request failed with status code {response.status_code}')"
   ]
  },
  {
   "cell_type": "code",
   "execution_count": null,
   "metadata": {},
   "outputs": [],
   "source": [
    "base_url='https://data.melbourne.vic.gov.au/api/explore/v2.1/catalog/datasets/'\n",
    "dataset_id='on-street-car-parking-meters-with-location'\n",
    "\n",
    "\n",
    "url=f'{base_url}{dataset_id}/exports/csv'\n",
    "params={'select':'*','limit':-1,'lang':'en','timezone':'UTC'}\n",
    "\n",
    "response=requests.get(url,params=params)\n",
    "\n",
    "if response.status_code==200:\n",
    "    url_content=response.content.decode('utf-8')\n",
    "    parkingmeters_df=pd.read_csv(StringIO(url_content),delimiter=';')\n",
    "    print(parkingmeters_df.head(10))\n",
    "else:\n",
    "    print(f'Request failed with status code {response.status_code}')"
   ]
  },
  {
   "cell_type": "code",
   "execution_count": null,
   "metadata": {},
   "outputs": [],
   "source": [
    "###Cafes and restaurants with seating capacity.\n"
   ]
  },
  {
   "cell_type": "code",
   "execution_count": null,
   "metadata": {},
   "outputs": [],
   "source": [
    "cafes_df.head()"
   ]
  },
  {
   "cell_type": "code",
   "execution_count": null,
   "metadata": {},
   "outputs": [],
   "source": [
    "cafes_df.shape"
   ]
  },
  {
   "cell_type": "code",
   "execution_count": null,
   "metadata": {},
   "outputs": [],
   "source": [
    "cafes_df['census_year'].max()"
   ]
  },
  {
   "cell_type": "code",
   "execution_count": null,
   "metadata": {},
   "outputs": [],
   "source": [
    "cafes_df = cafes_df[cafes_df['census_year'] == 2022 ]"
   ]
  },
  {
   "cell_type": "code",
   "execution_count": null,
   "metadata": {},
   "outputs": [],
   "source": [
    "cafes_df.shape"
   ]
  },
  {
   "cell_type": "code",
   "execution_count": null,
   "metadata": {},
   "outputs": [],
   "source": [
    "cafes_df.nunique()"
   ]
  },
  {
   "cell_type": "code",
   "execution_count": null,
   "metadata": {},
   "outputs": [],
   "source": [
    "# Drop 'location' and 'industry_anzsic4_code' columns\n",
    "cafes_df = cafes_df.drop(columns=['location', 'industry_anzsic4_code', 'census_year'  ])\n",
    "\n",
    "# Rename 'industry_anzsic4_description' to 'industry_description'\n",
    "cafes_df = cafes_df.rename(columns={'industry_anzsic4_description': 'industry_description'})\n"
   ]
  },
  {
   "cell_type": "code",
   "execution_count": null,
   "metadata": {},
   "outputs": [],
   "source": [
    "###Bars and pubs with patron capacity"
   ]
  },
  {
   "cell_type": "code",
   "execution_count": null,
   "metadata": {},
   "outputs": [],
   "source": [
    "bars_df.head()"
   ]
  },
  {
   "cell_type": "code",
   "execution_count": null,
   "metadata": {},
   "outputs": [],
   "source": [
    "bars_df = bars_df[bars_df['census_year'] == 2022 ]"
   ]
  },
  {
   "cell_type": "code",
   "execution_count": null,
   "metadata": {},
   "outputs": [],
   "source": [
    "bars_df.shape"
   ]
  },
  {
   "cell_type": "code",
   "execution_count": null,
   "metadata": {},
   "outputs": [],
   "source": [
    "bars_df.nunique()"
   ]
  },
  {
   "cell_type": "code",
   "execution_count": null,
   "metadata": {},
   "outputs": [],
   "source": [
    "# Drop 'location' and 'industry_anzsic4_code' columns\n",
    "bars_df = bars_df.drop(columns=['location','census_year'])\n",
    "\n",
    "# Rename 'industry_anzsic4_description' to 'industry_description'\n",
    "bars_df = bars_df.rename(columns={'number_of_patrons': 'number_of_seats'})\n",
    "\n",
    "bars_df['industry_description'] = 'Pubs, Taverns and Bars'\n",
    "\n",
    "bars_df['seating_type'] = 'not specified'"
   ]
  },
  {
   "cell_type": "code",
   "execution_count": null,
   "metadata": {},
   "outputs": [],
   "source": [
    "# Find the property_ids that are already in cafes_df\n",
    "existing_property_ids = cafes_df['property_id'].unique()\n",
    "\n",
    "# Filter bards_df to include only rows with property_ids not in cafes_df\n",
    "filtered_bars_df = bars_df[~bars_df['property_id'].isin(existing_property_ids)]\n",
    "\n",
    "# Append the filtered rows to cafes_df\n",
    "cafes_and_bars_df =  pd.concat([cafes_df, filtered_bars_df], ignore_index=True)"
   ]
  },
  {
   "cell_type": "code",
   "execution_count": null,
   "metadata": {},
   "outputs": [],
   "source": [
    "cafes_and_bars_df.shape"
   ]
  },
  {
   "cell_type": "code",
   "execution_count": null,
   "metadata": {},
   "outputs": [],
   "source": [
    "cafes_and_bars_df.nunique()"
   ]
  },
  {
   "cell_type": "code",
   "execution_count": null,
   "metadata": {},
   "outputs": [],
   "source": [
    "cafes_and_bars_df[['industry_description']].value_counts()"
   ]
  },
  {
   "cell_type": "code",
   "execution_count": null,
   "metadata": {},
   "outputs": [],
   "source": [
    "allowed_industry_descriptions = [\n",
    "    'Cafes and Restaurants', 'Takeaway Food Services', 'Pubs, Taverns and Bars', 'Accommodation',\n",
    "    'Bakery Product Manufacturing (Non-factory based)', 'Other Specialised Food Retailing',\n",
    "    'Catering Services', 'Clubs (Hospitality)', 'Sports and Physical Recreation Venues, Grounds and Facilities Operation'\n",
    "]\n",
    "\n",
    "# Replace descriptions not in the allowed list with \"Other\"\n",
    "cafes_and_bars_df['industry_description'] = cafes_and_bars_df['industry_description'].apply(lambda x: x if x in allowed_industry_descriptions else 'Other')"
   ]
  },
  {
   "cell_type": "code",
   "execution_count": null,
   "metadata": {},
   "outputs": [],
   "source": [
    "cafes_and_bars_df[['industry_description']].value_counts()"
   ]
  },
  {
   "cell_type": "code",
   "execution_count": null,
   "metadata": {},
   "outputs": [],
   "source": [
    "cafes_and_bars_df.isna().sum()"
   ]
  },
  {
   "cell_type": "code",
   "execution_count": null,
   "metadata": {},
   "outputs": [],
   "source": [
    "###Visualisation"
   ]
  },
  {
   "cell_type": "code",
   "execution_count": 2,
   "metadata": {},
   "outputs": [
    {
     "ename": "NameError",
     "evalue": "name 'cafes_and_bars_df' is not defined",
     "output_type": "error",
     "traceback": [
      "\u001b[1;31m---------------------------------------------------------------------------\u001b[0m",
      "\u001b[1;31mNameError\u001b[0m                                 Traceback (most recent call last)",
      "Cell \u001b[1;32mIn[2], line 1\u001b[0m\n\u001b[1;32m----> 1\u001b[0m seating_counts \u001b[38;5;241m=\u001b[39m cafes_and_bars_df[\u001b[38;5;124m'\u001b[39m\u001b[38;5;124mseating_type\u001b[39m\u001b[38;5;124m'\u001b[39m]\u001b[38;5;241m.\u001b[39mvalue_counts()\n\u001b[0;32m      3\u001b[0m \u001b[38;5;66;03m# Make data\u001b[39;00m\n\u001b[0;32m      4\u001b[0m labels \u001b[38;5;241m=\u001b[39m seating_counts\u001b[38;5;241m.\u001b[39mindex\n",
      "\u001b[1;31mNameError\u001b[0m: name 'cafes_and_bars_df' is not defined"
     ]
    }
   ],
   "source": [
    "seating_counts = cafes_and_bars_df['seating_type'].value_counts()\n",
    "\n",
    "# Make data\n",
    "labels = seating_counts.index\n",
    "sizes = seating_counts.values\n",
    "colors = plt.get_cmap('Blues')(np.linspace(0.2, 0.7, len(labels)))\n",
    "\n",
    "# Plot\n",
    "fig, ax = plt.subplots()\n",
    "ax.pie(sizes, colors=colors, labels=labels, autopct='%1.1f%%', startangle=90,\n",
    "       wedgeprops={\"linewidth\": 1, \"edgecolor\": \"white\"})\n",
    "\n",
    "ax.set(aspect='equal') \n",
    "\n",
    "plt.title('Composition of Seating Type')\n",
    "plt.show()"
   ]
  },
  {
   "cell_type": "code",
   "execution_count": null,
   "metadata": {},
   "outputs": [],
   "source": [
    "summed_seats_df = cafes_and_bars_df.groupby('property_id')['number_of_seats'].sum().reset_index()\n",
    "\n",
    "# Renaming the column to make it clear that it's a sum\n",
    "summed_seats_df.rename(columns={'number_of_seats': 'total_number_of_seats'}, inplace=True)\n",
    "\n",
    "# Defining bins\n",
    "bins = [0, 10, 20, 50, 100, 150, 250, 500, float('inf')]\n",
    "labels = ['0-10', '10-20', '20-50', '50-100', '100-150', '150-250', '250-500', 'more than 500']\n",
    "\n",
    "# Creating the bins\n",
    "summed_seats_df['seats_bin'] = pd.cut(summed_seats_df['total_number_of_seats'], bins=bins, labels=labels, right=False)\n",
    "\n",
    "print(summed_seats_df)"
   ]
  },
  {
   "cell_type": "code",
   "execution_count": 1,
   "metadata": {},
   "outputs": [
    {
     "ename": "NameError",
     "evalue": "name 'summed_seats_df' is not defined",
     "output_type": "error",
     "traceback": [
      "\u001b[1;31m---------------------------------------------------------------------------\u001b[0m",
      "\u001b[1;31mNameError\u001b[0m                                 Traceback (most recent call last)",
      "Cell \u001b[1;32mIn[1], line 1\u001b[0m\n\u001b[1;32m----> 1\u001b[0m bin_counts \u001b[38;5;241m=\u001b[39m summed_seats_df[\u001b[38;5;124m'\u001b[39m\u001b[38;5;124mseats_bin\u001b[39m\u001b[38;5;124m'\u001b[39m]\u001b[38;5;241m.\u001b[39mvalue_counts()\u001b[38;5;241m.\u001b[39msort_index()\n\u001b[0;32m      3\u001b[0m total_properties \u001b[38;5;241m=\u001b[39m bin_counts\u001b[38;5;241m.\u001b[39msum()\n\u001b[0;32m      4\u001b[0m percentages \u001b[38;5;241m=\u001b[39m (bin_counts \u001b[38;5;241m/\u001b[39m total_properties \u001b[38;5;241m*\u001b[39m \u001b[38;5;241m100\u001b[39m)\u001b[38;5;241m.\u001b[39mround(\u001b[38;5;241m1\u001b[39m)\n",
      "\u001b[1;31mNameError\u001b[0m: name 'summed_seats_df' is not defined"
     ]
    }
   ],
   "source": [
    "bin_counts = summed_seats_df['seats_bin'].value_counts().sort_index()\n",
    "\n",
    "total_properties = bin_counts.sum()\n",
    "percentages = (bin_counts / total_properties * 100).round(1)\n",
    "\n",
    "plt.figure(figsize=(8, 6))\n",
    "ax = bin_counts.plot(kind='bar', color='skyblue', edgecolor='black')\n",
    "plt.title('Distribution of Seating Capacity')\n",
    "plt.xlabel('Seats Bin')\n",
    "plt.ylabel('Number of Properties')\n",
    "plt.xticks(rotation=45)\n",
    "plt.tight_layout()\n",
    "\n",
    "\n",
    "for p in ax.patches:\n",
    "    height = p.get_height()\n",
    "  \n",
    "    bin_label = p.get_x() + p.get_width() / 2\n",
    "    bin_label_name = ax.get_xticklabels()[int(bin_label)].get_text()\n",
    "    percentage = percentages[bin_label_name]\n",
    "   \n",
    "    ax.text(p.get_x() + p.get_width() / 2, height, f'{percentage:.0f}%', \n",
    "            ha='center', va='bottom', fontsize=10)\n",
    "\n",
    "plt.show()"
   ]
  },
  {
   "cell_type": "code",
   "execution_count": null,
   "metadata": {},
   "outputs": [],
   "source": [
    "# Drop 'location' and 'industry_anzsic4_code' columns\n",
    "cafes_and_bars_df = cafes_and_bars_df.drop(columns=['seating_type','number_of_seats'])"
   ]
  },
  {
   "cell_type": "code",
   "execution_count": null,
   "metadata": {},
   "outputs": [],
   "source": [
    "cafes_and_bars_df.drop_duplicates(keep='first', inplace=True)\n",
    "cafes_and_bars_df.duplicated().sum()"
   ]
  },
  {
   "cell_type": "code",
   "execution_count": null,
   "metadata": {},
   "outputs": [],
   "source": [
    "cafes_and_bars_df.shape"
   ]
  },
  {
   "cell_type": "code",
   "execution_count": null,
   "metadata": {},
   "outputs": [],
   "source": [
    "\n",
    "area_counts = cafes_and_bars_df['clue_small_area'].value_counts()\n",
    "\n",
    "# Calculate percentages\n",
    "total_count = area_counts.sum()\n",
    "percentages = (area_counts / total_count) * 100\n",
    "\n",
    "fig, ax = plt.subplots(figsize=(10, 6))\n",
    "bar_container = ax.bar(area_counts.index, area_counts, color='skyblue')\n",
    "\n",
    "# Add percentages inside bars\n",
    "for bar, percentage in zip(bar_container, percentages):\n",
    "    ax.text(bar.get_x() + bar.get_width() / 2, bar.get_height() / 2, \n",
    "            f'{percentage:.0f}%', ha='center', va='bottom', fontsize=9, color='black')\n",
    "\n",
    "ax.set_xlabel('Area', fontsize=10)\n",
    "ax.set_ylabel('Cafes and Bars Count', fontsize=10)\n",
    "ax.set_title('Distribution of Café, Restaurant, Bistro Seats, Bar, Tavern, Pub by Area', fontsize=12)\n",
    "ax.set_ylim(0, max(area_counts) + max(area_counts) * 0.1)  \n",
    "plt.xticks(rotation=90, fontsize=8)\n",
    "plt.yticks(fontsize=8)\n",
    "\n",
    "plt.show()"
   ]
  },
  {
   "cell_type": "code",
   "execution_count": null,
   "metadata": {},
   "outputs": [],
   "source": [
    "industry_counts = cafes_and_bars_df['industry_description'].value_counts()\n",
    "\n",
    "# Calculate percentages\n",
    "total_count = industry_counts.sum()\n",
    "percentages = (industry_counts / total_count) * 100\n",
    "\n",
    "fig, ax = plt.subplots(figsize=(10, 6))\n",
    "bar_container = ax.bar(industry_counts.index, industry_counts, color='skyblue')\n",
    "\n",
    "# Add percentages inside bars\n",
    "for bar, percentage in zip(bar_container, percentages):\n",
    "    ax.text(bar.get_x() + bar.get_width() / 2, bar.get_height() / 2, \n",
    "            f'{percentage:.0f}%', ha='center', va='bottom', fontsize=9, color='black')\n",
    "\n",
    "ax.set_xlabel('Industry Description', fontsize=10)\n",
    "ax.set_ylabel('Cafes and Bars Count', fontsize=10)\n",
    "ax.set_title('Industry wise Café, Restaurant, Bistro Seats, Bar, Tavern, Pub Distribution', fontsize=12)\n",
    "ax.set_ylim(0, max(area_counts) + max(area_counts) * 0.1)  \n",
    "plt.xticks(rotation=90, fontsize=8)\n",
    "plt.yticks(fontsize=8)\n",
    "\n",
    "plt.show()"
   ]
  },
  {
   "cell_type": "code",
   "execution_count": null,
   "metadata": {},
   "outputs": [],
   "source": [
    "area_counts = cafes_and_bars_df.groupby(['industry_description', 'clue_small_area']).size().reset_index(name='Count')\n",
    "\n",
    "\n",
    "num_categories = area_counts['industry_description'].nunique()\n",
    "nrows = (num_categories // 3) + 1\n",
    "ncols = 3\n",
    "\n",
    "\n",
    "fig, axes = plt.subplots(nrows=nrows, ncols=ncols, figsize=(15, 5 * nrows))\n",
    "axes = axes.flatten()  \n",
    "\n",
    "X = area_counts.groupby('industry_description')\n",
    "num = 0\n",
    "for category, group in X:\n",
    "    df = pd.DataFrame(group)\n",
    "    df = df.sort_values(by='Count', ascending=False)\n",
    "    \n",
    "    x_labels = df['clue_small_area'].values\n",
    "    y_values = df['Count'].values\n",
    "\n",
    "    ax = axes[num]\n",
    "    bars = ax.bar(x_labels, y_values, color='skyblue')\n",
    "    ax.set_title(f'Distribution of {category}')\n",
    "    ax.set_xlabel('Area')\n",
    "    ax.set_ylabel('Count')\n",
    "    ax.set_xticks(range(len(x_labels)))\n",
    "    ax.set_xticklabels(x_labels, rotation=90)\n",
    "\n",
    "    total = y_values.sum()\n",
    "    for bar, count in zip(bars, y_values):\n",
    "        height = bar.get_height()\n",
    "        percentage = f'{(count / total * 100):.0f}%'\n",
    "        ax.annotate(percentage, xy=(bar.get_x() + bar.get_width() / 2, height), \n",
    "                    xytext=(0, 3),  \n",
    "                    textcoords=\"offset points\", ha='center', va='top')\n",
    "    num += 1\n",
    "\n",
    "for i in range(num, len(axes)):\n",
    "    axes[i].axis('off')\n",
    "\n",
    "plt.tight_layout()\n",
    "plt.show()"
   ]
  },
  {
   "cell_type": "code",
   "execution_count": null,
   "metadata": {},
   "outputs": [],
   "source": [
    "###Displaying the Cafes and Bar locations on map using Folium\n",
    "\n",
    "map = folium.Map(location=[cafes_and_bars_df['latitude'].mean(), cafes_and_bars_df['longitude'].mean()], zoom_start=10)\n",
    "\n",
    "# Add markers for each location\n",
    "for index, row in cafes_and_bars_df.iterrows():\n",
    "\n",
    "    folium.Marker([row['latitude'], row['longitude']], popup=row['trading_name'],icon=folium.Icon(\"blue\"),icon_size=(2, 2)).add_to(map)\n",
    "\n",
    "    \n",
    "legend_html = \"\"\"\n",
    "<div style=\"position: fixed; \n",
    "            bottom: 50px; left: 50px; width: 200px; height:50px; \n",
    "            border:2px  grey; font-size:12px;\n",
    "            background-color:white;\">\n",
    "</div>\n",
    "\"\"\"\n",
    "    \n",
    "# Add legend HTML to the map\n",
    "map.get_root().html.add_child(folium.Element(legend_html))\n",
    "    \n",
    "title_html = \"\"\"\n",
    "<h3 style=\"text-align: center; margin: 10px 0;\">Café, Restaurant, Bistro Seats, Bar, Tavern, Pub Locations</h3>\n",
    "\"\"\"\n",
    "map.get_root().html.add_child(folium.Element(title_html))\n",
    "\n",
    "\n",
    "\n",
    "display(map)"
   ]
  },
  {
   "cell_type": "code",
   "execution_count": null,
   "metadata": {},
   "outputs": [],
   "source": [
    "###Parking_Bays"
   ]
  },
  {
   "cell_type": "code",
   "execution_count": null,
   "metadata": {},
   "outputs": [],
   "source": [
    "parkingbays_df.head()"
   ]
  },
  {
   "cell_type": "code",
   "execution_count": null,
   "metadata": {},
   "outputs": [],
   "source": [
    "parkingbays_df.shape"
   ]
  },
  {
   "cell_type": "code",
   "execution_count": null,
   "metadata": {},
   "outputs": [],
   "source": [
    "parkingbays_df['lastupdated'] = pd.to_datetime(parkingbays_df['lastupdated'], errors='coerce')\n"
   ]
  },
  {
   "cell_type": "code",
   "execution_count": null,
   "metadata": {},
   "outputs": [],
   "source": [
    "parkingbays_df = parkingbays_df[parkingbays_df['lastupdated'].dt.year == 2023 ]"
   ]
  },
  {
   "cell_type": "code",
   "execution_count": null,
   "metadata": {},
   "outputs": [],
   "source": [
    "# Drop 'location' and 'industry_anzsic4_code' columns\n",
    "parkingbays_df = parkingbays_df.drop(columns=['roadsegmentid','kerbsideid', 'lastupdated'])\n",
    "\n",
    "# Rename 'industry_anzsic4_description' to 'industry_description'\n",
    "parkingbays_df = parkingbays_df.rename(columns={'roadsegmentdescription': 'location'})\n",
    "\n",
    "\n",
    "parkingbays_df['parking_type'] = 'Parking Bay'\n",
    "\n"
   ]
  },
  {
   "cell_type": "code",
   "execution_count": null,
   "metadata": {},
   "outputs": [],
   "source": []
  },
  {
   "cell_type": "code",
   "execution_count": null,
   "metadata": {},
   "outputs": [],
   "source": [
    "parkingbays_df.nunique()"
   ]
  },
  {
   "cell_type": "code",
   "execution_count": null,
   "metadata": {},
   "outputs": [],
   "source": [
    "parkingbays_df.drop_duplicates(keep='first', inplace=True)\n",
    "parkingbays_df.duplicated().sum()"
   ]
  },
  {
   "cell_type": "code",
   "execution_count": null,
   "metadata": {},
   "outputs": [],
   "source": [
    "###Parking Meters"
   ]
  },
  {
   "cell_type": "code",
   "execution_count": null,
   "metadata": {},
   "outputs": [],
   "source": [
    "parkingmeters_df.head()"
   ]
  },
  {
   "cell_type": "code",
   "execution_count": null,
   "metadata": {},
   "outputs": [],
   "source": [
    "parkingmeters_df.shape"
   ]
  },
  {
   "cell_type": "code",
   "execution_count": null,
   "metadata": {},
   "outputs": [],
   "source": [
    "# Drop 'location' and 'industry_anzsic4_code' columns\n",
    "parkingmeters_df = parkingmeters_df.drop(columns=['barcode','creditcard', 'tapandgo','location','asset_id', 'meter_id'])\n",
    "\n",
    "# Rename 'industry_anzsic4_description' to 'industry_description'\n",
    "parkingmeters_df = parkingmeters_df.rename(columns={'location_description': 'location'})\n",
    "\n",
    "\n",
    "parkingmeters_df['parking_type'] = 'Parking Meter'"
   ]
  },
  {
   "cell_type": "code",
   "execution_count": null,
   "metadata": {},
   "outputs": [],
   "source": [
    "parkingmeters_df.nunique()"
   ]
  },
  {
   "cell_type": "code",
   "execution_count": null,
   "metadata": {},
   "outputs": [],
   "source": [
    "parkingmeters_df.drop_duplicates(keep='first', inplace=True)\n",
    "parkingmeters_df.duplicated().sum()"
   ]
  },
  {
   "cell_type": "code",
   "execution_count": null,
   "metadata": {},
   "outputs": [],
   "source": [
    "parking_df = pd.concat([parkingmeters_df, parkingbays_df], ignore_index=True)"
   ]
  },
  {
   "cell_type": "code",
   "execution_count": null,
   "metadata": {},
   "outputs": [],
   "source": [
    "parking_df.head()"
   ]
  },
  {
   "cell_type": "code",
   "execution_count": null,
   "metadata": {},
   "outputs": [],
   "source": [
    "parking_df.nunique()"
   ]
  },
  {
   "cell_type": "code",
   "execution_count": null,
   "metadata": {},
   "outputs": [],
   "source": [
    "parking_df.isna().sum()"
   ]
  },
  {
   "cell_type": "code",
   "execution_count": null,
   "metadata": {},
   "outputs": [],
   "source": [
    "parking_counts = parking_df['parking_type'].value_counts()\n",
    "\n",
    "# Make data\n",
    "labels = [f'{label} ({count})' for label, count in zip(parking_counts.index, parking_counts.values)]\n",
    "sizes = parking_counts.values\n",
    "colors = plt.get_cmap('Blues')(np.linspace(0.2, 0.7, len(labels)))\n",
    "\n",
    "# Plot\n",
    "fig, ax = plt.subplots()\n",
    "ax.pie(sizes, colors=colors, labels=labels, autopct='%1.1f%%', startangle=90,\n",
    "       wedgeprops={\"linewidth\": 1, \"edgecolor\": \"white\"})\n",
    "\n",
    "ax.set(aspect='equal') \n",
    "\n",
    "plt.title('Composition of Parking Type')\n",
    "plt.show()"
   ]
  },
  {
   "cell_type": "code",
   "execution_count": null,
   "metadata": {},
   "outputs": [],
   "source": [
    "###Displaying the Cafes and Bar locations on map using Folium\n",
    "\n",
    "map = folium.Map(location=[parking_df['latitude'].mean(), parking_df['longitude'].mean()], zoom_start=10)\n",
    "\n",
    "# Add markers for each location\n",
    "for index, row in parking_df.iterrows():\n",
    "\n",
    "    folium.Marker([row['latitude'], row['longitude']], popup=row['location'],icon=folium.Icon(\"blue\"),icon_size=(2, 2)).add_to(map)\n",
    "\n",
    "    \n",
    "legend_html = \"\"\"\n",
    "<div style=\"position: fixed; \n",
    "            bottom: 50px; left: 50px; width: 200px; height:50px; \n",
    "            border:2px  grey; font-size:12px;\n",
    "            background-color:white;\">\n",
    "</div>\n",
    "\"\"\"\n",
    "    \n",
    "# Add legend HTML to the map\n",
    "map.get_root().html.add_child(folium.Element(legend_html))\n",
    "    \n",
    "title_html = \"\"\"\n",
    "<h3 style=\"text-align: center; margin: 10px 0;\">Parking Locations</h3>\n",
    "\"\"\"\n",
    "map.get_root().html.add_child(folium.Element(title_html))\n",
    "\n",
    "\n",
    "\n",
    "display(map)"
   ]
  },
  {
   "cell_type": "markdown",
   "metadata": {},
   "source": [
    "***\n",
    "\n",
    "_**DELETE BEFORE PUBLISHING**_\n",
    "\n",
    "## Style guide for use cases\n",
    "\n",
    "### Headers\n",
    "\n",
    "For styling within your markdown cells, there are two choices you can use for headers.\n",
    "\n",
    "1) You can use HTML classes specific to the use case styling:\n",
    "\n",
    "```<p class=\"usecase-subsection-header\">This is a subsection header.</p>```\n",
    "\n",
    "<p style=\"font-weight: bold; font-size: 1.2em;\">This is a subsection header.</p>\n",
    "\n",
    "```<p class=\"usecase-subsection-blurb\">This is a blurb header.</p>```\n",
    "\n",
    "<p style=\"font-weight: bold; font-size: 1em; font-style:italic;\">This is a blurb header.</p>\n",
    "\n",
    "\n",
    "2) Or if you like you can use the markdown header styles:\n",
    "\n",
    "```# for h1```\n",
    "\n",
    "```## for h2```\n",
    "\n",
    "```### for h3```\n",
    "\n",
    "```#### for h4```\n",
    "\n",
    "```##### for h5```\n",
    "\n",
    "## Plot colour schemes\n",
    "\n",
    "General advice:\n",
    "1. Use the same colour or colour palette throughout your notebook, unless variety is necessary\n",
    "2. Select a palette based on the type of data being represented\n",
    "3. Consider accessibility (colourblindness, low vision)\n",
    "\n",
    "#### 1) If all of your plots only use 1-2 colors use one of the company style colors:\n",
    "\n",
    "| Light theme | Dark Theme |\n",
    "|-----|-----|\n",
    "|<p style=\"color:#2af598;\">#2af598</p>|<p style=\"color:#08af64;\">#08af64</p>|\n",
    "|<p style=\"color:#22e4ac;\">#22e4ac</p>|<p style=\"color:#14a38e;\">#14a38e</p>|\n",
    "|<p style=\"color:#1bd7bb;\">#1bd7bb</p>|<p style=\"color:#0f9295;\">#0f9295</p>|\n",
    "|<p style=\"color:#14c9cb;\">#14c9cb</p>|<p style=\"color:#056b8a;\">#056b8a</p>|\n",
    "|<p style=\"color:#0fbed8;\">#0fbed8</p>|<p style=\"color:#121212;\">#121212</p>|\n",
    "|<p style=\"color:#08b3e5;\">#08b3e5</p>||\n",
    "\n",
    "\n",
    "#### 2) If your plot needs multiple colors, choose an appropriate palette using either of the following tutorials:\n",
    "- https://seaborn.pydata.org/tutorial/color_palettes.html\n",
    "- https://matplotlib.org/stable/tutorials/colors/colormaps.html\n",
    "\n",
    "#### 3) Consider accessibility as well.\n",
    "\n",
    "For qualitative plotting Seaborn's 'colorblind' palette is recommended. For maps with sequential or diverging it is recommended to use one of the Color Brewer schemes which can be previewed at https://colorbrewer2.org/.\n",
    "\n",
    "If you want to design your own colour scheme, it should use the same principles as Cynthia Brewer's research (with variation not only in hue but also, saturation or luminance).\n",
    "\n",
    "### References\n",
    "\n",
    "Be sure to acknowledge your sources and any attributions using links or a reference list.\n",
    "\n",
    "If you have quite a few references, you might wish to have a dedicated section for references at the end of your document, linked using footnote style numbers.\n",
    "\n",
    "You can connect your in-text reference by adding the number with a HTML link: ```<a href=\"#fn-1\">[1]</a>```\n",
    "\n",
    "and add a matching ID in the reference list using the ```<fn>``` tag: ```<fn id=\"fn-1\">[1] Author (Year) _Title_, Publisher, Publication location.</fn>```"
   ]
  },
  {
   "cell_type": "code",
   "execution_count": null,
   "metadata": {},
   "outputs": [],
   "source": []
  }
 ],
 "metadata": {
  "kernelspec": {
   "display_name": "Python 3 (ipykernel)",
   "language": "python",
   "name": "python3"
  },
  "language_info": {
   "codemirror_mode": {
    "name": "ipython",
    "version": 3
   },
   "file_extension": ".py",
   "mimetype": "text/x-python",
   "name": "python",
   "nbconvert_exporter": "python",
   "pygments_lexer": "ipython3",
   "version": "3.11.7"
  },
  "vscode": {
   "interpreter": {
    "hash": "369f2c481f4da34e4445cda3fffd2e751bd1c4d706f27375911949ba6bb62e1c"
   }
  }
 },
 "nbformat": 4,
 "nbformat_minor": 4
}
