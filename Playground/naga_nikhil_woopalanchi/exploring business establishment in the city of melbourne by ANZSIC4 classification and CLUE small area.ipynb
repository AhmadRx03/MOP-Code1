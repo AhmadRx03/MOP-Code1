{
 "cells": [
  {
   "cell_type": "markdown",
   "metadata": {},
   "source": [
    "_**DELETE BEFORE PUBLISHING**_\n",
    "\n",
    "_This is a template also containing the style guide for use cases. The styling uses the use-case css when uploaded to the website, which will not be visible on your local machine._\n",
    "\n",
    "_Change any text marked with {} and delete any cells marked DELETE_\n",
    "\n",
    "***"
   ]
  },
  {
   "cell_type": "code",
   "execution_count": 2,
   "metadata": {},
   "outputs": [
    {
     "data": {
      "text/html": [
       "\n",
       "<style>\n",
       ".usecase-title, .usecase-duration, .usecase-section-header {\n",
       "    padding-left: 15px;\n",
       "    padding-bottom: 10px;\n",
       "    padding-top: 10px;\n",
       "    padding-right: 15px;\n",
       "    background-color: #0f9295;\n",
       "    color: #fff;\n",
       "}\n",
       "\n",
       ".usecase-title {\n",
       "    font-size: 1.7em;\n",
       "    font-weight: bold;\n",
       "}\n",
       "\n",
       ".usecase-authors, .usecase-level, .usecase-skill {\n",
       "    padding-left: 15px;\n",
       "    padding-bottom: 7px;\n",
       "    padding-top: 7px;\n",
       "    background-color: #baeaeb;\n",
       "    font-size: 1.4em;\n",
       "    color: #121212;\n",
       "}\n",
       "\n",
       ".usecase-level-skill  {\n",
       "    display: flex;\n",
       "}\n",
       "\n",
       ".usecase-level, .usecase-skill {\n",
       "    width: 50%;\n",
       "}\n",
       "\n",
       ".usecase-duration, .usecase-skill {\n",
       "    text-align: right;\n",
       "    padding-right: 15px;\n",
       "    padding-bottom: 8px;\n",
       "    font-size: 1.4em;\n",
       "}\n",
       "\n",
       ".usecase-section-header {\n",
       "    font-weight: bold;\n",
       "    font-size: 1.5em;\n",
       "}\n",
       "\n",
       ".usecase-subsection-header, .usecase-subsection-blurb {\n",
       "    font-weight: bold;\n",
       "    font-size: 1.2em;\n",
       "    color: #121212;\n",
       "}\n",
       "\n",
       ".usecase-subsection-blurb {\n",
       "    font-size: 1em;\n",
       "    font-style: italic;\n",
       "}\n",
       "</style>\n"
      ],
      "text/plain": [
       "<IPython.core.display.HTML object>"
      ]
     },
     "execution_count": 2,
     "metadata": {},
     "output_type": "execute_result"
    }
   ],
   "source": [
    "# DELETE BEFORE PUBLISHING\n",
    "# This is just here so you can preview the styling on your local machine\n",
    "\n",
    "from IPython.core.display import HTML\n",
    "HTML(\"\"\"\n",
    "<style>\n",
    ".usecase-title, .usecase-duration, .usecase-section-header {\n",
    "    padding-left: 15px;\n",
    "    padding-bottom: 10px;\n",
    "    padding-top: 10px;\n",
    "    padding-right: 15px;\n",
    "    background-color: #0f9295;\n",
    "    color: #fff;\n",
    "}\n",
    "\n",
    ".usecase-title {\n",
    "    font-size: 1.7em;\n",
    "    font-weight: bold;\n",
    "}\n",
    "\n",
    ".usecase-authors, .usecase-level, .usecase-skill {\n",
    "    padding-left: 15px;\n",
    "    padding-bottom: 7px;\n",
    "    padding-top: 7px;\n",
    "    background-color: #baeaeb;\n",
    "    font-size: 1.4em;\n",
    "    color: #121212;\n",
    "}\n",
    "\n",
    ".usecase-level-skill  {\n",
    "    display: flex;\n",
    "}\n",
    "\n",
    ".usecase-level, .usecase-skill {\n",
    "    width: 50%;\n",
    "}\n",
    "\n",
    ".usecase-duration, .usecase-skill {\n",
    "    text-align: right;\n",
    "    padding-right: 15px;\n",
    "    padding-bottom: 8px;\n",
    "    font-size: 1.4em;\n",
    "}\n",
    "\n",
    ".usecase-section-header {\n",
    "    font-weight: bold;\n",
    "    font-size: 1.5em;\n",
    "}\n",
    "\n",
    ".usecase-subsection-header, .usecase-subsection-blurb {\n",
    "    font-weight: bold;\n",
    "    font-size: 1.2em;\n",
    "    color: #121212;\n",
    "}\n",
    "\n",
    ".usecase-subsection-blurb {\n",
    "    font-size: 1em;\n",
    "    font-style: italic;\n",
    "}\n",
    "</style>\n",
    "\"\"\")"
   ]
  },
  {
   "cell_type": "markdown",
   "metadata": {},
   "source": [
    "<div class=\"usecase-title\">Exploring Business Establishments in the City of Melbourne by ANZSIC4 Classification and CLUE Small Area</div>\n",
    "\n",
    "<div class=\"usecase-authors\"><b>Authored by: </b> Naga Nikhil Woopalanchi</div>"
   ]
  },
  {
   "cell_type": "markdown",
   "metadata": {},
   "source": [
    "<div class=\"usecase-duration\"><b>Duration:</b> {90} mins</div>\n",
    "\n",
    "<div class=\"usecase-level-skill\">\n",
    "    <div class=\"usecase-level\"><b>Level: </b>{Intermediate}</div>\n",
    "    <div class=\"usecase-skill\"><b>Pre-requisite Skills: </b>{Python, and add any more skills needed}</div>\n",
    "</div>"
   ]
  },
  {
   "cell_type": "markdown",
   "metadata": {},
   "source": [
    "<div class=\"usecase-section-header\">Scenario</div>"
   ]
  },
  {
   "cell_type": "markdown",
   "metadata": {},
   "source": [
    "write a description of the problem you are trying to solve for this use case{Using User Story format, .}"
   ]
  },
  {
   "cell_type": "markdown",
   "metadata": {},
   "source": [
    "<div class=\"usecase-section-header\">What this use case will teach you</div>"
   ]
  },
  {
   "cell_type": "markdown",
   "metadata": {},
   "source": [
    "At the end of this use case you will:\n",
    "- {list the skills demonstrated in your use case}"
   ]
  },
  {
   "cell_type": "markdown",
   "metadata": {},
   "source": [
    "<div class=\"usecase-section-header\">{Heading for introduction or background relating to problem}</div>"
   ]
  },
  {
   "cell_type": "markdown",
   "metadata": {},
   "source": [
    "{Write your introduction here. Keep it concise. We're not after \"War and Peace\" but enough background information to inform the reader on the rationale for solving this problem or background non-technical information that helps explain the approach. You may also wish to give information on the datasets, particularly how to source those not being imported from the client's open data portal.}\n",
    "\n"
   ]
  },
  {
   "cell_type": "markdown",
   "metadata": {},
   "source": [
    "***\n",
    "\n",
    "_**DELETE BEFORE PUBLISHING**_\n",
    "\n",
    "## Style guide for use cases\n",
    "\n",
    "### Headers\n",
    "\n",
    "For styling within your markdown cells, there are two choices you can use for headers.\n",
    "\n",
    "1) You can use HTML classes specific to the use case styling:\n",
    "\n",
    "```<p class=\"usecase-subsection-header\">This is a subsection header.</p>```\n",
    "\n",
    "<p style=\"font-weight: bold; font-size: 1.2em;\">This is a subsection header.</p>\n",
    "\n",
    "```<p class=\"usecase-subsection-blurb\">This is a blurb header.</p>```\n",
    "\n",
    "<p style=\"font-weight: bold; font-size: 1em; font-style:italic;\">This is a blurb header.</p>\n",
    "\n",
    "\n",
    "2) Or if you like you can use the markdown header styles:\n",
    "\n",
    "```# for h1```\n",
    "\n",
    "```## for h2```\n",
    "\n",
    "```### for h3```\n",
    "\n",
    "```#### for h4```\n",
    "\n",
    "```##### for h5```\n",
    "\n",
    "## Plot colour schemes\n",
    "\n",
    "General advice:\n",
    "1. Use the same colour or colour palette throughout your notebook, unless variety is necessary\n",
    "2. Select a palette based on the type of data being represented\n",
    "3. Consider accessibility (colourblindness, low vision)\n",
    "\n",
    "#### 1) If all of your plots only use 1-2 colors use one of the company style colors:\n",
    "\n",
    "| Light theme | Dark Theme |\n",
    "|-----|-----|\n",
    "|<p style=\"color:#2af598;\">#2af598</p>|<p style=\"color:#08af64;\">#08af64</p>|\n",
    "|<p style=\"color:#22e4ac;\">#22e4ac</p>|<p style=\"color:#14a38e;\">#14a38e</p>|\n",
    "|<p style=\"color:#1bd7bb;\">#1bd7bb</p>|<p style=\"color:#0f9295;\">#0f9295</p>|\n",
    "|<p style=\"color:#14c9cb;\">#14c9cb</p>|<p style=\"color:#056b8a;\">#056b8a</p>|\n",
    "|<p style=\"color:#0fbed8;\">#0fbed8</p>|<p style=\"color:#121212;\">#121212</p>|\n",
    "|<p style=\"color:#08b3e5;\">#08b3e5</p>||\n",
    "\n",
    "\n",
    "#### 2) If your plot needs multiple colors, choose an appropriate palette using either of the following tutorials:\n",
    "- https://seaborn.pydata.org/tutorial/color_palettes.html\n",
    "- https://matplotlib.org/stable/tutorials/colors/colormaps.html\n",
    "\n",
    "#### 3) Consider accessibility as well.\n",
    "\n",
    "For qualitative plotting Seaborn's 'colorblind' palette is recommended. For maps with sequential or diverging it is recommended to use one of the Color Brewer schemes which can be previewed at https://colorbrewer2.org/.\n",
    "\n",
    "If you want to design your own colour scheme, it should use the same principles as Cynthia Brewer's research (with variation not only in hue but also, saturation or luminance).\n",
    "\n",
    "### References\n",
    "\n",
    "Be sure to acknowledge your sources and any attributions using links or a reference list.\n",
    "\n",
    "If you have quite a few references, you might wish to have a dedicated section for references at the end of your document, linked using footnote style numbers.\n",
    "\n",
    "You can connect your in-text reference by adding the number with a HTML link: ```<a href=\"#fn-1\">[1]</a>```\n",
    "\n",
    "and add a matching ID in the reference list using the ```<fn>``` tag: ```<fn id=\"fn-1\">[1] Author (Year) _Title_, Publisher, Publication location.</fn>```"
   ]
  },
  {
   "cell_type": "markdown",
   "metadata": {},
   "source": [
    "# Importing Libraries"
   ]
  },
  {
   "cell_type": "code",
   "execution_count": 3,
   "metadata": {},
   "outputs": [],
   "source": [
    "import warnings\n",
    "warnings.filterwarnings(\"ignore\")\n",
    "\n",
    "import requests\n",
    "import numpy as np\n",
    "import pandas as pd\n",
    "from io import StringIO\n",
    "import matplotlib.pyplot as plt\n",
    "import geopandas as gpd \n",
    "from shapely.geometry import Point"
   ]
  },
  {
   "cell_type": "code",
   "execution_count": 4,
   "metadata": {},
   "outputs": [
    {
     "name": "stdout",
     "output_type": "stream",
     "text": [
      "   census_year               clue_small_area  \\\n",
      "0         2015  West Melbourne (Residential)   \n",
      "1         2015  West Melbourne (Residential)   \n",
      "2         2015  West Melbourne (Residential)   \n",
      "3         2015  West Melbourne (Residential)   \n",
      "4         2015  West Melbourne (Residential)   \n",
      "5         2015  West Melbourne (Residential)   \n",
      "6         2014                       Carlton   \n",
      "7         2014                       Carlton   \n",
      "8         2014                       Carlton   \n",
      "9         2014                       Carlton   \n",
      "\n",
      "                                   anzsic_indusrty  \\\n",
      "0                Health Care and Social Assistance   \n",
      "1                                    Manufacturing   \n",
      "2                                    Manufacturing   \n",
      "3  Professional, Scientific and Technical Services   \n",
      "4          Rental, Hiring and Real Estate Services   \n",
      "5                                  Wholesale Trade   \n",
      "6              Administrative and Support Services   \n",
      "7                                     Construction   \n",
      "8                 Financial and Insurance Services   \n",
      "9                 Financial and Insurance Services   \n",
      "\n",
      "                       clue_industry    business_size  total_establishments  \\\n",
      "0  Health Care and Social Assistance   Large business                     1   \n",
      "1                      Manufacturing  Medium business                     5   \n",
      "2                      Manufacturing    Non employing                     1   \n",
      "3                  Business Services    Non employing                     3   \n",
      "4               Real Estate Services   Small business                     5   \n",
      "5                    Wholesale Trade    Non employing                     2   \n",
      "6         Admin and Support Services  Medium business                     7   \n",
      "7                       Construction   Small business                    11   \n",
      "8              Finance and Insurance  Medium business                     5   \n",
      "9              Finance and Insurance   Small business                    35   \n",
      "\n",
      "   total_jobs  \n",
      "0         NaN  \n",
      "1       171.0  \n",
      "2         NaN  \n",
      "3         0.0  \n",
      "4        42.0  \n",
      "5         NaN  \n",
      "6       209.0  \n",
      "7        55.0  \n",
      "8       315.0  \n",
      "9       216.0  \n"
     ]
    }
   ],
   "source": [
    "# business-establishments-and-jobs-data-by-business-size-and-industry\n",
    "\n",
    "base_url='https://data.melbourne.vic.gov.au/api/explore/v2.1/catalog/datasets/'\n",
    "dataset_id='business-establishments-and-jobs-data-by-business-size-and-industry'\n",
    "\n",
    "\n",
    "url=f'{base_url}{dataset_id}/exports/csv'\n",
    "params={'select':'*','limit':-1,'lang':'en','timezone':'UTC' }\n",
    "\n",
    "response=requests.get(url,params=params)\n",
    "\n",
    "if response.status_code==200:\n",
    "    url_content=response.content.decode('utf-8')\n",
    "    bizsize_industryjobs=pd.read_csv(StringIO(url_content),delimiter=';')   #renaming dataset\n",
    "    print(bizsize_industryjobs.head(10))\n",
    "else:\n",
    "    print(f'Request failed with status code {response.status_code}')"
   ]
  },
  {
   "cell_type": "code",
   "execution_count": 5,
   "metadata": {},
   "outputs": [
    {
     "name": "stdout",
     "output_type": "stream",
     "text": [
      "   census_year  block_id  property_id  base_property_id  clue_small_area  \\\n",
      "0         2003       105       100172            100172  Melbourne (CBD)   \n",
      "1         2003       105       103301            103301  Melbourne (CBD)   \n",
      "2         2003       105       103302            103302  Melbourne (CBD)   \n",
      "3         2003       105       103302            103302  Melbourne (CBD)   \n",
      "4         2003       105       103302            103302  Melbourne (CBD)   \n",
      "5         2003       105       103302            103302  Melbourne (CBD)   \n",
      "6         2003       105       103302            103302  Melbourne (CBD)   \n",
      "7         2003       105       103302            103302  Melbourne (CBD)   \n",
      "8         2003       105       103302            103302  Melbourne (CBD)   \n",
      "9         2003       105       109319            109319  Melbourne (CBD)   \n",
      "\n",
      "                                        trading_name  \\\n",
      "0                           Wilson Parking Australia   \n",
      "1                Melbourne International Backpackers   \n",
      "2                                             Vacant   \n",
      "3                                    The Garden Cafe   \n",
      "4                                Telephony Australia   \n",
      "5                                       Nokia Centre   \n",
      "6            Royal Melbourne Institute of Technology   \n",
      "7                                             Mistas   \n",
      "8  Australian Services Union Taxation Officers Br...   \n",
      "9                                    RMIT University   \n",
      "\n",
      "                                    business_address  industry_anzsic4_code  \\\n",
      "0              24-46 A'Beckett Street MELBOURNE 3000                   9533   \n",
      "1            442-450 Elizabeth Street MELBOURNE 3000                   4400   \n",
      "2            422-440 Elizabeth Street MELBOURNE 3000                      0   \n",
      "3  Shop 3, Ground , 422-440 Elizabeth Street MELB...                   4511   \n",
      "4  Shop 5, Ground , 422-440 Elizabeth Street MELB...                   5809   \n",
      "5  Shop 2, Ground , 422-440 Elizabeth Street MELB...                   5809   \n",
      "6            422-440 Elizabeth Street MELBOURNE 3000                   8102   \n",
      "7  Part Level 3, 440 Elizabeth Street MELBOURNE 3000                   6962   \n",
      "8  Part Level 3, 440 Elizabeth Street MELBOURNE 3000                   9552   \n",
      "9        Floor 1, 449 Swanston Street MELBOURNE 3000                   8102   \n",
      "\n",
      "                      industry_anzsic4_description   longitude   latitude  \n",
      "0                                 Parking Services  144.962053 -37.808573  \n",
      "1                                    Accommodation  144.960868 -37.808309  \n",
      "2                                     Vacant Space  144.961017 -37.808630  \n",
      "3                            Cafes and Restaurants  144.961017 -37.808630  \n",
      "4                Other Telecommunications Services  144.961017 -37.808630  \n",
      "5                Other Telecommunications Services  144.961017 -37.808630  \n",
      "6                                 Higher Education  144.961017 -37.808630  \n",
      "7  Management Advice and Other Consulting Services  144.961017 -37.808630  \n",
      "8                      Labour Association Services  144.961017 -37.808630  \n",
      "9                                 Higher Education  144.962602 -37.808052  \n"
     ]
    }
   ],
   "source": [
    "# business-establishments-with-address-and-industry-classification\n",
    "\n",
    "base_url='https://data.melbourne.vic.gov.au/api/explore/v2.1/catalog/datasets/'\n",
    "dataset_id='business-establishments-with-address-and-industry-classification'\n",
    "\n",
    "\n",
    "url=f'{base_url}{dataset_id}/exports/csv'\n",
    "params={'select':'*','limit':-1,'lang':'en','timezone':'UTC'}\n",
    "\n",
    "response=requests.get(url,params=params)\n",
    "\n",
    "if response.status_code==200:\n",
    "    url_content=response.content.decode('utf-8')\n",
    "    bizaddressindustry=pd.read_csv(StringIO(url_content),delimiter=';')    #Renaming dataset\n",
    "    print(bizaddressindustry.head(10))\n",
    "else:\n",
    "    print(f'Request failed with status code {response.status_code}')"
   ]
  },
  {
   "cell_type": "code",
   "execution_count": 6,
   "metadata": {},
   "outputs": [
    {
     "name": "stdout",
     "output_type": "stream",
     "text": [
      "                         geo_point_2d  \\\n",
      "0  -37.802381557572, 144.941473440919   \n",
      "1  -37.816860132435, 144.969991449806   \n",
      "2  -37.798830275265, 144.942872100233   \n",
      "3  -37.810546771396, 144.970906397029   \n",
      "4  -37.789293657657, 144.939794028368   \n",
      "5  -37.800782747366, 144.951363910142   \n",
      "6  -37.826775193662, 144.959358160779   \n",
      "7  -37.810925617843, 144.965443591832   \n",
      "8   -37.81275302482, 144.964263891172   \n",
      "9   -37.821209833971, 144.95403377339   \n",
      "\n",
      "                                           geo_shape  suburb_id   latitude  \\\n",
      "0  {\"coordinates\": [144.941473440919, -37.8023815...      592.0 -37.802382   \n",
      "1  {\"coordinates\": [144.969991449806, -37.8168601...      591.0 -37.816860   \n",
      "2  {\"coordinates\": [144.942872100233, -37.7988302...      592.0 -37.798830   \n",
      "3  {\"coordinates\": [144.970906397029, -37.8105467...      591.0 -37.810547   \n",
      "4  {\"coordinates\": [144.939794028368, -37.7892936...      592.0 -37.789294   \n",
      "5  {\"coordinates\": [144.951363910142, -37.8007827...      592.0 -37.800783   \n",
      "6  {\"coordinates\": [144.959358160779, -37.8267751...      596.0 -37.826775   \n",
      "7  {\"coordinates\": [144.965443591832, -37.8109256...      591.0 -37.810926   \n",
      "8  {\"coordinates\": [144.964263891172, -37.8127530...      591.0 -37.812753   \n",
      "9  {\"coordinates\": [144.95403377339, -37.82120983...      599.0 -37.821210   \n",
      "\n",
      "  street_no              str_name                          address_pnt  \\\n",
      "0       133        Laurens Street  133 Laurens Street  North Melbourne   \n",
      "1       129       Flinders Street       129 Flinders Street  Melbourne   \n",
      "2        44         Macaulay Road    44 Macaulay Road  North Melbourne   \n",
      "3        13            Punch Lane             13 Punch Lane  Melbourne   \n",
      "4        61       Racecourse Road  61 Racecourse Road  North Melbourne   \n",
      "5       133        Leveson Street  133 Leveson Street  North Melbourne   \n",
      "6       263             City Road             263 City Road  Southbank   \n",
      "7         3    Albert Coates Lane      3 Albert Coates Lane  Melbourne   \n",
      "8       280  Little Bourke Street  280 Little Bourke Street  Melbourne   \n",
      "9       612       Flinders Street       612 Flinders Street  Docklands   \n",
      "\n",
      "         easting      northing  gisid   longitude           suburb  street_id  \\\n",
      "0  318773.161972  5.814115e+06  48531  144.941473  North Melbourne        781   \n",
      "1  321318.983104  5.812563e+06  37711  144.969991        Melbourne        636   \n",
      "2  318887.633593  5.814512e+06  30476  144.942872  North Melbourne        847   \n",
      "3  321384.307636  5.813265e+06  35165  144.970906        Melbourne       1003   \n",
      "4  318593.277492  5.815564e+06  22247  144.939794  North Melbourne     119624   \n",
      "5  319640.094405  5.814311e+06  54777  144.951364  North Melbourne        791   \n",
      "6  320406.983288  5.811443e+06  46380  144.959358        Southbank       1345   \n",
      "7  320904.296420  5.813213e+06  14049  144.965444        Melbourne     117923   \n",
      "8  320804.859001  5.813008e+06  28925  144.964264        Melbourne        809   \n",
      "9  319924.815030  5.812050e+06   1278  144.954034        Docklands        636   \n",
      "\n",
      "  add_comp  \n",
      "0      NaN  \n",
      "1      NaN  \n",
      "2      NaN  \n",
      "3      NaN  \n",
      "4      NaN  \n",
      "5      NaN  \n",
      "6      NaN  \n",
      "7      NaN  \n",
      "8      NaN  \n",
      "9      NaN  \n"
     ]
    }
   ],
   "source": [
    "# Street-address\n",
    "\n",
    "base_url='https://data.melbourne.vic.gov.au/api/explore/v2.1/catalog/datasets/'\n",
    "dataset_id='street-addresses'\n",
    "\n",
    "\n",
    "url=f'{base_url}{dataset_id}/exports/csv'\n",
    "params={'select':'*','limit':-1,'lang':'en','timezone':'UTC'}\n",
    "\n",
    "response=requests.get(url,params=params)\n",
    "\n",
    "if response.status_code==200:\n",
    "    url_content=response.content.decode('utf-8')\n",
    "    street_add=pd.read_csv(StringIO(url_content),delimiter=';')  #renaming dataset\n",
    "    print(street_add.head(10))\n",
    "else:\n",
    "    print(f'Request failed with status code {response.status_code}')"
   ]
  },
  {
   "cell_type": "markdown",
   "metadata": {},
   "source": [
    "# Preprocessing"
   ]
  },
  {
   "cell_type": "markdown",
   "metadata": {},
   "source": [
    "## Street_add"
   ]
  },
  {
   "cell_type": "code",
   "execution_count": 7,
   "metadata": {},
   "outputs": [
    {
     "data": {
      "text/html": [
       "<div>\n",
       "<style scoped>\n",
       "    .dataframe tbody tr th:only-of-type {\n",
       "        vertical-align: middle;\n",
       "    }\n",
       "\n",
       "    .dataframe tbody tr th {\n",
       "        vertical-align: top;\n",
       "    }\n",
       "\n",
       "    .dataframe thead th {\n",
       "        text-align: right;\n",
       "    }\n",
       "</style>\n",
       "<table border=\"1\" class=\"dataframe\">\n",
       "  <thead>\n",
       "    <tr style=\"text-align: right;\">\n",
       "      <th></th>\n",
       "      <th>geo_point_2d</th>\n",
       "      <th>geo_shape</th>\n",
       "      <th>suburb_id</th>\n",
       "      <th>latitude</th>\n",
       "      <th>street_no</th>\n",
       "      <th>str_name</th>\n",
       "      <th>address_pnt</th>\n",
       "      <th>easting</th>\n",
       "      <th>northing</th>\n",
       "      <th>gisid</th>\n",
       "      <th>longitude</th>\n",
       "      <th>suburb</th>\n",
       "      <th>street_id</th>\n",
       "      <th>add_comp</th>\n",
       "    </tr>\n",
       "  </thead>\n",
       "  <tbody>\n",
       "    <tr>\n",
       "      <th>0</th>\n",
       "      <td>-37.802381557572, 144.941473440919</td>\n",
       "      <td>{\"coordinates\": [144.941473440919, -37.8023815...</td>\n",
       "      <td>592.0</td>\n",
       "      <td>-37.802382</td>\n",
       "      <td>133</td>\n",
       "      <td>Laurens Street</td>\n",
       "      <td>133 Laurens Street  North Melbourne</td>\n",
       "      <td>318773.161972</td>\n",
       "      <td>5.814115e+06</td>\n",
       "      <td>48531</td>\n",
       "      <td>144.941473</td>\n",
       "      <td>North Melbourne</td>\n",
       "      <td>781</td>\n",
       "      <td>NaN</td>\n",
       "    </tr>\n",
       "    <tr>\n",
       "      <th>1</th>\n",
       "      <td>-37.816860132435, 144.969991449806</td>\n",
       "      <td>{\"coordinates\": [144.969991449806, -37.8168601...</td>\n",
       "      <td>591.0</td>\n",
       "      <td>-37.816860</td>\n",
       "      <td>129</td>\n",
       "      <td>Flinders Street</td>\n",
       "      <td>129 Flinders Street  Melbourne</td>\n",
       "      <td>321318.983104</td>\n",
       "      <td>5.812563e+06</td>\n",
       "      <td>37711</td>\n",
       "      <td>144.969991</td>\n",
       "      <td>Melbourne</td>\n",
       "      <td>636</td>\n",
       "      <td>NaN</td>\n",
       "    </tr>\n",
       "    <tr>\n",
       "      <th>2</th>\n",
       "      <td>-37.798830275265, 144.942872100233</td>\n",
       "      <td>{\"coordinates\": [144.942872100233, -37.7988302...</td>\n",
       "      <td>592.0</td>\n",
       "      <td>-37.798830</td>\n",
       "      <td>44</td>\n",
       "      <td>Macaulay Road</td>\n",
       "      <td>44 Macaulay Road  North Melbourne</td>\n",
       "      <td>318887.633593</td>\n",
       "      <td>5.814512e+06</td>\n",
       "      <td>30476</td>\n",
       "      <td>144.942872</td>\n",
       "      <td>North Melbourne</td>\n",
       "      <td>847</td>\n",
       "      <td>NaN</td>\n",
       "    </tr>\n",
       "    <tr>\n",
       "      <th>3</th>\n",
       "      <td>-37.810546771396, 144.970906397029</td>\n",
       "      <td>{\"coordinates\": [144.970906397029, -37.8105467...</td>\n",
       "      <td>591.0</td>\n",
       "      <td>-37.810547</td>\n",
       "      <td>13</td>\n",
       "      <td>Punch Lane</td>\n",
       "      <td>13 Punch Lane  Melbourne</td>\n",
       "      <td>321384.307636</td>\n",
       "      <td>5.813265e+06</td>\n",
       "      <td>35165</td>\n",
       "      <td>144.970906</td>\n",
       "      <td>Melbourne</td>\n",
       "      <td>1003</td>\n",
       "      <td>NaN</td>\n",
       "    </tr>\n",
       "    <tr>\n",
       "      <th>4</th>\n",
       "      <td>-37.789293657657, 144.939794028368</td>\n",
       "      <td>{\"coordinates\": [144.939794028368, -37.7892936...</td>\n",
       "      <td>592.0</td>\n",
       "      <td>-37.789294</td>\n",
       "      <td>61</td>\n",
       "      <td>Racecourse Road</td>\n",
       "      <td>61 Racecourse Road  North Melbourne</td>\n",
       "      <td>318593.277492</td>\n",
       "      <td>5.815564e+06</td>\n",
       "      <td>22247</td>\n",
       "      <td>144.939794</td>\n",
       "      <td>North Melbourne</td>\n",
       "      <td>119624</td>\n",
       "      <td>NaN</td>\n",
       "    </tr>\n",
       "  </tbody>\n",
       "</table>\n",
       "</div>"
      ],
      "text/plain": [
       "                         geo_point_2d  \\\n",
       "0  -37.802381557572, 144.941473440919   \n",
       "1  -37.816860132435, 144.969991449806   \n",
       "2  -37.798830275265, 144.942872100233   \n",
       "3  -37.810546771396, 144.970906397029   \n",
       "4  -37.789293657657, 144.939794028368   \n",
       "\n",
       "                                           geo_shape  suburb_id   latitude  \\\n",
       "0  {\"coordinates\": [144.941473440919, -37.8023815...      592.0 -37.802382   \n",
       "1  {\"coordinates\": [144.969991449806, -37.8168601...      591.0 -37.816860   \n",
       "2  {\"coordinates\": [144.942872100233, -37.7988302...      592.0 -37.798830   \n",
       "3  {\"coordinates\": [144.970906397029, -37.8105467...      591.0 -37.810547   \n",
       "4  {\"coordinates\": [144.939794028368, -37.7892936...      592.0 -37.789294   \n",
       "\n",
       "  street_no         str_name                          address_pnt  \\\n",
       "0       133   Laurens Street  133 Laurens Street  North Melbourne   \n",
       "1       129  Flinders Street       129 Flinders Street  Melbourne   \n",
       "2        44    Macaulay Road    44 Macaulay Road  North Melbourne   \n",
       "3        13       Punch Lane             13 Punch Lane  Melbourne   \n",
       "4        61  Racecourse Road  61 Racecourse Road  North Melbourne   \n",
       "\n",
       "         easting      northing  gisid   longitude           suburb  street_id  \\\n",
       "0  318773.161972  5.814115e+06  48531  144.941473  North Melbourne        781   \n",
       "1  321318.983104  5.812563e+06  37711  144.969991        Melbourne        636   \n",
       "2  318887.633593  5.814512e+06  30476  144.942872  North Melbourne        847   \n",
       "3  321384.307636  5.813265e+06  35165  144.970906        Melbourne       1003   \n",
       "4  318593.277492  5.815564e+06  22247  144.939794  North Melbourne     119624   \n",
       "\n",
       "  add_comp  \n",
       "0      NaN  \n",
       "1      NaN  \n",
       "2      NaN  \n",
       "3      NaN  \n",
       "4      NaN  "
      ]
     },
     "execution_count": 7,
     "metadata": {},
     "output_type": "execute_result"
    }
   ],
   "source": [
    "street_add.head()"
   ]
  },
  {
   "cell_type": "code",
   "execution_count": 8,
   "metadata": {},
   "outputs": [
    {
     "data": {
      "text/plain": [
       "(63721, 14)"
      ]
     },
     "execution_count": 8,
     "metadata": {},
     "output_type": "execute_result"
    }
   ],
   "source": [
    "street_add.shape"
   ]
  },
  {
   "cell_type": "code",
   "execution_count": 10,
   "metadata": {},
   "outputs": [
    {
     "data": {
      "text/plain": [
       "Index(['geo_point_2d', 'geo_shape', 'suburb_id', 'latitude', 'street_no',\n",
       "       'str_name', 'address_pnt', 'easting', 'northing', 'gisid', 'longitude',\n",
       "       'suburb', 'street_id', 'add_comp'],\n",
       "      dtype='object')"
      ]
     },
     "execution_count": 10,
     "metadata": {},
     "output_type": "execute_result"
    }
   ],
   "source": [
    "street_add.columns"
   ]
  },
  {
   "cell_type": "code",
   "execution_count": 11,
   "metadata": {},
   "outputs": [],
   "source": [
    "street_add = street_add.drop(['geo_point_2d','geo_shape','easting','northing','gisid'],axis=1)"
   ]
  },
  {
   "cell_type": "code",
   "execution_count": 13,
   "metadata": {},
   "outputs": [
    {
     "data": {
      "text/html": [
       "<div>\n",
       "<style scoped>\n",
       "    .dataframe tbody tr th:only-of-type {\n",
       "        vertical-align: middle;\n",
       "    }\n",
       "\n",
       "    .dataframe tbody tr th {\n",
       "        vertical-align: top;\n",
       "    }\n",
       "\n",
       "    .dataframe thead th {\n",
       "        text-align: right;\n",
       "    }\n",
       "</style>\n",
       "<table border=\"1\" class=\"dataframe\">\n",
       "  <thead>\n",
       "    <tr style=\"text-align: right;\">\n",
       "      <th></th>\n",
       "      <th>suburb_id</th>\n",
       "      <th>latitude</th>\n",
       "      <th>street_no</th>\n",
       "      <th>str_name</th>\n",
       "      <th>address_pnt</th>\n",
       "      <th>longitude</th>\n",
       "      <th>suburb</th>\n",
       "      <th>street_id</th>\n",
       "      <th>add_comp</th>\n",
       "    </tr>\n",
       "  </thead>\n",
       "  <tbody>\n",
       "    <tr>\n",
       "      <th>0</th>\n",
       "      <td>592.0</td>\n",
       "      <td>-37.802382</td>\n",
       "      <td>133</td>\n",
       "      <td>Laurens Street</td>\n",
       "      <td>133 Laurens Street  North Melbourne</td>\n",
       "      <td>144.941473</td>\n",
       "      <td>North Melbourne</td>\n",
       "      <td>781</td>\n",
       "      <td>NaN</td>\n",
       "    </tr>\n",
       "    <tr>\n",
       "      <th>1</th>\n",
       "      <td>591.0</td>\n",
       "      <td>-37.816860</td>\n",
       "      <td>129</td>\n",
       "      <td>Flinders Street</td>\n",
       "      <td>129 Flinders Street  Melbourne</td>\n",
       "      <td>144.969991</td>\n",
       "      <td>Melbourne</td>\n",
       "      <td>636</td>\n",
       "      <td>NaN</td>\n",
       "    </tr>\n",
       "    <tr>\n",
       "      <th>2</th>\n",
       "      <td>592.0</td>\n",
       "      <td>-37.798830</td>\n",
       "      <td>44</td>\n",
       "      <td>Macaulay Road</td>\n",
       "      <td>44 Macaulay Road  North Melbourne</td>\n",
       "      <td>144.942872</td>\n",
       "      <td>North Melbourne</td>\n",
       "      <td>847</td>\n",
       "      <td>NaN</td>\n",
       "    </tr>\n",
       "    <tr>\n",
       "      <th>3</th>\n",
       "      <td>591.0</td>\n",
       "      <td>-37.810547</td>\n",
       "      <td>13</td>\n",
       "      <td>Punch Lane</td>\n",
       "      <td>13 Punch Lane  Melbourne</td>\n",
       "      <td>144.970906</td>\n",
       "      <td>Melbourne</td>\n",
       "      <td>1003</td>\n",
       "      <td>NaN</td>\n",
       "    </tr>\n",
       "    <tr>\n",
       "      <th>4</th>\n",
       "      <td>592.0</td>\n",
       "      <td>-37.789294</td>\n",
       "      <td>61</td>\n",
       "      <td>Racecourse Road</td>\n",
       "      <td>61 Racecourse Road  North Melbourne</td>\n",
       "      <td>144.939794</td>\n",
       "      <td>North Melbourne</td>\n",
       "      <td>119624</td>\n",
       "      <td>NaN</td>\n",
       "    </tr>\n",
       "  </tbody>\n",
       "</table>\n",
       "</div>"
      ],
      "text/plain": [
       "   suburb_id   latitude street_no         str_name  \\\n",
       "0      592.0 -37.802382       133   Laurens Street   \n",
       "1      591.0 -37.816860       129  Flinders Street   \n",
       "2      592.0 -37.798830        44    Macaulay Road   \n",
       "3      591.0 -37.810547        13       Punch Lane   \n",
       "4      592.0 -37.789294        61  Racecourse Road   \n",
       "\n",
       "                           address_pnt   longitude           suburb  \\\n",
       "0  133 Laurens Street  North Melbourne  144.941473  North Melbourne   \n",
       "1       129 Flinders Street  Melbourne  144.969991        Melbourne   \n",
       "2    44 Macaulay Road  North Melbourne  144.942872  North Melbourne   \n",
       "3             13 Punch Lane  Melbourne  144.970906        Melbourne   \n",
       "4  61 Racecourse Road  North Melbourne  144.939794  North Melbourne   \n",
       "\n",
       "   street_id add_comp  \n",
       "0        781      NaN  \n",
       "1        636      NaN  \n",
       "2        847      NaN  \n",
       "3       1003      NaN  \n",
       "4     119624      NaN  "
      ]
     },
     "execution_count": 13,
     "metadata": {},
     "output_type": "execute_result"
    }
   ],
   "source": [
    "street_add.head()"
   ]
  },
  {
   "cell_type": "markdown",
   "metadata": {},
   "source": [
    "### Handling missing values in 'street_add'"
   ]
  },
  {
   "cell_type": "code",
   "execution_count": 14,
   "metadata": {},
   "outputs": [
    {
     "name": "stdout",
     "output_type": "stream",
     "text": [
      "<class 'pandas.core.frame.DataFrame'>\n",
      "RangeIndex: 63721 entries, 0 to 63720\n",
      "Data columns (total 9 columns):\n",
      " #   Column       Non-Null Count  Dtype  \n",
      "---  ------       --------------  -----  \n",
      " 0   suburb_id    63715 non-null  float64\n",
      " 1   latitude     63721 non-null  float64\n",
      " 2   street_no    63069 non-null  object \n",
      " 3   str_name     63720 non-null  object \n",
      " 4   address_pnt  63721 non-null  object \n",
      " 5   longitude    63721 non-null  float64\n",
      " 6   suburb       62991 non-null  object \n",
      " 7   street_id    63721 non-null  int64  \n",
      " 8   add_comp     1352 non-null   object \n",
      "dtypes: float64(3), int64(1), object(5)\n",
      "memory usage: 4.4+ MB\n"
     ]
    }
   ],
   "source": [
    "street_add.info()"
   ]
  },
  {
   "cell_type": "code",
   "execution_count": 15,
   "metadata": {},
   "outputs": [
    {
     "data": {
      "text/plain": [
       "suburb_id          6\n",
       "latitude           0\n",
       "street_no        652\n",
       "str_name           1\n",
       "address_pnt        0\n",
       "longitude          0\n",
       "suburb           730\n",
       "street_id          0\n",
       "add_comp       62369\n",
       "dtype: int64"
      ]
     },
     "execution_count": 15,
     "metadata": {},
     "output_type": "execute_result"
    }
   ],
   "source": [
    "street_add.isna().sum()"
   ]
  },
  {
   "cell_type": "markdown",
   "metadata": {},
   "source": [
    "#### Handing missing values for 'add_comp' column\n",
    "\n",
    "With more than half of the values missing for this column dropping this column \n"
   ]
  },
  {
   "cell_type": "code",
   "execution_count": 16,
   "metadata": {},
   "outputs": [],
   "source": [
    "street_add = street_add.drop('add_comp',axis = 1)"
   ]
  },
  {
   "cell_type": "markdown",
   "metadata": {},
   "source": [
    "observing the row with missing values or the suburb_id is zero "
   ]
  },
  {
   "cell_type": "code",
   "execution_count": 17,
   "metadata": {},
   "outputs": [
    {
     "data": {
      "text/html": [
       "<div>\n",
       "<style scoped>\n",
       "    .dataframe tbody tr th:only-of-type {\n",
       "        vertical-align: middle;\n",
       "    }\n",
       "\n",
       "    .dataframe tbody tr th {\n",
       "        vertical-align: top;\n",
       "    }\n",
       "\n",
       "    .dataframe thead th {\n",
       "        text-align: right;\n",
       "    }\n",
       "</style>\n",
       "<table border=\"1\" class=\"dataframe\">\n",
       "  <thead>\n",
       "    <tr style=\"text-align: right;\">\n",
       "      <th></th>\n",
       "      <th>suburb_id</th>\n",
       "      <th>latitude</th>\n",
       "      <th>street_no</th>\n",
       "      <th>str_name</th>\n",
       "      <th>address_pnt</th>\n",
       "      <th>longitude</th>\n",
       "      <th>suburb</th>\n",
       "      <th>street_id</th>\n",
       "    </tr>\n",
       "  </thead>\n",
       "  <tbody>\n",
       "    <tr>\n",
       "      <th>15724</th>\n",
       "      <td>NaN</td>\n",
       "      <td>-37.825995</td>\n",
       "      <td>50</td>\n",
       "      <td>Normanby Road</td>\n",
       "      <td>50 Normanby Road</td>\n",
       "      <td>144.955261</td>\n",
       "      <td>NaN</td>\n",
       "      <td>1368</td>\n",
       "    </tr>\n",
       "    <tr>\n",
       "      <th>26136</th>\n",
       "      <td>NaN</td>\n",
       "      <td>-37.827486</td>\n",
       "      <td>126</td>\n",
       "      <td>Normanby Road</td>\n",
       "      <td>126 Normanby Road</td>\n",
       "      <td>144.952721</td>\n",
       "      <td>NaN</td>\n",
       "      <td>1368</td>\n",
       "    </tr>\n",
       "    <tr>\n",
       "      <th>29528</th>\n",
       "      <td>NaN</td>\n",
       "      <td>-37.827525</td>\n",
       "      <td>130</td>\n",
       "      <td>Normanby Road</td>\n",
       "      <td>130 Normanby Road</td>\n",
       "      <td>144.952561</td>\n",
       "      <td>NaN</td>\n",
       "      <td>1368</td>\n",
       "    </tr>\n",
       "    <tr>\n",
       "      <th>34191</th>\n",
       "      <td>NaN</td>\n",
       "      <td>-37.827506</td>\n",
       "      <td>128</td>\n",
       "      <td>Normanby Road</td>\n",
       "      <td>128 Normanby Road</td>\n",
       "      <td>144.952641</td>\n",
       "      <td>NaN</td>\n",
       "      <td>1368</td>\n",
       "    </tr>\n",
       "    <tr>\n",
       "      <th>55077</th>\n",
       "      <td>NaN</td>\n",
       "      <td>-37.827467</td>\n",
       "      <td>124</td>\n",
       "      <td>Normanby Road</td>\n",
       "      <td>124 Normanby Road</td>\n",
       "      <td>144.952801</td>\n",
       "      <td>NaN</td>\n",
       "      <td>1368</td>\n",
       "    </tr>\n",
       "    <tr>\n",
       "      <th>57013</th>\n",
       "      <td>NaN</td>\n",
       "      <td>-37.826040</td>\n",
       "      <td>52</td>\n",
       "      <td>Normanby Road</td>\n",
       "      <td>52 Normanby Road</td>\n",
       "      <td>144.955198</td>\n",
       "      <td>NaN</td>\n",
       "      <td>1368</td>\n",
       "    </tr>\n",
       "  </tbody>\n",
       "</table>\n",
       "</div>"
      ],
      "text/plain": [
       "       suburb_id   latitude street_no       str_name        address_pnt  \\\n",
       "15724        NaN -37.825995        50  Normanby Road   50 Normanby Road   \n",
       "26136        NaN -37.827486       126  Normanby Road  126 Normanby Road   \n",
       "29528        NaN -37.827525       130  Normanby Road  130 Normanby Road   \n",
       "34191        NaN -37.827506       128  Normanby Road  128 Normanby Road   \n",
       "55077        NaN -37.827467       124  Normanby Road  124 Normanby Road   \n",
       "57013        NaN -37.826040        52  Normanby Road   52 Normanby Road   \n",
       "\n",
       "        longitude suburb  street_id  \n",
       "15724  144.955261    NaN       1368  \n",
       "26136  144.952721    NaN       1368  \n",
       "29528  144.952561    NaN       1368  \n",
       "34191  144.952641    NaN       1368  \n",
       "55077  144.952801    NaN       1368  \n",
       "57013  144.955198    NaN       1368  "
      ]
     },
     "execution_count": 17,
     "metadata": {},
     "output_type": "execute_result"
    }
   ],
   "source": [
    "suburb_id_nan = street_add[street_add['suburb_id'].isna()]\n",
    "\n",
    "suburb_id_nan"
   ]
  },
  {
   "cell_type": "code",
   "execution_count": 18,
   "metadata": {},
   "outputs": [
    {
     "data": {
      "text/html": [
       "<div>\n",
       "<style scoped>\n",
       "    .dataframe tbody tr th:only-of-type {\n",
       "        vertical-align: middle;\n",
       "    }\n",
       "\n",
       "    .dataframe tbody tr th {\n",
       "        vertical-align: top;\n",
       "    }\n",
       "\n",
       "    .dataframe thead th {\n",
       "        text-align: right;\n",
       "    }\n",
       "</style>\n",
       "<table border=\"1\" class=\"dataframe\">\n",
       "  <thead>\n",
       "    <tr style=\"text-align: right;\">\n",
       "      <th></th>\n",
       "      <th>suburb_id</th>\n",
       "      <th>latitude</th>\n",
       "      <th>street_no</th>\n",
       "      <th>str_name</th>\n",
       "      <th>address_pnt</th>\n",
       "      <th>longitude</th>\n",
       "      <th>suburb</th>\n",
       "      <th>street_id</th>\n",
       "    </tr>\n",
       "  </thead>\n",
       "  <tbody>\n",
       "    <tr>\n",
       "      <th>20</th>\n",
       "      <td>0.0</td>\n",
       "      <td>-37.788135</td>\n",
       "      <td>772</td>\n",
       "      <td>Lygon Street</td>\n",
       "      <td>772 Lygon Street</td>\n",
       "      <td>144.969279</td>\n",
       "      <td>NaN</td>\n",
       "      <td>840</td>\n",
       "    </tr>\n",
       "    <tr>\n",
       "      <th>61</th>\n",
       "      <td>0.0</td>\n",
       "      <td>-37.827770</td>\n",
       "      <td>165</td>\n",
       "      <td>Normanby Road</td>\n",
       "      <td>165 Normanby Road</td>\n",
       "      <td>144.951017</td>\n",
       "      <td>NaN</td>\n",
       "      <td>1368</td>\n",
       "    </tr>\n",
       "    <tr>\n",
       "      <th>85</th>\n",
       "      <td>0.0</td>\n",
       "      <td>-37.786158</td>\n",
       "      <td>42</td>\n",
       "      <td>Leonard Crescent</td>\n",
       "      <td>42 Leonard Crescent</td>\n",
       "      <td>144.906459</td>\n",
       "      <td>NaN</td>\n",
       "      <td>1313</td>\n",
       "    </tr>\n",
       "    <tr>\n",
       "      <th>118</th>\n",
       "      <td>0.0</td>\n",
       "      <td>-37.804792</td>\n",
       "      <td>68</td>\n",
       "      <td>Nicholson Street</td>\n",
       "      <td>68 Nicholson Street</td>\n",
       "      <td>144.973896</td>\n",
       "      <td>NaN</td>\n",
       "      <td>931</td>\n",
       "    </tr>\n",
       "    <tr>\n",
       "      <th>559</th>\n",
       "      <td>0.0</td>\n",
       "      <td>-37.775535</td>\n",
       "      <td>951</td>\n",
       "      <td>Park Street</td>\n",
       "      <td>951 Park Street</td>\n",
       "      <td>144.940570</td>\n",
       "      <td>NaN</td>\n",
       "      <td>962</td>\n",
       "    </tr>\n",
       "    <tr>\n",
       "      <th>...</th>\n",
       "      <td>...</td>\n",
       "      <td>...</td>\n",
       "      <td>...</td>\n",
       "      <td>...</td>\n",
       "      <td>...</td>\n",
       "      <td>...</td>\n",
       "      <td>...</td>\n",
       "      <td>...</td>\n",
       "    </tr>\n",
       "    <tr>\n",
       "      <th>63124</th>\n",
       "      <td>0.0</td>\n",
       "      <td>-37.781990</td>\n",
       "      <td>34</td>\n",
       "      <td>Langs Road</td>\n",
       "      <td>34 Langs Road</td>\n",
       "      <td>144.908970</td>\n",
       "      <td>NaN</td>\n",
       "      <td>1312</td>\n",
       "    </tr>\n",
       "    <tr>\n",
       "      <th>63127</th>\n",
       "      <td>0.0</td>\n",
       "      <td>-37.780382</td>\n",
       "      <td>62</td>\n",
       "      <td>Bowen Crescent</td>\n",
       "      <td>62 Bowen Crescent</td>\n",
       "      <td>144.962916</td>\n",
       "      <td>NaN</td>\n",
       "      <td>457</td>\n",
       "    </tr>\n",
       "    <tr>\n",
       "      <th>63235</th>\n",
       "      <td>0.0</td>\n",
       "      <td>-37.784645</td>\n",
       "      <td>10</td>\n",
       "      <td>Garton Street</td>\n",
       "      <td>10 Garton Street</td>\n",
       "      <td>144.963762</td>\n",
       "      <td>NaN</td>\n",
       "      <td>648</td>\n",
       "    </tr>\n",
       "    <tr>\n",
       "      <th>63390</th>\n",
       "      <td>0.0</td>\n",
       "      <td>-37.785339</td>\n",
       "      <td>465</td>\n",
       "      <td>Lygon Street</td>\n",
       "      <td>465 Lygon Street</td>\n",
       "      <td>144.969403</td>\n",
       "      <td>NaN</td>\n",
       "      <td>840</td>\n",
       "    </tr>\n",
       "    <tr>\n",
       "      <th>63716</th>\n",
       "      <td>0.0</td>\n",
       "      <td>-37.799002</td>\n",
       "      <td>190</td>\n",
       "      <td>Nicholson Street</td>\n",
       "      <td>190 Nicholson Street</td>\n",
       "      <td>144.974876</td>\n",
       "      <td>NaN</td>\n",
       "      <td>931</td>\n",
       "    </tr>\n",
       "  </tbody>\n",
       "</table>\n",
       "<p>730 rows × 8 columns</p>\n",
       "</div>"
      ],
      "text/plain": [
       "       suburb_id   latitude street_no          str_name           address_pnt  \\\n",
       "20           0.0 -37.788135       772      Lygon Street      772 Lygon Street   \n",
       "61           0.0 -37.827770       165     Normanby Road     165 Normanby Road   \n",
       "85           0.0 -37.786158        42  Leonard Crescent   42 Leonard Crescent   \n",
       "118          0.0 -37.804792        68  Nicholson Street   68 Nicholson Street   \n",
       "559          0.0 -37.775535       951       Park Street       951 Park Street   \n",
       "...          ...        ...       ...               ...                   ...   \n",
       "63124        0.0 -37.781990        34        Langs Road         34 Langs Road   \n",
       "63127        0.0 -37.780382        62    Bowen Crescent     62 Bowen Crescent   \n",
       "63235        0.0 -37.784645        10     Garton Street      10 Garton Street   \n",
       "63390        0.0 -37.785339       465      Lygon Street      465 Lygon Street   \n",
       "63716        0.0 -37.799002       190  Nicholson Street  190 Nicholson Street   \n",
       "\n",
       "        longitude suburb  street_id  \n",
       "20     144.969279    NaN        840  \n",
       "61     144.951017    NaN       1368  \n",
       "85     144.906459    NaN       1313  \n",
       "118    144.973896    NaN        931  \n",
       "559    144.940570    NaN        962  \n",
       "...           ...    ...        ...  \n",
       "63124  144.908970    NaN       1312  \n",
       "63127  144.962916    NaN        457  \n",
       "63235  144.963762    NaN        648  \n",
       "63390  144.969403    NaN        840  \n",
       "63716  144.974876    NaN        931  \n",
       "\n",
       "[730 rows x 8 columns]"
      ]
     },
     "execution_count": 18,
     "metadata": {},
     "output_type": "execute_result"
    }
   ],
   "source": [
    "suburb_id_zero= street_add[street_add['suburb'].isna()]\n",
    "\n",
    "suburb_id_zero"
   ]
  },
  {
   "cell_type": "markdown",
   "metadata": {},
   "source": [
    "replacing missing suburb_id values with 0 "
   ]
  },
  {
   "cell_type": "code",
   "execution_count": 19,
   "metadata": {},
   "outputs": [],
   "source": [
    "street_add['suburb_id'] = street_add['suburb_id'].fillna(0)"
   ]
  },
  {
   "cell_type": "code",
   "execution_count": 20,
   "metadata": {},
   "outputs": [],
   "source": [
    "street_add['suburb'] = street_add['suburb'].fillna('unknown suburb')"
   ]
  },
  {
   "cell_type": "code",
   "execution_count": 21,
   "metadata": {},
   "outputs": [
    {
     "data": {
      "text/plain": [
       "suburb_id        0\n",
       "latitude         0\n",
       "street_no      652\n",
       "str_name         1\n",
       "address_pnt      0\n",
       "longitude        0\n",
       "suburb           0\n",
       "street_id        0\n",
       "dtype: int64"
      ]
     },
     "execution_count": 21,
     "metadata": {},
     "output_type": "execute_result"
    }
   ],
   "source": [
    "street_add.isna().sum()"
   ]
  },
  {
   "cell_type": "markdown",
   "metadata": {},
   "source": [
    "Replacing the missing street_no with 0 "
   ]
  },
  {
   "cell_type": "code",
   "execution_count": 22,
   "metadata": {},
   "outputs": [],
   "source": [
    "street_add['street_no']= street_add['street_no'].fillna(0)"
   ]
  },
  {
   "cell_type": "code",
   "execution_count": 23,
   "metadata": {},
   "outputs": [
    {
     "data": {
      "text/html": [
       "<div>\n",
       "<style scoped>\n",
       "    .dataframe tbody tr th:only-of-type {\n",
       "        vertical-align: middle;\n",
       "    }\n",
       "\n",
       "    .dataframe tbody tr th {\n",
       "        vertical-align: top;\n",
       "    }\n",
       "\n",
       "    .dataframe thead th {\n",
       "        text-align: right;\n",
       "    }\n",
       "</style>\n",
       "<table border=\"1\" class=\"dataframe\">\n",
       "  <thead>\n",
       "    <tr style=\"text-align: right;\">\n",
       "      <th></th>\n",
       "      <th>suburb_id</th>\n",
       "      <th>latitude</th>\n",
       "      <th>street_no</th>\n",
       "      <th>str_name</th>\n",
       "      <th>address_pnt</th>\n",
       "      <th>longitude</th>\n",
       "      <th>suburb</th>\n",
       "      <th>street_id</th>\n",
       "    </tr>\n",
       "  </thead>\n",
       "  <tbody>\n",
       "    <tr>\n",
       "      <th>58476</th>\n",
       "      <td>592.0</td>\n",
       "      <td>-37.796995</td>\n",
       "      <td>5</td>\n",
       "      <td>NaN</td>\n",
       "      <td>5  North Melbourne</td>\n",
       "      <td>144.95</td>\n",
       "      <td>North Melbourne</td>\n",
       "      <td>2931</td>\n",
       "    </tr>\n",
       "  </tbody>\n",
       "</table>\n",
       "</div>"
      ],
      "text/plain": [
       "       suburb_id   latitude street_no str_name         address_pnt  longitude  \\\n",
       "58476      592.0 -37.796995         5      NaN  5  North Melbourne     144.95   \n",
       "\n",
       "                suburb  street_id  \n",
       "58476  North Melbourne       2931  "
      ]
     },
     "execution_count": 23,
     "metadata": {},
     "output_type": "execute_result"
    }
   ],
   "source": [
    "street_name = street_add[street_add['str_name'].isna()]\n",
    "\n",
    "street_name"
   ]
  },
  {
   "cell_type": "code",
   "execution_count": 24,
   "metadata": {},
   "outputs": [],
   "source": [
    "street_add['str_name'] = street_add['str_name'].fillna('unknow street_name')"
   ]
  },
  {
   "cell_type": "code",
   "execution_count": 25,
   "metadata": {},
   "outputs": [
    {
     "name": "stdout",
     "output_type": "stream",
     "text": [
      "<class 'pandas.core.frame.DataFrame'>\n",
      "RangeIndex: 63721 entries, 0 to 63720\n",
      "Data columns (total 8 columns):\n",
      " #   Column       Non-Null Count  Dtype  \n",
      "---  ------       --------------  -----  \n",
      " 0   suburb_id    63721 non-null  float64\n",
      " 1   latitude     63721 non-null  float64\n",
      " 2   street_no    63721 non-null  object \n",
      " 3   str_name     63721 non-null  object \n",
      " 4   address_pnt  63721 non-null  object \n",
      " 5   longitude    63721 non-null  float64\n",
      " 6   suburb       63721 non-null  object \n",
      " 7   street_id    63721 non-null  int64  \n",
      "dtypes: float64(3), int64(1), object(4)\n",
      "memory usage: 3.9+ MB\n"
     ]
    }
   ],
   "source": [
    "street_add.info()"
   ]
  },
  {
   "cell_type": "markdown",
   "metadata": {},
   "source": [
    "correcting the datatype from the dataset, subrurb_id should be int datatype not object. "
   ]
  },
  {
   "cell_type": "code",
   "execution_count": 26,
   "metadata": {},
   "outputs": [],
   "source": [
    "street_add['suburb_id'] = street_add['suburb_id'].apply(np.int64)"
   ]
  },
  {
   "cell_type": "code",
   "execution_count": 27,
   "metadata": {},
   "outputs": [
    {
     "name": "stdout",
     "output_type": "stream",
     "text": [
      "<class 'pandas.core.frame.DataFrame'>\n",
      "RangeIndex: 63721 entries, 0 to 63720\n",
      "Data columns (total 8 columns):\n",
      " #   Column       Non-Null Count  Dtype  \n",
      "---  ------       --------------  -----  \n",
      " 0   suburb_id    63721 non-null  int64  \n",
      " 1   latitude     63721 non-null  float64\n",
      " 2   street_no    63721 non-null  object \n",
      " 3   str_name     63721 non-null  object \n",
      " 4   address_pnt  63721 non-null  object \n",
      " 5   longitude    63721 non-null  float64\n",
      " 6   suburb       63721 non-null  object \n",
      " 7   street_id    63721 non-null  int64  \n",
      "dtypes: float64(2), int64(2), object(4)\n",
      "memory usage: 3.9+ MB\n"
     ]
    }
   ],
   "source": [
    "street_add.info()"
   ]
  },
  {
   "cell_type": "code",
   "execution_count": 28,
   "metadata": {},
   "outputs": [
    {
     "name": "stdout",
     "output_type": "stream",
     "text": [
      "     suburb_id           suburb\n",
      "0          592  North Melbourne\n",
      "1          591        Melbourne\n",
      "6          596        Southbank\n",
      "9          599        Docklands\n",
      "10         597   West Melbourne\n",
      "11         593        Parkville\n",
      "12         585          Carlton\n",
      "16         587   East Melbourne\n",
      "19         590       Kensington\n",
      "20           0   unknown suburb\n",
      "23         594   Port Melbourne\n",
      "52         588       Flemington\n",
      "81         595      South Yarra\n",
      "121        586    Carlton North\n",
      "464        840      South Wharf\n"
     ]
    }
   ],
   "source": [
    "suburb_id_keys = street_add[['suburb_id','suburb']]\n",
    "\n",
    "suburb_id_keys = suburb_id_keys.drop_duplicates()\n",
    "\n",
    "print(suburb_id_keys)"
   ]
  },
  {
   "cell_type": "code",
   "execution_count": 29,
   "metadata": {},
   "outputs": [
    {
     "data": {
      "image/png": "[encoded data removed]",
      "text/plain": [
       "<Figure size 640x480 with 1 Axes>"
      ]
     },
     "metadata": {},
     "output_type": "display_data"
    }
   ],
   "source": [
    "suburb_counts = street_add['suburb_id'].value_counts()\n",
    "\n",
    "suburb_counts.plot(kind = 'bar')\n",
    "plt.xlabel('suburb_id')\n",
    "plt.ylabel('frequency')\n",
    "plt.title('Frequency of suburb_id')\n",
    "plt.show()"
   ]
  },
  {
   "cell_type": "markdown",
   "metadata": {},
   "source": [
    "## bizsize_industryjobs"
   ]
  },
  {
   "cell_type": "code",
   "execution_count": 30,
   "metadata": {},
   "outputs": [
    {
     "data": {
      "text/html": [
       "<div>\n",
       "<style scoped>\n",
       "    .dataframe tbody tr th:only-of-type {\n",
       "        vertical-align: middle;\n",
       "    }\n",
       "\n",
       "    .dataframe tbody tr th {\n",
       "        vertical-align: top;\n",
       "    }\n",
       "\n",
       "    .dataframe thead th {\n",
       "        text-align: right;\n",
       "    }\n",
       "</style>\n",
       "<table border=\"1\" class=\"dataframe\">\n",
       "  <thead>\n",
       "    <tr style=\"text-align: right;\">\n",
       "      <th></th>\n",
       "      <th>census_year</th>\n",
       "      <th>clue_small_area</th>\n",
       "      <th>anzsic_indusrty</th>\n",
       "      <th>clue_industry</th>\n",
       "      <th>business_size</th>\n",
       "      <th>total_establishments</th>\n",
       "      <th>total_jobs</th>\n",
       "    </tr>\n",
       "  </thead>\n",
       "  <tbody>\n",
       "    <tr>\n",
       "      <th>0</th>\n",
       "      <td>2015</td>\n",
       "      <td>West Melbourne (Residential)</td>\n",
       "      <td>Health Care and Social Assistance</td>\n",
       "      <td>Health Care and Social Assistance</td>\n",
       "      <td>Large business</td>\n",
       "      <td>1</td>\n",
       "      <td>NaN</td>\n",
       "    </tr>\n",
       "    <tr>\n",
       "      <th>1</th>\n",
       "      <td>2015</td>\n",
       "      <td>West Melbourne (Residential)</td>\n",
       "      <td>Manufacturing</td>\n",
       "      <td>Manufacturing</td>\n",
       "      <td>Medium business</td>\n",
       "      <td>5</td>\n",
       "      <td>171.0</td>\n",
       "    </tr>\n",
       "    <tr>\n",
       "      <th>2</th>\n",
       "      <td>2015</td>\n",
       "      <td>West Melbourne (Residential)</td>\n",
       "      <td>Manufacturing</td>\n",
       "      <td>Manufacturing</td>\n",
       "      <td>Non employing</td>\n",
       "      <td>1</td>\n",
       "      <td>NaN</td>\n",
       "    </tr>\n",
       "    <tr>\n",
       "      <th>3</th>\n",
       "      <td>2015</td>\n",
       "      <td>West Melbourne (Residential)</td>\n",
       "      <td>Professional, Scientific and Technical Services</td>\n",
       "      <td>Business Services</td>\n",
       "      <td>Non employing</td>\n",
       "      <td>3</td>\n",
       "      <td>0.0</td>\n",
       "    </tr>\n",
       "    <tr>\n",
       "      <th>4</th>\n",
       "      <td>2015</td>\n",
       "      <td>West Melbourne (Residential)</td>\n",
       "      <td>Rental, Hiring and Real Estate Services</td>\n",
       "      <td>Real Estate Services</td>\n",
       "      <td>Small business</td>\n",
       "      <td>5</td>\n",
       "      <td>42.0</td>\n",
       "    </tr>\n",
       "  </tbody>\n",
       "</table>\n",
       "</div>"
      ],
      "text/plain": [
       "   census_year               clue_small_area  \\\n",
       "0         2015  West Melbourne (Residential)   \n",
       "1         2015  West Melbourne (Residential)   \n",
       "2         2015  West Melbourne (Residential)   \n",
       "3         2015  West Melbourne (Residential)   \n",
       "4         2015  West Melbourne (Residential)   \n",
       "\n",
       "                                   anzsic_indusrty  \\\n",
       "0                Health Care and Social Assistance   \n",
       "1                                    Manufacturing   \n",
       "2                                    Manufacturing   \n",
       "3  Professional, Scientific and Technical Services   \n",
       "4          Rental, Hiring and Real Estate Services   \n",
       "\n",
       "                       clue_industry    business_size  total_establishments  \\\n",
       "0  Health Care and Social Assistance   Large business                     1   \n",
       "1                      Manufacturing  Medium business                     5   \n",
       "2                      Manufacturing    Non employing                     1   \n",
       "3                  Business Services    Non employing                     3   \n",
       "4               Real Estate Services   Small business                     5   \n",
       "\n",
       "   total_jobs  \n",
       "0         NaN  \n",
       "1       171.0  \n",
       "2         NaN  \n",
       "3         0.0  \n",
       "4        42.0  "
      ]
     },
     "execution_count": 30,
     "metadata": {},
     "output_type": "execute_result"
    }
   ],
   "source": [
    "bizsize_industryjobs.head()"
   ]
  },
  {
   "cell_type": "code",
   "execution_count": 31,
   "metadata": {},
   "outputs": [],
   "source": [
    "bizsize_industryjobs = bizsize_industryjobs.sort_values(by = 'census_year',ascending = True)"
   ]
  },
  {
   "cell_type": "code",
   "execution_count": 32,
   "metadata": {},
   "outputs": [
    {
     "data": {
      "text/plain": [
       "Index(['census_year', 'clue_small_area', 'anzsic_indusrty', 'clue_industry',\n",
       "       'business_size', 'total_establishments', 'total_jobs'],\n",
       "      dtype='object')"
      ]
     },
     "execution_count": 32,
     "metadata": {},
     "output_type": "execute_result"
    }
   ],
   "source": [
    "bizsize_industryjobs.columns"
   ]
  },
  {
   "cell_type": "code",
   "execution_count": 33,
   "metadata": {},
   "outputs": [
    {
     "data": {
      "text/plain": [
       "array([2002, 2003, 2004, 2005, 2006, 2007, 2008, 2009, 2010, 2011, 2012,\n",
       "       2013, 2014, 2015, 2016, 2017, 2018, 2019, 2020, 2021, 2022],\n",
       "      dtype=int64)"
      ]
     },
     "execution_count": 33,
     "metadata": {},
     "output_type": "execute_result"
    }
   ],
   "source": [
    "bizsize_industryjobs['census_year'].unique()"
   ]
  },
  {
   "cell_type": "code",
   "execution_count": 34,
   "metadata": {},
   "outputs": [
    {
     "data": {
      "text/plain": [
       "array(['Melbourne (CBD)', 'City of Melbourne (total)',\n",
       "       'West Melbourne (Residential)', 'Docklands', 'Carlton',\n",
       "       'Port Melbourne', 'South Yarra', 'North Melbourne', 'Parkville',\n",
       "       'Southbank', 'West Melbourne (Industrial)', 'East Melbourne',\n",
       "       'Kensington', 'Melbourne (Remainder)'], dtype=object)"
      ]
     },
     "execution_count": 34,
     "metadata": {},
     "output_type": "execute_result"
    }
   ],
   "source": [
    "bizsize_cluesmallarea = bizsize_industryjobs['clue_small_area'].unique()\n",
    "\n",
    "bizsize_cluesmallarea"
   ]
  },
  {
   "cell_type": "code",
   "execution_count": 35,
   "metadata": {},
   "outputs": [
    {
     "data": {
      "text/plain": [
       "array(['Public Administration and Safety', 'Construction',\n",
       "       'Education and Training',\n",
       "       'Electricity, Gas, Water and Waste Services',\n",
       "       'Financial and Insurance Services',\n",
       "       'Health Care and Social Assistance', 'Manufacturing', 'Mining',\n",
       "       'Other Services',\n",
       "       'Professional, Scientific and Technical Services',\n",
       "       'Rental, Hiring and Real Estate Services',\n",
       "       'Arts and Recreation Services',\n",
       "       'Administrative and Support Services', 'Retail Trade',\n",
       "       'Transport, Postal and Warehousing', 'Wholesale Trade',\n",
       "       'Accommodation and Food Services',\n",
       "       'Agriculture, Forestry and Fishing',\n",
       "       'Information Media and Telecommunications', 'All ANZSIC'],\n",
       "      dtype=object)"
      ]
     },
     "execution_count": 35,
     "metadata": {},
     "output_type": "execute_result"
    }
   ],
   "source": [
    "bizsize_anzsic =bizsize_industryjobs['anzsic_indusrty'].unique()\n",
    "bizsize_anzsic"
   ]
  },
  {
   "cell_type": "code",
   "execution_count": 36,
   "metadata": {},
   "outputs": [
    {
     "data": {
      "text/plain": [
       "array(['Public Administration and Safety', 'Construction',\n",
       "       'Education and Training',\n",
       "       'Electricity, Gas, Water and Waste Services',\n",
       "       'Finance and Insurance', 'Health Care and Social Assistance',\n",
       "       'Manufacturing', 'Agriculture and Mining', 'Other Services',\n",
       "       'Business Services', 'Real Estate Services',\n",
       "       'Arts and Recreation Services', 'Admin and Support Services',\n",
       "       'Rental and Hiring Services', 'Retail Trade',\n",
       "       'Transport, Postal and Storage', 'Wholesale Trade',\n",
       "       'Accommodation', 'Food and Beverage Services',\n",
       "       'Information Media and Telecommunications', 'All CLUE Industry'],\n",
       "      dtype=object)"
      ]
     },
     "execution_count": 36,
     "metadata": {},
     "output_type": "execute_result"
    }
   ],
   "source": [
    "bizsize_clueindustry = bizsize_industryjobs['clue_industry'].unique()\n",
    "bizsize_clueindustry"
   ]
  },
  {
   "cell_type": "code",
   "execution_count": 37,
   "metadata": {},
   "outputs": [
    {
     "data": {
      "text/plain": [
       "array(['Non employing', 'Medium business', 'Small business',\n",
       "       'Large business'], dtype=object)"
      ]
     },
     "execution_count": 37,
     "metadata": {},
     "output_type": "execute_result"
    }
   ],
   "source": [
    "bizsize_industryjobs['business_size'].unique()"
   ]
  },
  {
   "cell_type": "code",
   "execution_count": 38,
   "metadata": {},
   "outputs": [
    {
     "data": {
      "text/plain": [
       "array([    1,    32,    78,    12,    15,     5,    48,    17,     7,\n",
       "           6,   933,  1581,    42,     3,    90,   106,   114,   144,\n",
       "         148,   111,     2,     9,     4,    43,    18,    49,   109,\n",
       "        1214,   158,    10,    67,    53,    22,    21,  9586,    11,\n",
       "         149,    36,    33,    30,   122,   129,     8,    13,    19,\n",
       "          96,    35,    38,   176,    39,    88,    60,    29,    87,\n",
       "          23,    27,    20,    56,    37,    69,   147,   428,    31,\n",
       "          14,    25,    44,    57,   501,   228,  1072,   275,    65,\n",
       "         105,    24,    85,    70,    72,    16,   143,   312,    98,\n",
       "         802,    50,   115,   593,  1685,    62,    40,   341,    58,\n",
       "         554,   190,    93,    59,   108,    54,   404,   137,    75,\n",
       "        1237,   154,    51,    89,   181,   134,   553,   688,   233,\n",
       "         462,    82,   513,   229,  1695,    55,   185,   551,   163,\n",
       "        1245,   121,    80,   156,   135,   162,    26,   127,    28,\n",
       "        1707,   187,   112,    68,   151,   470,   954,  1643,   633,\n",
       "          47,   235,   214,    73,    71,   596,    95,    81,   500,\n",
       "        9675,   281,    63,   186,   556,    61,   203,   136,   182,\n",
       "          83,    76,  1800,   570,   188,   589,  9938,   276,   155,\n",
       "         313,   399,    34,   893,    45,    41,   101,    74,   221,\n",
       "         150,   246,   466,   207,   504,  1740,    52,    84,   103,\n",
       "         278,   510,    64,  1131,   420,  1319,  1349,   110,   515,\n",
       "         632,   119,    91,   974,   340,    94,   118,   449,    86,\n",
       "         407,    46,   261,   213,    77,   937,   125,   128,  1211,\n",
       "         331,   139,   123,   171,   201,  2048,   520,   548,   167,\n",
       "         117,   173,   733,   264,   100,   107,   993,   220,   141,\n",
       "         444,   327,   563,   102,   210,  1469,    97,   215,   277,\n",
       "       10643,   605,  1794,   152,  1468,   529,   486,   131,   429,\n",
       "        1010,   133,  1303,   231,   256,   469,   751,  1004,  1916,\n",
       "         212,  2102,   360,   146,   620,   177,   120,   571,   130,\n",
       "        1556,   208,   284, 11083,   666,   523,   531,  1503,   126,\n",
       "         273,   335,   142,   153,   184,  2000,   296,   559,   670,\n",
       "        2204, 11703,  2006,   124,   398,  1044,   254,   643,   116,\n",
       "         485,   825,    66,   227,   234,  1633,  1535,  1376,   189,\n",
       "        1038,   132,   495,   216,   496,   699,  1099,  2135,   439,\n",
       "          79,   192,  2198,   672,   324,   222,   603,   353,   545,\n",
       "         562,    92,   223,   460,  2141, 12227,  1080,  1521,   848,\n",
       "         202,   160,   248,   609,  1485,   159,   138,   290,   204,\n",
       "         480,   170,   889,   318,   194,   197,   241,   690,   199,\n",
       "        2167,   164,   455,  1818,  1505,   140, 12498,  2191,   706,\n",
       "         333,  1121,   539,   357,  1154,   454,  2301,   508,   658,\n",
       "         279,   274,   295,  1177,  1515,   667,   193,   905,   307,\n",
       "        2067,  1160,   491,  1371,   356,   507, 12449,   345,   698,\n",
       "        1893,   244,   230,  2314,   579,   673,   517,   464,  2203,\n",
       "         200,   493,   898,   676,   573,   249,   744,  2247,  1145,\n",
       "         243,   224,   661,   347, 12639,  2439,   511,   308,  1382,\n",
       "        1514,   289,   172,  1212,   421,   344,   174,   145,   211,\n",
       "        1956,  2098,   178, 12609,  2331,   474,  2157,   255,   251,\n",
       "        1235,  1186,  2347,   168,  1978,   561,   260,   908,   674,\n",
       "         300,   801,   350,   342,   518,   406,  1473,   306,  1428,\n",
       "          99,  2384, 12803,   808,  2358,   921,  1444,  1295,   195,\n",
       "         337,   715,   533,   405,  1463,   104,   525,   516,   471,\n",
       "         304,   175,   191,  2078,   560,   250,   166,  1205,   232,\n",
       "         270,   226,   205,   239,  1487,   749,   514,   378,   830,\n",
       "        2388,   351, 12766,   311,  1351,  1413,   361,  2333,   537,\n",
       "        2121,  1225,   443,  2217,   492,   759,  1451,   219,  2281,\n",
       "        2461, 12711,   365,  1422,   183,   450,  1227,  2140,   285,\n",
       "         483,  2268,  1384,   366,   847,   647,   942,   684,   814,\n",
       "         371,  1409,   206,   374,   329,  2359,   883,  2524,   348,\n",
       "        2128,  1280,   354,  2236,   432,   198,   970,   236,   505,\n",
       "        1403,  1442,   343, 12807,  1421,   218,   315,   541,   867,\n",
       "        2645,  1427,   819,   426,  2222,   618,   435,   958,   196,\n",
       "         473,   352,   225,  2118,   687, 12870,   287,  2124,   431,\n",
       "        1355,   299,   549,   209,   355,  1448,  1391,  2746, 12823,\n",
       "         844,   242,   330,   627,  1322,   408,   960,   704,   238,\n",
       "         453,  2405,   113,   336,   379,  2864, 12641,   828,  2452,\n",
       "         961,   677,  1310,  2020,  2089,  1340,   180,   859,  1305,\n",
       "        1472,   694,   321,   377,   362,   434,   283,   845,  1182,\n",
       "        1737,  1710,  2403,  1414,   161,   448,  1051,   639,   577,\n",
       "        1103,   769,   358,  2609,   359, 11186,  1057,   756,  1027,\n",
       "         613,  1595,   824,  1374, 10670,   546,   302,  2303,  2605,\n",
       "         869,   369,  1689,   265,  1153,   882,  1015,   928,   376,\n",
       "         375,  1234,   292,  2642,   272,  1437,   247,  2127,   799,\n",
       "         332,  9929,  1626,   682,   477,   623], dtype=int64)"
      ]
     },
     "execution_count": 38,
     "metadata": {},
     "output_type": "execute_result"
    }
   ],
   "source": [
    "bizsize_industryjobs['total_establishments'].unique()"
   ]
  },
  {
   "cell_type": "code",
   "execution_count": 39,
   "metadata": {},
   "outputs": [
    {
     "data": {
      "text/plain": [
       "array([   nan,  1783.,  4726., ...,  3183.,  1044., 11618.])"
      ]
     },
     "execution_count": 39,
     "metadata": {},
     "output_type": "execute_result"
    }
   ],
   "source": [
    "bizsize_industryjobs['total_jobs'].unique()"
   ]
  },
  {
   "cell_type": "code",
   "execution_count": 40,
   "metadata": {},
   "outputs": [
    {
     "name": "stdout",
     "output_type": "stream",
     "text": [
      "<class 'pandas.core.frame.DataFrame'>\n",
      "Int64Index: 14692 entries, 7345 to 9761\n",
      "Data columns (total 7 columns):\n",
      " #   Column                Non-Null Count  Dtype  \n",
      "---  ------                --------------  -----  \n",
      " 0   census_year           14692 non-null  int64  \n",
      " 1   clue_small_area       14692 non-null  object \n",
      " 2   anzsic_indusrty       14692 non-null  object \n",
      " 3   clue_industry         14692 non-null  object \n",
      " 4   business_size         14692 non-null  object \n",
      " 5   total_establishments  14692 non-null  int64  \n",
      " 6   total_jobs            10365 non-null  float64\n",
      "dtypes: float64(1), int64(2), object(4)\n",
      "memory usage: 918.2+ KB\n"
     ]
    }
   ],
   "source": [
    "bizsize_industryjobs.info()"
   ]
  },
  {
   "cell_type": "code",
   "execution_count": 41,
   "metadata": {},
   "outputs": [
    {
     "data": {
      "text/plain": [
       "census_year                0\n",
       "clue_small_area            0\n",
       "anzsic_indusrty            0\n",
       "clue_industry              0\n",
       "business_size              0\n",
       "total_establishments       0\n",
       "total_jobs              4327\n",
       "dtype: int64"
      ]
     },
     "execution_count": 41,
     "metadata": {},
     "output_type": "execute_result"
    }
   ],
   "source": [
    "bizsize_industryjobs.isna().sum()"
   ]
  },
  {
   "cell_type": "code",
   "execution_count": 42,
   "metadata": {},
   "outputs": [
    {
     "data": {
      "text/html": [
       "<div>\n",
       "<style scoped>\n",
       "    .dataframe tbody tr th:only-of-type {\n",
       "        vertical-align: middle;\n",
       "    }\n",
       "\n",
       "    .dataframe tbody tr th {\n",
       "        vertical-align: top;\n",
       "    }\n",
       "\n",
       "    .dataframe thead th {\n",
       "        text-align: right;\n",
       "    }\n",
       "</style>\n",
       "<table border=\"1\" class=\"dataframe\">\n",
       "  <thead>\n",
       "    <tr style=\"text-align: right;\">\n",
       "      <th></th>\n",
       "      <th>count</th>\n",
       "      <th>mean</th>\n",
       "      <th>std</th>\n",
       "      <th>min</th>\n",
       "      <th>25%</th>\n",
       "      <th>50%</th>\n",
       "      <th>75%</th>\n",
       "      <th>max</th>\n",
       "    </tr>\n",
       "    <tr>\n",
       "      <th>business_size</th>\n",
       "      <th></th>\n",
       "      <th></th>\n",
       "      <th></th>\n",
       "      <th></th>\n",
       "      <th></th>\n",
       "      <th></th>\n",
       "      <th></th>\n",
       "      <th></th>\n",
       "    </tr>\n",
       "  </thead>\n",
       "  <tbody>\n",
       "    <tr>\n",
       "      <th>Large business</th>\n",
       "      <td>1076.0</td>\n",
       "      <td>12633.487918</td>\n",
       "      <td>32292.079142</td>\n",
       "      <td>687.0</td>\n",
       "      <td>2084.5</td>\n",
       "      <td>3882.0</td>\n",
       "      <td>11539.25</td>\n",
       "      <td>273200.0</td>\n",
       "    </tr>\n",
       "    <tr>\n",
       "      <th>Medium business</th>\n",
       "      <td>3095.0</td>\n",
       "      <td>2418.815509</td>\n",
       "      <td>10420.953933</td>\n",
       "      <td>66.0</td>\n",
       "      <td>222.5</td>\n",
       "      <td>409.0</td>\n",
       "      <td>1267.00</td>\n",
       "      <td>153302.0</td>\n",
       "    </tr>\n",
       "    <tr>\n",
       "      <th>Non employing</th>\n",
       "      <td>1720.0</td>\n",
       "      <td>0.000000</td>\n",
       "      <td>0.000000</td>\n",
       "      <td>0.0</td>\n",
       "      <td>0.0</td>\n",
       "      <td>0.0</td>\n",
       "      <td>0.00</td>\n",
       "      <td>0.0</td>\n",
       "    </tr>\n",
       "    <tr>\n",
       "      <th>Small business</th>\n",
       "      <td>4474.0</td>\n",
       "      <td>984.121144</td>\n",
       "      <td>5117.223702</td>\n",
       "      <td>3.0</td>\n",
       "      <td>48.0</td>\n",
       "      <td>108.0</td>\n",
       "      <td>393.50</td>\n",
       "      <td>80008.0</td>\n",
       "    </tr>\n",
       "  </tbody>\n",
       "</table>\n",
       "</div>"
      ],
      "text/plain": [
       "                  count          mean           std    min     25%     50%  \\\n",
       "business_size                                                                \n",
       "Large business   1076.0  12633.487918  32292.079142  687.0  2084.5  3882.0   \n",
       "Medium business  3095.0   2418.815509  10420.953933   66.0   222.5   409.0   \n",
       "Non employing    1720.0      0.000000      0.000000    0.0     0.0     0.0   \n",
       "Small business   4474.0    984.121144   5117.223702    3.0    48.0   108.0   \n",
       "\n",
       "                      75%       max  \n",
       "business_size                        \n",
       "Large business   11539.25  273200.0  \n",
       "Medium business   1267.00  153302.0  \n",
       "Non employing        0.00       0.0  \n",
       "Small business     393.50   80008.0  "
      ]
     },
     "execution_count": 42,
     "metadata": {},
     "output_type": "execute_result"
    }
   ],
   "source": [
    "business_size_descriptive = bizsize_industryjobs.groupby('business_size')['total_jobs'].describe()\n",
    "\n",
    "business_size_descriptive "
   ]
  },
  {
   "cell_type": "code",
   "execution_count": 43,
   "metadata": {},
   "outputs": [],
   "source": [
    "bizsize_industryjobs['total_jobs'] = bizsize_industryjobs.groupby('business_size')['total_jobs'].transform(lambda x: x.fillna(x.min()))"
   ]
  },
  {
   "cell_type": "code",
   "execution_count": 44,
   "metadata": {},
   "outputs": [],
   "source": [
    "bizsize_industryjobs['total_jobs'] = bizsize_industryjobs['total_jobs'].apply(np.int64)"
   ]
  },
  {
   "cell_type": "code",
   "execution_count": 45,
   "metadata": {},
   "outputs": [
    {
     "name": "stdout",
     "output_type": "stream",
     "text": [
      "<class 'pandas.core.frame.DataFrame'>\n",
      "Int64Index: 14692 entries, 7345 to 9761\n",
      "Data columns (total 7 columns):\n",
      " #   Column                Non-Null Count  Dtype \n",
      "---  ------                --------------  ----- \n",
      " 0   census_year           14692 non-null  int64 \n",
      " 1   clue_small_area       14692 non-null  object\n",
      " 2   anzsic_indusrty       14692 non-null  object\n",
      " 3   clue_industry         14692 non-null  object\n",
      " 4   business_size         14692 non-null  object\n",
      " 5   total_establishments  14692 non-null  int64 \n",
      " 6   total_jobs            14692 non-null  int64 \n",
      "dtypes: int64(3), object(4)\n",
      "memory usage: 918.2+ KB\n"
     ]
    }
   ],
   "source": [
    "bizsize_industryjobs.info()"
   ]
  },
  {
   "cell_type": "markdown",
   "metadata": {},
   "source": [
    "## bizaddressindustry"
   ]
  },
  {
   "cell_type": "code",
   "execution_count": 46,
   "metadata": {},
   "outputs": [
    {
     "data": {
      "text/plain": [
       "(14692, 7)"
      ]
     },
     "execution_count": 46,
     "metadata": {},
     "output_type": "execute_result"
    }
   ],
   "source": [
    "bizsize_industryjobs.shape"
   ]
  },
  {
   "cell_type": "code",
   "execution_count": 47,
   "metadata": {},
   "outputs": [
    {
     "data": {
      "text/html": [
       "<div>\n",
       "<style scoped>\n",
       "    .dataframe tbody tr th:only-of-type {\n",
       "        vertical-align: middle;\n",
       "    }\n",
       "\n",
       "    .dataframe tbody tr th {\n",
       "        vertical-align: top;\n",
       "    }\n",
       "\n",
       "    .dataframe thead th {\n",
       "        text-align: right;\n",
       "    }\n",
       "</style>\n",
       "<table border=\"1\" class=\"dataframe\">\n",
       "  <thead>\n",
       "    <tr style=\"text-align: right;\">\n",
       "      <th></th>\n",
       "      <th>census_year</th>\n",
       "      <th>block_id</th>\n",
       "      <th>property_id</th>\n",
       "      <th>base_property_id</th>\n",
       "      <th>clue_small_area</th>\n",
       "      <th>trading_name</th>\n",
       "      <th>business_address</th>\n",
       "      <th>industry_anzsic4_code</th>\n",
       "      <th>industry_anzsic4_description</th>\n",
       "      <th>longitude</th>\n",
       "      <th>latitude</th>\n",
       "    </tr>\n",
       "  </thead>\n",
       "  <tbody>\n",
       "    <tr>\n",
       "      <th>0</th>\n",
       "      <td>2003</td>\n",
       "      <td>105</td>\n",
       "      <td>100172</td>\n",
       "      <td>100172</td>\n",
       "      <td>Melbourne (CBD)</td>\n",
       "      <td>Wilson Parking Australia</td>\n",
       "      <td>24-46 A'Beckett Street MELBOURNE 3000</td>\n",
       "      <td>9533</td>\n",
       "      <td>Parking Services</td>\n",
       "      <td>144.962053</td>\n",
       "      <td>-37.808573</td>\n",
       "    </tr>\n",
       "    <tr>\n",
       "      <th>1</th>\n",
       "      <td>2003</td>\n",
       "      <td>105</td>\n",
       "      <td>103301</td>\n",
       "      <td>103301</td>\n",
       "      <td>Melbourne (CBD)</td>\n",
       "      <td>Melbourne International Backpackers</td>\n",
       "      <td>442-450 Elizabeth Street MELBOURNE 3000</td>\n",
       "      <td>4400</td>\n",
       "      <td>Accommodation</td>\n",
       "      <td>144.960868</td>\n",
       "      <td>-37.808309</td>\n",
       "    </tr>\n",
       "    <tr>\n",
       "      <th>2</th>\n",
       "      <td>2003</td>\n",
       "      <td>105</td>\n",
       "      <td>103302</td>\n",
       "      <td>103302</td>\n",
       "      <td>Melbourne (CBD)</td>\n",
       "      <td>Vacant</td>\n",
       "      <td>422-440 Elizabeth Street MELBOURNE 3000</td>\n",
       "      <td>0</td>\n",
       "      <td>Vacant Space</td>\n",
       "      <td>144.961017</td>\n",
       "      <td>-37.808630</td>\n",
       "    </tr>\n",
       "    <tr>\n",
       "      <th>3</th>\n",
       "      <td>2003</td>\n",
       "      <td>105</td>\n",
       "      <td>103302</td>\n",
       "      <td>103302</td>\n",
       "      <td>Melbourne (CBD)</td>\n",
       "      <td>The Garden Cafe</td>\n",
       "      <td>Shop 3, Ground , 422-440 Elizabeth Street MELB...</td>\n",
       "      <td>4511</td>\n",
       "      <td>Cafes and Restaurants</td>\n",
       "      <td>144.961017</td>\n",
       "      <td>-37.808630</td>\n",
       "    </tr>\n",
       "    <tr>\n",
       "      <th>4</th>\n",
       "      <td>2003</td>\n",
       "      <td>105</td>\n",
       "      <td>103302</td>\n",
       "      <td>103302</td>\n",
       "      <td>Melbourne (CBD)</td>\n",
       "      <td>Telephony Australia</td>\n",
       "      <td>Shop 5, Ground , 422-440 Elizabeth Street MELB...</td>\n",
       "      <td>5809</td>\n",
       "      <td>Other Telecommunications Services</td>\n",
       "      <td>144.961017</td>\n",
       "      <td>-37.808630</td>\n",
       "    </tr>\n",
       "  </tbody>\n",
       "</table>\n",
       "</div>"
      ],
      "text/plain": [
       "   census_year  block_id  property_id  base_property_id  clue_small_area  \\\n",
       "0         2003       105       100172            100172  Melbourne (CBD)   \n",
       "1         2003       105       103301            103301  Melbourne (CBD)   \n",
       "2         2003       105       103302            103302  Melbourne (CBD)   \n",
       "3         2003       105       103302            103302  Melbourne (CBD)   \n",
       "4         2003       105       103302            103302  Melbourne (CBD)   \n",
       "\n",
       "                          trading_name  \\\n",
       "0             Wilson Parking Australia   \n",
       "1  Melbourne International Backpackers   \n",
       "2                               Vacant   \n",
       "3                      The Garden Cafe   \n",
       "4                  Telephony Australia   \n",
       "\n",
       "                                    business_address  industry_anzsic4_code  \\\n",
       "0              24-46 A'Beckett Street MELBOURNE 3000                   9533   \n",
       "1            442-450 Elizabeth Street MELBOURNE 3000                   4400   \n",
       "2            422-440 Elizabeth Street MELBOURNE 3000                      0   \n",
       "3  Shop 3, Ground , 422-440 Elizabeth Street MELB...                   4511   \n",
       "4  Shop 5, Ground , 422-440 Elizabeth Street MELB...                   5809   \n",
       "\n",
       "        industry_anzsic4_description   longitude   latitude  \n",
       "0                   Parking Services  144.962053 -37.808573  \n",
       "1                      Accommodation  144.960868 -37.808309  \n",
       "2                       Vacant Space  144.961017 -37.808630  \n",
       "3              Cafes and Restaurants  144.961017 -37.808630  \n",
       "4  Other Telecommunications Services  144.961017 -37.808630  "
      ]
     },
     "execution_count": 47,
     "metadata": {},
     "output_type": "execute_result"
    }
   ],
   "source": [
    "bizaddressindustry.head()"
   ]
  },
  {
   "cell_type": "code",
   "execution_count": 48,
   "metadata": {},
   "outputs": [],
   "source": [
    "bizaddressindustry=bizaddressindustry.sort_values(by='census_year',ascending = True)"
   ]
  },
  {
   "cell_type": "code",
   "execution_count": 49,
   "metadata": {},
   "outputs": [
    {
     "data": {
      "text/plain": [
       "Index(['census_year', 'block_id', 'property_id', 'base_property_id',\n",
       "       'clue_small_area', 'trading_name', 'business_address',\n",
       "       'industry_anzsic4_code', 'industry_anzsic4_description', 'longitude',\n",
       "       'latitude'],\n",
       "      dtype='object')"
      ]
     },
     "execution_count": 49,
     "metadata": {},
     "output_type": "execute_result"
    }
   ],
   "source": [
    "bizaddressindustry.columns"
   ]
  },
  {
   "cell_type": "code",
   "execution_count": 50,
   "metadata": {},
   "outputs": [
    {
     "data": {
      "text/plain": [
       "array([2002, 2003, 2004, 2005, 2006, 2007, 2008, 2009, 2010, 2011, 2012,\n",
       "       2013, 2014, 2015, 2016, 2017, 2018, 2019, 2020, 2021, 2022],\n",
       "      dtype=int64)"
      ]
     },
     "execution_count": 50,
     "metadata": {},
     "output_type": "execute_result"
    }
   ],
   "source": [
    "bizaddress_censusyear = bizaddressindustry['census_year'].unique()\n",
    "\n",
    "bizaddress_censusyear"
   ]
  },
  {
   "cell_type": "code",
   "execution_count": 51,
   "metadata": {},
   "outputs": [
    {
     "data": {
      "text/plain": [
       "array([ 748,   78,   77,   74,   76,   82,   81,   73,   72,   85,   93,\n",
       "         92,   91,   87,   84,   83,   64,   63,   62,   57,   58,   61,\n",
       "         67,   66,   68,   71,   65,   94,  242,  241,  240,  239,  237,\n",
       "        226,  227,  228,  229,  230,  232,  234,  236,  246,  245,  243,\n",
       "        218,  217,  223,  224,  225,  222,  220,  219,  260,  259,  258,\n",
       "        257,  255,  256,  267,  266,  265,  264,  261,  262,  263,  251,\n",
       "        248,  247,  252,  254,  105,  104,  103,  101,  113,  107,  111,\n",
       "         98,   97,   95,   96,  210,  207,  206,  205,  212,  213,  216,\n",
       "        215,  204,  214,  203,  201,  114,  125,  131,  116,  115,   35,\n",
       "         38,   37,   36,   32,   33,   31,   28,   34,   53,   52,   51,\n",
       "         47,   46,   48,   56,   54,   55,   43,   42,   44,   41,   45,\n",
       "        803,  802,  801,  795,  808,  807,  806,  804,  794,  793,  784,\n",
       "        783,  782,  781,  779,  791,  790,  792,  785,  786,  787,  789,\n",
       "        788,  778,  920,  919,  916,  915,  870,  904,  906,  908,  909,\n",
       "        910,  913,  922,  923, 1005, 1004, 1002, 1001,  925,  926,  927,\n",
       "        928,  929,  930,  931,  868,  867,  815,  813,  812,  809,  810,\n",
       "        811,  861,  862,  863,  864,  866,  849,  850,  852,  858,  859,\n",
       "        860,  734,  733,  732,  720,  724,  729,  730,  731,  746,  745,\n",
       "        744,  742,  741,  735,  736,  737,  738,  740,  656,  652,  653,\n",
       "        654,  655,  710,  657,  658,  659,  660,  662,  663,  760,  773,\n",
       "        774,  777,  772,  753,  752,  751,   22,  759,  651, 1006,   15,\n",
       "         16,   14,   12,   11,    6,    1,    4,    5,   13,   17,   21,\n",
       "         18, 1015, 1014, 1013, 1012, 1007, 1009, 1108, 1107, 1103, 1102,\n",
       "       1101, 1016, 1109, 1111, 1110,  376,  375,  368,  369,  370,  371,\n",
       "        377,    2,  367,  366,  336,  335,  334,  333,  323,  326,  327,\n",
       "        328,  329,  331,  332,  343,  342,  341,  340,  339,  337,  338,\n",
       "        322,  270,  268,  271,  273,  274,  313,  314,  315,  317,  319,\n",
       "        312,  309,  301,  308,  304,  344,  357,  356,  355,  362,  363,\n",
       "        364,  365,  361,  358,  359,  360,  349,  348,  347,  346,  345,\n",
       "        351,  352,  353,  354,  537,  535,  531,  530,  528,  538,  529,\n",
       "        558,  556,  553,  552,  549,  544,  543,  542,  539,  540,  541,\n",
       "        505,  504,  502,  501,  443,  444,  506,  507,  517,  522,  523,\n",
       "        524,  513,  525,  526,  527,  512,  508,  509,  559,  621,  620,\n",
       "        615,  616,  617,  618,  619,  646,  649,  650,  644,  645,  606,\n",
       "        605,  604,  603,  602,  601,  570,  560,  562,  563,  564,  565,\n",
       "        567,  569,  612,  613,  614,  610,  607,  442,  441,  403,  402,\n",
       "        401,  380,  378,  404,  434,  432,  431,  430,  435,  439,  440,\n",
       "        438,  437,  420,  419,  418,  416,  415,  414,  405,  406,  410,\n",
       "        412,  413,  422,  423,  427,  428,  429,  426,  424,  425,   88,\n",
       "        208,   86,   27,   24,   23,   26,   25,  771,  780,  775,  776,\n",
       "        642,  643,  739,  747,  728,  921,  871,  865,  851,  855,  902,\n",
       "        857,  914,  905, 1104, 1105, 1112,  306,  303,  302,  272,  310,\n",
       "        311,  330,  320,  316,  318,  221,  238,  235,  233,  250,  249,\n",
       "        253,  519,  503,  433,  520,  571,  566,  609,  611,  536,  550,\n",
       "        554,  555,  547,  409,  421,  373,  749,  661,  814,  907,  903,\n",
       "        854,  869,  534,  511,  608,  548,  568,  561,  445,  231,  244,\n",
       "        321,  269,  379,  407,  408,  411,  209,  211, 1106,  750,  324,\n",
       "        901,  374,  743, 2392, 2390, 2391, 2385, 2387, 2388, 2389, 2381,\n",
       "       2383, 2384,  202, 2382, 2524, 2523, 2518, 2515, 2511, 2521, 2510,\n",
       "       2501, 2547, 2546, 2545, 2544, 2541, 2540, 2548, 2539, 2538, 2533,\n",
       "       2531, 2530, 2528, 2527, 2532, 2525, 2522, 2520, 2519, 2503, 2512,\n",
       "       2537, 2536, 2534, 2526, 2502,  305,  911, 2509, 2386, 2513,  514,\n",
       "        856], dtype=int64)"
      ]
     },
     "execution_count": 51,
     "metadata": {},
     "output_type": "execute_result"
    }
   ],
   "source": [
    "bizaddressindustry['block_id'].unique() "
   ]
  },
  {
   "cell_type": "code",
   "execution_count": 52,
   "metadata": {},
   "outputs": [
    {
     "data": {
      "text/plain": [
       "array([108658, 103618, 105752, ..., 714182, 714412, 511130], dtype=int64)"
      ]
     },
     "execution_count": 52,
     "metadata": {},
     "output_type": "execute_result"
    }
   ],
   "source": [
    "bizaddressindustry['property_id'].unique()"
   ]
  },
  {
   "cell_type": "code",
   "execution_count": 53,
   "metadata": {},
   "outputs": [
    {
     "data": {
      "text/plain": [
       "array([108658, 103618, 110709, ..., 102196, 714412, 511130], dtype=int64)"
      ]
     },
     "execution_count": 53,
     "metadata": {},
     "output_type": "execute_result"
    }
   ],
   "source": [
    "bizaddressindustry['base_property_id'].unique()"
   ]
  },
  {
   "cell_type": "code",
   "execution_count": 54,
   "metadata": {},
   "outputs": [
    {
     "data": {
      "text/plain": [
       "array(['Southbank', 'Melbourne (CBD)', 'West Melbourne (Residential)',\n",
       "       'Carlton', 'Docklands', 'Port Melbourne', 'Parkville',\n",
       "       'Melbourne (Remainder)', 'West Melbourne (Industrial)',\n",
       "       'South Yarra', 'East Melbourne', 'North Melbourne', 'Kensington'],\n",
       "      dtype=object)"
      ]
     },
     "execution_count": 54,
     "metadata": {},
     "output_type": "execute_result"
    }
   ],
   "source": [
    "bizaddress_cluesmallarea = bizaddressindustry['clue_small_area'].unique()\n",
    "\n",
    "bizaddress_cluesmallarea"
   ]
  },
  {
   "cell_type": "code",
   "execution_count": 55,
   "metadata": {},
   "outputs": [
    {
     "data": {
      "text/plain": [
       "array([   0, 4511, 9531, 4512, 5801, 7220, 1611, 6999, 4129, 8101, 5101,\n",
       "       9551, 6720, 4520, 3211, 7000, 6931, 4810, 4271, 9540, 4279, 8102,\n",
       "       7299, 9511, 9559, 6411, 6932, 6230, 7510, 6924, 4400, 4213, 6419,\n",
       "       5419, 6921, 1191, 7520, 6330, 4211, 3912, 4242, 4241, 7540, 9533,\n",
       "       9001, 1510, 7714, 5299, 8219, 6961, 5809, 9002, 8599, 8512, 4252,\n",
       "       8532, 4255, 4273, 4244, 4258, 4251, 4243, 4257, 4710, 4110, 9552,\n",
       "       9539, 8922, 6923, 9422, 8531, 2620, 2491, 3231, 6922, 4221, 2640,\n",
       "       4530, 2599, 9411, 6221, 7711, 4274, 6962, 4253, 4259, 4214, 3494,\n",
       "       1351, 2700, 1333, 9491, 7211, 3732, 1523, 8511, 8220, 6940, 7552,\n",
       "       5910, 5922, 5309, 9003, 8790, 5413, 4111, 6950, 3339, 3019, 5411,\n",
       "       7291, 4123, 4260, 5513, 6991, 5420, 6223, 5610, 8212, 3739, 9114,\n",
       "       3711, 3299, 6420, 4121, 8520, 4623, 3332, 8539, 2591, 8710, 1912,\n",
       "       3605, 9419, 7311, 8021, 7600, 8537, 4222, 6632, 6611, 3419, 3921,\n",
       "       4122, 4272, 4000, 2010, 6925, 9111, 1620, 9532, 8534, 8211, 9209,\n",
       "       5029, 4256, 4231, 1174, 8533, 3101, 9113, 3911, 4900, 6240, 2419,\n",
       "       4320, 3800, 2293, 4254, 9499, 3712, 6910, 2412, 7530, 6010, 2311,\n",
       "       6321, 6322, 8601, 5412, 5291, 5219, 7212, 3311, 2223, 3604, 7294,\n",
       "        700, 3020, 3322, 3603, 9131, 5512, 1831, 1090, 5621,  801, 6229,\n",
       "       3312, 6310, 6712, 1012, 5220, 5301, 5211, 2469, 8910, 2812, 3736,\n",
       "       5212, 2031, 3492, 4310, 5102, 5511, 2394, 3011, 1332, 5414, 2422,\n",
       "       1133, 3731, 8401, 3323, 3491, 8609, 4610, 1841, 8921, 3319, 2121,\n",
       "       2452, 5921, 8023, 9112, 3232, 9201, 3720, 9412,  990, 7713, 2519,\n",
       "       1011, 3609, 3411, 4212, 3331, 3922, 2421,  529, 9139, 3602, 1334,\n",
       "       5010, 2029, 1352,  510, 9202, 5292, 3735, 4245, 5802, 5521, 1331,\n",
       "       1499, 2033, 4622, 4720, 2432, 9534, 3212, 4621, 6631, 6619, 7712,\n",
       "       8022, 6640, 1612, 4513, 2399, 2299, 8010, 5522, 2240, 2032, 9520,\n",
       "       1491, 1492, 1131, 4229, 1111, 3606, 1161, 2312, 2319, 1911, 1172,\n",
       "       1173, 3734, 2911, 9129, 9121, 2811, 3244, 2511, 2313, 3504,  804,\n",
       "       6639, 3233, 6711, 4820, 7293, 1812, 8024, 3321, 6222, 5700, 9512,\n",
       "        805, 2110, 3221, 2229, 2612, 3109,  145,  111, 1192, 2393, 9429,\n",
       "       1113, 6970, 2463, 3501, 1181, 3234, 1212, 2462, 2439, 7320, 1919,\n",
       "       1120, 3245, 8402, 2132, 1529,  806, 8591, 3493, 3243, 2034, 2021,\n",
       "       3505, 1916, 1852, 2512, 1171, 6210, 3239, 2391, 2431, 1211, 1162,\n",
       "       4232, 1112, 7313, 5514, 3913,  809, 3291,  919, 2611, 3241, 6020,\n",
       "       2619,  803, 3499, 7292, 2919, 7719, 7551, 1851, 1920, 2411, 2499,\n",
       "        191, 2922, 2392, 2449, 3242, 1199, 1214, 2429, 1140, 2630, 1829,\n",
       "       7720,  122,  807, 5622, 3733, 2461, 1811, 3223, 2592, 1709,  600,\n",
       "       3502, 1182, 1150, 6620, 2921, 3292, 2090, 1493,  301,  302,  802,\n",
       "       3224, 9421, 1494,  160, 1312, 3503,  149, 1813, 2221, 1832,  113,\n",
       "       1701,  144, 3601, 5021, 1220, 1842, 2451, 1320,  131,  419, 1899,\n",
       "        142], dtype=int64)"
      ]
     },
     "execution_count": 55,
     "metadata": {},
     "output_type": "execute_result"
    }
   ],
   "source": [
    "bizaddressindustry['industry_anzsic4_code'].unique()"
   ]
  },
  {
   "cell_type": "code",
   "execution_count": 56,
   "metadata": {},
   "outputs": [
    {
     "data": {
      "text/plain": [
       "array(['Vacant Space', 'Cafes and Restaurants',\n",
       "       'Laundry and Dry-Cleaning Services', 'Takeaway Food Services',\n",
       "       'Wired Telecommunications Network Operation',\n",
       "       'Travel Agency and Tour Arrangement Services', 'Printing',\n",
       "       'Other Professional, Scientific and Technical Services n.e.c.',\n",
       "       'Other Specialised Food Retailing',\n",
       "       'Technical and Vocational Education and Training',\n",
       "       'Postal Services',\n",
       "       'Business and Professional Association Services',\n",
       "       'Real Estate Services', 'Pubs, Taverns and Bars',\n",
       "       'Land Development and Subdivision',\n",
       "       'Computer System Design and Related Services', 'Legal Services',\n",
       "       'Water Freight Transport',\n",
       "       'Pharmaceutical, Cosmetic and Toiletry Goods Retailing',\n",
       "       'Religious Services', 'Other Store-Based Retailing n.e.c.',\n",
       "       'Higher Education', 'Other Administrative Services n.e.c.',\n",
       "       'Hairdressing and Beauty Services',\n",
       "       'Other Interest Group Services n.e.c.',\n",
       "       'Financial Asset Broking Services', 'Accounting Services',\n",
       "       'Non-Depository Financing', 'Central Government Administration',\n",
       "       'Other Specialised Design Services', 'Accommodation',\n",
       "       'Houseware Retailing',\n",
       "       'Other Auxiliary Finance and Investment Services',\n",
       "       'Other Publishing (except Software, Music and Internet)',\n",
       "       'Architectural Services',\n",
       "       'Potato, Corn and Other Crisp Manufacturing',\n",
       "       'State Government Administration', 'Superannuation Funds',\n",
       "       'Furniture Retailing', 'Motor Cycle Retailing',\n",
       "       'Entertainment Media Retailing',\n",
       "       'Sport and Camping Equipment Retailing', 'Justice',\n",
       "       'Parking Services', 'Performing Arts Operation',\n",
       "       'Pulp, Paper and Paperboard Manufacturing',\n",
       "       'Correctional and Detention Services',\n",
       "       'Other Transport Support Services n.e.c.',\n",
       "       'Adult, Community and Other Education n.e.c.',\n",
       "       'Corporate Head Office Management Services',\n",
       "       'Other Telecommunications Services',\n",
       "       'Creative Artists, Musicians, Writers and Performers',\n",
       "       'Other Health Care Services n.e.c.', 'Specialist Medical Services',\n",
       "       'Footwear Retailing', 'Optometry and Optical Dispensing',\n",
       "       'Womens Clothing Retailing', 'Antique and Used Goods Retailing',\n",
       "       'Newspaper and Book Retailing', 'Womens Footwear Retailing',\n",
       "       'Clothing Retailing', 'Toy and Game Retailing',\n",
       "       'Mens Footwear Retailing', 'Rail Freight Transport',\n",
       "       'Supermarket and Grocery Stores', 'Labour Association Services',\n",
       "       'Other Personal Services n.e.c.',\n",
       "       'Nature Reserves and Conservation Parks Operation',\n",
       "       'Engineering Design and Engineering Consulting Services',\n",
       "       'Electronic (except Domestic Appliance) and Precision Equipment Repair and Maint',\n",
       "       'Dental Services', 'Electricity Transmission',\n",
       "       'Lifting and Material Handling Equipment Manufacturing',\n",
       "       'Plumbing Services', 'Surveying and Mapping Services',\n",
       "       'Electrical, Electronic and Gas Appliance Retailing',\n",
       "       'On Selling Electricity and Electricity Market Operation',\n",
       "       'Clubs (Hospitality)', 'Other Manufacturing n.e.c.',\n",
       "       'Automotive Electrical Services', 'Banking', 'Police Services',\n",
       "       'Flower Retailing',\n",
       "       'Management Advice and Other Consulting Services',\n",
       "       'Watch and Jewellery Retailing',\n",
       "       'Other Personal Accessory Retailing',\n",
       "       'Manchester and Other Textile Goods Retailing',\n",
       "       'Other Electrical and Electronic Good Wholesaling',\n",
       "       'Clothing Manufacturing', 'Gas Supply',\n",
       "       'Cut and Sewn Textile Product Manufacturing',\n",
       "       'Clothing and Footwear Repair',\n",
       "       'Employment Placement and Recruitment Services',\n",
       "       'Jewellery and Watch Wholesaling',\n",
       "       'Paper Stationery Manufacturing',\n",
       "       'General Practice Medical Services',\n",
       "       'Educational Support Services', 'Advertising Services',\n",
       "       'Foreign Government Representation',\n",
       "       'Internet Service Providers and Web Search Portals',\n",
       "       'Electronic Information Storage Services',\n",
       "       'Other Warehousing and Storage Services',\n",
       "       'Performing Arts Venue Operation',\n",
       "       'Other Social Assistance Services', 'Book Publishing',\n",
       "       'Convenience Store', 'Market Research and Statistical Services',\n",
       "       'Other Hardware Good Wholesaling',\n",
       "       'Other Residential Building Construction', 'Newspaper Publishing',\n",
       "       'Office Administrative Services', 'Liquor Retailing',\n",
       "       'Department Stores', 'Motion Picture Exhibition',\n",
       "       'Professional Photographic Services', 'Software Publishing',\n",
       "       'Credit Union Operation', 'Radio Broadcasting', 'Arts Education',\n",
       "       'Other Goods Wholesaling n.e.c.',\n",
       "       'Sport and Physical Recreation Administrative Service',\n",
       "       'Textile Product Wholesaling',\n",
       "       'Other Construction Services n.e.c.',\n",
       "       'Auxiliary Insurance Services',\n",
       "       'Fresh Meat, Fish and Poultry Retailing',\n",
       "       'Pathology and Diagnostic Imaging Services',\n",
       "       'Taxi and Other Road Transport', 'Plumbing Good Wholesaling',\n",
       "       'Other Allied Health Services',\n",
       "       'Jewellery and Silverware Manufacturing', 'Child Care Services',\n",
       "       'Rigid and Semi-Rigid Polymer Product Manufacturing',\n",
       "       'Fruit and Vegetable Wholesaling',\n",
       "       'Other Automotive Repair and Maintenance',\n",
       "       'Building and Other Industrial Cleaning Services',\n",
       "       'Primary Education', 'Defence', 'Alternative Health Services',\n",
       "       'Computer and Computer Peripheral Retailing',\n",
       "       'Video and Other Electronic Media Rental',\n",
       "       'Passenger Car Rental and Hiring',\n",
       "       'Other Specialised Industrial Machinery and Equipment Wholesaling',\n",
       "       'Motor Vehicle Parts Retailing', 'Fruit and Vegetable Retailing',\n",
       "       'Stationery Goods Retailing', 'Fuel Retailing',\n",
       "       'Glass and Glass Product Manufacturing',\n",
       "       'Scientific Testing and Analysis Services',\n",
       "       'Health and Fitness Centres and Gymnasia Operation',\n",
       "       'Reproduction of Recorded Media', 'Photographic Film Processing',\n",
       "       'Chiropractic and Osteopathic Services',\n",
       "       'Sports and Physical Recreation Instruction',\n",
       "       'Other Gambling Activities', 'Other Transport n.e.c.',\n",
       "       'Childrens Clothing Retailing',\n",
       "       'Hardware and Building Supplies Retailing',\n",
       "       'Bakery Product Manufacturing (Non-factory based)',\n",
       "       'Physiotherapy Services', 'Road and Bridge Construction',\n",
       "       'Sports and Physical Recreation Venues, Grounds and Facilities Operation',\n",
       "       'Car Retailing', 'Air and Space Transport',\n",
       "       'Financial Asset Investing',\n",
       "       'Other Professional and Scientific Equipment Manufacturing',\n",
       "       'Retail Commission-Based Buying and/or Selling',\n",
       "       'Commission-Based Wholesaling', 'Metal Coating and Finishing',\n",
       "       'Mens Clothing Retailing', 'Other Repair and Maintenance n.e.c.',\n",
       "       'Clothing and Footwear Wholesaling',\n",
       "       'Scientific Research Services',\n",
       "       'Medical and Surgical Equipment Manufacturing',\n",
       "       'Local Government Administration', 'Libraries and Archives',\n",
       "       'Motor Vehicle Manufacturing', 'Health Insurance',\n",
       "       'General Insurance', 'Aged Care Residential Services',\n",
       "       'Magazine and Other Periodical Publishing',\n",
       "       'Customs Agency Services',\n",
       "       'Other Water Transport Support Services', 'Labour Supply Services',\n",
       "       'Wool Wholesaling',\n",
       "       'Architectural Aluminium Product Manufacturing',\n",
       "       'Fish and Seafood Wholesaling', 'Call Centre Operation',\n",
       "       'Oil and Gas Extraction', 'Non-Residential Building Construction',\n",
       "       'Metal and Mineral Wholesaling', 'Dairy Produce Wholesaling',\n",
       "       'Amusement Parks and Centres Operation',\n",
       "       'Motion Picture and Video Distribution',\n",
       "       'Fertiliser Manufacturing', 'Other Mining Support Services',\n",
       "       'Free-to-Air Television Broadcasting', 'Iron Ore Mining',\n",
       "       'Other Depository Financial Intermediation',\n",
       "       'Cereal Grain Wholesaling', 'Life Insurance',\n",
       "       'Non-Residential Property Operators', 'Mineral Exploration',\n",
       "       'Airport Operations and Other Air Transport Support Services',\n",
       "       'Grain Storage Services', 'Stevedoring Services',\n",
       "       'Other Specialised Machinery and Equipment Manufacturing',\n",
       "       'Museum Operation', 'Sewerage and Drainage Services',\n",
       "       'Paper Product Wholesaling',\n",
       "       'Port and Water Transport Terminal Operations',\n",
       "       'Cement and Lime Manufacturing',\n",
       "       'Computer and Computer Peripheral Wholesaling',\n",
       "       'Non-Store Retailing', 'Courier Pick-up and Delivery Services',\n",
       "       'Motion Picture and Video Production',\n",
       "       'Aircraft Manufacturing and Repair Services', 'House Construction',\n",
       "       'Rope, Cordage and Twine Manufacturing',\n",
       "       'Directory and Mailing List Publishing',\n",
       "       'Communications Equipment Manufacturing',\n",
       "       'Cheese and Other Dairy Product Manufacturing',\n",
       "       'Furniture and Floor Covering Wholesaling',\n",
       "       'Hospitals (except Psychiatric Hospitals)',\n",
       "       'Industrial and Agricultural Chemical Product Wholesaling',\n",
       "       'Professional and Scientific Goods Wholesaling',\n",
       "       'Other Residential Care Services', 'Road Freight Transport',\n",
       "       'Human Pharmaceutical and Medicinal Product Manufacturing',\n",
       "       'Zoological and Botanical Gardens Operation',\n",
       "       'Other Agricultural Product Wholesaling', 'Iron and Steel Casting',\n",
       "       'Fixed Space Heating, Cooling and Ventilation Equipment Manufacturing',\n",
       "       'Data Processing and Web Hosting Services',\n",
       "       'Combined Primary and Secondary Education',\n",
       "       'Sports and Physical Recreation Clubs and Sports Professionals',\n",
       "       'Electrical Services', 'Casino Operation',\n",
       "       'Pharmaceutical and Toiletry Goods Wholesaling',\n",
       "       'Automotive Body, Paint and Interior Repair',\n",
       "       'Other Non-Metallic Mineral Mining and Quarrying',\n",
       "       'Fire Protection and Other Emergency Services',\n",
       "       'Other Furniture Manufacturing', 'Petroleum Exploration',\n",
       "       'Other Grocery Wholesaling',\n",
       "       'Agricultural and Construction Machinery Wholesaling',\n",
       "       'Floor Coverings Retailing', 'Timber Wholesaling',\n",
       "       'Tyre Retailing',\n",
       "       'Computer and Electronic Office Equipment Manufacturing',\n",
       "       'Other Agriculture and Fishing Support Services',\n",
       "       'Amusement and Other Recreational Activities n.e.c.',\n",
       "       'Meat, Poultry and Smallgoods Wholesaling',\n",
       "       'Textile Finishing and Other Textile Product Manufacturing',\n",
       "       'Scenic and Sightseeing Transport',\n",
       "       'Other Ceramic Product Manufacturing', 'Footwear Manufacturing',\n",
       "       'Forestry Support Services', 'Lottery Operation',\n",
       "       'Freight Forwarding Services', 'Book and Magazine Wholesaling',\n",
       "       'Marine Equipment Retailing',\n",
       "       'Other Telecommunications Network Operation', 'Music Publishing',\n",
       "       'Textile Floor Covering Manufacturing',\n",
       "       'Other Wood Product Manufacturing n.e.c.',\n",
       "       'Ready-Mixed Concrete Manufacturing',\n",
       "       'Urban Bus Transport (Including Tramway)',\n",
       "       'Rail Passenger Transport',\n",
       "       'Electric Lighting Equipment Manufacturing',\n",
       "       'Brothel Keeping and Prostitution Services',\n",
       "       'Site Preparation Services', 'Interurban and Rural Bus Transport',\n",
       "       'Heavy Machinery and Scaffolding Rental and Hiring',\n",
       "       'Other Motor Vehicle and Transport Equipment Rental and Hiring',\n",
       "       'Investigation and Security Services', 'Secondary Education',\n",
       "       'Non-Financial Intangible Assets (Except Copyrights) Leasing',\n",
       "       'Printing Support Services', 'Catering Services',\n",
       "       'Other Transport Equipment Manufacturing n.e.c.',\n",
       "       'Other Fabricated Metal Product Manufacturing n.e.c.',\n",
       "       'Pre-school Education',\n",
       "       'Music and Other Sound Recording Activities',\n",
       "       'Other Sheet Metal Product Manufacturing',\n",
       "       'Plaster Product Manufacturing',\n",
       "       'Funeral, Crematorium and Cemetery Services',\n",
       "       'Prefabricated Wooden Building Manufacturing',\n",
       "       'Wooden Structural Fitting and Component Manufacturing',\n",
       "       'Milk and Cream Processing',\n",
       "       'Other Electrical and Electronic Goods Retailing',\n",
       "       'Meat Processing', 'Liquor and Tobacco Product Wholesaling',\n",
       "       'Grain Mill Product Manufacturing',\n",
       "       'Motor Vehicle Body and Trailer Manufacturing',\n",
       "       'Other Motor Vehicle Parts Manufacturing',\n",
       "       'Polymer Film and Sheet Packaging Material Manufacturing',\n",
       "       'Cake and Pastry Manufacturing (Factory based)',\n",
       "       'Biscuit Manufacturing (Factory based)',\n",
       "       'Toy and Sporting Goods Wholesaling',\n",
       "       'Solid Waste Collection Services',\n",
       "       'Other Horse and Dog Racing Activities',\n",
       "       'Horse and Dog Racing Administration and Track Operation',\n",
       "       'Water Supply', 'Painting and Decorating Services',\n",
       "       'Wooden Furniture and Upholstered Seat Manufacturing',\n",
       "       'Automotive Electrical Component Manufacturing',\n",
       "       'Motor Vehicle New Part Wholesaling', 'Gold Ore Mining',\n",
       "       'Other Goods and Equipment Rental and Hiring n.e.c.',\n",
       "       'Air Conditioning and Heating Services',\n",
       "       'Residential Property Operators', 'Water Passenger Transport',\n",
       "       'Credit Reporting and Debt Collection Services',\n",
       "       'Basic Organic Chemical Manufacturing', 'Special School Education',\n",
       "       'Petroleum Product Wholesaling', 'Building Society Operation',\n",
       "       'Internet Publishing and Broadcasting',\n",
       "       'Diet and Weight Reduction Centre Operation',\n",
       "       'Mineral Sand Mining', 'Iron Smelting and Steel Manufacturing',\n",
       "       'Concreting Services',\n",
       "       'Other Structural Metal Product Manufacturing',\n",
       "       'Hydro-Electricity Generation',\n",
       "       'Other Heavy and Civil Engineering Construction',\n",
       "       'Grain-Sheep or Grain-Beef Cattle Farming',\n",
       "       'Nursery Production (Under Cover)',\n",
       "       'Prepared Animal and Bird Feed Manufacturing',\n",
       "       'Railway Rolling Stock Manufacturing and Repair Services',\n",
       "       'Other Machinery and Equipment Repair and Maintenance',\n",
       "       'Cured Meat and Smallgoods Manufacturing', 'Veterinary Services',\n",
       "       'Machine Tool and Parts Manufacturing', 'Car Wholesaling',\n",
       "       'Sugar Manufacturing',\n",
       "       'Fire and Security Alarm Installation Services',\n",
       "       'Beer Manufacturing',\n",
       "       'Mining and Construction Machinery Manufacturing',\n",
       "       'Other Electrical Equipment Manufacturing', 'Packaging Services',\n",
       "       'Other Polymer Product Manufacturing', 'Seafood Processing',\n",
       "       'Glazing Services', 'Psychiatric Hospitals', 'Aluminium Smelting',\n",
       "       'Other Converted Paper Product Manufacturing', 'Nickel Ore Mining',\n",
       "       'Ambulance Services', 'Telecommunication Goods Wholesaling',\n",
       "       'Tiling and Carpeting Services', 'Concrete Product Manufacturing',\n",
       "       'Clay Brick Manufacturing',\n",
       "       'Motor Vehicle Dismantling and Used Part Wholesaling',\n",
       "       'Paint and Coatings Manufacturing',\n",
       "       'Cosmetic and Toiletry Preparation Manufacturing',\n",
       "       'Metal Furniture Manufacturing',\n",
       "       'Bread Manufacturing (Factory based)', 'Central Banking',\n",
       "       'Other Building Installation Services',\n",
       "       'Shipbuilding and Repair Services',\n",
       "       'Electric Cable and Wire Manufacturing',\n",
       "       'Soft Drink, Cordial and Syrup Manufacturing',\n",
       "       'Cereal, Pasta and Baking Mix Manufacturing',\n",
       "       'Garden Supplies Retailing', 'Poultry Processing',\n",
       "       'Gardening Services',\n",
       "       'Post-production Services and Other Motion Picture and Video Activities',\n",
       "       'Trailer and Other Motor Vehicle Retailing',\n",
       "       'Other Metal Ore Mining', 'Landscape Construction Services',\n",
       "       'Other Construction Material Mining',\n",
       "       'Fossil Fuel Electricity Generation',\n",
       "       'Plastering and Ceiling Services', 'Other Information Services',\n",
       "       'Other Electricity Generation', 'Copper Ore Mining',\n",
       "       'Other Machinery and Equipment Wholesaling n.e.c.',\n",
       "       'Document Preparation Services', 'Other Waste Collection Services',\n",
       "       'Other Public Order and Safety Services',\n",
       "       'Domestic Government Representation',\n",
       "       'Cleaning Compound Manufacturing',\n",
       "       'Natural Rubber Product Manufacturing',\n",
       "       'Photographic, Optical and Ophthalmic Equipment Manufacturing',\n",
       "       'Other Machinery and Equipment Manufacturing n.e.c.',\n",
       "       'Horse Farming',\n",
       "       'Waste Remediation and Materials Recovery Services',\n",
       "       'Boatbuilding and Repair Services',\n",
       "       'Other Domestic Appliance Manufacturing', 'Carpentry Services',\n",
       "       'Other Food Product Manufacturing n.e.c.',\n",
       "       'Wine and Other Alcoholic Beverage Manufacturing',\n",
       "       'Other Electronic Equipment Manufacturing',\n",
       "       'Fruit and Vegetable Processing', 'Electricity Distribution',\n",
       "       'Other Basic Polymer Manufacturing', 'Regulatory Services',\n",
       "       'Vegetable Growing (Under Cover)', 'Silver-Lead-Zinc Ore Mining',\n",
       "       'Cable and Other Subscription Broadcasting',\n",
       "       'Kitchen and Diningware Wholesaling',\n",
       "       'Agricultural Machinery and Equipment Manufacturing',\n",
       "       'Industrial Gas Manufacturing', 'Roofing Services',\n",
       "       'Toy, Sporting and Recreational Product Manufacturing',\n",
       "       'Other Petroleum and Coal Product Manufacturing', 'Coal Mining',\n",
       "       'Commercial Vehicle Wholesaling', 'Confectionery Manufacturing',\n",
       "       'Oil and Fat Manufacturing', 'Farm Animals and Bloodstock Leasing',\n",
       "       'Waste Treatment and Disposal Services',\n",
       "       'Hire of Construction Machinery with Operator',\n",
       "       'Other Non-Metallic Mineral Product Manufacturing',\n",
       "       'Veneer and Plywood Manufacturing', 'Forestry', 'Logging',\n",
       "       'Bauxite Mining', 'Structural Steel Erection Services',\n",
       "       'Domestic Appliance Repair and Maintenance',\n",
       "       'Reconstituted Wood Product Manufacturing', 'Dairy Cattle Farming',\n",
       "       'Natural Textile Manufacturing',\n",
       "       'Trailer and Other Motor Vehicle Wholesaling',\n",
       "       'Other Grain Growing', 'Basic Inorganic Chemical Manufacturing',\n",
       "       'Structural Steel Fabricating', 'Pesticide Manufacturing',\n",
       "       'Turf Growing',\n",
       "       'Petroleum Refining and Petroleum Fuel Manufacturing',\n",
       "       'Sheep-Beef Cattle Farming', 'General Line Grocery Wholesaling',\n",
       "       'Pipeline Transport',\n",
       "       'Cigarette and Tobacco Product Manufacturing',\n",
       "       'Veterinary Pharmaceutical and Medicinal Product Manufacturing',\n",
       "       'Pump and Compressor Manufacturing',\n",
       "       'Leather Tanning, Fur Dressing and Leather Product Manufacturing',\n",
       "       'Grape Growing', 'Other Fishing',\n",
       "       'Other Basic Chemical Product Manufacturing n.e.c.',\n",
       "       'Beef Cattle Farming (Specialised)'], dtype=object)"
      ]
     },
     "execution_count": 56,
     "metadata": {},
     "output_type": "execute_result"
    }
   ],
   "source": [
    "bizaddressindustry_anzsic4_desc = bizaddressindustry['industry_anzsic4_description'].unique()\n",
    "\n",
    "bizaddressindustry_anzsic4_desc"
   ]
  },
  {
   "cell_type": "code",
   "execution_count": 57,
   "metadata": {},
   "outputs": [
    {
     "name": "stdout",
     "output_type": "stream",
     "text": [
      "<class 'pandas.core.frame.DataFrame'>\n",
      "Int64Index: 374210 entries, 198360 to 318285\n",
      "Data columns (total 11 columns):\n",
      " #   Column                        Non-Null Count   Dtype  \n",
      "---  ------                        --------------   -----  \n",
      " 0   census_year                   374210 non-null  int64  \n",
      " 1   block_id                      374210 non-null  int64  \n",
      " 2   property_id                   374210 non-null  int64  \n",
      " 3   base_property_id              374210 non-null  int64  \n",
      " 4   clue_small_area               374210 non-null  object \n",
      " 5   trading_name                  374083 non-null  object \n",
      " 6   business_address              374209 non-null  object \n",
      " 7   industry_anzsic4_code         374210 non-null  int64  \n",
      " 8   industry_anzsic4_description  374210 non-null  object \n",
      " 9   longitude                     369425 non-null  float64\n",
      " 10  latitude                      369425 non-null  float64\n",
      "dtypes: float64(2), int64(5), object(4)\n",
      "memory usage: 34.3+ MB\n"
     ]
    }
   ],
   "source": [
    "bizaddressindustry.info()"
   ]
  },
  {
   "cell_type": "code",
   "execution_count": 58,
   "metadata": {},
   "outputs": [
    {
     "data": {
      "text/plain": [
       "census_year                        0\n",
       "block_id                           0\n",
       "property_id                        0\n",
       "base_property_id                   0\n",
       "clue_small_area                    0\n",
       "trading_name                     127\n",
       "business_address                   1\n",
       "industry_anzsic4_code              0\n",
       "industry_anzsic4_description       0\n",
       "longitude                       4785\n",
       "latitude                        4785\n",
       "dtype: int64"
      ]
     },
     "execution_count": 58,
     "metadata": {},
     "output_type": "execute_result"
    }
   ],
   "source": [
    "bizaddressindustry.isna().sum()"
   ]
  },
  {
   "cell_type": "code",
   "execution_count": 59,
   "metadata": {},
   "outputs": [],
   "source": [
    "bizaddressindustry['trading_name'] = bizaddressindustry['trading_name'].fillna('unknown name')\n",
    "\n",
    "bizaddressindustry['business_address'] = bizaddressindustry['business_address'].fillna('unknown address')"
   ]
  }
 ],
 "metadata": {
  "kernelspec": {
   "display_name": "base",
   "language": "python",
   "name": "python3"
  },
  "language_info": {
   "codemirror_mode": {
    "name": "ipython",
    "version": 3
   },
   "file_extension": ".py",
   "mimetype": "text/x-python",
   "name": "python",
   "nbconvert_exporter": "python",
   "pygments_lexer": "ipython3",
   "version": "3.10.9"
  }
 },
 "nbformat": 4,
 "nbformat_minor": 2
}
