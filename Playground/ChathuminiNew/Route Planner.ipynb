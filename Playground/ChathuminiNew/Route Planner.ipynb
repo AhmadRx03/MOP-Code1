{
 "cells": [
  {
   "cell_type": "markdown",
   "id": "8cd46af6",
   "metadata": {},
   "source": []
  },
  {
   "cell_type": "markdown",
   "id": "8db10f07",
   "metadata": {},
   "source": [
    "## 1.Installing all necessasory packages (optional)"
   ]
  },
  {
   "cell_type": "code",
   "execution_count": null,
   "id": "25c74212",
   "metadata": {},
   "outputs": [],
   "source": [
    "# !pip install requests pandas matplotlib-venn folium geopandas seaborn statsmodels"
   ]
  },
  {
   "cell_type": "markdown",
   "id": "353d4cec",
   "metadata": {},
   "source": [
    "## 2.Importing all the necessory libraries"
   ]
  },
  {
   "cell_type": "code",
   "execution_count": null,
   "id": "7bcc74d2",
   "metadata": {},
   "outputs": [],
   "source": [
    "import requests\n",
    "import pandas as pd\n",
    "import os\n",
    "import matplotlib.pyplot as plt\n",
    "import folium\n",
    "from folium.plugins import MarkerCluster, FeatureGroupSubGroup\n",
    "import geopandas as gpd\n",
    "import seaborn as sns\n",
    "import matplotlib.pyplot as plt\n",
    "from statsmodels.tsa.stattools import adfuller\n",
    "from statsmodels.tsa.arima.model import ARIMA\n",
    "import warnings\n",
    "warnings.filterwarnings('ignore')"
   ]
  },
  {
   "cell_type": "markdown",
   "id": "2d87da89",
   "metadata": {},
   "source": [
    "## 3. Importing datasets"
   ]
  },
  {
   "cell_type": "code",
   "execution_count": null,
   "id": "57756d46",
   "metadata": {},
   "outputs": [],
   "source": [
    "import requests\n",
    "import pandas as pd\n",
    "import os\n",
    "\n",
    "def fetch_data(base_url, dataset, api_key, num_records=99, offset=0):\n",
    "    all_records = []\n",
    "    max_offset = 9900  # Maximum number of requests\n",
    "\n",
    "    while True:\n",
    "        # Maximum limit check\n",
    "        if offset > max_offset:\n",
    "            break\n",
    "\n",
    "        # Create API request URL\n",
    "        filters = f'{dataset}/records?limit={num_records}&offset={offset}'\n",
    "        url = f'{base_url}{filters}&api_key={api_key}'\n",
    "\n",
    "        # Start request\n",
    "        try:\n",
    "            result = requests.get(url, timeout=10)\n",
    "            result.raise_for_status()\n",
    "            records = result.json().get('results')\n",
    "        except requests.exceptions.RequestException as e:\n",
    "            raise Exception(f\"API request failed: {e}\")\n",
    "        if records is None:\n",
    "            break\n",
    "        all_records.extend(records)\n",
    "        if len(records) < num_records:\n",
    "            break\n",
    "\n",
    "        # Next cycle offset\n",
    "        offset += num_records\n",
    "\n",
    "    # DataFrame all data\n",
    "    df = pd.DataFrame(all_records)\n",
    "    return df\n",
    "\n",
    "# Retrieve API key from environment variable\n",
    "API_KEY = os.environ.get(\"API_KEY\")\n",
    "BASE_URL = 'https://data.melbourne.vic.gov.au/api/explore/v2.1/catalog/datasets/'\n",
    "\n",
    "\n"
   ]
  },
  {
   "cell_type": "code",
   "execution_count": null,
   "id": "1c788049",
   "metadata": {},
   "outputs": [],
   "source": [
    "# Data set name\n",
    "FOOTPATH_STEEPNESS = 'footpath-steepness'\n",
    "\n",
    "footpath_steepness = fetch_data(BASE_URL, FOOTPATH_STEEPNESS, API_KEY)\n",
    "\n",
    "footpath_steepness"
   ]
  },
  {
   "cell_type": "code",
   "execution_count": null,
   "id": "db8cd06a",
   "metadata": {},
   "outputs": [],
   "source": [
    "# data set name\n",
    "TREE_CANOPIES = 'tree-canopies-2021-urban-forest'\n",
    "\n",
    "tree_canopies = fetch_data(BASE_URL, TREE_CANOPIES, API_KEY)\n",
    "\n",
    "tree_canopies"
   ]
  },
  {
   "cell_type": "code",
   "execution_count": null,
   "id": "ac3afa9f",
   "metadata": {},
   "outputs": [],
   "source": []
  }
 ],
 "metadata": {
  "kernelspec": {
   "display_name": "Python 3 (ipykernel)",
   "language": "python",
   "name": "python3"
  },
  "language_info": {
   "codemirror_mode": {
    "name": "ipython",
    "version": 3
   },
   "file_extension": ".py",
   "mimetype": "text/x-python",
   "name": "python",
   "nbconvert_exporter": "python",
   "pygments_lexer": "ipython3",
   "version": "3.8.18"
  }
 },
 "nbformat": 4,
 "nbformat_minor": 5
}
