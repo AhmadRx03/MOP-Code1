{
 "cells": [
  {
   "cell_type": "markdown",
   "id": "191bb3ba",
   "metadata": {},
   "source": [
    "<div class=\"usecase-title\"><h3>Route Planner</h3></div>\n",
    "\n",
    "<div class=\"usecase-authors\"><b>Authored by: </b> Chathumini Satharasinghe</div>\n",
    "\n",
    "<div class=\"usecase-authors\"><b>Date: </b> T2 2024 (July - October)</div>\n",
    "\n"
   ]
  },
  {
   "cell_type": "markdown",
   "id": "7cffaa63",
   "metadata": {},
   "source": [
    "<div class=\"usecase-duration\"><b>Duration:</b> 270 mins</div>\n",
    "\n",
    "<div class=\"usecase-level-skill\">\n",
    "    <div class=\"usecase-level\"><b>Level: </b>Beginner/ Intermediate</div>\n",
    "    <div class=\"usecase-skill\"><b>Pre-requisite Skills: </b>Python, Power BI, Machine Learning</div>\n",
    "</div>"
   ]
  },
  {
   "cell_type": "markdown",
   "id": "8ca05291",
   "metadata": {},
   "source": [
    "<div class=\"usecase-section-header\"><h3>Scenario<h3></div>"
   ]
  },
  {
   "cell_type": "markdown",
   "id": "572f3f10",
   "metadata": {},
   "source": [
    "**As a** member of the local city council's urban planning department focused on Transport & Safety,\n",
    "\n",
    "**I want to** determine the variables that cause an increase or decrease in the amount of waste collected at Degraves, analyzing factors such as time of year, events, and the number of people in the city (based on parking occupancy data from 2016),\n",
    "\n",
    "**So that I can** identify patterns and trends in waste generation and collection, specifically understanding how seasonal variations, local events, and population density impact waste collection requirements.\n",
    "\n",
    "**This will help** in making informed decisions about optimizing waste collection routes, schedules, and resource allocation to improve operational efficiency, reduce environmental impact, and maintain cleanliness in urban areas.\n",
    "\n",
    "**By** utilizing datasets on footpath steepness and tree canopies along with parking occupancy data, I hope to present this analysis through interactive mapping tools and data visualization techniques, ensuring that stakeholders and the public are well-informed about the factors affecting waste management. This will support the planning and execution of more effective waste collection strategies based on historical and current data"
   ]
  },
  {
   "cell_type": "markdown",
   "id": "978ec50c",
   "metadata": {},
   "source": [
    "<div class=\"usecase-section-header\"><h3>Skills Demonstrated in the Waste Collection Analysis Project</h3></div>"
   ]
  },
  {
   "cell_type": "markdown",
   "id": "9f5bb1db",
   "metadata": {},
   "source": [
    "\n",
    "<ul>\n",
    "  <li>\n",
    "    <h5>1. Data Collection and Preparation</h5>\n",
    "    <ul>\n",
    "      <li>\n",
    "        Data Acquisition: Successfully collected datasets on footpath steepness and tree canopies, utilizing APIs and web scraping techniques to gather relevant information for analysis.\n",
    "      </li>\n",
    "      <li>\n",
    "        Data Cleaning: Employed Pandas for data cleaning and preparation, ensuring data integrity and consistency for accurate analysis.\n",
    "      </li>\n",
    "    </ul>\n",
    "  </li>\n",
    "  <li>\n",
    "    <h5>2. Data Analysis</h5>\n",
    "    <ul>\n",
    "      <li>\n",
    "        Statistical Analysis: Conducted correlation analysis and hypothesis testing to identify relationships between waste collection and various factors such as time of year, events, and parking occupancy.\n",
    "      </li>\n",
    "      <li>\n",
    "        Predictive Modeling: Developed predictive models using ARIMA and regression analysis to forecast waste collection trends and quantify the impact of identified variables.\n",
    "      </li>\n",
    "    </ul>\n",
    "  </li>\n",
    "  <li>\n",
    "    <h5>3. Data Visualization</h5>\n",
    "    <ul>\n",
    "      <li>\n",
    "        Interactive Visualization: Created interactive maps using Folium to visualize the spatial distribution of footpath steepness and tree canopies, enhancing the understanding of their impact on waste collection.\n",
    "      </li>\n",
    "      <li>\n",
    "        Temporal Analysis: Incorporated time series analysis to visualize temporal changes in waste collection patterns, providing insights into seasonal and event-based variations.\n",
    "      </li>\n",
    "    </ul>\n",
    "  </li>\n",
    "  <li>\n",
    "    <h5>4. Programming and Technology</h5>\n",
    "    <ul>\n",
    "      <li>\n",
    "        Python Programming: Applied advanced Python programming skills for data manipulation, statistical analysis, and visualization, demonstrating strong technical proficiency.\n",
    "      </li>\n",
    "      <li>\n",
    "        Use of Libraries: Leveraged various Python libraries such as Pandas, GeoPandas, Folium, and Statsmodels to enhance data analysis and visualization capabilities.\n",
    "      </li>\n",
    "    </ul>\n",
    "  </li>\n",
    "  <li>\n",
    "    <h5>5. Critical Thinking and Problem Solving</h5>\n",
    "    <ul>\n",
    "      <li>\n",
    "        Problem Identification: Identified key factors influencing waste collection and designed analytical approaches to address these factors effectively.\n",
    "      </li>\n",
    "      <li>\n",
    "        Solution Implementation: Implemented optimized waste collection routes and schedules based on data-driven insights, improving operational efficiency and reducing environmental impact.\n",
    "      </li>\n",
    "    </ul>\n",
    "  </li>\n",
    "  <li>\n",
    "    <h5>6. Communication and Presentation</h5>\n",
    "    <ul>\n",
    "      <li>\n",
    "        Clear Data Presentation: Designed user-friendly visualizations and interactive maps that make complex data accessible and understandable to a broad audience.\n",
    "      </li>\n",
    "      <li>\n",
    "        Documentation and Reporting: Prepared comprehensive reports and well-documented code, explaining the methodology, tools used, and insights derived from the data analysis.\n",
    "      </li>\n",
    "    </ul>\n",
    "  </li>\n",
    "</ul>\n",
    "\n",
    "<p>These skills demonstrate a well-rounded ability to handle, analyze, and present data related to urban waste collection, supporting informed decision-making in urban planning and environmental management, showcasing both technical proficiency and analytical acumen.</p>"
   ]
  },
  {
   "cell_type": "markdown",
   "id": "91a4958d",
   "metadata": {},
   "source": [
    "<div class=\"usecase-section-header\"><h3>Project Goal: Waste Collection Optimization in Degraves, Melbourne</h3></div>"
   ]
  },
  {
   "cell_type": "markdown",
   "id": "42c4595c",
   "metadata": {},
   "source": [
    "<p>Determine the variables that influence the amount of waste collected at Degraves in Melbourne by analyzing factors such as the time of year, events, and the number of people in the city (based on parking occupancy data from 2016). This study aims to identify patterns and trends in waste generation to improve waste collection routes, schedules, and resource allocation.</p>\n",
    "<h4>Key Activities</h4>\n",
    "<ul>\n",
    "  <li>Data Collection: Gather data on footpath steepness, tree canopies, and parking occupancy to understand the environmental and population factors affecting waste collection.</li>\n",
    "  <li>Data Analysis: Conduct statistical and predictive analyses to identify correlations and causations between waste collection and the collected variables.</li>\n",
    "  <li>Model Development: Develop predictive models to forecast waste collection needs based on identified variables, optimizing waste management practices.</li>\n",
    "  <li>Recommendation Development: Based on the analysis, recommend optimized waste collection routes and schedules to improve efficiency and reduce environmental impact.</li>\n",
    "</ul>\n",
    "\n",
    "<h4>Expected Outcome</h4>\n",
    "<p>A comprehensive report detailing the factors affecting waste collection in Degraves, with actionable recommendations for optimizing waste management practices. This will help improve operational efficiency, reduce environmental impact, and maintain urban cleanliness.</p>\n",
    "\n",
    "<h4>Impact</h4>\n",
    "<p>This project contributes to the sustainable management of urban waste, supporting cleaner and more efficient cities. By optimizing waste collection practices based on data-driven insights, we can reduce resource usage and enhance the overall quality of urban environments.</p>\n",
    "\n",
    "<h4>Datasets</h4>\n",
    "<div class=\"usecase-subsection-blurb\">\n",
    "  <i>1. Footpath Steepness </i> \n",
    "  <br>\n",
    "  <a href=\"https://data.melbourne.vic.gov.au/explore/dataset/footpath-steepness/information/?location=18,-37.81515,144.95599&basemap=mbs-7a7333\" target=\"_blank\">Link to Dataset 1</a>\n",
    "  <br>\n",
    "</div>\n",
    "<br>\n",
    "<div class=\"usecase-subsection-blurb\">\n",
    "  <i>2. Tree Canopies 2021 Urban Forest </i> \n",
    "  <br>\n",
    "  <a href=\"https://data.melbourne.vic.gov.au/explore/dataset/tree-canopies-2021-urban-forest/map/?location=17,-37.81489,144.95893&basemap=mbs-7a7333\" target=\"_blank\">Link to Dataset 2</a>\n",
    "  <br>\n",
    "</div>"
   ]
  },
  {
   "cell_type": "markdown",
   "id": "a7c4f3f7",
   "metadata": {},
   "source": [
    "## 1.Installing all necessasory packages (optional)"
   ]
  },
  {
   "cell_type": "code",
   "execution_count": 17,
   "id": "f8040619",
   "metadata": {},
   "outputs": [],
   "source": [
    "# !pip install requests pandas matplotlib-venn folium geopandas seaborn statsmodels"
   ]
  },
  {
   "cell_type": "markdown",
   "id": "89fb1786",
   "metadata": {},
   "source": [
    "## 2.Importing all the necessory libraries"
   ]
  },
  {
   "cell_type": "code",
   "execution_count": 18,
   "id": "d2905f90",
   "metadata": {},
   "outputs": [
    {
     "ename": "ModuleNotFoundError",
     "evalue": "No module named 'statsmodels'",
     "output_type": "error",
     "traceback": [
      "\u001b[0;31m---------------------------------------------------------------------------\u001b[0m",
      "\u001b[0;31mModuleNotFoundError\u001b[0m                       Traceback (most recent call last)",
      "Cell \u001b[0;32mIn[18], line 10\u001b[0m\n\u001b[1;32m      8\u001b[0m \u001b[38;5;28;01mimport\u001b[39;00m \u001b[38;5;21;01mseaborn\u001b[39;00m \u001b[38;5;28;01mas\u001b[39;00m \u001b[38;5;21;01msns\u001b[39;00m\n\u001b[1;32m      9\u001b[0m \u001b[38;5;28;01mimport\u001b[39;00m \u001b[38;5;21;01mmatplotlib\u001b[39;00m\u001b[38;5;21;01m.\u001b[39;00m\u001b[38;5;21;01mpyplot\u001b[39;00m \u001b[38;5;28;01mas\u001b[39;00m \u001b[38;5;21;01mplt\u001b[39;00m\n\u001b[0;32m---> 10\u001b[0m \u001b[38;5;28;01mfrom\u001b[39;00m \u001b[38;5;21;01mstatsmodels\u001b[39;00m\u001b[38;5;21;01m.\u001b[39;00m\u001b[38;5;21;01mtsa\u001b[39;00m\u001b[38;5;21;01m.\u001b[39;00m\u001b[38;5;21;01mstattools\u001b[39;00m \u001b[38;5;28;01mimport\u001b[39;00m adfuller\n\u001b[1;32m     11\u001b[0m \u001b[38;5;28;01mfrom\u001b[39;00m \u001b[38;5;21;01mstatsmodels\u001b[39;00m\u001b[38;5;21;01m.\u001b[39;00m\u001b[38;5;21;01mtsa\u001b[39;00m\u001b[38;5;21;01m.\u001b[39;00m\u001b[38;5;21;01marima\u001b[39;00m\u001b[38;5;21;01m.\u001b[39;00m\u001b[38;5;21;01mmodel\u001b[39;00m \u001b[38;5;28;01mimport\u001b[39;00m ARIMA\n\u001b[1;32m     12\u001b[0m \u001b[38;5;28;01mimport\u001b[39;00m \u001b[38;5;21;01mwarnings\u001b[39;00m\n",
      "\u001b[0;31mModuleNotFoundError\u001b[0m: No module named 'statsmodels'"
     ]
    }
   ],
   "source": [
    "import requests\n",
    "import pandas as pd\n",
    "import os\n",
    "import matplotlib.pyplot as plt\n",
    "import folium\n",
    "from folium.plugins import MarkerCluster, FeatureGroupSubGroup\n",
    "import geopandas as gpd\n",
    "import seaborn as sns\n",
    "import matplotlib.pyplot as plt\n",
    "from statsmodels.tsa.stattools import adfuller\n",
    "from statsmodels.tsa.arima.model import ARIMA\n",
    "import warnings\n",
    "warnings.filterwarnings('ignore')"
   ]
  },
  {
   "cell_type": "markdown",
   "id": "5a087bc2",
   "metadata": {},
   "source": [
    "## 3. Importing datasets"
   ]
  },
  {
   "cell_type": "code",
   "execution_count": null,
   "id": "859257cd",
   "metadata": {},
   "outputs": [],
   "source": [
    "import requests\n",
    "import pandas as pd\n",
    "import os\n",
    "\n",
    "def fetch_data(base_url, dataset, api_key, num_records=99, offset=0):\n",
    "    all_records = []\n",
    "    max_offset = 9900  # Maximum number of requests\n",
    "\n",
    "    while True:\n",
    "        # Maximum limit check\n",
    "        if offset > max_offset:\n",
    "            break\n",
    "\n",
    "        # Create API request URL\n",
    "        filters = f'{dataset}/records?limit={num_records}&offset={offset}'\n",
    "        url = f'{base_url}{filters}&api_key={api_key}'\n",
    "\n",
    "        # Start request\n",
    "        try:\n",
    "            result = requests.get(url, timeout=10)\n",
    "            result.raise_for_status()\n",
    "            records = result.json().get('results')\n",
    "        except requests.exceptions.RequestException as e:\n",
    "            raise Exception(f\"API request failed: {e}\")\n",
    "        if records is None:\n",
    "            break\n",
    "        all_records.extend(records)\n",
    "        if len(records) < num_records:\n",
    "            break\n",
    "\n",
    "        # Next cycle offset\n",
    "        offset += num_records\n",
    "\n",
    "    # DataFrame all data\n",
    "    df = pd.DataFrame(all_records)\n",
    "    return df\n",
    "\n",
    "# Retrieve API key from environment variable\n",
    "API_KEY = os.environ.get(\"API_KEY\")\n",
    "BASE_URL = 'https://data.melbourne.vic.gov.au/api/explore/v2.1/catalog/datasets/'\n",
    "\n",
    "\n"
   ]
  },
  {
   "cell_type": "code",
   "execution_count": null,
   "id": "bce5c7a7",
   "metadata": {},
   "outputs": [],
   "source": [
    "# Data set name\n",
    "FOOTPATH_STEEPNESS = 'footpath-steepness'\n",
    "\n",
    "footpath_steepness = fetch_data(BASE_URL, FOOTPATH_STEEPNESS, API_KEY)\n",
    "\n",
    "footpath_steepness"
   ]
  },
  {
   "cell_type": "code",
   "execution_count": null,
   "id": "ef9b4e7b",
   "metadata": {},
   "outputs": [],
   "source": [
    "# data set name\n",
    "TREE_CANOPIES = 'tree-canopies-2021-urban-forest'\n",
    "\n",
    "tree_canopies = fetch_data(BASE_URL, TREE_CANOPIES, API_KEY)\n",
    "\n",
    "tree_canopies"
   ]
  },
  {
   "cell_type": "markdown",
   "id": "d9e899f3",
   "metadata": {},
   "source": [
    "## Preprocess the Data"
   ]
  }
 ],
 "metadata": {
  "kernelspec": {
   "display_name": "Python 3 (ipykernel)",
   "language": "python",
   "name": "python3"
  },
  "language_info": {
   "codemirror_mode": {
    "name": "ipython",
    "version": 3
   },
   "file_extension": ".py",
   "mimetype": "text/x-python",
   "name": "python",
   "nbconvert_exporter": "python",
   "pygments_lexer": "ipython3",
   "version": "3.8.18"
  }
 },
 "nbformat": 4,
 "nbformat_minor": 5
}
