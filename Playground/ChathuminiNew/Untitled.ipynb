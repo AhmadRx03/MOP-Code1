{
 "cells": [
  {
   "cell_type": "code",
   "execution_count": null,
   "id": "a5023db5",
   "metadata": {
    "scrolled": true
   },
   "outputs": [],
   "source": [
    "import requests\n",
    "import pandas as pd\n",
    "import os\n",
    "\n",
    "def fetch_data(base_url, dataset, api_key, num_records=99, offset=0):\n",
    "    all_records = []\n",
    "    max_offset = 9900  # Maximum number of requests\n",
    "\n",
    "    while True:\n",
    "        # Maximum limit check\n",
    "        if offset > max_offset:\n",
    "            break\n",
    "\n",
    "        # Create API request URL\n",
    "        filters = f'{dataset}/records?limit={num_records}&offset={offset}'\n",
    "        url = f'{base_url}{filters}&api_key={api_key}'\n",
    "\n",
    "        # Start request\n",
    "        try:\n",
    "            result = requests.get(url, timeout=10)\n",
    "            result.raise_for_status()\n",
    "            records = result.json().get('results')\n",
    "        except requests.exceptions.RequestException as e:\n",
    "            raise Exception(f\"API request failed: {e}\")\n",
    "        if records is None:\n",
    "            break\n",
    "        all_records.extend(records)\n",
    "        if len(records) < num_records:\n",
    "            break\n",
    "\n",
    "        # Next cycle offset\n",
    "        offset += num_records\n",
    "\n",
    "    # DataFrame all data\n",
    "    df = pd.DataFrame(all_records)\n",
    "    return df\n",
    "\n",
    "# Retrieve API key from environment variable\n",
    "API_KEY = os.environ.get(\"API_KEY\")\n",
    "BASE_URL = 'https://data.melbourne.vic.gov.au/api/explore/v2.1/catalog/datasets/'\n",
    "\n",
    "# Dataset names\n",
    "FOOTPATH_STEEPNESS = 'footpath-steepness'\n",
    "TREE_CANOPIES = 'tree-canopies-2021-urban-forest'\n",
    "\n",
    "# Fetch data\n",
    "footpath_steepness = fetch_data(BASE_URL, FOOTPATH_STEEPNESS, API_KEY)\n",
    "tree_canopies = fetch_data(BASE_URL, TREE_CANOPIES, API_KEY)\n",
    "\n",
    "# Display data\n",
    "print(\"Footpath Steepness Data:\")\n",
    "print(footpath_steepness.head())\n",
    "\n",
    "print(\"\\nTree Canopies Data:\")\n",
    "print(tree_canopies.head())\n"
   ]
  },
  {
   "cell_type": "code",
   "execution_count": 2,
   "id": "c01ec47c",
   "metadata": {
    "scrolled": true
   },
   "outputs": [
    {
     "name": "stdout",
     "output_type": "stream",
     "text": [
      "Footpath Steepness Data (Cleaned):\n",
      "<class 'pandas.core.frame.DataFrame'>\n",
      "Index: 2444 entries, 7 to 9998\n",
      "Data columns (total 15 columns):\n",
      " #   Column        Non-Null Count  Dtype  \n",
      "---  ------        --------------  -----  \n",
      " 0   geo_point_2d  2444 non-null   object \n",
      " 1   geo_shape     2444 non-null   object \n",
      " 2   grade1in      2444 non-null   float64\n",
      " 3   gradepc       2444 non-null   float64\n",
      " 4   segside       2444 non-null   object \n",
      " 5   statusid      2444 non-null   object \n",
      " 6   asset_type    2444 non-null   object \n",
      " 7   deltaz        2444 non-null   float64\n",
      " 8   streetid      2444 non-null   float64\n",
      " 9   mccid_int     2444 non-null   float64\n",
      " 10  mcc_id        2444 non-null   int64  \n",
      " 11  address       2444 non-null   object \n",
      " 12  rlmax         2444 non-null   float64\n",
      " 13  rlmin         2444 non-null   float64\n",
      " 14  distance      2444 non-null   float64\n",
      "dtypes: float64(8), int64(1), object(6)\n",
      "memory usage: 305.5+ KB\n",
      "None\n",
      "\n",
      "Tree Canopies Data (Cleaned):\n",
      "<class 'pandas.core.frame.DataFrame'>\n",
      "RangeIndex: 9999 entries, 0 to 9998\n",
      "Data columns (total 2 columns):\n",
      " #   Column        Non-Null Count  Dtype \n",
      "---  ------        --------------  ----- \n",
      " 0   geo_point_2d  9999 non-null   object\n",
      " 1   geo_shape     9999 non-null   object\n",
      "dtypes: object(2)\n",
      "memory usage: 156.4+ KB\n",
      "None\n"
     ]
    }
   ],
   "source": [
    "# Data validation and cleaning steps\n",
    "footpath_steepness.dropna(inplace=True)\n",
    "tree_canopies.dropna(inplace=True)\n",
    "\n",
    "# Additional data cleaning steps as required\n",
    "# Example: Converting date columns to datetime format, handling duplicates, etc.\n",
    "\n",
    "print(\"Footpath Steepness Data (Cleaned):\")\n",
    "print(footpath_steepness.info())\n",
    "\n",
    "print(\"\\nTree Canopies Data (Cleaned):\")\n",
    "print(tree_canopies.info())\n"
   ]
  },
  {
   "cell_type": "code",
   "execution_count": null,
   "id": "f203da61",
   "metadata": {
    "scrolled": true
   },
   "outputs": [],
   "source": [
    "import matplotlib.pyplot as plt\n",
    "import seaborn as sns\n",
    "\n",
    "# Preliminary data analysis\n",
    "# Example: Descriptive statistics\n",
    "print(footpath_steepness.describe())\n",
    "print(tree_canopies.describe())\n",
    "\n",
    "# Correlation analysis\n",
    "correlation_matrix = footpath_steepness.corr()\n",
    "sns.heatmap(correlation_matrix, annot=True)\n",
    "plt.title(\"Footpath Steepness Correlation Matrix\")\n",
    "plt.show()\n",
    "\n",
    "correlation_matrix = tree_canopies.corr()\n",
    "sns.heatmap(correlation_matrix, annot=True)\n",
    "plt.title(\"Tree Canopies Correlation Matrix\")\n",
    "plt.show()\n"
   ]
  },
  {
   "cell_type": "code",
   "execution_count": null,
   "id": "b17a8344",
   "metadata": {
    "scrolled": true
   },
   "outputs": [],
   "source": [
    "# Detailed analysis\n",
    "from scipy.stats import pearsonr\n",
    "\n",
    "# Example: Correlation between footpath steepness and waste collection (dummy data)\n",
    "waste_collection = pd.Series([100, 150, 200, 250, 300])  # Dummy data\n",
    "\n",
    "corr, _ = pearsonr(footpath_steepness['steepness_column'], waste_collection)  # Replace 'steepness_column' with actual column name\n",
    "print(f\"Pearson correlation: {corr}\")\n",
    "\n",
    "# Additional statistical tests and model development as required\n"
   ]
  },
  {
   "cell_type": "code",
   "execution_count": null,
   "id": "aa0abffc",
   "metadata": {
    "scrolled": true
   },
   "outputs": [],
   "source": []
  },
  {
   "cell_type": "code",
   "execution_count": null,
   "id": "5997d760",
   "metadata": {
    "scrolled": true
   },
   "outputs": [],
   "source": []
  },
  {
   "cell_type": "code",
   "execution_count": null,
   "id": "f9d3b51b",
   "metadata": {
    "scrolled": true
   },
   "outputs": [],
   "source": []
  }
 ],
 "metadata": {
  "kernelspec": {
   "display_name": "Python 3 (ipykernel)",
   "language": "python",
   "name": "python3"
  },
  "language_info": {
   "codemirror_mode": {
    "name": "ipython",
    "version": 3
   },
   "file_extension": ".py",
   "mimetype": "text/x-python",
   "name": "python",
   "nbconvert_exporter": "python",
   "pygments_lexer": "ipython3",
   "version": "3.8.18"
  }
 },
 "nbformat": 4,
 "nbformat_minor": 5
}
