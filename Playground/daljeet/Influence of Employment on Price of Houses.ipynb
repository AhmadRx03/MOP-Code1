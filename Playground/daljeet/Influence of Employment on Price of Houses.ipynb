{
  "cells": [
    {
      "cell_type": "markdown",
      "metadata": {
        "id": "1Q9baNjt6ckB"
      },
      "source": [
        "<div class=\"usecase-title\">{Influence of Employment on Price of Houses}</div>\n",
        "\n",
        "<div class=\"usecase-authors\"><b>Authored by: </b> {Daljeet Kaur}</div>"
      ]
    },
    {
      "cell_type": "markdown",
      "source": [],
      "metadata": {
        "id": "gzp0e34PRwTo"
      }
    },
    {
      "cell_type": "markdown",
      "metadata": {
        "id": "0_3hh8Rv6ckB"
      },
      "source": [
        "<div class=\"usecase-duration\"><b>Duration:</b> {90} mins</div>\n",
        "\n",
        "<div class=\"usecase-level-skill\">\n",
        "    <div class=\"usecase-level\"><b>Level: </b>{Intermediate}</div>\n",
        "    <div class=\"usecase-skill\"><b>Pre-requisite Skills: </b>{Python, and add any more skills needed}</div>\n",
        "</div>"
      ]
    },
    {
      "cell_type": "markdown",
      "metadata": {
        "id": "1dj_6sB_6ckB"
      },
      "source": [
        "# **<div class=\"usecase-section-header\">Scenario</div>**"
      ]
    },
    {
      "cell_type": "markdown",
      "metadata": {
        "id": "iSU-DTFt6ckC"
      },
      "source": [
        "{In the bustling city of Melbourne, urban planners and policymakers are eager to gain insights into the intricate relationship between employment trends and the housing market. Leveraging the City of Melbourne's Census of Land Use and Employment (CLUE) dataset, they embark on a mission to explore this dynamic. Specifically, they focus on the \"Jobs per ANZSIC for blocks\" dataset, which offers detailed employment data across various industries and geographical areas, to uncover correlations with housing prices in different neighborhoods.\n",
        "\n",
        "As I analyze the data, patterns start to emerge, revealing that certain industries, such as technology and finance, have a significant influence on local housing prices, driving up demand and property values. Conversely, fluctuations in employment within other industries may have a lesser impact or even show a negative correlation with housing prices.\n",
        "\n",
        "These insights provide urban planners with a deeper understanding of the factors influencing Melbourne's housing market. Armed with data-driven evidence, I can help refine urban development strategies to foster economic growth, maintain housing affordability, and create vibrant, sustainable communities for Melbourne's residents.}"
      ]
    },
    {
      "cell_type": "markdown",
      "metadata": {
        "id": "lRyixk9A6ckC"
      },
      "source": [
        "# <div class=\"usecase-section-header\">What this use case will teach you</div>"
      ]
    },
    {
      "cell_type": "markdown",
      "metadata": {
        "id": "cyOJ04PB6ckC"
      },
      "source": [
        "At the end of this use case you will:\n",
        "- {You plan to learn how to merge and clean datasets from various sources, ensuring data consistency for accurate analysis. Through Exploratory Data Analysis, You will understand the data's structure, identify patterns, and uncover relationships between variables.\n",
        "\n",
        "You aim to gain experience in assessing the correlation between employment trends across different industries and house prices in various areas, using statistical techniques. This use case will allow you to apply statistical methods such as hypothesis testing and regression analysis to draw meaningful conclusions.\n",
        "\n",
        "Additionally, You plan to upskill by exploring machine learning algorithms to predict house prices based on employment data and other factors, deepening my understanding of predictive modeling techniques.\n",
        "\n",
        "By analyzing the impact of employment on housing prices, You will gain insights into urban planning considerations and the economic dynamics of Melbourne's neighborhoods.}"
      ]
    },
    {
      "cell_type": "markdown",
      "metadata": {
        "id": "bphjhQWX6ckC"
      },
      "source": [
        "# **<div class=\"usecase-section-header\">{INTRODUCTION}</div>**"
      ]
    },
    {
      "cell_type": "markdown",
      "metadata": {
        "id": "Fb8wLWqq6ckD"
      },
      "source": [
        "{In this project, I will analyze the relationship between employment trends and housing prices within the City of Melbourne. By examining datasets provided by the city, my goal is to understand how fluctuations in employment across different industries impact the housing market. This analysis is crucial for urban planning and economic development within Melbourne. The datasets include information on employment levels categorized by industry (ANZSIC codes) and housing prices by small area.\n",
        "\n",
        "Employment patterns significantly influence housing demand and property prices. Changes in employment levels within specific industries can lead to shifts in population demographics, housing preferences, and overall market dynamics. Understanding these correlations is vital for urban planners and stakeholders to make informed decisions about housing affordability, workforce development, and infrastructure planning.\n",
        "\n",
        "Through this project, I aim to uncover insights into the relationship between employment and housing markets. By leveraging data science techniques, statistical analysis, and machine learning algorithms, I hope to identify patterns, trends, and correlations that can guide strategic decision-making. Ultimately, my goal is to contribute to the creation of smarter cities, gain deeper insights into urban dynamics, identify areas for improvement, and develop innovative solutions to foster inclusive and resilient communities.}\n",
        "\n"
      ]
    },
    {
      "cell_type": "markdown",
      "source": [
        "# Dataset List\n",
        "Jobs per ANZSIC for blocks\n",
        "\n",
        "House Prices by Small Area - Sale Year"
      ],
      "metadata": {
        "id": "opVCFQFARwbO"
      }
    },
    {
      "cell_type": "markdown",
      "source": [
        "# **Contents**\n",
        "\n",
        "Import important Libraries\n",
        "\n",
        "Connect, Test and Analysis of Datasets"
      ],
      "metadata": {
        "id": "bYhFmG6PR_q8"
      }
    },
    {
      "cell_type": "code",
      "source": [
        "# Standard\n",
        "import os\n",
        "import json\n",
        "import io\n",
        "# Data import\n",
        "import requests\n",
        "\n",
        "# Data manipulation\n",
        "import pandas as pd\n",
        "import seaborn as sns\n",
        "from scipy import stats\n",
        "import seaborn as sns\n",
        "import numpy as np\n",
        "import matplotlib as mpl\n",
        "import matplotlib.pyplot as plt\n",
        "from scipy import stats\n",
        "from sklearn.svm import SVR\n",
        "from scipy.stats import norm, skew\n",
        "from sklearn.preprocessing import LabelEncoder\n",
        "from sklearn.preprocessing import StandardScaler\n",
        "from sklearn.metrics import mean_squared_error\n",
        "from sklearn.metrics import accuracy_score, confusion_matrix\n",
        "from sklearn.linear_model import LinearRegression, Ridge, Lasso\n",
        "from sklearn.model_selection import train_test_split, RandomizedSearchCV"
      ],
      "metadata": {
        "id": "Vu0XteP2SRcf"
      },
      "execution_count": 3,
      "outputs": []
    },
    {
      "cell_type": "code",
      "source": [
        "def download_and_load_csv(url):\n",
        "    response = requests.get(url)\n",
        "    csv_string = response.content.decode('utf-8')\n",
        "    df = pd.read_csv(io.StringIO(csv_string))\n",
        "    return df\n",
        "\n",
        "# API Link\n",
        "download_link_1 = 'https://data.melbourne.vic.gov.au/api/explore/v2.1/catalog/datasets/employment-by-block-by-anzsic/exports/csv?lang=en&timezone=Australia%2FSydney&use_labels=true&delimiter=%2C'\n",
        "\n",
        "# Use functions to download and load data\n",
        "df = download_and_load_csv(download_link_1)"
      ],
      "metadata": {
        "id": "4hs5-E5rSaBC"
      },
      "execution_count": 4,
      "outputs": []
    },
    {
      "cell_type": "code",
      "source": [
        "df.info()"
      ],
      "metadata": {
        "colab": {
          "base_uri": "https://localhost:8080/"
        },
        "id": "k6IeU3dwSo7z",
        "outputId": "1f696a6c-f508-4005-cf43-e29a652ccb34"
      },
      "execution_count": 5,
      "outputs": [
        {
          "output_type": "stream",
          "name": "stdout",
          "text": [
            "<class 'pandas.core.frame.DataFrame'>\n",
            "RangeIndex: 12394 entries, 0 to 12393\n",
            "Data columns (total 23 columns):\n",
            " #   Column                                           Non-Null Count  Dtype  \n",
            "---  ------                                           --------------  -----  \n",
            " 0   Census year                                      12394 non-null  int64  \n",
            " 1   Block ID                                         12394 non-null  int64  \n",
            " 2   CLUE small area                                  12394 non-null  object \n",
            " 3   Accommodation and Food Services                  9554 non-null   float64\n",
            " 4   Administrative and Support Services              10373 non-null  float64\n",
            " 5   Agriculture, Forestry and Fishing                12099 non-null  float64\n",
            " 6   Arts and Recreation Services                     8465 non-null   float64\n",
            " 7   Construction                                     10319 non-null  float64\n",
            " 8   Education and Training                           9841 non-null   float64\n",
            " 9   Electricity, Gas, Water and Waste Services       9926 non-null   float64\n",
            " 10  Financial and Insurance Services                 10816 non-null  float64\n",
            " 11  Health Care and Social Assistance                9832 non-null   float64\n",
            " 12  Information Media and Telecommunications         10096 non-null  float64\n",
            " 13  Manufacturing                                    10082 non-null  float64\n",
            " 14  Mining                                           11968 non-null  float64\n",
            " 15  Other Services                                   9103 non-null   float64\n",
            " 16  Professional, Scientific and Technical Services  10515 non-null  float64\n",
            " 17  Public Administration and Safety                 10542 non-null  float64\n",
            " 18  Rental, Hiring and Real Estate Services          10206 non-null  float64\n",
            " 19  Retail Trade                                     9869 non-null   float64\n",
            " 20  Transport, Postal and Warehousing                10145 non-null  float64\n",
            " 21  Wholesale Trade                                  9865 non-null   float64\n",
            " 22  Total jobs in block                              9701 non-null   float64\n",
            "dtypes: float64(20), int64(2), object(1)\n",
            "memory usage: 2.2+ MB\n"
          ]
        }
      ]
    }
  ],
  "metadata": {
    "kernelspec": {
      "display_name": "Python 3",
      "language": "python",
      "name": "python3"
    },
    "language_info": {
      "codemirror_mode": {
        "name": "ipython",
        "version": 3
      },
      "file_extension": ".py",
      "mimetype": "text/x-python",
      "name": "python",
      "nbconvert_exporter": "python",
      "pygments_lexer": "ipython3",
      "version": "3.8.3"
    },
    "vscode": {
      "interpreter": {
        "hash": "369f2c481f4da34e4445cda3fffd2e751bd1c4d706f27375911949ba6bb62e1c"
      }
    },
    "colab": {
      "provenance": [],
      "toc_visible": true
    }
  },
  "nbformat": 4,
  "nbformat_minor": 0
}