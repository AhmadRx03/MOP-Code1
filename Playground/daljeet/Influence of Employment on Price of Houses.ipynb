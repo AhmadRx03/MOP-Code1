{
  "cells": [
    {
      "cell_type": "markdown",
      "metadata": {
        "id": "1Q9baNjt6ckB"
      },
      "source": [
        "<div class=\"usecase-title\">{Influence of Employment on Price of Houses}</div>\n",
        "\n",
        "<div class=\"usecase-authors\"><b>Authored by: </b> {Daljeet Kaur}</div>"
      ]
    },
    {
      "cell_type": "markdown",
      "metadata": {
        "id": "0_3hh8Rv6ckB"
      },
      "source": [
        "<div class=\"usecase-duration\"><b>Duration:</b> {90} mins</div>\n",
        "\n",
        "<div class=\"usecase-level-skill\">\n",
        "    <div class=\"usecase-level\"><b>Level: </b>{Intermediate}</div>\n",
        "    <div class=\"usecase-skill\"><b>Pre-requisite Skills: </b>{Python, and add any more skills needed}</div>\n",
        "</div>"
      ]
    },
    {
      "cell_type": "markdown",
      "metadata": {
        "id": "1dj_6sB_6ckB"
      },
      "source": [
        "# **<div class=\"usecase-section-header\">Scenario</div>**"
      ]
    },
    {
      "cell_type": "markdown",
      "metadata": {
        "id": "iSU-DTFt6ckC"
      },
      "source": [
        "{In the bustling city of Melbourne, urban planners and policymakers are eager to gain insights into the intricate relationship between employment trends and the housing market. Leveraging the City of Melbourne's Census of Land Use and Employment (CLUE) dataset, they embark on a mission to explore this dynamic. Specifically, they focus on the \"Jobs per ANZSIC for blocks\" dataset, which offers detailed employment data across various industries and geographical areas, to uncover correlations with housing prices in different neighborhoods.\n",
        "\n",
        "As I analyze the data, patterns start to emerge, revealing that certain industries, such as technology and finance, have a significant influence on local housing prices, driving up demand and property values. Conversely, fluctuations in employment within other industries may have a lesser impact or even show a negative correlation with housing prices.\n",
        "\n",
        "These insights provide urban planners with a deeper understanding of the factors influencing Melbourne's housing market. Armed with data-driven evidence, I can help refine urban development strategies to foster economic growth, maintain housing affordability, and create vibrant, sustainable communities for Melbourne's residents.}"
      ]
    },
    {
      "cell_type": "markdown",
      "metadata": {
        "id": "lRyixk9A6ckC"
      },
      "source": [
        "# <div class=\"usecase-section-header\">What this use case will teach you</div>"
      ]
    },
    {
      "cell_type": "markdown",
      "metadata": {
        "id": "cyOJ04PB6ckC"
      },
      "source": [
        "At the end of this use case you will:\n",
        "- {You plan to learn how to merge and clean datasets from various sources, ensuring data consistency for accurate analysis. Through Exploratory Data Analysis, You will understand the data's structure, identify patterns, and uncover relationships between variables.\n",
        "\n",
        "You aim to gain experience in assessing the correlation between employment trends across different industries and house prices in various areas, using statistical techniques. This use case will allow you to apply statistical methods such as hypothesis testing and regression analysis to draw meaningful conclusions.\n",
        "\n",
        "Additionally, You plan to upskill by exploring machine learning algorithms to predict house prices based on employment data and other factors, deepening my understanding of predictive modeling techniques.\n",
        "\n",
        "By analyzing the impact of employment on housing prices, You will gain insights into urban planning considerations and the economic dynamics of Melbourne's neighborhoods.}"
      ]
    },
    {
      "cell_type": "markdown",
      "metadata": {
        "id": "bphjhQWX6ckC"
      },
      "source": [
        "# **<div class=\"usecase-section-header\">{INTRODUCTION}</div>**"
      ]
    },
    {
      "cell_type": "markdown",
      "metadata": {
        "id": "Fb8wLWqq6ckD"
      },
      "source": [
        "{In this project, I will analyze the relationship between employment trends and housing prices within the City of Melbourne. By examining datasets provided by the city, my goal is to understand how fluctuations in employment across different industries impact the housing market. This analysis is crucial for urban planning and economic development within Melbourne. The datasets include information on employment levels categorized by industry (ANZSIC codes) and housing prices by small area.\n",
        "\n",
        "Employment patterns significantly influence housing demand and property prices. Changes in employment levels within specific industries can lead to shifts in population demographics, housing preferences, and overall market dynamics. Understanding these correlations is vital for urban planners and stakeholders to make informed decisions about housing affordability, workforce development, and infrastructure planning.\n",
        "\n",
        "Through this project, I aim to uncover insights into the relationship between employment and housing markets. By leveraging data science techniques, statistical analysis, and machine learning algorithms, I hope to identify patterns, trends, and correlations that can guide strategic decision-making. Ultimately, my goal is to contribute to the creation of smarter cities, gain deeper insights into urban dynamics, identify areas for improvement, and develop innovative solutions to foster inclusive and resilient communities.}\n",
        "\n"
      ]
    }
  ],
  "metadata": {
    "kernelspec": {
      "display_name": "Python 3",
      "language": "python",
      "name": "python3"
    },
    "language_info": {
      "codemirror_mode": {
        "name": "ipython",
        "version": 3
      },
      "file_extension": ".py",
      "mimetype": "text/x-python",
      "name": "python",
      "nbconvert_exporter": "python",
      "pygments_lexer": "ipython3",
      "version": "3.8.3"
    },
    "vscode": {
      "interpreter": {
        "hash": "369f2c481f4da34e4445cda3fffd2e751bd1c4d706f27375911949ba6bb62e1c"
      }
    },
    "colab": {
      "provenance": [],
      "toc_visible": true
    }
  },
  "nbformat": 4,
  "nbformat_minor": 0
}
