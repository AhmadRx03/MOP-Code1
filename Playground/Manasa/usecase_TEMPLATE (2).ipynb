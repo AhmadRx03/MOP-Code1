{
  "cells": [
    {
      "cell_type": "markdown",
      "metadata": {
        "id": "Bgeu7WTxLAUl"
      },
      "source": [
        "<div class=\"usecase-title\">Urban Growth and Transit Planning for Melbourne</div>\n",
        "\n",
        "<div class=\"usecase-authors\"><b>Authored by:  </b> Manasa Nagaraja</div>"
      ]
    },
    {
      "cell_type": "markdown",
      "metadata": {
        "id": "awJoqjYLLAUm"
      },
      "source": [
        "<div class=\"usecase-duration\"><b>Duration:</b> {90} mins</div>\n",
        "\n",
        "<div class=\"usecase-level-skill\">\n",
        "    <div class=\"usecase-level\"><b>Level: </b>{Intermediate}</div>\n",
        "    <div class=\"usecase-skill\"><b>Pre-requisite Skills: </b>Python</div>\n",
        "</div>"
      ]
    },
    {
      "cell_type": "markdown",
      "metadata": {
        "id": "ergM3xZsLAUm"
      },
      "source": [
        "<h2>Scenario</h2>\n",
        "<div>The City of Melbourne is experiencing dynamic population changes across its various regions, presenting both opportunities and challenges for urban planning and public transportation. As the city's population density evolves, there is an urgent need to ensure that transportation services are adequately expanded and enhanced to meet the growing demand. This use case focuses on analyzing historical and projected population data to identify regions with significant population growth and to prioritize these areas for transportation infrastructure development.</div>"
      ]
    },
    {
      "cell_type": "markdown",
      "metadata": {
        "id": "B0Qqyw7WLAUm"
      },
      "source": [
        "<h3>User Story</h3>\n",
        "\n",
        "*  Transportation planner,wants to assess the current capacity and usage statistics of existing transportation modes, so that in this usecase we can propose where expansions or enhancements are needed based on population growth forecasts.\n",
        "\n",
        "*   Urban & policy maker,wants to receive recommendations on areas for potential development  and to analyze historical population data across different regions within Melbourne, so that this usecase we can identify areas with significant population growth and prioritize them for transportation development and ensure these areas are with the necessary infrastructure to support population surges.\n",
        "\n"
      ]
    },
    {
      "cell_type": "markdown",
      "metadata": {
        "id": "m65Cc3jcLAUm"
      },
      "source": [
        "<div class=\"usecase-section-header\">What this use case will teach you</div>"
      ]
    },
    {
      "cell_type": "markdown",
      "metadata": {
        "id": "5lww_yI8LAUn"
      },
      "source": [
        "At the end of this use case you will:\n",
        "\n",
        "\n",
        "*   By using the \"City of Melbourne Population Forecasts by Small Area 2021-2041\" dataset to understand forecasted population growth in various regions, over different years, and the magnitude of growth in those areas.\n",
        "*   Identify patterns and trends in population growth, highlighting regions that are projected to experience significant increases in population density.\n",
        "*   Learn how to extract basic information from the datasets, understanding the significance of various features and data cleaning techniques to handle missing values and ensure data integrity.\n",
        "*   Determine which features are essential for analysis and discard those that add unnecessary complexity or dimensionality.\n",
        "*   Use geolocation data to visualize the exact locations of tram stops, bus stops, and metro stations, aiding in the identification of potential locations for future infrastructure.\n",
        "*   Conduct initial visualizations to understand the overall distribution of features and identify any correlations among them\n",
        "*   Implement machine learning models to predict the number of transportation services needed to accommodate population growth in specific locations\n",
        "*   Use predictive analytics to provide actionable insights for urban planners and policy makers, helping them to plan for future transportation infrastructure.\n",
        "\n",
        "\n",
        "\n",
        "\n",
        "\n",
        "\n",
        "\n",
        "\n"
      ]
    },
    {
      "cell_type": "markdown",
      "metadata": {
        "id": "iq6TqI2NLAUn"
      },
      "source": [
        "<h3>Introduction</h3>"
      ]
    },
    {
      "cell_type": "markdown",
      "metadata": {
        "id": "4KEFDh1pLAUn"
      },
      "source": [
        "The aim of this use case is to conduct a comprehensive analysis of population growth trends across different regions within the City of Melbourne. As Melbourne's population continues to rise, understanding and planning for the future transportation needs of its residents,By examining historical and projected population data, we can identify regions that are expected to experience significant population surges.\n",
        "\n",
        "By addressing these user stories, we aim to provide urban planners, policy makers, and transportation planners with the insights and data necessary to make informed decisions. This will ensure that Melbourne's transportation infrastructure keeps pace with its population growth, providing efficient and effective public mobility solutions for all residents.\n",
        "\n",
        "<h4>Dataset List</h4>\n",
        "\n",
        "*   City of Melbourne Population Forecasts by Small Area 2021-2041 — CoM Open Data Portal\n",
        "*   City Circle tram stops — CoM Open Data Portal (melbourne.vic.gov.au)\n",
        "*   Bus stops — CoM Open Data Portal (melbourne.vic.gov.au)\n",
        "*   Metro Train Stations with Accessibility Information — CoM Open Data Portal (melbourne.vic.gov.au)\n",
        "\n",
        "\n",
        "\n",
        "\n",
        "\n",
        "\n"
      ]
    },
    {
      "cell_type": "markdown",
      "metadata": {
        "id": "3JK8d7uiLAUo"
      },
      "source": []
    }
  ],
  "metadata": {
    "kernelspec": {
      "display_name": "Python 3",
      "language": "python",
      "name": "python3"
    },
    "language_info": {
      "codemirror_mode": {
        "name": "ipython",
        "version": 3
      },
      "file_extension": ".py",
      "mimetype": "text/x-python",
      "name": "python",
      "nbconvert_exporter": "python",
      "pygments_lexer": "ipython3",
      "version": "3.8.3"
    },
    "vscode": {
      "interpreter": {
        "hash": "369f2c481f4da34e4445cda3fffd2e751bd1c4d706f27375911949ba6bb62e1c"
      }
    },
    "colab": {
      "provenance": []
    }
  },
  "nbformat": 4,
  "nbformat_minor": 0
}