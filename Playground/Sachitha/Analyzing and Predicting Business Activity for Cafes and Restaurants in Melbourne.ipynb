{
 "cells": [
  {
   "cell_type": "markdown",
   "metadata": {},
   "source": [
    "# **Analyzing and Predicting Business Activity for Cafes and Restaurants in Melbourne**"
   ]
  },
  {
   "cell_type": "markdown",
   "metadata": {},
   "source": [
    "**Authored by:** Sachitha Sadeepa Kasthuriarachchi\n",
    "\n",
    "**Duration:** TBD\n",
    "\n",
    "**Level:** Beginner/Intermediate\n",
    "\n",
    "**Pre-requisite Skills:**  Python Programming,Jupyter Notebooks,Power BI,Data Analysis,Machine Learning and Geospatial Analysis.\n"
   ]
  },
  {
   "cell_type": "markdown",
   "metadata": {},
   "source": [
    "**Background:**"
   ]
  },
  {
   "cell_type": "markdown",
   "metadata": {},
   "source": [
    "I am planning to open a new cafe in Melbourne and want to ensure that my business meets customer demands and adheres to area-specific trends. To help with this, I am using a comprehensive dataset of existing cafes and restaurants, which includes information about their seating capacity, location, industry type, and other relevant factors."
   ]
  },
  {
   "cell_type": "markdown",
   "metadata": {},
   "source": [
    "**Objectives:**"
   ]
  },
  {
   "cell_type": "markdown",
   "metadata": {},
   "source": [
    "1. Distribution Analysis: Understand the distribution of cafes and restaurants across different areas of Melbourne.\n",
    "\n",
    "2. Seating Capacity Analysis: Compare the seating capacity for indoor and outdoor seating.\n",
    "   \n",
    "3. Industry Analysis: Explore the prevalence of different industries within the cafes and restaurants sector.\n",
    "     \n",
    "4. Geospatial Analysis: Visualize the geographic distribution of cafes and restaurants across Melbourne.\n",
    "    \n",
    "5. Trend Analysis: Identify trends in business activity over different census years.\n",
    "\n",
    "6. Prediction Task: Develop a predictive model to forecast the number of seats based on various features."
   ]
  },
  {
   "cell_type": "markdown",
   "metadata": {},
   "source": [
    "**Scenario:**"
   ]
  },
  {
   "cell_type": "markdown",
   "metadata": {},
   "source": [
    "1. **Informed Decision-Making:** I use the insights provided by the data analysis to make data-driven decisions about my new cafe, reducing the risk of underestimating or overestimating seating capacity.\n",
    "\n",
    "2. **ompetitive Advantage:** By understanding local trends and customer preferences, I can tailor my business strategy to stand out in a competitive market.\n",
    "\n",
    "3. **Resource Optimization:** The predictive model helps me allocate resources effectively, ensuring I invest appropriately in indoor and outdoor seating based on demand forecasts."
   ]
  },
  {
   "cell_type": "markdown",
   "metadata": {},
   "source": [
    "## 1. Data Loading and Examination"
   ]
  },
  {
   "cell_type": "markdown",
   "metadata": {},
   "source": [
    "Below are the links to the four data sets that will be used in this for this use case."
   ]
  },
  {
   "cell_type": "markdown",
   "metadata": {},
   "source": [
    "[Data Set 1](https://data.melbourne.vic.gov.au/explore/dataset/cafes-and-restaurants-with-seating-capacity/information/) **Café, restaurant, bistro seats.** This dataset contains **60055** records."
   ]
  },
  {
   "cell_type": "markdown",
   "metadata": {},
   "source": [
    "[Data Set 2](https://data.melbourne.vic.gov.au/explore/dataset/blocks-for-census-of-land-use-and-employment-clue/information/?location=13,-37.80246,144.94417&basemap=mbs-7a7333) **Blocks for Census of Land Use and Employment (CLUE).** This dataset contains **606** records.\n"
   ]
  },
  {
   "cell_type": "markdown",
   "metadata": {},
   "source": [
    "[Data Set 3](https://data.melbourne.vic.gov.au/explore/dataset/employment-by-block-by-clue-industry/information/) **Jobs per CLUE industry for blocks.** This dataset contains **12349** records.\n"
   ]
  },
  {
   "cell_type": "markdown",
   "metadata": {},
   "source": [
    "[Data Set 4](https://data.melbourne.vic.gov.au/explore/dataset/floor-space-by-use-by-block/information/) **Floor space per space use for blocks.** This dataset contains **12349** records.\n"
   ]
  },
  {
   "cell_type": "markdown",
   "metadata": {},
   "source": [
    "### 1.0 Dataset Imported through API"
   ]
  },
  {
   "cell_type": "code",
   "execution_count": 12,
   "metadata": {},
   "outputs": [],
   "source": [
    "import requests\n",
    "import pandas as pd\n",
    "from io import StringIO\n",
    "\n",
    "#Function to collect data\n",
    "def collect_data(dataset_id):\n",
    "    base_url = 'https://data.melbourne.vic.gov.au/api/explore/v2.1/catalog/datasets/'\n",
    "    #apikey = api_key #use if use datasets API_key permissions\n",
    "    dataset_id = dataset_id\n",
    "    format = 'csv'\n",
    "\n",
    "    url = f'{base_url}{dataset_id}/exports/{format}'\n",
    "    params = {\n",
    "        'select': '*',\n",
    "        'limit': -1,  # all records\n",
    "        'lang': 'en',\n",
    "        'timezone': 'UTC',\n",
    "        #'api_key': apikey  #use if use datasets API_key permissions\n",
    "    }\n",
    "\n",
    "    # GET request\n",
    "    response = requests.get(url, params=params)\n",
    "\n",
    "    if response.status_code == 200:\n",
    "        # StringIO to read the CSV data\n",
    "        url_content = response.content.decode('utf-8')\n",
    "        dataset = pd.read_csv(StringIO(url_content), delimiter=';')\n",
    "        return dataset\n",
    "    else:\n",
    "        print(f'Request failed with status code {response.status_code}')\n",
    "\n"
   ]
  },
  {
   "cell_type": "markdown",
   "metadata": {},
   "source": [
    "### 1.2 Load the Dataset"
   ]
  },
  {
   "cell_type": "code",
   "execution_count": 13,
   "metadata": {},
   "outputs": [],
   "source": [
    "# Set dataset_id to query for the API call dataset name\n",
    "dataset_1_id = 'cafes-and-restaurants-with-seating-capacity'\n",
    "dataset_2_id = 'blocks-for-census-of-land-use-and-employment-clue'\n",
    "dataset_3_id = 'employment-by-block-by-clue-industry'\n",
    "dataset_4_id = 'floor-space-by-use-by-block'"
   ]
  },
  {
   "cell_type": "code",
   "execution_count": 14,
   "metadata": {},
   "outputs": [],
   "source": [
    "# Save dataset to df1.df2.df3 and df4 varaible\n",
    "df1 = collect_data(dataset_1_id)\n",
    "df2 = collect_data(dataset_2_id)\n",
    "df3 = collect_data(dataset_3_id)\n",
    "df4 = collect_data(dataset_4_id)"
   ]
  },
  {
   "cell_type": "markdown",
   "metadata": {},
   "source": [
    "### 1.3 Exmine the Datasets"
   ]
  },
  {
   "cell_type": "markdown",
   "metadata": {},
   "source": [
    "#### 1.3.1 Data Set 1"
   ]
  },
  {
   "cell_type": "code",
   "execution_count": 15,
   "metadata": {},
   "outputs": [
    {
     "name": "stdout",
     "output_type": "stream",
     "text": [
      "The dataset contains 60055 records.\n"
     ]
    },
    {
     "data": {
      "text/html": [
       "<div>\n",
       "<style scoped>\n",
       "    .dataframe tbody tr th:only-of-type {\n",
       "        vertical-align: middle;\n",
       "    }\n",
       "\n",
       "    .dataframe tbody tr th {\n",
       "        vertical-align: top;\n",
       "    }\n",
       "\n",
       "    .dataframe thead th {\n",
       "        text-align: right;\n",
       "    }\n",
       "</style>\n",
       "<table border=\"1\" class=\"dataframe\">\n",
       "  <thead>\n",
       "    <tr style=\"text-align: right;\">\n",
       "      <th></th>\n",
       "      <th>census_year</th>\n",
       "      <th>block_id</th>\n",
       "      <th>property_id</th>\n",
       "      <th>base_property_id</th>\n",
       "      <th>building_address</th>\n",
       "      <th>clue_small_area</th>\n",
       "      <th>trading_name</th>\n",
       "      <th>business_address</th>\n",
       "      <th>industry_anzsic4_code</th>\n",
       "      <th>industry_anzsic4_description</th>\n",
       "      <th>seating_type</th>\n",
       "      <th>number_of_seats</th>\n",
       "      <th>longitude</th>\n",
       "      <th>latitude</th>\n",
       "      <th>location</th>\n",
       "    </tr>\n",
       "  </thead>\n",
       "  <tbody>\n",
       "    <tr>\n",
       "      <th>0</th>\n",
       "      <td>2017</td>\n",
       "      <td>6</td>\n",
       "      <td>578324</td>\n",
       "      <td>573333</td>\n",
       "      <td>2 Swanston Street MELBOURNE 3000</td>\n",
       "      <td>Melbourne (CBD)</td>\n",
       "      <td>Transport Hotel</td>\n",
       "      <td>Tenancy 29, Ground , 2 Swanston Street MELBOUR...</td>\n",
       "      <td>4520</td>\n",
       "      <td>Pubs, Taverns and Bars</td>\n",
       "      <td>Seats - Indoor</td>\n",
       "      <td>230</td>\n",
       "      <td>144.969942</td>\n",
       "      <td>-37.817778</td>\n",
       "      <td>-37.817777826050005, 144.96994164279243</td>\n",
       "    </tr>\n",
       "    <tr>\n",
       "      <th>1</th>\n",
       "      <td>2017</td>\n",
       "      <td>6</td>\n",
       "      <td>578324</td>\n",
       "      <td>573333</td>\n",
       "      <td>2 Swanston Street MELBOURNE 3000</td>\n",
       "      <td>Melbourne (CBD)</td>\n",
       "      <td>Transport Hotel</td>\n",
       "      <td>Tenancy 29, Ground , 2 Swanston Street MELBOUR...</td>\n",
       "      <td>4520</td>\n",
       "      <td>Pubs, Taverns and Bars</td>\n",
       "      <td>Seats - Outdoor</td>\n",
       "      <td>120</td>\n",
       "      <td>144.969942</td>\n",
       "      <td>-37.817778</td>\n",
       "      <td>-37.817777826050005, 144.96994164279243</td>\n",
       "    </tr>\n",
       "    <tr>\n",
       "      <th>2</th>\n",
       "      <td>2017</td>\n",
       "      <td>11</td>\n",
       "      <td>103957</td>\n",
       "      <td>103957</td>\n",
       "      <td>517-537 Flinders Lane MELBOURNE 3000</td>\n",
       "      <td>Melbourne (CBD)</td>\n",
       "      <td>Altius Coffee Brewers</td>\n",
       "      <td>Shop , Ground , 517 Flinders Lane MELBOURNE 3000</td>\n",
       "      <td>4512</td>\n",
       "      <td>Takeaway Food Services</td>\n",
       "      <td>Seats - Outdoor</td>\n",
       "      <td>4</td>\n",
       "      <td>144.956486</td>\n",
       "      <td>-37.819875</td>\n",
       "      <td>-37.819875445799994, 144.95648638781466</td>\n",
       "    </tr>\n",
       "  </tbody>\n",
       "</table>\n",
       "</div>"
      ],
      "text/plain": [
       "   census_year  block_id  property_id  base_property_id  \\\n",
       "0         2017         6       578324            573333   \n",
       "1         2017         6       578324            573333   \n",
       "2         2017        11       103957            103957   \n",
       "\n",
       "                       building_address  clue_small_area  \\\n",
       "0      2 Swanston Street MELBOURNE 3000  Melbourne (CBD)   \n",
       "1      2 Swanston Street MELBOURNE 3000  Melbourne (CBD)   \n",
       "2  517-537 Flinders Lane MELBOURNE 3000  Melbourne (CBD)   \n",
       "\n",
       "            trading_name                                   business_address  \\\n",
       "0        Transport Hotel  Tenancy 29, Ground , 2 Swanston Street MELBOUR...   \n",
       "1        Transport Hotel  Tenancy 29, Ground , 2 Swanston Street MELBOUR...   \n",
       "2  Altius Coffee Brewers   Shop , Ground , 517 Flinders Lane MELBOURNE 3000   \n",
       "\n",
       "   industry_anzsic4_code industry_anzsic4_description     seating_type  \\\n",
       "0                   4520       Pubs, Taverns and Bars   Seats - Indoor   \n",
       "1                   4520       Pubs, Taverns and Bars  Seats - Outdoor   \n",
       "2                   4512       Takeaway Food Services  Seats - Outdoor   \n",
       "\n",
       "   number_of_seats   longitude   latitude  \\\n",
       "0              230  144.969942 -37.817778   \n",
       "1              120  144.969942 -37.817778   \n",
       "2                4  144.956486 -37.819875   \n",
       "\n",
       "                                  location  \n",
       "0  -37.817777826050005, 144.96994164279243  \n",
       "1  -37.817777826050005, 144.96994164279243  \n",
       "2  -37.819875445799994, 144.95648638781466  "
      ]
     },
     "execution_count": 15,
     "metadata": {},
     "output_type": "execute_result"
    }
   ],
   "source": [
    "# Check number of records in df1\n",
    "print(f'The dataset contains {len(df1)} records.')\n",
    "# View df1\n",
    "df1.head(3)"
   ]
  },
  {
   "cell_type": "markdown",
   "metadata": {},
   "source": [
    "#### 1.3.1 Data Set 2"
   ]
  },
  {
   "cell_type": "code",
   "execution_count": 16,
   "metadata": {},
   "outputs": [
    {
     "name": "stdout",
     "output_type": "stream",
     "text": [
      "The dataset contains 606 records.\n"
     ]
    },
    {
     "data": {
      "text/html": [
       "<div>\n",
       "<style scoped>\n",
       "    .dataframe tbody tr th:only-of-type {\n",
       "        vertical-align: middle;\n",
       "    }\n",
       "\n",
       "    .dataframe tbody tr th {\n",
       "        vertical-align: top;\n",
       "    }\n",
       "\n",
       "    .dataframe thead th {\n",
       "        text-align: right;\n",
       "    }\n",
       "</style>\n",
       "<table border=\"1\" class=\"dataframe\">\n",
       "  <thead>\n",
       "    <tr style=\"text-align: right;\">\n",
       "      <th></th>\n",
       "      <th>geo_point_2d</th>\n",
       "      <th>geo_shape</th>\n",
       "      <th>block_id</th>\n",
       "      <th>clue_area</th>\n",
       "    </tr>\n",
       "  </thead>\n",
       "  <tbody>\n",
       "    <tr>\n",
       "      <th>0</th>\n",
       "      <td>-37.82296169692379, 144.95049282288122</td>\n",
       "      <td>{\"coordinates\": [[[144.9479230372, -37.8233694...</td>\n",
       "      <td>1112</td>\n",
       "      <td>Docklands</td>\n",
       "    </tr>\n",
       "    <tr>\n",
       "      <th>1</th>\n",
       "      <td>-37.78537422996195, 144.94085920366408</td>\n",
       "      <td>{\"coordinates\": [[[144.9426153438, -37.7866287...</td>\n",
       "      <td>927</td>\n",
       "      <td>Parkville</td>\n",
       "    </tr>\n",
       "    <tr>\n",
       "      <th>2</th>\n",
       "      <td>-37.777687358375964, 144.94600024715058</td>\n",
       "      <td>{\"coordinates\": [[[144.9425926939, -37.7787229...</td>\n",
       "      <td>929</td>\n",
       "      <td>Parkville</td>\n",
       "    </tr>\n",
       "  </tbody>\n",
       "</table>\n",
       "</div>"
      ],
      "text/plain": [
       "                              geo_point_2d  \\\n",
       "0   -37.82296169692379, 144.95049282288122   \n",
       "1   -37.78537422996195, 144.94085920366408   \n",
       "2  -37.777687358375964, 144.94600024715058   \n",
       "\n",
       "                                           geo_shape  block_id  clue_area  \n",
       "0  {\"coordinates\": [[[144.9479230372, -37.8233694...      1112  Docklands  \n",
       "1  {\"coordinates\": [[[144.9426153438, -37.7866287...       927  Parkville  \n",
       "2  {\"coordinates\": [[[144.9425926939, -37.7787229...       929  Parkville  "
      ]
     },
     "execution_count": 16,
     "metadata": {},
     "output_type": "execute_result"
    }
   ],
   "source": [
    "# Check number of records in df2\n",
    "print(f'The dataset contains {len(df2)} records.')\n",
    "# View df2\n",
    "df2.head(3)"
   ]
  },
  {
   "cell_type": "markdown",
   "metadata": {},
   "source": [
    "#### 1.3.1 Data Set 3"
   ]
  },
  {
   "cell_type": "code",
   "execution_count": 17,
   "metadata": {},
   "outputs": [
    {
     "name": "stdout",
     "output_type": "stream",
     "text": [
      "The dataset contains 12394 records.\n"
     ]
    },
    {
     "data": {
      "text/html": [
       "<div>\n",
       "<style scoped>\n",
       "    .dataframe tbody tr th:only-of-type {\n",
       "        vertical-align: middle;\n",
       "    }\n",
       "\n",
       "    .dataframe tbody tr th {\n",
       "        vertical-align: top;\n",
       "    }\n",
       "\n",
       "    .dataframe thead th {\n",
       "        text-align: right;\n",
       "    }\n",
       "</style>\n",
       "<table border=\"1\" class=\"dataframe\">\n",
       "  <thead>\n",
       "    <tr style=\"text-align: right;\">\n",
       "      <th></th>\n",
       "      <th>census_year</th>\n",
       "      <th>block_id</th>\n",
       "      <th>clue_small_area</th>\n",
       "      <th>accommodation</th>\n",
       "      <th>admin_and_support_services</th>\n",
       "      <th>agriculture_and_mining</th>\n",
       "      <th>arts_and_recreation_services</th>\n",
       "      <th>business_services</th>\n",
       "      <th>construction</th>\n",
       "      <th>education_and_training</th>\n",
       "      <th>...</th>\n",
       "      <th>information_media_and_telecommunications</th>\n",
       "      <th>manufacturing</th>\n",
       "      <th>other_services</th>\n",
       "      <th>public_administration_and_safety</th>\n",
       "      <th>real_estate_services</th>\n",
       "      <th>rental_and_hiring_services</th>\n",
       "      <th>retail_trade</th>\n",
       "      <th>transport_postal_and_storage</th>\n",
       "      <th>wholesale_trade</th>\n",
       "      <th>total_jobs_in_block</th>\n",
       "    </tr>\n",
       "  </thead>\n",
       "  <tbody>\n",
       "    <tr>\n",
       "      <th>0</th>\n",
       "      <td>2022</td>\n",
       "      <td>4</td>\n",
       "      <td>Melbourne (CBD)</td>\n",
       "      <td>0.0</td>\n",
       "      <td>0.0</td>\n",
       "      <td>0.0</td>\n",
       "      <td>362.0</td>\n",
       "      <td>0.0</td>\n",
       "      <td>0.0</td>\n",
       "      <td>NaN</td>\n",
       "      <td>...</td>\n",
       "      <td>0.0</td>\n",
       "      <td>0.0</td>\n",
       "      <td>NaN</td>\n",
       "      <td>0.0</td>\n",
       "      <td>0.0</td>\n",
       "      <td>0.0</td>\n",
       "      <td>38.0</td>\n",
       "      <td>368.0</td>\n",
       "      <td>0.0</td>\n",
       "      <td>1008.0</td>\n",
       "    </tr>\n",
       "    <tr>\n",
       "      <th>1</th>\n",
       "      <td>2022</td>\n",
       "      <td>5</td>\n",
       "      <td>Melbourne (CBD)</td>\n",
       "      <td>0.0</td>\n",
       "      <td>0.0</td>\n",
       "      <td>0.0</td>\n",
       "      <td>0.0</td>\n",
       "      <td>0.0</td>\n",
       "      <td>0.0</td>\n",
       "      <td>0.0</td>\n",
       "      <td>...</td>\n",
       "      <td>0.0</td>\n",
       "      <td>0.0</td>\n",
       "      <td>0.0</td>\n",
       "      <td>0.0</td>\n",
       "      <td>0.0</td>\n",
       "      <td>0.0</td>\n",
       "      <td>0.0</td>\n",
       "      <td>0.0</td>\n",
       "      <td>0.0</td>\n",
       "      <td>0.0</td>\n",
       "    </tr>\n",
       "    <tr>\n",
       "      <th>2</th>\n",
       "      <td>2022</td>\n",
       "      <td>6</td>\n",
       "      <td>Melbourne (CBD)</td>\n",
       "      <td>0.0</td>\n",
       "      <td>0.0</td>\n",
       "      <td>0.0</td>\n",
       "      <td>203.0</td>\n",
       "      <td>0.0</td>\n",
       "      <td>0.0</td>\n",
       "      <td>0.0</td>\n",
       "      <td>...</td>\n",
       "      <td>NaN</td>\n",
       "      <td>0.0</td>\n",
       "      <td>NaN</td>\n",
       "      <td>0.0</td>\n",
       "      <td>NaN</td>\n",
       "      <td>0.0</td>\n",
       "      <td>47.0</td>\n",
       "      <td>0.0</td>\n",
       "      <td>0.0</td>\n",
       "      <td>647.0</td>\n",
       "    </tr>\n",
       "  </tbody>\n",
       "</table>\n",
       "<p>3 rows × 24 columns</p>\n",
       "</div>"
      ],
      "text/plain": [
       "   census_year  block_id  clue_small_area  accommodation  \\\n",
       "0         2022         4  Melbourne (CBD)            0.0   \n",
       "1         2022         5  Melbourne (CBD)            0.0   \n",
       "2         2022         6  Melbourne (CBD)            0.0   \n",
       "\n",
       "   admin_and_support_services  agriculture_and_mining  \\\n",
       "0                         0.0                     0.0   \n",
       "1                         0.0                     0.0   \n",
       "2                         0.0                     0.0   \n",
       "\n",
       "   arts_and_recreation_services  business_services  construction  \\\n",
       "0                         362.0                0.0           0.0   \n",
       "1                           0.0                0.0           0.0   \n",
       "2                         203.0                0.0           0.0   \n",
       "\n",
       "   education_and_training  ...  information_media_and_telecommunications  \\\n",
       "0                     NaN  ...                                       0.0   \n",
       "1                     0.0  ...                                       0.0   \n",
       "2                     0.0  ...                                       NaN   \n",
       "\n",
       "   manufacturing  other_services  public_administration_and_safety  \\\n",
       "0            0.0             NaN                               0.0   \n",
       "1            0.0             0.0                               0.0   \n",
       "2            0.0             NaN                               0.0   \n",
       "\n",
       "   real_estate_services  rental_and_hiring_services  retail_trade  \\\n",
       "0                   0.0                         0.0          38.0   \n",
       "1                   0.0                         0.0           0.0   \n",
       "2                   NaN                         0.0          47.0   \n",
       "\n",
       "   transport_postal_and_storage  wholesale_trade  total_jobs_in_block  \n",
       "0                         368.0              0.0               1008.0  \n",
       "1                           0.0              0.0                  0.0  \n",
       "2                           0.0              0.0                647.0  \n",
       "\n",
       "[3 rows x 24 columns]"
      ]
     },
     "execution_count": 17,
     "metadata": {},
     "output_type": "execute_result"
    }
   ],
   "source": [
    "# Check number of records in df3\n",
    "print(f'The dataset contains {len(df3)} records.')\n",
    "# View df3\n",
    "df3.head(3)"
   ]
  },
  {
   "cell_type": "markdown",
   "metadata": {},
   "source": [
    "#### 1.3.1 Data Set 4"
   ]
  },
  {
   "cell_type": "code",
   "execution_count": 18,
   "metadata": {},
   "outputs": [
    {
     "name": "stdout",
     "output_type": "stream",
     "text": [
      "The dataset contains 12394 records.\n"
     ]
    },
    {
     "data": {
      "text/html": [
       "<div>\n",
       "<style scoped>\n",
       "    .dataframe tbody tr th:only-of-type {\n",
       "        vertical-align: middle;\n",
       "    }\n",
       "\n",
       "    .dataframe tbody tr th {\n",
       "        vertical-align: top;\n",
       "    }\n",
       "\n",
       "    .dataframe thead th {\n",
       "        text-align: right;\n",
       "    }\n",
       "</style>\n",
       "<table border=\"1\" class=\"dataframe\">\n",
       "  <thead>\n",
       "    <tr style=\"text-align: right;\">\n",
       "      <th></th>\n",
       "      <th>census_year</th>\n",
       "      <th>block_id</th>\n",
       "      <th>clue_small_area</th>\n",
       "      <th>commercial_accommodation</th>\n",
       "      <th>common_area</th>\n",
       "      <th>community_use</th>\n",
       "      <th>educational_research</th>\n",
       "      <th>entertainment_recreation_indoor</th>\n",
       "      <th>equipment_installation</th>\n",
       "      <th>hospital_clinic</th>\n",
       "      <th>...</th>\n",
       "      <th>transport</th>\n",
       "      <th>transport_storage_uncovered</th>\n",
       "      <th>unoccupied_under_construction</th>\n",
       "      <th>unoccupied_under_demolition_condemned</th>\n",
       "      <th>unoccupied_under_renovation</th>\n",
       "      <th>unoccupied_undeveloped_site</th>\n",
       "      <th>unoccupied_unused</th>\n",
       "      <th>wholesale</th>\n",
       "      <th>workshop_studio</th>\n",
       "      <th>total_floor_space_in_block</th>\n",
       "    </tr>\n",
       "  </thead>\n",
       "  <tbody>\n",
       "    <tr>\n",
       "      <th>0</th>\n",
       "      <td>2013</td>\n",
       "      <td>2387</td>\n",
       "      <td>North Melbourne</td>\n",
       "      <td>0.0</td>\n",
       "      <td>NaN</td>\n",
       "      <td>0.0</td>\n",
       "      <td>NaN</td>\n",
       "      <td>NaN</td>\n",
       "      <td>0.0</td>\n",
       "      <td>0.0</td>\n",
       "      <td>...</td>\n",
       "      <td>0.0</td>\n",
       "      <td>0.0</td>\n",
       "      <td>0.0</td>\n",
       "      <td>0.0</td>\n",
       "      <td>0.0</td>\n",
       "      <td>0.0</td>\n",
       "      <td>NaN</td>\n",
       "      <td>NaN</td>\n",
       "      <td>NaN</td>\n",
       "      <td>44471.0</td>\n",
       "    </tr>\n",
       "    <tr>\n",
       "      <th>1</th>\n",
       "      <td>2013</td>\n",
       "      <td>2390</td>\n",
       "      <td>North Melbourne</td>\n",
       "      <td>0.0</td>\n",
       "      <td>1040.0</td>\n",
       "      <td>0.0</td>\n",
       "      <td>NaN</td>\n",
       "      <td>0.0</td>\n",
       "      <td>0.0</td>\n",
       "      <td>0.0</td>\n",
       "      <td>...</td>\n",
       "      <td>0.0</td>\n",
       "      <td>0.0</td>\n",
       "      <td>0.0</td>\n",
       "      <td>0.0</td>\n",
       "      <td>0.0</td>\n",
       "      <td>0.0</td>\n",
       "      <td>5357.0</td>\n",
       "      <td>NaN</td>\n",
       "      <td>5071.0</td>\n",
       "      <td>48332.0</td>\n",
       "    </tr>\n",
       "    <tr>\n",
       "      <th>2</th>\n",
       "      <td>2013</td>\n",
       "      <td>2501</td>\n",
       "      <td>Kensington</td>\n",
       "      <td>0.0</td>\n",
       "      <td>0.0</td>\n",
       "      <td>NaN</td>\n",
       "      <td>0.0</td>\n",
       "      <td>0.0</td>\n",
       "      <td>0.0</td>\n",
       "      <td>0.0</td>\n",
       "      <td>...</td>\n",
       "      <td>0.0</td>\n",
       "      <td>0.0</td>\n",
       "      <td>0.0</td>\n",
       "      <td>0.0</td>\n",
       "      <td>0.0</td>\n",
       "      <td>0.0</td>\n",
       "      <td>0.0</td>\n",
       "      <td>0.0</td>\n",
       "      <td>0.0</td>\n",
       "      <td>21456.0</td>\n",
       "    </tr>\n",
       "  </tbody>\n",
       "</table>\n",
       "<p>3 rows × 41 columns</p>\n",
       "</div>"
      ],
      "text/plain": [
       "   census_year  block_id  clue_small_area  commercial_accommodation  \\\n",
       "0         2013      2387  North Melbourne                       0.0   \n",
       "1         2013      2390  North Melbourne                       0.0   \n",
       "2         2013      2501       Kensington                       0.0   \n",
       "\n",
       "   common_area  community_use  educational_research  \\\n",
       "0          NaN            0.0                   NaN   \n",
       "1       1040.0            0.0                   NaN   \n",
       "2          0.0            NaN                   0.0   \n",
       "\n",
       "   entertainment_recreation_indoor  equipment_installation  hospital_clinic  \\\n",
       "0                              NaN                     0.0              0.0   \n",
       "1                              0.0                     0.0              0.0   \n",
       "2                              0.0                     0.0              0.0   \n",
       "\n",
       "   ...  transport  transport_storage_uncovered  unoccupied_under_construction  \\\n",
       "0  ...        0.0                          0.0                            0.0   \n",
       "1  ...        0.0                          0.0                            0.0   \n",
       "2  ...        0.0                          0.0                            0.0   \n",
       "\n",
       "   unoccupied_under_demolition_condemned  unoccupied_under_renovation  \\\n",
       "0                                    0.0                          0.0   \n",
       "1                                    0.0                          0.0   \n",
       "2                                    0.0                          0.0   \n",
       "\n",
       "   unoccupied_undeveloped_site  unoccupied_unused  wholesale  workshop_studio  \\\n",
       "0                          0.0                NaN        NaN              NaN   \n",
       "1                          0.0             5357.0        NaN           5071.0   \n",
       "2                          0.0                0.0        0.0              0.0   \n",
       "\n",
       "   total_floor_space_in_block  \n",
       "0                     44471.0  \n",
       "1                     48332.0  \n",
       "2                     21456.0  \n",
       "\n",
       "[3 rows x 41 columns]"
      ]
     },
     "execution_count": 18,
     "metadata": {},
     "output_type": "execute_result"
    }
   ],
   "source": [
    "# Check number of records in df4\n",
    "print(f'The dataset contains {len(df4)} records.')\n",
    "# View df4\n",
    "df4.head(3)"
   ]
  },
  {
   "cell_type": "markdown",
   "metadata": {},
   "source": [
    "## 2.0 Data Cleaning and Pre processing Data"
   ]
  },
  {
   "cell_type": "code",
   "execution_count": null,
   "metadata": {},
   "outputs": [],
   "source": []
  },
  {
   "cell_type": "markdown",
   "metadata": {},
   "source": [
    "***\n",
    "\n",
    "_**DELETE BEFORE PUBLISHING**_\n",
    "\n",
    "## Style guide for use cases\n",
    "\n",
    "### Headers\n",
    "\n",
    "For styling within your markdown cells, there are two choices you can use for headers.\n",
    "\n",
    "1) You can use HTML classes specific to the use case styling:\n",
    "\n",
    "```<p class=\"usecase-subsection-header\">This is a subsection header.</p>```\n",
    "\n",
    "<p style=\"font-weight: bold; font-size: 1.2em;\">This is a subsection header.</p>\n",
    "\n",
    "```<p class=\"usecase-subsection-blurb\">This is a blurb header.</p>```\n",
    "\n",
    "<p style=\"font-weight: bold; font-size: 1em; font-style:italic;\">This is a blurb header.</p>\n",
    "\n",
    "\n",
    "2) Or if you like you can use the markdown header styles:\n",
    "\n",
    "```# for h1```\n",
    "\n",
    "```## for h2```\n",
    "\n",
    "```### for h3```\n",
    "\n",
    "```#### for h4```\n",
    "\n",
    "```##### for h5```\n",
    "\n",
    "## Plot colour schemes\n",
    "\n",
    "General advice:\n",
    "1. Use the same colour or colour palette throughout your notebook, unless variety is necessary\n",
    "2. Select a palette based on the type of data being represented\n",
    "3. Consider accessibility (colourblindness, low vision)\n",
    "\n",
    "#### 1) If all of your plots only use 1-2 colors use one of the company style colors:\n",
    "\n",
    "| Light theme | Dark Theme |\n",
    "|-----|-----|\n",
    "|<p style=\"color:#2af598;\">#2af598</p>|<p style=\"color:#08af64;\">#08af64</p>|\n",
    "|<p style=\"color:#22e4ac;\">#22e4ac</p>|<p style=\"color:#14a38e;\">#14a38e</p>|\n",
    "|<p style=\"color:#1bd7bb;\">#1bd7bb</p>|<p style=\"color:#0f9295;\">#0f9295</p>|\n",
    "|<p style=\"color:#14c9cb;\">#14c9cb</p>|<p style=\"color:#056b8a;\">#056b8a</p>|\n",
    "|<p style=\"color:#0fbed8;\">#0fbed8</p>|<p style=\"color:#121212;\">#121212</p>|\n",
    "|<p style=\"color:#08b3e5;\">#08b3e5</p>||\n",
    "\n",
    "\n",
    "#### 2) If your plot needs multiple colors, choose an appropriate palette using either of the following tutorials:\n",
    "- https://seaborn.pydata.org/tutorial/color_palettes.html\n",
    "- https://matplotlib.org/stable/tutorials/colors/colormaps.html\n",
    "\n",
    "#### 3) Consider accessibility as well.\n",
    "\n",
    "For qualitative plotting Seaborn's 'colorblind' palette is recommended. For maps with sequential or diverging it is recommended to use one of the Color Brewer schemes which can be previewed at https://colorbrewer2.org/.\n",
    "\n",
    "If you want to design your own colour scheme, it should use the same principles as Cynthia Brewer's research (with variation not only in hue but also, saturation or luminance).\n",
    "\n",
    "### References\n",
    "\n",
    "Be sure to acknowledge your sources and any attributions using links or a reference list.\n",
    "\n",
    "If you have quite a few references, you might wish to have a dedicated section for references at the end of your document, linked using footnote style numbers.\n",
    "\n",
    "You can connect your in-text reference by adding the number with a HTML link: ```<a href=\"#fn-1\">[1]</a>```\n",
    "\n",
    "and add a matching ID in the reference list using the ```<fn>``` tag: ```<fn id=\"fn-1\">[1] Author (Year) _Title_, Publisher, Publication location.</fn>```"
   ]
  },
  {
   "cell_type": "markdown",
   "metadata": {},
   "source": []
  }
 ],
 "metadata": {
  "kernelspec": {
   "display_name": "Python 3 (ipykernel)",
   "language": "python",
   "name": "python3"
  },
  "language_info": {
   "codemirror_mode": {
    "name": "ipython",
    "version": 3
   },
   "file_extension": ".py",
   "mimetype": "text/x-python",
   "name": "python",
   "nbconvert_exporter": "python",
   "pygments_lexer": "ipython3",
   "version": "3.11.7"
  },
  "vscode": {
   "interpreter": {
    "hash": "369f2c481f4da34e4445cda3fffd2e751bd1c4d706f27375911949ba6bb62e1c"
   }
  }
 },
 "nbformat": 4,
 "nbformat_minor": 4
}
